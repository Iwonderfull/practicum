{
 "cells": [
  {
   "cell_type": "markdown",
   "metadata": {},
   "source": [
    "## Изучение"
   ]
  },
  {
   "cell_type": "markdown",
   "metadata": {},
   "source": [
    "### Импорт библиотек"
   ]
  },
  {
   "cell_type": "code",
   "execution_count": 1,
   "metadata": {},
   "outputs": [],
   "source": [
    "import pandas as pd\n",
    "import numpy as np\n",
    "import matplotlib.pyplot as plt\n",
    "from scipy import stats as st"
   ]
  },
  {
   "cell_type": "markdown",
   "metadata": {},
   "source": [
    "### Загрузка данных"
   ]
  },
  {
   "cell_type": "markdown",
   "metadata": {},
   "source": [
    "Для сокращения количества кода предобработки некоторые простые действия я сделал при чтении данных. А именно, преобразование строк в даты с помощью аргумента 'parse_dates' и написал простую лямбда-функцию cut_id (в следующей ячейке) для выделения значений 'id' из строк вида \"{user_id}\\_{id}\". Я применил ее при чтении данных в качестве аргумента 'converters'."
   ]
  },
  {
   "cell_type": "code",
   "execution_count": 2,
   "metadata": {},
   "outputs": [],
   "source": [
    "cut_id = lambda x: int(x.split('_')[-1])"
   ]
  },
  {
   "cell_type": "markdown",
   "metadata": {},
   "source": [
    "#### calls"
   ]
  },
  {
   "cell_type": "code",
   "execution_count": 3,
   "metadata": {},
   "outputs": [
    {
     "data": {
      "text/html": [
       "<div>\n",
       "<style scoped>\n",
       "    .dataframe tbody tr th:only-of-type {\n",
       "        vertical-align: middle;\n",
       "    }\n",
       "\n",
       "    .dataframe tbody tr th {\n",
       "        vertical-align: top;\n",
       "    }\n",
       "\n",
       "    .dataframe thead th {\n",
       "        text-align: right;\n",
       "    }\n",
       "</style>\n",
       "<table border=\"1\" class=\"dataframe\">\n",
       "  <thead>\n",
       "    <tr style=\"text-align: right;\">\n",
       "      <th></th>\n",
       "      <th>id</th>\n",
       "      <th>call_date</th>\n",
       "      <th>duration</th>\n",
       "      <th>user_id</th>\n",
       "    </tr>\n",
       "  </thead>\n",
       "  <tbody>\n",
       "    <tr>\n",
       "      <td>0</td>\n",
       "      <td>0</td>\n",
       "      <td>2018-07-25</td>\n",
       "      <td>0.00</td>\n",
       "      <td>1000</td>\n",
       "    </tr>\n",
       "    <tr>\n",
       "      <td>1</td>\n",
       "      <td>1</td>\n",
       "      <td>2018-08-17</td>\n",
       "      <td>0.00</td>\n",
       "      <td>1000</td>\n",
       "    </tr>\n",
       "    <tr>\n",
       "      <td>2</td>\n",
       "      <td>2</td>\n",
       "      <td>2018-06-11</td>\n",
       "      <td>2.85</td>\n",
       "      <td>1000</td>\n",
       "    </tr>\n",
       "    <tr>\n",
       "      <td>3</td>\n",
       "      <td>3</td>\n",
       "      <td>2018-09-21</td>\n",
       "      <td>13.80</td>\n",
       "      <td>1000</td>\n",
       "    </tr>\n",
       "    <tr>\n",
       "      <td>4</td>\n",
       "      <td>4</td>\n",
       "      <td>2018-12-15</td>\n",
       "      <td>5.18</td>\n",
       "      <td>1000</td>\n",
       "    </tr>\n",
       "  </tbody>\n",
       "</table>\n",
       "</div>"
      ],
      "text/plain": [
       "   id  call_date  duration  user_id\n",
       "0   0 2018-07-25      0.00     1000\n",
       "1   1 2018-08-17      0.00     1000\n",
       "2   2 2018-06-11      2.85     1000\n",
       "3   3 2018-09-21     13.80     1000\n",
       "4   4 2018-12-15      5.18     1000"
      ]
     },
     "execution_count": 3,
     "metadata": {},
     "output_type": "execute_result"
    }
   ],
   "source": [
    "calls = pd.read_csv(\n",
    "    '/datasets/calls.csv', \n",
    "    parse_dates=['call_date'], \n",
    "    converters={'id': cut_id}\n",
    ")\n",
    "calls.head(5)"
   ]
  },
  {
   "cell_type": "markdown",
   "metadata": {},
   "source": [
    "#### internet"
   ]
  },
  {
   "cell_type": "markdown",
   "metadata": {},
   "source": [
    "Похоже эти данные были выгружены с индексами, поэтому я воспользовался аргументом 'index_col' при чтении."
   ]
  },
  {
   "cell_type": "code",
   "execution_count": 4,
   "metadata": {},
   "outputs": [
    {
     "data": {
      "text/html": [
       "<div>\n",
       "<style scoped>\n",
       "    .dataframe tbody tr th:only-of-type {\n",
       "        vertical-align: middle;\n",
       "    }\n",
       "\n",
       "    .dataframe tbody tr th {\n",
       "        vertical-align: top;\n",
       "    }\n",
       "\n",
       "    .dataframe thead th {\n",
       "        text-align: right;\n",
       "    }\n",
       "</style>\n",
       "<table border=\"1\" class=\"dataframe\">\n",
       "  <thead>\n",
       "    <tr style=\"text-align: right;\">\n",
       "      <th></th>\n",
       "      <th>id</th>\n",
       "      <th>mb_used</th>\n",
       "      <th>session_date</th>\n",
       "      <th>user_id</th>\n",
       "    </tr>\n",
       "  </thead>\n",
       "  <tbody>\n",
       "    <tr>\n",
       "      <td>0</td>\n",
       "      <td>0</td>\n",
       "      <td>112.95</td>\n",
       "      <td>2018-11-25</td>\n",
       "      <td>1000</td>\n",
       "    </tr>\n",
       "    <tr>\n",
       "      <td>1</td>\n",
       "      <td>1</td>\n",
       "      <td>1052.81</td>\n",
       "      <td>2018-09-07</td>\n",
       "      <td>1000</td>\n",
       "    </tr>\n",
       "    <tr>\n",
       "      <td>2</td>\n",
       "      <td>2</td>\n",
       "      <td>1197.26</td>\n",
       "      <td>2018-06-25</td>\n",
       "      <td>1000</td>\n",
       "    </tr>\n",
       "    <tr>\n",
       "      <td>3</td>\n",
       "      <td>3</td>\n",
       "      <td>550.27</td>\n",
       "      <td>2018-08-22</td>\n",
       "      <td>1000</td>\n",
       "    </tr>\n",
       "    <tr>\n",
       "      <td>4</td>\n",
       "      <td>4</td>\n",
       "      <td>302.56</td>\n",
       "      <td>2018-09-24</td>\n",
       "      <td>1000</td>\n",
       "    </tr>\n",
       "  </tbody>\n",
       "</table>\n",
       "</div>"
      ],
      "text/plain": [
       "   id  mb_used session_date  user_id\n",
       "0   0   112.95   2018-11-25     1000\n",
       "1   1  1052.81   2018-09-07     1000\n",
       "2   2  1197.26   2018-06-25     1000\n",
       "3   3   550.27   2018-08-22     1000\n",
       "4   4   302.56   2018-09-24     1000"
      ]
     },
     "execution_count": 4,
     "metadata": {},
     "output_type": "execute_result"
    }
   ],
   "source": [
    "internet = pd.read_csv(\n",
    "    '/datasets/internet.csv', \n",
    "    index_col=0, \n",
    "    parse_dates=['session_date'],\n",
    "    converters={'id': cut_id}\n",
    ")\n",
    "internet.head(5)"
   ]
  },
  {
   "cell_type": "markdown",
   "metadata": {},
   "source": [
    "#### messages"
   ]
  },
  {
   "cell_type": "code",
   "execution_count": 5,
   "metadata": {},
   "outputs": [
    {
     "data": {
      "text/html": [
       "<div>\n",
       "<style scoped>\n",
       "    .dataframe tbody tr th:only-of-type {\n",
       "        vertical-align: middle;\n",
       "    }\n",
       "\n",
       "    .dataframe tbody tr th {\n",
       "        vertical-align: top;\n",
       "    }\n",
       "\n",
       "    .dataframe thead th {\n",
       "        text-align: right;\n",
       "    }\n",
       "</style>\n",
       "<table border=\"1\" class=\"dataframe\">\n",
       "  <thead>\n",
       "    <tr style=\"text-align: right;\">\n",
       "      <th></th>\n",
       "      <th>id</th>\n",
       "      <th>message_date</th>\n",
       "      <th>user_id</th>\n",
       "    </tr>\n",
       "  </thead>\n",
       "  <tbody>\n",
       "    <tr>\n",
       "      <td>0</td>\n",
       "      <td>0</td>\n",
       "      <td>2018-06-27</td>\n",
       "      <td>1000</td>\n",
       "    </tr>\n",
       "    <tr>\n",
       "      <td>1</td>\n",
       "      <td>1</td>\n",
       "      <td>2018-10-08</td>\n",
       "      <td>1000</td>\n",
       "    </tr>\n",
       "    <tr>\n",
       "      <td>2</td>\n",
       "      <td>2</td>\n",
       "      <td>2018-08-04</td>\n",
       "      <td>1000</td>\n",
       "    </tr>\n",
       "    <tr>\n",
       "      <td>3</td>\n",
       "      <td>3</td>\n",
       "      <td>2018-06-16</td>\n",
       "      <td>1000</td>\n",
       "    </tr>\n",
       "    <tr>\n",
       "      <td>4</td>\n",
       "      <td>4</td>\n",
       "      <td>2018-12-05</td>\n",
       "      <td>1000</td>\n",
       "    </tr>\n",
       "  </tbody>\n",
       "</table>\n",
       "</div>"
      ],
      "text/plain": [
       "   id message_date  user_id\n",
       "0   0   2018-06-27     1000\n",
       "1   1   2018-10-08     1000\n",
       "2   2   2018-08-04     1000\n",
       "3   3   2018-06-16     1000\n",
       "4   4   2018-12-05     1000"
      ]
     },
     "execution_count": 5,
     "metadata": {},
     "output_type": "execute_result"
    }
   ],
   "source": [
    "messages = pd.read_csv(\n",
    "    '/datasets/messages.csv',\n",
    "    parse_dates=['message_date'],\n",
    "    converters={'id':cut_id}\n",
    ")\n",
    "messages.head(5)"
   ]
  },
  {
   "cell_type": "markdown",
   "metadata": {},
   "source": [
    "#### tariffs"
   ]
  },
  {
   "cell_type": "code",
   "execution_count": 6,
   "metadata": {},
   "outputs": [
    {
     "data": {
      "text/html": [
       "<div>\n",
       "<style scoped>\n",
       "    .dataframe tbody tr th:only-of-type {\n",
       "        vertical-align: middle;\n",
       "    }\n",
       "\n",
       "    .dataframe tbody tr th {\n",
       "        vertical-align: top;\n",
       "    }\n",
       "\n",
       "    .dataframe thead th {\n",
       "        text-align: right;\n",
       "    }\n",
       "</style>\n",
       "<table border=\"1\" class=\"dataframe\">\n",
       "  <thead>\n",
       "    <tr style=\"text-align: right;\">\n",
       "      <th></th>\n",
       "      <th>messages_included</th>\n",
       "      <th>mb_per_month_included</th>\n",
       "      <th>minutes_included</th>\n",
       "      <th>rub_monthly_fee</th>\n",
       "      <th>rub_per_gb</th>\n",
       "      <th>rub_per_message</th>\n",
       "      <th>rub_per_minute</th>\n",
       "      <th>tariff_name</th>\n",
       "    </tr>\n",
       "  </thead>\n",
       "  <tbody>\n",
       "    <tr>\n",
       "      <td>0</td>\n",
       "      <td>50</td>\n",
       "      <td>15360</td>\n",
       "      <td>500</td>\n",
       "      <td>550</td>\n",
       "      <td>200</td>\n",
       "      <td>3</td>\n",
       "      <td>3</td>\n",
       "      <td>smart</td>\n",
       "    </tr>\n",
       "    <tr>\n",
       "      <td>1</td>\n",
       "      <td>1000</td>\n",
       "      <td>30720</td>\n",
       "      <td>3000</td>\n",
       "      <td>1950</td>\n",
       "      <td>150</td>\n",
       "      <td>1</td>\n",
       "      <td>1</td>\n",
       "      <td>ultra</td>\n",
       "    </tr>\n",
       "  </tbody>\n",
       "</table>\n",
       "</div>"
      ],
      "text/plain": [
       "   messages_included  mb_per_month_included  minutes_included  \\\n",
       "0                 50                  15360               500   \n",
       "1               1000                  30720              3000   \n",
       "\n",
       "   rub_monthly_fee  rub_per_gb  rub_per_message  rub_per_minute tariff_name  \n",
       "0              550         200                3               3       smart  \n",
       "1             1950         150                1               1       ultra  "
      ]
     },
     "execution_count": 6,
     "metadata": {},
     "output_type": "execute_result"
    }
   ],
   "source": [
    "tariffs = pd.read_csv(\n",
    "    '/datasets/tariffs.csv'\n",
    ")\n",
    "tariffs.head(5)"
   ]
  },
  {
   "cell_type": "markdown",
   "metadata": {},
   "source": [
    "#### users"
   ]
  },
  {
   "cell_type": "code",
   "execution_count": 7,
   "metadata": {},
   "outputs": [
    {
     "data": {
      "text/html": [
       "<div>\n",
       "<style scoped>\n",
       "    .dataframe tbody tr th:only-of-type {\n",
       "        vertical-align: middle;\n",
       "    }\n",
       "\n",
       "    .dataframe tbody tr th {\n",
       "        vertical-align: top;\n",
       "    }\n",
       "\n",
       "    .dataframe thead th {\n",
       "        text-align: right;\n",
       "    }\n",
       "</style>\n",
       "<table border=\"1\" class=\"dataframe\">\n",
       "  <thead>\n",
       "    <tr style=\"text-align: right;\">\n",
       "      <th></th>\n",
       "      <th>user_id</th>\n",
       "      <th>age</th>\n",
       "      <th>churn_date</th>\n",
       "      <th>city</th>\n",
       "      <th>first_name</th>\n",
       "      <th>last_name</th>\n",
       "      <th>reg_date</th>\n",
       "      <th>tariff</th>\n",
       "    </tr>\n",
       "  </thead>\n",
       "  <tbody>\n",
       "    <tr>\n",
       "      <td>0</td>\n",
       "      <td>1000</td>\n",
       "      <td>52</td>\n",
       "      <td>NaT</td>\n",
       "      <td>Краснодар</td>\n",
       "      <td>Рафаил</td>\n",
       "      <td>Верещагин</td>\n",
       "      <td>2018-05-25</td>\n",
       "      <td>ultra</td>\n",
       "    </tr>\n",
       "    <tr>\n",
       "      <td>1</td>\n",
       "      <td>1001</td>\n",
       "      <td>41</td>\n",
       "      <td>NaT</td>\n",
       "      <td>Москва</td>\n",
       "      <td>Иван</td>\n",
       "      <td>Ежов</td>\n",
       "      <td>2018-11-01</td>\n",
       "      <td>smart</td>\n",
       "    </tr>\n",
       "    <tr>\n",
       "      <td>2</td>\n",
       "      <td>1002</td>\n",
       "      <td>59</td>\n",
       "      <td>NaT</td>\n",
       "      <td>Стерлитамак</td>\n",
       "      <td>Евгений</td>\n",
       "      <td>Абрамович</td>\n",
       "      <td>2018-06-17</td>\n",
       "      <td>smart</td>\n",
       "    </tr>\n",
       "    <tr>\n",
       "      <td>3</td>\n",
       "      <td>1003</td>\n",
       "      <td>23</td>\n",
       "      <td>NaT</td>\n",
       "      <td>Москва</td>\n",
       "      <td>Белла</td>\n",
       "      <td>Белякова</td>\n",
       "      <td>2018-08-17</td>\n",
       "      <td>ultra</td>\n",
       "    </tr>\n",
       "    <tr>\n",
       "      <td>4</td>\n",
       "      <td>1004</td>\n",
       "      <td>68</td>\n",
       "      <td>NaT</td>\n",
       "      <td>Новокузнецк</td>\n",
       "      <td>Татьяна</td>\n",
       "      <td>Авдеенко</td>\n",
       "      <td>2018-05-14</td>\n",
       "      <td>ultra</td>\n",
       "    </tr>\n",
       "  </tbody>\n",
       "</table>\n",
       "</div>"
      ],
      "text/plain": [
       "   user_id  age churn_date         city first_name  last_name   reg_date  \\\n",
       "0     1000   52        NaT    Краснодар     Рафаил  Верещагин 2018-05-25   \n",
       "1     1001   41        NaT       Москва       Иван       Ежов 2018-11-01   \n",
       "2     1002   59        NaT  Стерлитамак    Евгений  Абрамович 2018-06-17   \n",
       "3     1003   23        NaT       Москва      Белла   Белякова 2018-08-17   \n",
       "4     1004   68        NaT  Новокузнецк    Татьяна   Авдеенко 2018-05-14   \n",
       "\n",
       "  tariff  \n",
       "0  ultra  \n",
       "1  smart  \n",
       "2  smart  \n",
       "3  ultra  \n",
       "4  ultra  "
      ]
     },
     "execution_count": 7,
     "metadata": {},
     "output_type": "execute_result"
    }
   ],
   "source": [
    "users = pd.read_csv(\n",
    "    '/datasets/users.csv',\n",
    "    parse_dates=['churn_date', 'reg_date']\n",
    ")\n",
    "users.head(5)"
   ]
  },
  {
   "cell_type": "markdown",
   "metadata": {},
   "source": [
    "#### Комментарий"
   ]
  },
  {
   "cell_type": "markdown",
   "metadata": {},
   "source": [
    "Данные благополучно выгружены в таблицы. При загрузке данных я применил преобразование колонок с датами в тип datetime с помощью аргумента 'parse_dates'. Для колонки 'id' таблиц 'calls', 'internet', 'messages' применил собственный ковертер в виде лямбда функции для выделения значений 'id'."
   ]
  },
  {
   "cell_type": "markdown",
   "metadata": {},
   "source": [
    "### Изучение данных"
   ]
  },
  {
   "cell_type": "markdown",
   "metadata": {},
   "source": [
    "#### calls"
   ]
  },
  {
   "cell_type": "code",
   "execution_count": 8,
   "metadata": {},
   "outputs": [
    {
     "name": "stdout",
     "output_type": "stream",
     "text": [
      "<class 'pandas.core.frame.DataFrame'>\n",
      "RangeIndex: 202607 entries, 0 to 202606\n",
      "Data columns (total 4 columns):\n",
      "id           202607 non-null int64\n",
      "call_date    202607 non-null datetime64[ns]\n",
      "duration     202607 non-null float64\n",
      "user_id      202607 non-null int64\n",
      "dtypes: datetime64[ns](1), float64(1), int64(2)\n",
      "memory usage: 6.2 MB\n",
      "\n",
      "Количество дубликатов: 0\n"
     ]
    },
    {
     "data": {
      "text/html": [
       "<div>\n",
       "<style scoped>\n",
       "    .dataframe tbody tr th:only-of-type {\n",
       "        vertical-align: middle;\n",
       "    }\n",
       "\n",
       "    .dataframe tbody tr th {\n",
       "        vertical-align: top;\n",
       "    }\n",
       "\n",
       "    .dataframe thead th {\n",
       "        text-align: right;\n",
       "    }\n",
       "</style>\n",
       "<table border=\"1\" class=\"dataframe\">\n",
       "  <thead>\n",
       "    <tr style=\"text-align: right;\">\n",
       "      <th></th>\n",
       "      <th>id</th>\n",
       "      <th>duration</th>\n",
       "      <th>user_id</th>\n",
       "    </tr>\n",
       "  </thead>\n",
       "  <tbody>\n",
       "    <tr>\n",
       "      <td>count</td>\n",
       "      <td>202607.000000</td>\n",
       "      <td>202607.000000</td>\n",
       "      <td>202607.000000</td>\n",
       "    </tr>\n",
       "    <tr>\n",
       "      <td>mean</td>\n",
       "      <td>308.577181</td>\n",
       "      <td>6.755887</td>\n",
       "      <td>1253.940619</td>\n",
       "    </tr>\n",
       "    <tr>\n",
       "      <td>std</td>\n",
       "      <td>259.948786</td>\n",
       "      <td>5.843365</td>\n",
       "      <td>144.722751</td>\n",
       "    </tr>\n",
       "    <tr>\n",
       "      <td>min</td>\n",
       "      <td>0.000000</td>\n",
       "      <td>0.000000</td>\n",
       "      <td>1000.000000</td>\n",
       "    </tr>\n",
       "    <tr>\n",
       "      <td>25%</td>\n",
       "      <td>108.000000</td>\n",
       "      <td>1.300000</td>\n",
       "      <td>1126.000000</td>\n",
       "    </tr>\n",
       "    <tr>\n",
       "      <td>50%</td>\n",
       "      <td>243.000000</td>\n",
       "      <td>6.000000</td>\n",
       "      <td>1260.000000</td>\n",
       "    </tr>\n",
       "    <tr>\n",
       "      <td>75%</td>\n",
       "      <td>446.000000</td>\n",
       "      <td>10.700000</td>\n",
       "      <td>1379.000000</td>\n",
       "    </tr>\n",
       "    <tr>\n",
       "      <td>max</td>\n",
       "      <td>1759.000000</td>\n",
       "      <td>38.000000</td>\n",
       "      <td>1499.000000</td>\n",
       "    </tr>\n",
       "  </tbody>\n",
       "</table>\n",
       "</div>"
      ],
      "text/plain": [
       "                  id       duration        user_id\n",
       "count  202607.000000  202607.000000  202607.000000\n",
       "mean      308.577181       6.755887    1253.940619\n",
       "std       259.948786       5.843365     144.722751\n",
       "min         0.000000       0.000000    1000.000000\n",
       "25%       108.000000       1.300000    1126.000000\n",
       "50%       243.000000       6.000000    1260.000000\n",
       "75%       446.000000      10.700000    1379.000000\n",
       "max      1759.000000      38.000000    1499.000000"
      ]
     },
     "execution_count": 8,
     "metadata": {},
     "output_type": "execute_result"
    }
   ],
   "source": [
    "calls.info()\n",
    "print('\\nКоличество дубликатов:', calls.duplicated().sum())\n",
    "calls.describe()"
   ]
  },
  {
   "cell_type": "code",
   "execution_count": 9,
   "metadata": {},
   "outputs": [
    {
     "name": "stdout",
     "output_type": "stream",
     "text": [
      "Статистики звонков с нулевой продолжительностью\n"
     ]
    },
    {
     "data": {
      "text/plain": [
       "Количество пользователей             492.0\n",
       "Общее число звонков                39613.0\n",
       "Минимальное количество звонков         5.0\n",
       "Медийное количество звонков           66.0\n",
       "Максимальное количество звонков      336.0\n",
       "Name: duration, dtype: float64"
      ]
     },
     "execution_count": 9,
     "metadata": {},
     "output_type": "execute_result"
    }
   ],
   "source": [
    "print('Статистики звонков с нулевой продолжительностью')\n",
    "calls.query('duration == 0').groupby('user_id')['duration'].count().agg(\n",
    "    [\n",
    "        'count', \n",
    "        'sum',\n",
    "        'min',\n",
    "        'median',\n",
    "        'max'\n",
    "    ]).reset_index(drop=True).rename(index={\n",
    "        i: v for i, v in enumerate([\n",
    "            'Количество пользователей',\n",
    "            'Общее число звонков',\n",
    "            'Минимальное количество звонков',\n",
    "            'Медийное количество звонков',\n",
    "            'Максимальное количество звонков'\n",
    "        ])\n",
    "    })"
   ]
  },
  {
   "cell_type": "markdown",
   "metadata": {},
   "source": [
    "Среди данных по звонкам наблюдаются звонки с нулевым временем разговора. Думаю это неотвеченные или нежелательные звонки (вроде предложений взять кредит или что-нибудь купить). Их количество примерно 20% от общего числа звонков. Я считаю, что их можно оставить и не трогать потому, что нужно изучить помесячную выручку от клиентов. Т.е. нужно будет группировать и суммировать значения продолжительности звонков, а нули сумму не изменят.  "
   ]
  },
  {
   "cell_type": "markdown",
   "metadata": {},
   "source": [
    "#### internet"
   ]
  },
  {
   "cell_type": "code",
   "execution_count": 10,
   "metadata": {},
   "outputs": [
    {
     "name": "stdout",
     "output_type": "stream",
     "text": [
      "<class 'pandas.core.frame.DataFrame'>\n",
      "Int64Index: 149396 entries, 0 to 149395\n",
      "Data columns (total 4 columns):\n",
      "id              149396 non-null int64\n",
      "mb_used         149396 non-null float64\n",
      "session_date    149396 non-null datetime64[ns]\n",
      "user_id         149396 non-null int64\n",
      "dtypes: datetime64[ns](1), float64(1), int64(2)\n",
      "memory usage: 5.7 MB\n",
      "\n",
      "Количество дубликатов: 0\n"
     ]
    },
    {
     "data": {
      "text/html": [
       "<div>\n",
       "<style scoped>\n",
       "    .dataframe tbody tr th:only-of-type {\n",
       "        vertical-align: middle;\n",
       "    }\n",
       "\n",
       "    .dataframe tbody tr th {\n",
       "        vertical-align: top;\n",
       "    }\n",
       "\n",
       "    .dataframe thead th {\n",
       "        text-align: right;\n",
       "    }\n",
       "</style>\n",
       "<table border=\"1\" class=\"dataframe\">\n",
       "  <thead>\n",
       "    <tr style=\"text-align: right;\">\n",
       "      <th></th>\n",
       "      <th>id</th>\n",
       "      <th>mb_used</th>\n",
       "      <th>user_id</th>\n",
       "    </tr>\n",
       "  </thead>\n",
       "  <tbody>\n",
       "    <tr>\n",
       "      <td>count</td>\n",
       "      <td>149396.000000</td>\n",
       "      <td>149396.000000</td>\n",
       "      <td>149396.000000</td>\n",
       "    </tr>\n",
       "    <tr>\n",
       "      <td>mean</td>\n",
       "      <td>205.811856</td>\n",
       "      <td>370.192426</td>\n",
       "      <td>1252.099842</td>\n",
       "    </tr>\n",
       "    <tr>\n",
       "      <td>std</td>\n",
       "      <td>157.267497</td>\n",
       "      <td>278.300951</td>\n",
       "      <td>144.050823</td>\n",
       "    </tr>\n",
       "    <tr>\n",
       "      <td>min</td>\n",
       "      <td>0.000000</td>\n",
       "      <td>0.000000</td>\n",
       "      <td>1000.000000</td>\n",
       "    </tr>\n",
       "    <tr>\n",
       "      <td>25%</td>\n",
       "      <td>78.000000</td>\n",
       "      <td>138.187500</td>\n",
       "      <td>1130.000000</td>\n",
       "    </tr>\n",
       "    <tr>\n",
       "      <td>50%</td>\n",
       "      <td>172.000000</td>\n",
       "      <td>348.015000</td>\n",
       "      <td>1251.000000</td>\n",
       "    </tr>\n",
       "    <tr>\n",
       "      <td>75%</td>\n",
       "      <td>302.000000</td>\n",
       "      <td>559.552500</td>\n",
       "      <td>1380.000000</td>\n",
       "    </tr>\n",
       "    <tr>\n",
       "      <td>max</td>\n",
       "      <td>833.000000</td>\n",
       "      <td>1724.830000</td>\n",
       "      <td>1499.000000</td>\n",
       "    </tr>\n",
       "  </tbody>\n",
       "</table>\n",
       "</div>"
      ],
      "text/plain": [
       "                  id        mb_used        user_id\n",
       "count  149396.000000  149396.000000  149396.000000\n",
       "mean      205.811856     370.192426    1252.099842\n",
       "std       157.267497     278.300951     144.050823\n",
       "min         0.000000       0.000000    1000.000000\n",
       "25%        78.000000     138.187500    1130.000000\n",
       "50%       172.000000     348.015000    1251.000000\n",
       "75%       302.000000     559.552500    1380.000000\n",
       "max       833.000000    1724.830000    1499.000000"
      ]
     },
     "execution_count": 10,
     "metadata": {},
     "output_type": "execute_result"
    }
   ],
   "source": [
    "internet.info()\n",
    "print('\\nКоличество дубликатов:', internet.duplicated().sum())\n",
    "internet.describe()"
   ]
  },
  {
   "cell_type": "code",
   "execution_count": 11,
   "metadata": {},
   "outputs": [
    {
     "name": "stdout",
     "output_type": "stream",
     "text": [
      "Статистика соединений с нулевым трафиком\n"
     ]
    },
    {
     "data": {
      "text/plain": [
       "Количество пользователей                494.0\n",
       "Общее число соединений                19598.0\n",
       "Минимальное количество соединений         1.0\n",
       "Медийное количество соединений           31.0\n",
       "Максимальное количество соединений      144.0\n",
       "Name: mb_used, dtype: float64"
      ]
     },
     "execution_count": 11,
     "metadata": {},
     "output_type": "execute_result"
    }
   ],
   "source": [
    "print('Статистика соединений с нулевым трафиком')\n",
    "internet.query('mb_used == 0').groupby('user_id')['mb_used'].count().agg(\n",
    "    [\n",
    "        'count', \n",
    "        'sum',\n",
    "        'min',\n",
    "        'median',\n",
    "        'max'\n",
    "    ]).reset_index(drop=True).rename(index={\n",
    "        i: v for i, v in enumerate([\n",
    "            'Количество пользователей',\n",
    "            'Общее число соединений',\n",
    "            'Минимальное количество соединений',\n",
    "            'Медийное количество соединений',\n",
    "            'Максимальное количество соединений'\n",
    "        ])\n",
    "    })"
   ]
  },
  {
   "cell_type": "code",
   "execution_count": 12,
   "metadata": {},
   "outputs": [
    {
     "data": {
      "text/plain": [
       "13.1"
      ]
     },
     "execution_count": 12,
     "metadata": {},
     "output_type": "execute_result"
    }
   ],
   "source": [
    "round(19598 / 149396 * 100, ndigits=1)"
   ]
  },
  {
   "cell_type": "markdown",
   "metadata": {},
   "source": [
    "В данных по использованному трафику есть соединения с нулевым расходом. Я думаю, что это связано с кэшированием, когда клиент посещает один и тот же ресурс, соединение устанавливается, но данные берутся из кэша. Здесь ситуация схожа с ситауцией по звонкам и так как нулевой трафик не влияет на конечную выручку от клиента его также можно оставить по тем же причинам."
   ]
  },
  {
   "cell_type": "markdown",
   "metadata": {},
   "source": [
    "#### messages"
   ]
  },
  {
   "cell_type": "code",
   "execution_count": 13,
   "metadata": {
    "scrolled": false
   },
   "outputs": [
    {
     "name": "stdout",
     "output_type": "stream",
     "text": [
      "<class 'pandas.core.frame.DataFrame'>\n",
      "RangeIndex: 123036 entries, 0 to 123035\n",
      "Data columns (total 3 columns):\n",
      "id              123036 non-null int64\n",
      "message_date    123036 non-null datetime64[ns]\n",
      "user_id         123036 non-null int64\n",
      "dtypes: datetime64[ns](1), int64(2)\n",
      "memory usage: 2.8 MB\n",
      "\n",
      "Количество дубликатов: 0\n"
     ]
    },
    {
     "data": {
      "text/html": [
       "<div>\n",
       "<style scoped>\n",
       "    .dataframe tbody tr th:only-of-type {\n",
       "        vertical-align: middle;\n",
       "    }\n",
       "\n",
       "    .dataframe tbody tr th {\n",
       "        vertical-align: top;\n",
       "    }\n",
       "\n",
       "    .dataframe thead th {\n",
       "        text-align: right;\n",
       "    }\n",
       "</style>\n",
       "<table border=\"1\" class=\"dataframe\">\n",
       "  <thead>\n",
       "    <tr style=\"text-align: right;\">\n",
       "      <th></th>\n",
       "      <th>id</th>\n",
       "      <th>user_id</th>\n",
       "    </tr>\n",
       "  </thead>\n",
       "  <tbody>\n",
       "    <tr>\n",
       "      <td>count</td>\n",
       "      <td>123036.000000</td>\n",
       "      <td>123036.000000</td>\n",
       "    </tr>\n",
       "    <tr>\n",
       "      <td>mean</td>\n",
       "      <td>267.595281</td>\n",
       "      <td>1256.989410</td>\n",
       "    </tr>\n",
       "    <tr>\n",
       "      <td>std</td>\n",
       "      <td>248.577464</td>\n",
       "      <td>143.523967</td>\n",
       "    </tr>\n",
       "    <tr>\n",
       "      <td>min</td>\n",
       "      <td>0.000000</td>\n",
       "      <td>1000.000000</td>\n",
       "    </tr>\n",
       "    <tr>\n",
       "      <td>25%</td>\n",
       "      <td>81.000000</td>\n",
       "      <td>1134.000000</td>\n",
       "    </tr>\n",
       "    <tr>\n",
       "      <td>50%</td>\n",
       "      <td>195.000000</td>\n",
       "      <td>1271.000000</td>\n",
       "    </tr>\n",
       "    <tr>\n",
       "      <td>75%</td>\n",
       "      <td>379.000000</td>\n",
       "      <td>1381.000000</td>\n",
       "    </tr>\n",
       "    <tr>\n",
       "      <td>max</td>\n",
       "      <td>1462.000000</td>\n",
       "      <td>1499.000000</td>\n",
       "    </tr>\n",
       "  </tbody>\n",
       "</table>\n",
       "</div>"
      ],
      "text/plain": [
       "                  id        user_id\n",
       "count  123036.000000  123036.000000\n",
       "mean      267.595281    1256.989410\n",
       "std       248.577464     143.523967\n",
       "min         0.000000    1000.000000\n",
       "25%        81.000000    1134.000000\n",
       "50%       195.000000    1271.000000\n",
       "75%       379.000000    1381.000000\n",
       "max      1462.000000    1499.000000"
      ]
     },
     "execution_count": 13,
     "metadata": {},
     "output_type": "execute_result"
    }
   ],
   "source": [
    "messages.info()\n",
    "print('\\nКоличество дубликатов:', messages.duplicated().sum())\n",
    "messages.describe()"
   ]
  },
  {
   "cell_type": "markdown",
   "metadata": {},
   "source": [
    "#### tariffs"
   ]
  },
  {
   "cell_type": "code",
   "execution_count": 14,
   "metadata": {},
   "outputs": [
    {
     "name": "stdout",
     "output_type": "stream",
     "text": [
      "<class 'pandas.core.frame.DataFrame'>\n",
      "RangeIndex: 2 entries, 0 to 1\n",
      "Data columns (total 8 columns):\n",
      "messages_included        2 non-null int64\n",
      "mb_per_month_included    2 non-null int64\n",
      "minutes_included         2 non-null int64\n",
      "rub_monthly_fee          2 non-null int64\n",
      "rub_per_gb               2 non-null int64\n",
      "rub_per_message          2 non-null int64\n",
      "rub_per_minute           2 non-null int64\n",
      "tariff_name              2 non-null object\n",
      "dtypes: int64(7), object(1)\n",
      "memory usage: 256.0+ bytes\n"
     ]
    }
   ],
   "source": [
    "tariffs.info()"
   ]
  },
  {
   "cell_type": "markdown",
   "metadata": {},
   "source": [
    "#### users"
   ]
  },
  {
   "cell_type": "code",
   "execution_count": 15,
   "metadata": {},
   "outputs": [
    {
     "name": "stdout",
     "output_type": "stream",
     "text": [
      "<class 'pandas.core.frame.DataFrame'>\n",
      "RangeIndex: 500 entries, 0 to 499\n",
      "Data columns (total 8 columns):\n",
      "user_id       500 non-null int64\n",
      "age           500 non-null int64\n",
      "churn_date    38 non-null datetime64[ns]\n",
      "city          500 non-null object\n",
      "first_name    500 non-null object\n",
      "last_name     500 non-null object\n",
      "reg_date      500 non-null datetime64[ns]\n",
      "tariff        500 non-null object\n",
      "dtypes: datetime64[ns](2), int64(2), object(4)\n",
      "memory usage: 31.4+ KB\n",
      "\n",
      "Количество дубликатов: 0\n"
     ]
    },
    {
     "data": {
      "text/html": [
       "<div>\n",
       "<style scoped>\n",
       "    .dataframe tbody tr th:only-of-type {\n",
       "        vertical-align: middle;\n",
       "    }\n",
       "\n",
       "    .dataframe tbody tr th {\n",
       "        vertical-align: top;\n",
       "    }\n",
       "\n",
       "    .dataframe thead th {\n",
       "        text-align: right;\n",
       "    }\n",
       "</style>\n",
       "<table border=\"1\" class=\"dataframe\">\n",
       "  <thead>\n",
       "    <tr style=\"text-align: right;\">\n",
       "      <th></th>\n",
       "      <th>user_id</th>\n",
       "      <th>age</th>\n",
       "    </tr>\n",
       "  </thead>\n",
       "  <tbody>\n",
       "    <tr>\n",
       "      <td>count</td>\n",
       "      <td>500.000000</td>\n",
       "      <td>500.00000</td>\n",
       "    </tr>\n",
       "    <tr>\n",
       "      <td>mean</td>\n",
       "      <td>1249.500000</td>\n",
       "      <td>46.58800</td>\n",
       "    </tr>\n",
       "    <tr>\n",
       "      <td>std</td>\n",
       "      <td>144.481833</td>\n",
       "      <td>16.66763</td>\n",
       "    </tr>\n",
       "    <tr>\n",
       "      <td>min</td>\n",
       "      <td>1000.000000</td>\n",
       "      <td>18.00000</td>\n",
       "    </tr>\n",
       "    <tr>\n",
       "      <td>25%</td>\n",
       "      <td>1124.750000</td>\n",
       "      <td>32.00000</td>\n",
       "    </tr>\n",
       "    <tr>\n",
       "      <td>50%</td>\n",
       "      <td>1249.500000</td>\n",
       "      <td>46.00000</td>\n",
       "    </tr>\n",
       "    <tr>\n",
       "      <td>75%</td>\n",
       "      <td>1374.250000</td>\n",
       "      <td>62.00000</td>\n",
       "    </tr>\n",
       "    <tr>\n",
       "      <td>max</td>\n",
       "      <td>1499.000000</td>\n",
       "      <td>75.00000</td>\n",
       "    </tr>\n",
       "  </tbody>\n",
       "</table>\n",
       "</div>"
      ],
      "text/plain": [
       "           user_id        age\n",
       "count   500.000000  500.00000\n",
       "mean   1249.500000   46.58800\n",
       "std     144.481833   16.66763\n",
       "min    1000.000000   18.00000\n",
       "25%    1124.750000   32.00000\n",
       "50%    1249.500000   46.00000\n",
       "75%    1374.250000   62.00000\n",
       "max    1499.000000   75.00000"
      ]
     },
     "execution_count": 15,
     "metadata": {},
     "output_type": "execute_result"
    }
   ],
   "source": [
    "users.info()\n",
    "print('\\nКоличество дубликатов:', users.duplicated().sum())\n",
    "users.describe()"
   ]
  },
  {
   "cell_type": "markdown",
   "metadata": {},
   "source": [
    "### Выводы"
   ]
  },
  {
   "cell_type": "markdown",
   "metadata": {},
   "source": [
    "- Колонки таблицы calls полностью заполнены значениями нужного формата без явных пропусков. Заметил наличие около 20% звонков с нулевой продолжительностью. Решение - оставить как есть звонки с нулевой продолжительностью, т.к. они не влияют на суммарное значение продолжительности звонков. \n",
    "- Колонки таблицы internet полностью заполнены значениями нужного формата без явных пропусков. Заметил наличие около 20% соединений с нулевым трафиком. Решение - оставить как есть строки с нулевым трафиком, т.к. они не влияют на суммарное значение трафика по пользователю. \n",
    "- Колонки таблицы messages полностью заполнены значениями нужного формата без явных пропусков. \n",
    "- Колонки таблицы tariffs полностью заполнены значениями нужного формата без пропусков - всего 2 строки.\n",
    "- Колонки таблицы users полностью заполнены значениями нужного формата без явных пропусков, кроме колонки 'churn_date'. В ней всего 38 значений. Считаю, что только 38 клиентов прекратили пользоваться тарифом, а остальные продолжают исполльзовать свой тариф.\n",
    "- Дубликаты не обнаружены."
   ]
  },
  {
   "cell_type": "markdown",
   "metadata": {},
   "source": [
    "## Предобработка"
   ]
  },
  {
   "cell_type": "markdown",
   "metadata": {},
   "source": [
    "### Обработка даты"
   ]
  },
  {
   "cell_type": "code",
   "execution_count": 16,
   "metadata": {},
   "outputs": [],
   "source": [
    "calls['month'] = calls['call_date'].dt.month\n",
    "internet['month'] = internet['session_date'].dt.month\n",
    "messages['month'] = messages['message_date'].dt.month"
   ]
  },
  {
   "cell_type": "markdown",
   "metadata": {},
   "source": [
    "К данным по звонкам, трафику и сообщениям добавлены столбцы с обозначением месяца"
   ]
  },
  {
   "cell_type": "markdown",
   "metadata": {},
   "source": [
    "### Округление"
   ]
  },
  {
   "cell_type": "code",
   "execution_count": 17,
   "metadata": {},
   "outputs": [
    {
     "data": {
      "text/html": [
       "<div>\n",
       "<style scoped>\n",
       "    .dataframe tbody tr th:only-of-type {\n",
       "        vertical-align: middle;\n",
       "    }\n",
       "\n",
       "    .dataframe tbody tr th {\n",
       "        vertical-align: top;\n",
       "    }\n",
       "\n",
       "    .dataframe thead th {\n",
       "        text-align: right;\n",
       "    }\n",
       "</style>\n",
       "<table border=\"1\" class=\"dataframe\">\n",
       "  <thead>\n",
       "    <tr style=\"text-align: right;\">\n",
       "      <th></th>\n",
       "      <th>id</th>\n",
       "      <th>call_date</th>\n",
       "      <th>duration</th>\n",
       "      <th>user_id</th>\n",
       "      <th>month</th>\n",
       "    </tr>\n",
       "  </thead>\n",
       "  <tbody>\n",
       "    <tr>\n",
       "      <td>0</td>\n",
       "      <td>0</td>\n",
       "      <td>2018-07-25</td>\n",
       "      <td>0.0</td>\n",
       "      <td>1000</td>\n",
       "      <td>7</td>\n",
       "    </tr>\n",
       "    <tr>\n",
       "      <td>1</td>\n",
       "      <td>1</td>\n",
       "      <td>2018-08-17</td>\n",
       "      <td>0.0</td>\n",
       "      <td>1000</td>\n",
       "      <td>8</td>\n",
       "    </tr>\n",
       "    <tr>\n",
       "      <td>2</td>\n",
       "      <td>2</td>\n",
       "      <td>2018-06-11</td>\n",
       "      <td>3.0</td>\n",
       "      <td>1000</td>\n",
       "      <td>6</td>\n",
       "    </tr>\n",
       "    <tr>\n",
       "      <td>3</td>\n",
       "      <td>3</td>\n",
       "      <td>2018-09-21</td>\n",
       "      <td>14.0</td>\n",
       "      <td>1000</td>\n",
       "      <td>9</td>\n",
       "    </tr>\n",
       "    <tr>\n",
       "      <td>4</td>\n",
       "      <td>4</td>\n",
       "      <td>2018-12-15</td>\n",
       "      <td>6.0</td>\n",
       "      <td>1000</td>\n",
       "      <td>12</td>\n",
       "    </tr>\n",
       "  </tbody>\n",
       "</table>\n",
       "</div>"
      ],
      "text/plain": [
       "   id  call_date  duration  user_id  month\n",
       "0   0 2018-07-25       0.0     1000      7\n",
       "1   1 2018-08-17       0.0     1000      8\n",
       "2   2 2018-06-11       3.0     1000      6\n",
       "3   3 2018-09-21      14.0     1000      9\n",
       "4   4 2018-12-15       6.0     1000     12"
      ]
     },
     "execution_count": 17,
     "metadata": {},
     "output_type": "execute_result"
    }
   ],
   "source": [
    "calls['duration'] = np.ceil(calls['duration'])\n",
    "calls.head(5)"
   ]
  },
  {
   "cell_type": "code",
   "execution_count": 18,
   "metadata": {},
   "outputs": [
    {
     "data": {
      "text/html": [
       "<div>\n",
       "<style scoped>\n",
       "    .dataframe tbody tr th:only-of-type {\n",
       "        vertical-align: middle;\n",
       "    }\n",
       "\n",
       "    .dataframe tbody tr th {\n",
       "        vertical-align: top;\n",
       "    }\n",
       "\n",
       "    .dataframe thead th {\n",
       "        text-align: right;\n",
       "    }\n",
       "</style>\n",
       "<table border=\"1\" class=\"dataframe\">\n",
       "  <thead>\n",
       "    <tr style=\"text-align: right;\">\n",
       "      <th></th>\n",
       "      <th>id</th>\n",
       "      <th>mb_used</th>\n",
       "      <th>session_date</th>\n",
       "      <th>user_id</th>\n",
       "      <th>month</th>\n",
       "    </tr>\n",
       "  </thead>\n",
       "  <tbody>\n",
       "    <tr>\n",
       "      <td>0</td>\n",
       "      <td>0</td>\n",
       "      <td>113.0</td>\n",
       "      <td>2018-11-25</td>\n",
       "      <td>1000</td>\n",
       "      <td>11</td>\n",
       "    </tr>\n",
       "    <tr>\n",
       "      <td>1</td>\n",
       "      <td>1</td>\n",
       "      <td>1053.0</td>\n",
       "      <td>2018-09-07</td>\n",
       "      <td>1000</td>\n",
       "      <td>9</td>\n",
       "    </tr>\n",
       "    <tr>\n",
       "      <td>2</td>\n",
       "      <td>2</td>\n",
       "      <td>1198.0</td>\n",
       "      <td>2018-06-25</td>\n",
       "      <td>1000</td>\n",
       "      <td>6</td>\n",
       "    </tr>\n",
       "    <tr>\n",
       "      <td>3</td>\n",
       "      <td>3</td>\n",
       "      <td>551.0</td>\n",
       "      <td>2018-08-22</td>\n",
       "      <td>1000</td>\n",
       "      <td>8</td>\n",
       "    </tr>\n",
       "    <tr>\n",
       "      <td>4</td>\n",
       "      <td>4</td>\n",
       "      <td>303.0</td>\n",
       "      <td>2018-09-24</td>\n",
       "      <td>1000</td>\n",
       "      <td>9</td>\n",
       "    </tr>\n",
       "  </tbody>\n",
       "</table>\n",
       "</div>"
      ],
      "text/plain": [
       "   id  mb_used session_date  user_id  month\n",
       "0   0    113.0   2018-11-25     1000     11\n",
       "1   1   1053.0   2018-09-07     1000      9\n",
       "2   2   1198.0   2018-06-25     1000      6\n",
       "3   3    551.0   2018-08-22     1000      8\n",
       "4   4    303.0   2018-09-24     1000      9"
      ]
     },
     "execution_count": 18,
     "metadata": {},
     "output_type": "execute_result"
    }
   ],
   "source": [
    "internet['mb_used'] = np.ceil(internet['mb_used'])\n",
    "internet.head(5)"
   ]
  },
  {
   "cell_type": "markdown",
   "metadata": {},
   "source": [
    "### Подготовка сводных таблиц"
   ]
  },
  {
   "cell_type": "code",
   "execution_count": 19,
   "metadata": {},
   "outputs": [
    {
     "data": {
      "text/html": [
       "<div>\n",
       "<style scoped>\n",
       "    .dataframe tbody tr th:only-of-type {\n",
       "        vertical-align: middle;\n",
       "    }\n",
       "\n",
       "    .dataframe tbody tr th {\n",
       "        vertical-align: top;\n",
       "    }\n",
       "\n",
       "    .dataframe thead th {\n",
       "        text-align: right;\n",
       "    }\n",
       "</style>\n",
       "<table border=\"1\" class=\"dataframe\">\n",
       "  <thead>\n",
       "    <tr style=\"text-align: right;\">\n",
       "      <th></th>\n",
       "      <th></th>\n",
       "      <th>total_calls</th>\n",
       "      <th>total_call_time</th>\n",
       "    </tr>\n",
       "    <tr>\n",
       "      <th>user_id</th>\n",
       "      <th>month</th>\n",
       "      <th></th>\n",
       "      <th></th>\n",
       "    </tr>\n",
       "  </thead>\n",
       "  <tbody>\n",
       "    <tr>\n",
       "      <td rowspan=\"5\" valign=\"top\">1000</td>\n",
       "      <td>5</td>\n",
       "      <td>22</td>\n",
       "      <td>159.0</td>\n",
       "    </tr>\n",
       "    <tr>\n",
       "      <td>6</td>\n",
       "      <td>43</td>\n",
       "      <td>172.0</td>\n",
       "    </tr>\n",
       "    <tr>\n",
       "      <td>7</td>\n",
       "      <td>47</td>\n",
       "      <td>340.0</td>\n",
       "    </tr>\n",
       "    <tr>\n",
       "      <td>8</td>\n",
       "      <td>52</td>\n",
       "      <td>408.0</td>\n",
       "    </tr>\n",
       "    <tr>\n",
       "      <td>9</td>\n",
       "      <td>58</td>\n",
       "      <td>466.0</td>\n",
       "    </tr>\n",
       "  </tbody>\n",
       "</table>\n",
       "</div>"
      ],
      "text/plain": [
       "               total_calls  total_call_time\n",
       "user_id month                              \n",
       "1000    5               22            159.0\n",
       "        6               43            172.0\n",
       "        7               47            340.0\n",
       "        8               52            408.0\n",
       "        9               58            466.0"
      ]
     },
     "execution_count": 19,
     "metadata": {},
     "output_type": "execute_result"
    }
   ],
   "source": [
    "user_calls = calls.pivot_table(index=['user_id', 'month'], \n",
    "                  values='duration', \n",
    "                  aggfunc=['count', 'sum'])\n",
    "user_calls.columns = pd.Index(['total_calls', 'total_call_time'])\n",
    "user_calls.head(5)"
   ]
  },
  {
   "cell_type": "code",
   "execution_count": 20,
   "metadata": {},
   "outputs": [
    {
     "data": {
      "text/html": [
       "<div>\n",
       "<style scoped>\n",
       "    .dataframe tbody tr th:only-of-type {\n",
       "        vertical-align: middle;\n",
       "    }\n",
       "\n",
       "    .dataframe tbody tr th {\n",
       "        vertical-align: top;\n",
       "    }\n",
       "\n",
       "    .dataframe thead th {\n",
       "        text-align: right;\n",
       "    }\n",
       "</style>\n",
       "<table border=\"1\" class=\"dataframe\">\n",
       "  <thead>\n",
       "    <tr style=\"text-align: right;\">\n",
       "      <th></th>\n",
       "      <th></th>\n",
       "      <th>total_mb</th>\n",
       "    </tr>\n",
       "    <tr>\n",
       "      <th>user_id</th>\n",
       "      <th>month</th>\n",
       "      <th></th>\n",
       "    </tr>\n",
       "  </thead>\n",
       "  <tbody>\n",
       "    <tr>\n",
       "      <td rowspan=\"5\" valign=\"top\">1000</td>\n",
       "      <td>5</td>\n",
       "      <td>2256.0</td>\n",
       "    </tr>\n",
       "    <tr>\n",
       "      <td>6</td>\n",
       "      <td>23257.0</td>\n",
       "    </tr>\n",
       "    <tr>\n",
       "      <td>7</td>\n",
       "      <td>14016.0</td>\n",
       "    </tr>\n",
       "    <tr>\n",
       "      <td>8</td>\n",
       "      <td>14070.0</td>\n",
       "    </tr>\n",
       "    <tr>\n",
       "      <td>9</td>\n",
       "      <td>14581.0</td>\n",
       "    </tr>\n",
       "  </tbody>\n",
       "</table>\n",
       "</div>"
      ],
      "text/plain": [
       "               total_mb\n",
       "user_id month          \n",
       "1000    5        2256.0\n",
       "        6       23257.0\n",
       "        7       14016.0\n",
       "        8       14070.0\n",
       "        9       14581.0"
      ]
     },
     "execution_count": 20,
     "metadata": {},
     "output_type": "execute_result"
    }
   ],
   "source": [
    "user_traffic = internet.groupby(['user_id', 'month'])[['mb_used']].sum()\n",
    "user_traffic.columns = pd.Index(['total_mb'])\n",
    "user_traffic.head(5)"
   ]
  },
  {
   "cell_type": "code",
   "execution_count": 21,
   "metadata": {
    "scrolled": true
   },
   "outputs": [
    {
     "data": {
      "text/html": [
       "<div>\n",
       "<style scoped>\n",
       "    .dataframe tbody tr th:only-of-type {\n",
       "        vertical-align: middle;\n",
       "    }\n",
       "\n",
       "    .dataframe tbody tr th {\n",
       "        vertical-align: top;\n",
       "    }\n",
       "\n",
       "    .dataframe thead th {\n",
       "        text-align: right;\n",
       "    }\n",
       "</style>\n",
       "<table border=\"1\" class=\"dataframe\">\n",
       "  <thead>\n",
       "    <tr style=\"text-align: right;\">\n",
       "      <th></th>\n",
       "      <th></th>\n",
       "      <th>total_messages</th>\n",
       "    </tr>\n",
       "    <tr>\n",
       "      <th>user_id</th>\n",
       "      <th>month</th>\n",
       "      <th></th>\n",
       "    </tr>\n",
       "  </thead>\n",
       "  <tbody>\n",
       "    <tr>\n",
       "      <td rowspan=\"5\" valign=\"top\">1000</td>\n",
       "      <td>5</td>\n",
       "      <td>22</td>\n",
       "    </tr>\n",
       "    <tr>\n",
       "      <td>6</td>\n",
       "      <td>60</td>\n",
       "    </tr>\n",
       "    <tr>\n",
       "      <td>7</td>\n",
       "      <td>75</td>\n",
       "    </tr>\n",
       "    <tr>\n",
       "      <td>8</td>\n",
       "      <td>81</td>\n",
       "    </tr>\n",
       "    <tr>\n",
       "      <td>9</td>\n",
       "      <td>57</td>\n",
       "    </tr>\n",
       "  </tbody>\n",
       "</table>\n",
       "</div>"
      ],
      "text/plain": [
       "               total_messages\n",
       "user_id month                \n",
       "1000    5                  22\n",
       "        6                  60\n",
       "        7                  75\n",
       "        8                  81\n",
       "        9                  57"
      ]
     },
     "execution_count": 21,
     "metadata": {},
     "output_type": "execute_result"
    }
   ],
   "source": [
    "user_messages = messages.groupby(['user_id', 'month'])[['id']].count()\n",
    "user_messages.columns = pd.Index(['total_messages'])\n",
    "user_messages.head(5)"
   ]
  },
  {
   "cell_type": "markdown",
   "metadata": {},
   "source": [
    "Посчитаны колчество звонков, потраченных минут, объем израсходованного трафика, количество сообщений по месяцам."
   ]
  },
  {
   "cell_type": "markdown",
   "metadata": {},
   "source": [
    "### Объединение сводных таблиц"
   ]
  },
  {
   "cell_type": "code",
   "execution_count": 22,
   "metadata": {},
   "outputs": [],
   "source": [
    "# merging 'calls' and 'internet' tables\n",
    "user_stats = user_calls.merge(user_traffic, \n",
    "                 how='outer',\n",
    "                 left_index=True,\n",
    "                 right_index=True\n",
    "                )\n",
    "# merging previous result with 'messages'\n",
    "user_stats = user_stats.merge(user_messages,\n",
    "                 how='outer',\n",
    "                 left_index=True,\n",
    "                 right_index=True\n",
    "                )"
   ]
  },
  {
   "cell_type": "code",
   "execution_count": 23,
   "metadata": {},
   "outputs": [],
   "source": [
    "# Fill NA after tables merging and transform dtypes\n",
    "user_stats = user_stats.fillna(0).astype('int')\n",
    "# merge 'user_stats' with 'users' to set tariffs for each row \n",
    "user_stats = user_stats.reset_index()\n",
    "user_stats = user_stats.merge(users[['user_id', 'tariff']], on='user_id', how='left')\n",
    "# Back MultiIndex\n",
    "user_stats = user_stats.set_index(['user_id', 'month'])"
   ]
  },
  {
   "cell_type": "code",
   "execution_count": 24,
   "metadata": {},
   "outputs": [
    {
     "data": {
      "text/html": [
       "<div>\n",
       "<style scoped>\n",
       "    .dataframe tbody tr th:only-of-type {\n",
       "        vertical-align: middle;\n",
       "    }\n",
       "\n",
       "    .dataframe tbody tr th {\n",
       "        vertical-align: top;\n",
       "    }\n",
       "\n",
       "    .dataframe thead th {\n",
       "        text-align: right;\n",
       "    }\n",
       "</style>\n",
       "<table border=\"1\" class=\"dataframe\">\n",
       "  <thead>\n",
       "    <tr style=\"text-align: right;\">\n",
       "      <th></th>\n",
       "      <th></th>\n",
       "      <th>total_calls</th>\n",
       "      <th>total_call_time</th>\n",
       "      <th>total_mb</th>\n",
       "      <th>total_messages</th>\n",
       "      <th>tariff</th>\n",
       "    </tr>\n",
       "    <tr>\n",
       "      <th>user_id</th>\n",
       "      <th>month</th>\n",
       "      <th></th>\n",
       "      <th></th>\n",
       "      <th></th>\n",
       "      <th></th>\n",
       "      <th></th>\n",
       "    </tr>\n",
       "  </thead>\n",
       "  <tbody>\n",
       "    <tr>\n",
       "      <td rowspan=\"2\" valign=\"top\">1497</td>\n",
       "      <td>11</td>\n",
       "      <td>64</td>\n",
       "      <td>371</td>\n",
       "      <td>14174</td>\n",
       "      <td>14</td>\n",
       "      <td>smart</td>\n",
       "    </tr>\n",
       "    <tr>\n",
       "      <td>12</td>\n",
       "      <td>71</td>\n",
       "      <td>545</td>\n",
       "      <td>19940</td>\n",
       "      <td>17</td>\n",
       "      <td>smart</td>\n",
       "    </tr>\n",
       "    <tr>\n",
       "      <td rowspan=\"4\" valign=\"top\">1498</td>\n",
       "      <td>7</td>\n",
       "      <td>23</td>\n",
       "      <td>175</td>\n",
       "      <td>7486</td>\n",
       "      <td>20</td>\n",
       "      <td>smart</td>\n",
       "    </tr>\n",
       "    <tr>\n",
       "      <td>8</td>\n",
       "      <td>57</td>\n",
       "      <td>400</td>\n",
       "      <td>24270</td>\n",
       "      <td>62</td>\n",
       "      <td>smart</td>\n",
       "    </tr>\n",
       "    <tr>\n",
       "      <td>9</td>\n",
       "      <td>59</td>\n",
       "      <td>471</td>\n",
       "      <td>22166</td>\n",
       "      <td>44</td>\n",
       "      <td>smart</td>\n",
       "    </tr>\n",
       "    <tr>\n",
       "      <td>10</td>\n",
       "      <td>41</td>\n",
       "      <td>247</td>\n",
       "      <td>20604</td>\n",
       "      <td>42</td>\n",
       "      <td>smart</td>\n",
       "    </tr>\n",
       "    <tr>\n",
       "      <td rowspan=\"4\" valign=\"top\">1499</td>\n",
       "      <td>9</td>\n",
       "      <td>9</td>\n",
       "      <td>70</td>\n",
       "      <td>1848</td>\n",
       "      <td>11</td>\n",
       "      <td>smart</td>\n",
       "    </tr>\n",
       "    <tr>\n",
       "      <td>10</td>\n",
       "      <td>68</td>\n",
       "      <td>449</td>\n",
       "      <td>17809</td>\n",
       "      <td>48</td>\n",
       "      <td>smart</td>\n",
       "    </tr>\n",
       "    <tr>\n",
       "      <td>11</td>\n",
       "      <td>74</td>\n",
       "      <td>612</td>\n",
       "      <td>17984</td>\n",
       "      <td>59</td>\n",
       "      <td>smart</td>\n",
       "    </tr>\n",
       "    <tr>\n",
       "      <td>12</td>\n",
       "      <td>69</td>\n",
       "      <td>492</td>\n",
       "      <td>13077</td>\n",
       "      <td>66</td>\n",
       "      <td>smart</td>\n",
       "    </tr>\n",
       "  </tbody>\n",
       "</table>\n",
       "</div>"
      ],
      "text/plain": [
       "               total_calls  total_call_time  total_mb  total_messages tariff\n",
       "user_id month                                                               \n",
       "1497    11              64              371     14174              14  smart\n",
       "        12              71              545     19940              17  smart\n",
       "1498    7               23              175      7486              20  smart\n",
       "        8               57              400     24270              62  smart\n",
       "        9               59              471     22166              44  smart\n",
       "        10              41              247     20604              42  smart\n",
       "1499    9                9               70      1848              11  smart\n",
       "        10              68              449     17809              48  smart\n",
       "        11              74              612     17984              59  smart\n",
       "        12              69              492     13077              66  smart"
      ]
     },
     "execution_count": 24,
     "metadata": {},
     "output_type": "execute_result"
    }
   ],
   "source": [
    "user_stats.tail(10)"
   ]
  },
  {
   "cell_type": "markdown",
   "metadata": {},
   "source": [
    "После внешнего объединения таблиц могли возникнуть пропуски. Я заполнил их нулями - нули не повлияют на значение выручки. И это еще одино подтверждение вывода при изучении - оставить нулевые значения продолжительности звонков, расхода трафика."
   ]
  },
  {
   "cell_type": "markdown",
   "metadata": {},
   "source": [
    "### Звон монет или считаем выручку"
   ]
  },
  {
   "cell_type": "code",
   "execution_count": 25,
   "metadata": {},
   "outputs": [],
   "source": [
    "# Define revenue function \n",
    "def calc_revenue(s_month, tariffs: pd.DataFrame):\n",
    "    \"\"\"Calculate revenue for user_stats row data\"\"\"\n",
    "    \n",
    "    tariff_name = s_month.at['tariff']\n",
    "    tariff = tariffs.query(\"tariff_name == @tariff_name\").iloc[0]\n",
    "\n",
    "    user_fee = tariff['rub_monthly_fee']\n",
    "    \n",
    "    per_minute_fee  = tariff['rub_per_minute']\n",
    "    per_message_fee = tariff['rub_per_message']\n",
    "    per_gb_fee      = tariff['rub_per_gb']  \n",
    "    \n",
    "    minutes_over_limit  = max(0, s_month['total_call_time'] - tariff['minutes_included'])\n",
    "    messages_over_limit = max(0, s_month['total_messages'] - tariff['messages_included'])\n",
    "    traffic_over_limit  = max(0, s_month['total_mb'] - tariff['mb_per_month_included'])\n",
    "    \n",
    "    traffic_over_limit = np.ceil(traffic_over_limit / 1024) # convert in Gb\n",
    "     \n",
    "    revenue = user_fee + \\\n",
    "              minutes_over_limit * per_minute_fee + \\\n",
    "              messages_over_limit * per_message_fee + \\\n",
    "              traffic_over_limit * per_gb_fee\n",
    "    \n",
    "    return revenue"
   ]
  },
  {
   "cell_type": "code",
   "execution_count": 26,
   "metadata": {},
   "outputs": [],
   "source": [
    "# Apply function 'calc_revenue' to data by rows\n",
    "user_stats['revenue'] = user_stats.apply(calc_revenue, axis=1, args=[tariffs]).astype('int')"
   ]
  },
  {
   "cell_type": "code",
   "execution_count": 27,
   "metadata": {},
   "outputs": [
    {
     "data": {
      "text/html": [
       "<div>\n",
       "<style scoped>\n",
       "    .dataframe tbody tr th:only-of-type {\n",
       "        vertical-align: middle;\n",
       "    }\n",
       "\n",
       "    .dataframe tbody tr th {\n",
       "        vertical-align: top;\n",
       "    }\n",
       "\n",
       "    .dataframe thead th {\n",
       "        text-align: right;\n",
       "    }\n",
       "</style>\n",
       "<table border=\"1\" class=\"dataframe\">\n",
       "  <thead>\n",
       "    <tr style=\"text-align: right;\">\n",
       "      <th></th>\n",
       "      <th></th>\n",
       "      <th>total_calls</th>\n",
       "      <th>total_call_time</th>\n",
       "      <th>total_mb</th>\n",
       "      <th>total_messages</th>\n",
       "      <th>tariff</th>\n",
       "      <th>revenue</th>\n",
       "    </tr>\n",
       "    <tr>\n",
       "      <th>user_id</th>\n",
       "      <th>month</th>\n",
       "      <th></th>\n",
       "      <th></th>\n",
       "      <th></th>\n",
       "      <th></th>\n",
       "      <th></th>\n",
       "      <th></th>\n",
       "    </tr>\n",
       "  </thead>\n",
       "  <tbody>\n",
       "    <tr>\n",
       "      <td rowspan=\"8\" valign=\"top\">1000</td>\n",
       "      <td>5</td>\n",
       "      <td>22</td>\n",
       "      <td>159</td>\n",
       "      <td>2256</td>\n",
       "      <td>22</td>\n",
       "      <td>ultra</td>\n",
       "      <td>1950</td>\n",
       "    </tr>\n",
       "    <tr>\n",
       "      <td>6</td>\n",
       "      <td>43</td>\n",
       "      <td>172</td>\n",
       "      <td>23257</td>\n",
       "      <td>60</td>\n",
       "      <td>ultra</td>\n",
       "      <td>1950</td>\n",
       "    </tr>\n",
       "    <tr>\n",
       "      <td>7</td>\n",
       "      <td>47</td>\n",
       "      <td>340</td>\n",
       "      <td>14016</td>\n",
       "      <td>75</td>\n",
       "      <td>ultra</td>\n",
       "      <td>1950</td>\n",
       "    </tr>\n",
       "    <tr>\n",
       "      <td>8</td>\n",
       "      <td>52</td>\n",
       "      <td>408</td>\n",
       "      <td>14070</td>\n",
       "      <td>81</td>\n",
       "      <td>ultra</td>\n",
       "      <td>1950</td>\n",
       "    </tr>\n",
       "    <tr>\n",
       "      <td>9</td>\n",
       "      <td>58</td>\n",
       "      <td>466</td>\n",
       "      <td>14581</td>\n",
       "      <td>57</td>\n",
       "      <td>ultra</td>\n",
       "      <td>1950</td>\n",
       "    </tr>\n",
       "    <tr>\n",
       "      <td>10</td>\n",
       "      <td>57</td>\n",
       "      <td>350</td>\n",
       "      <td>14717</td>\n",
       "      <td>73</td>\n",
       "      <td>ultra</td>\n",
       "      <td>1950</td>\n",
       "    </tr>\n",
       "    <tr>\n",
       "      <td>11</td>\n",
       "      <td>43</td>\n",
       "      <td>338</td>\n",
       "      <td>14768</td>\n",
       "      <td>58</td>\n",
       "      <td>ultra</td>\n",
       "      <td>1950</td>\n",
       "    </tr>\n",
       "    <tr>\n",
       "      <td>12</td>\n",
       "      <td>46</td>\n",
       "      <td>333</td>\n",
       "      <td>9827</td>\n",
       "      <td>70</td>\n",
       "      <td>ultra</td>\n",
       "      <td>1950</td>\n",
       "    </tr>\n",
       "    <tr>\n",
       "      <td rowspan=\"2\" valign=\"top\">1001</td>\n",
       "      <td>11</td>\n",
       "      <td>59</td>\n",
       "      <td>430</td>\n",
       "      <td>18452</td>\n",
       "      <td>0</td>\n",
       "      <td>smart</td>\n",
       "      <td>1350</td>\n",
       "    </tr>\n",
       "    <tr>\n",
       "      <td>12</td>\n",
       "      <td>63</td>\n",
       "      <td>414</td>\n",
       "      <td>14053</td>\n",
       "      <td>0</td>\n",
       "      <td>smart</td>\n",
       "      <td>550</td>\n",
       "    </tr>\n",
       "    <tr>\n",
       "      <td rowspan=\"5\" valign=\"top\">1002</td>\n",
       "      <td>6</td>\n",
       "      <td>15</td>\n",
       "      <td>117</td>\n",
       "      <td>10871</td>\n",
       "      <td>4</td>\n",
       "      <td>smart</td>\n",
       "      <td>550</td>\n",
       "    </tr>\n",
       "    <tr>\n",
       "      <td>7</td>\n",
       "      <td>26</td>\n",
       "      <td>214</td>\n",
       "      <td>17601</td>\n",
       "      <td>11</td>\n",
       "      <td>smart</td>\n",
       "      <td>1150</td>\n",
       "    </tr>\n",
       "    <tr>\n",
       "      <td>8</td>\n",
       "      <td>42</td>\n",
       "      <td>289</td>\n",
       "      <td>20347</td>\n",
       "      <td>13</td>\n",
       "      <td>smart</td>\n",
       "      <td>1550</td>\n",
       "    </tr>\n",
       "    <tr>\n",
       "      <td>9</td>\n",
       "      <td>36</td>\n",
       "      <td>206</td>\n",
       "      <td>16712</td>\n",
       "      <td>4</td>\n",
       "      <td>smart</td>\n",
       "      <td>950</td>\n",
       "    </tr>\n",
       "    <tr>\n",
       "      <td>10</td>\n",
       "      <td>33</td>\n",
       "      <td>212</td>\n",
       "      <td>13905</td>\n",
       "      <td>10</td>\n",
       "      <td>smart</td>\n",
       "      <td>550</td>\n",
       "    </tr>\n",
       "  </tbody>\n",
       "</table>\n",
       "</div>"
      ],
      "text/plain": [
       "               total_calls  total_call_time  total_mb  total_messages tariff  \\\n",
       "user_id month                                                                  \n",
       "1000    5               22              159      2256              22  ultra   \n",
       "        6               43              172     23257              60  ultra   \n",
       "        7               47              340     14016              75  ultra   \n",
       "        8               52              408     14070              81  ultra   \n",
       "        9               58              466     14581              57  ultra   \n",
       "        10              57              350     14717              73  ultra   \n",
       "        11              43              338     14768              58  ultra   \n",
       "        12              46              333      9827              70  ultra   \n",
       "1001    11              59              430     18452               0  smart   \n",
       "        12              63              414     14053               0  smart   \n",
       "1002    6               15              117     10871               4  smart   \n",
       "        7               26              214     17601              11  smart   \n",
       "        8               42              289     20347              13  smart   \n",
       "        9               36              206     16712               4  smart   \n",
       "        10              33              212     13905              10  smart   \n",
       "\n",
       "               revenue  \n",
       "user_id month           \n",
       "1000    5         1950  \n",
       "        6         1950  \n",
       "        7         1950  \n",
       "        8         1950  \n",
       "        9         1950  \n",
       "        10        1950  \n",
       "        11        1950  \n",
       "        12        1950  \n",
       "1001    11        1350  \n",
       "        12         550  \n",
       "1002    6          550  \n",
       "        7         1150  \n",
       "        8         1550  \n",
       "        9          950  \n",
       "        10         550  "
      ]
     },
     "execution_count": 27,
     "metadata": {},
     "output_type": "execute_result"
    }
   ],
   "source": [
    "# Final pivot table\n",
    "user_stats.head(15)"
   ]
  },
  {
   "cell_type": "markdown",
   "metadata": {},
   "source": [
    "### Выводы"
   ]
  },
  {
   "cell_type": "markdown",
   "metadata": {},
   "source": [
    "- Из данных по звонкам и трафику удалены строки с нулевыми значениями продолжительности разговора и потраченных мегабайт.\n",
    "- Подготовлена к анализу сводная таблица по количеству звонков, потраченным минутам, объему трафика, количеству сообщений по месяцам. \n",
    "- Посчитана и добавлена в таблицу помесячная выручка по каждому клиенту. "
   ]
  },
  {
   "cell_type": "markdown",
   "metadata": {},
   "source": [
    "## Анализ"
   ]
  },
  {
   "cell_type": "markdown",
   "metadata": {},
   "source": [
    "Нужно описать помесячные расходы минут, трфика и сообщений клиентов по каждому тарифу. Я понимаю это так:  нужно описать характерные расходы среднего пользователя. Поэтому найдем средние показатели для каждого пользователя, а затем на основе этих данных опишем всех пользователей в среднем (т.е. общее среднее по набору средних для каждого пользователя)."
   ]
  },
  {
   "cell_type": "code",
   "execution_count": 28,
   "metadata": {},
   "outputs": [],
   "source": [
    "smart_stats = user_stats.query('tariff == \"smart\"').groupby(level=0).median()\n",
    "ultra_stats = user_stats.query('tariff == \"ultra\"').groupby(level=0).median()"
   ]
  },
  {
   "cell_type": "code",
   "execution_count": 29,
   "metadata": {},
   "outputs": [],
   "source": [
    "analysed_cols = ['total_call_time', 'total_mb', 'total_messages']"
   ]
  },
  {
   "cell_type": "markdown",
   "metadata": {},
   "source": [
    "### Анализ тарифа smart"
   ]
  },
  {
   "cell_type": "code",
   "execution_count": 30,
   "metadata": {},
   "outputs": [
    {
     "name": "stdout",
     "output_type": "stream",
     "text": [
      "       total_call_time  total_mb  total_messages\n",
      "count            350.0     350.0           350.0\n",
      "mean             437.0   16854.0            34.0\n",
      "std              160.0    4180.0            28.0\n",
      "min                0.0    5545.0             0.0\n",
      "25%              324.0   14204.0            11.0\n",
      "50%              440.0   16948.0            28.0\n",
      "75%              541.0   19325.0            51.0\n",
      "max              892.0   36319.0           134.0\n",
      "\n",
      "                     Variance\n",
      "total_call_time       25685.0\n",
      "total_mb           17468577.0\n",
      "total_messages          785.0\n",
      "dtype: float64\n"
     ]
    },
    {
     "data": {
      "image/png": "[encoded data removed]",
      "text/plain": [
       "<Figure size 1296x360 with 3 Axes>"
      ]
     },
     "metadata": {
      "needs_background": "light"
     },
     "output_type": "display_data"
    }
   ],
   "source": [
    "print(smart_stats[analysed_cols].describe().round(), '', sep='\\n')\n",
    "print(f'{\"Variance\":>29}', smart_stats[analysed_cols].var().round(), sep='\\n')\n",
    "\n",
    "fig, axes = plt.subplots(ncols=3, figsize=(18, 5))\n",
    "\n",
    "for col, ax in zip(analysed_cols, axes):\n",
    "    ax.set_title(col)\n",
    "    smart_stats[col].hist(bins=20, ax=ax)"
   ]
  },
  {
   "cell_type": "markdown",
   "metadata": {},
   "source": [
    "- Средний пользователь тарифа 'смарт' в среднем тратит 415 минут разговора, 17Гб трафика, 28 сообщений в месяц.\n",
    "- В среднем больше чуть половины пользователей выходят за рамки беслпатного трафика\n",
    "- Есть клиенты, которые в среднем расходуют более 30 Гб трафика в месяц - выбросы на среднем графике.\n",
    "- Большинство пользователей не пользуются смс или пользуются редко. Мне кажется число сообщений можно считать распределением Пуассона, где за время или количество экспериментов можно считать пользователей, а событием - отправку смс. На остальных графиках - нормальное распределение.\n",
    "- На графике 'total_call_time' как будто прослеживается бимодальное распределение (т.е. можно выделить две группы клиентов, те кто говорит побольше и поменьше), но мне кажется это с погрешностью можно считать нормальным (если увеличить количество график станет нормальным). Это можно отдельно исследовать. Этому нас по-моему не учили.\n",
    "- Около четверти клиентов тарифа 'смарт' превышают лимит минут и смс."
   ]
  },
  {
   "cell_type": "code",
   "execution_count": 31,
   "metadata": {},
   "outputs": [
    {
     "data": {
      "image/png": "[encoded data removed]",
      "text/plain": [
       "<Figure size 720x432 with 1 Axes>"
      ]
     },
     "metadata": {
      "needs_background": "light"
     },
     "output_type": "display_data"
    }
   ],
   "source": [
    "mid_monthly_revenue = user_stats.query('tariff == \"smart\"').groupby(level=1)['revenue'].agg(['mean', 'median'])\n",
    "mid_monthly_revenue.plot(\n",
    "    grid=True,\n",
    "    xlim=(0, 13), \n",
    "    figsize=(10, 6), \n",
    "    title=\"График средней ежемесячной выручки 'Смарт'\"\n",
    ")\n",
    "print(end='')"
   ]
  },
  {
   "cell_type": "markdown",
   "metadata": {},
   "source": [
    "Наблюдается ежемесячный рост средней выручки за счет новых клиентов."
   ]
  },
  {
   "cell_type": "code",
   "execution_count": 32,
   "metadata": {},
   "outputs": [
    {
     "data": {
      "image/png": "[encoded data removed]",
      "text/plain": [
       "<Figure size 720x432 with 1 Axes>"
      ]
     },
     "metadata": {
      "needs_background": "light"
     },
     "output_type": "display_data"
    }
   ],
   "source": [
    "# fig, axes = plt.subplots(ncols=2, figsize=(28, 10))\n",
    "xticks = list(range(550, 6000, 200))\n",
    "smart_stats['revenue'].plot.hist(\n",
    "    bins=50, \n",
    "    grid=True, \n",
    "    figsize=(10, 6), \n",
    "    xticks=xticks, \n",
    "    rot=45,\n",
    "    title=\"Гистограмма средней выручки по клиентам 'Смарт'\",\n",
    ")\n",
    "print(end='')"
   ]
  },
  {
   "cell_type": "markdown",
   "metadata": {},
   "source": [
    "Два выброса - клиенты превысившие лимиты трафика более, чем на 30 Гб, примерно в полтора раза лимиты минут и один еще и смс больше на 33 отправил."
   ]
  },
  {
   "cell_type": "code",
   "execution_count": 33,
   "metadata": {},
   "outputs": [
    {
     "data": {
      "image/png": "[encoded data removed]",
      "text/plain": [
       "<Figure size 432x432 with 1 Axes>"
      ]
     },
     "metadata": {
      "needs_background": "light"
     },
     "output_type": "display_data"
    }
   ],
   "source": [
    "smart_stats['revenue'].plot.box(\n",
    "    grid=True, \n",
    "    figsize=(6, 6), \n",
    "    title=\"Ящик с усами средней выручки по клиентам 'Смарт'\"\n",
    ")\n",
    "print(end='')"
   ]
  },
  {
   "cell_type": "markdown",
   "metadata": {},
   "source": [
    "На самом деле выбросов больше двух."
   ]
  },
  {
   "cell_type": "code",
   "execution_count": 34,
   "metadata": {},
   "outputs": [
    {
     "data": {
      "text/html": [
       "<div>\n",
       "<style scoped>\n",
       "    .dataframe tbody tr th:only-of-type {\n",
       "        vertical-align: middle;\n",
       "    }\n",
       "\n",
       "    .dataframe tbody tr th {\n",
       "        vertical-align: top;\n",
       "    }\n",
       "\n",
       "    .dataframe thead th {\n",
       "        text-align: right;\n",
       "    }\n",
       "</style>\n",
       "<table border=\"1\" class=\"dataframe\">\n",
       "  <thead>\n",
       "    <tr style=\"text-align: right;\">\n",
       "      <th></th>\n",
       "      <th>total_calls</th>\n",
       "      <th>total_call_time</th>\n",
       "      <th>total_mb</th>\n",
       "      <th>total_messages</th>\n",
       "      <th>revenue</th>\n",
       "    </tr>\n",
       "    <tr>\n",
       "      <th>user_id</th>\n",
       "      <th></th>\n",
       "      <th></th>\n",
       "      <th></th>\n",
       "      <th></th>\n",
       "      <th></th>\n",
       "    </tr>\n",
       "  </thead>\n",
       "  <tbody>\n",
       "    <tr>\n",
       "      <td>1042</td>\n",
       "      <td>72.0</td>\n",
       "      <td>430.5</td>\n",
       "      <td>22084.0</td>\n",
       "      <td>45.0</td>\n",
       "      <td>3129.5</td>\n",
       "    </tr>\n",
       "    <tr>\n",
       "      <td>1047</td>\n",
       "      <td>116.0</td>\n",
       "      <td>762.0</td>\n",
       "      <td>26192.0</td>\n",
       "      <td>66.0</td>\n",
       "      <td>3584.0</td>\n",
       "    </tr>\n",
       "    <tr>\n",
       "      <td>1229</td>\n",
       "      <td>112.0</td>\n",
       "      <td>672.0</td>\n",
       "      <td>25033.0</td>\n",
       "      <td>5.0</td>\n",
       "      <td>3266.0</td>\n",
       "    </tr>\n",
       "    <tr>\n",
       "      <td>1261</td>\n",
       "      <td>117.0</td>\n",
       "      <td>738.0</td>\n",
       "      <td>32542.0</td>\n",
       "      <td>22.0</td>\n",
       "      <td>4664.0</td>\n",
       "    </tr>\n",
       "    <tr>\n",
       "      <td>1313</td>\n",
       "      <td>126.0</td>\n",
       "      <td>853.0</td>\n",
       "      <td>21673.0</td>\n",
       "      <td>28.0</td>\n",
       "      <td>3342.0</td>\n",
       "    </tr>\n",
       "    <tr>\n",
       "      <td>1456</td>\n",
       "      <td>112.0</td>\n",
       "      <td>889.0</td>\n",
       "      <td>22288.0</td>\n",
       "      <td>0.0</td>\n",
       "      <td>3117.0</td>\n",
       "    </tr>\n",
       "    <tr>\n",
       "      <td>1462</td>\n",
       "      <td>126.0</td>\n",
       "      <td>878.0</td>\n",
       "      <td>23395.0</td>\n",
       "      <td>0.0</td>\n",
       "      <td>3449.0</td>\n",
       "    </tr>\n",
       "    <tr>\n",
       "      <td>1486</td>\n",
       "      <td>108.0</td>\n",
       "      <td>764.0</td>\n",
       "      <td>36319.0</td>\n",
       "      <td>83.0</td>\n",
       "      <td>5680.0</td>\n",
       "    </tr>\n",
       "  </tbody>\n",
       "</table>\n",
       "</div>"
      ],
      "text/plain": [
       "         total_calls  total_call_time  total_mb  total_messages  revenue\n",
       "user_id                                                                 \n",
       "1042            72.0            430.5   22084.0            45.0   3129.5\n",
       "1047           116.0            762.0   26192.0            66.0   3584.0\n",
       "1229           112.0            672.0   25033.0             5.0   3266.0\n",
       "1261           117.0            738.0   32542.0            22.0   4664.0\n",
       "1313           126.0            853.0   21673.0            28.0   3342.0\n",
       "1456           112.0            889.0   22288.0             0.0   3117.0\n",
       "1462           126.0            878.0   23395.0             0.0   3449.0\n",
       "1486           108.0            764.0   36319.0            83.0   5680.0"
      ]
     },
     "execution_count": 34,
     "metadata": {},
     "output_type": "execute_result"
    }
   ],
   "source": [
    "smart_stats.query(\"revenue > 3000\")"
   ]
  },
  {
   "cell_type": "markdown",
   "metadata": {},
   "source": [
    "Думаю это те люди, которые ошиблись тарифом, им бы больше подошел 'Ультра'.\n",
    "Да и вообще по большому хвосту справа на гистограмме видно, что большинство не укладывается в тарифные лимиты."
   ]
  },
  {
   "cell_type": "code",
   "execution_count": 35,
   "metadata": {},
   "outputs": [
    {
     "name": "stdout",
     "output_type": "stream",
     "text": [
      "Общее число пользователей 'Смарт': 350\n",
      "Количество клиентов, превышающих тарифные лимиты 'Смарт': 302\n",
      "Доля клиентов, превышающих тарифные лимиты 'Смарт': 86%\n"
     ]
    }
   ],
   "source": [
    "ntotal_smart = smart_stats.shape[0]\n",
    "nover_limit_smart = smart_stats.query(\"revenue > 550\").shape[0]\n",
    "print(\"Общее число пользователей 'Смарт':\", ntotal_smart)\n",
    "print(\"Количество клиентов, превышающих тарифные лимиты 'Смарт':\", nover_limit_smart)\n",
    "print(\"Доля клиентов, превышающих тарифные лимиты 'Смарт': {:,.0%}\".format(nover_limit_smart / ntotal_smart))"
   ]
  },
  {
   "cell_type": "code",
   "execution_count": 36,
   "metadata": {},
   "outputs": [
    {
     "name": "stdout",
     "output_type": "stream",
     "text": [
      "Характеристики выручки тарифа 'Смарт'.\n",
      "Общая выручка за все время: 2,885,751 руб.\n",
      "Среднее: 1,150 руб.\n",
      "Стандартное отклонение: 724 руб.\n",
      "Дисперсия: 524,720 руб.\n",
      "Общая выручка на 1 клиента в среднем: 7,290 руб\n"
     ]
    }
   ],
   "source": [
    "print(\"Характеристики выручки тарифа 'Смарт'.\")\n",
    "print(\"Общая выручка за все время: {:,} руб.\".format(user_stats.query(\"tariff == 'smart'\")['revenue'].sum()))\n",
    "print(\"\"\"\\\n",
    "Среднее: {:,.0f} руб.\n",
    "Стандартное отклонение: {:,.0f} руб.\n",
    "Дисперсия: {:,.0f} руб.\"\"\".format(*smart_stats['revenue'].agg(['median', 'std', 'var'])))\n",
    "print(\"Общая выручка на 1 клиента в среднем: {:,.0f} руб\".format(\n",
    "    user_stats.query(\"tariff == 'smart'\").groupby(level=0)['revenue'].sum().median()\n",
    "))\n"
   ]
  },
  {
   "cell_type": "markdown",
   "metadata": {},
   "source": [
    "* Наблюдается ежемесячный рост средней выручки за счет новых клиентов (для данной выборки)\n",
    "* Гистограмма скошена вправо. 86% клиентов 'Смарт' превышают тарифные лимиты.\n",
    "* средняя выручка 1,150 руб, стандартное отклонение 724 руб, дисперсия 524,720 руб\n",
    "* Общая выручка на 1 клиента в среднем: 7,290 руб"
   ]
  },
  {
   "cell_type": "markdown",
   "metadata": {},
   "source": [
    "### Анализ тарифа ultra"
   ]
  },
  {
   "cell_type": "code",
   "execution_count": 37,
   "metadata": {},
   "outputs": [
    {
     "name": "stdout",
     "output_type": "stream",
     "text": [
      "       total_call_time  total_mb  total_messages\n",
      "count            148.0     148.0           148.0\n",
      "mean             558.0   20322.0            57.0\n",
      "std              304.0    8901.0            49.0\n",
      "min                0.0       0.0             0.0\n",
      "25%              336.0   14699.0            17.0\n",
      "50%              535.0   19750.0            48.0\n",
      "75%              786.0   27234.0            87.0\n",
      "max             1273.0   39230.0           197.0\n",
      "\n",
      "                     Variance\n",
      "total_call_time       92291.0\n",
      "total_mb           79230804.0\n",
      "total_messages         2424.0\n",
      "dtype: float64\n"
     ]
    },
    {
     "data": {
      "image/png": "[encoded data removed]",
      "text/plain": [
       "<Figure size 1296x360 with 3 Axes>"
      ]
     },
     "metadata": {
      "needs_background": "light"
     },
     "output_type": "display_data"
    }
   ],
   "source": [
    "print(ultra_stats[analysed_cols].describe().round(), '', sep='\\n')\n",
    "print(f'{\"Variance\":>29}', ultra_stats[analysed_cols].var().round(), sep='\\n')\n",
    "\n",
    "fig, axes = plt.subplots(ncols=3, figsize=(18, 5))\n",
    "\n",
    "for col, ax in zip(analysed_cols, axes):\n",
    "    ax.set_title(col)\n",
    "    ultra_stats[col].hist(bins=20, ax=ax)"
   ]
  },
  {
   "cell_type": "markdown",
   "metadata": {},
   "source": [
    "- Средний пользователь тарифа 'ультра' в среднем тратит 507 минут разговора, 20Гб трафика, 48 сообщений в месяц.\n",
    "- Распределение средней длительности звонков клиентов тарифа 'ультра' можно считать нормальным. Будет стремиться к нормальному по ЦПТ с увеличением выборки. Ни один абонент не превышает лимита отпущенных минут :-) Клиенты испльзуют меньше половины предоставленных тарифом минут. Хватает с запасом.\n",
    "- Примерно четверть клиентов превышает лимит использования трафика\n",
    "- Большинство не шлет смс. Хотя максимальное количество смс в этом тарифе больше, чем в 'смарт'.\n",
    "- Все пользователи тарифа тратят не более 20% ресурса смс. Хватает с большим запасом."
   ]
  },
  {
   "cell_type": "code",
   "execution_count": 38,
   "metadata": {},
   "outputs": [
    {
     "data": {
      "image/png": "[encoded data removed]",
      "text/plain": [
       "<Figure size 720x432 with 1 Axes>"
      ]
     },
     "metadata": {
      "needs_background": "light"
     },
     "output_type": "display_data"
    }
   ],
   "source": [
    "mid_monthly_revenue = user_stats.query('tariff == \"ultra\"').groupby(level=1)['revenue'].agg(['mean', 'median'])\n",
    "mid_monthly_revenue.plot(\n",
    "    grid=True,\n",
    "    xlim=(0, 13), \n",
    "    figsize=(10, 6), \n",
    "    title=\"График средней ежемесячной выручки 'Ультра'\"\n",
    ")\n",
    "print(end='')"
   ]
  },
  {
   "cell_type": "markdown",
   "metadata": {},
   "source": [
    "- Медиана помесячной выручки лежит... Т.е. устойчиво себя ведет от месяца к месяцу. Она вообще константа.\n",
    "- Наблюдаю более резкие скачки среднего, чем для смарт- в сторону повышения выручки. Очень резкий спад выручки в сентябре. Можно придумать гипотезу, что до сентября клиенты больше тратили в отпуске, а после перед новым годом. Это может быть сезонность, но для исследования нужна гораздо большая выборка за несколько лет. "
   ]
  },
  {
   "cell_type": "code",
   "execution_count": 39,
   "metadata": {},
   "outputs": [
    {
     "data": {
      "image/png": "[encoded data removed]",
      "text/plain": [
       "<Figure size 720x432 with 1 Axes>"
      ]
     },
     "metadata": {
      "needs_background": "light"
     },
     "output_type": "display_data"
    }
   ],
   "source": [
    "# fig, axes = plt.subplots(ncols=2, figsize=(28, 10))\n",
    "xticks = list(range(550, 6000, 200))\n",
    "ultra_stats['revenue'].plot.hist(\n",
    "    bins=20, \n",
    "    grid=True, \n",
    "    figsize=(10, 6), \n",
    "#     xticks=xticks, \n",
    "    rot=45,\n",
    "    title=\"Гистограмма средней выручки по клиентам 'Смарт'\",\n",
    ")\n",
    "print(end='')"
   ]
  },
  {
   "cell_type": "markdown",
   "metadata": {},
   "source": [
    "Гистограмма скошена вправо. По ней видно, что, превышающих лимиты, клиентов мало, и в основном клиентам 'Ультра' хватает пакета"
   ]
  },
  {
   "cell_type": "code",
   "execution_count": 40,
   "metadata": {},
   "outputs": [
    {
     "name": "stdout",
     "output_type": "stream",
     "text": [
      "Общее число пользователей 'Ультра': 148\n",
      "Количество клиентов, превышающих тарифные лимиты 'Ультра': 23\n",
      "Доля клиентов, превышающих тарифные лимиты 'Ультра': 16%\n"
     ]
    }
   ],
   "source": [
    "ntotal_ultra = ultra_stats.shape[0]\n",
    "nover_limit_ultra = ultra_stats.query(\"revenue > 1950\").shape[0]\n",
    "print(\"Общее число пользователей 'Ультра':\", ntotal_ultra)\n",
    "print(\"Количество клиентов, превышающих тарифные лимиты 'Ультра':\", nover_limit_ultra)\n",
    "print(\"Доля клиентов, превышающих тарифные лимиты 'Ультра': {:,.0%}\".format(nover_limit_ultra / ntotal_ultra))"
   ]
  },
  {
   "cell_type": "code",
   "execution_count": 41,
   "metadata": {},
   "outputs": [
    {
     "name": "stdout",
     "output_type": "stream",
     "text": [
      "Характеристики выручки тарифа 'Ультра'.\n",
      "Общая выручка за все время: 2,040,000 руб.\n",
      "Среднее: 1,950 руб.\n",
      "Стандартное отклонение: 300 руб.\n",
      "Дисперсия: 90,191 руб.\n",
      "Общая выручка на 1 клиента в среднем: 13,725 руб\n"
     ]
    }
   ],
   "source": [
    "print(\"Характеристики выручки тарифа 'Ультра'.\")\n",
    "print(\"Общая выручка за все время: {:,} руб.\".format(user_stats.query(\"tariff == 'ultra'\")['revenue'].sum()))\n",
    "print(\"\"\"\\\n",
    "Среднее: {:,.0f} руб.\n",
    "Стандартное отклонение: {:,.0f} руб.\n",
    "Дисперсия: {:,.0f} руб.\"\"\".format(*ultra_stats['revenue'].agg(['median', 'std', 'var'])))\n",
    "print(\"Общая выручка на 1 клиента в среднем: {:,.0f} руб\".format(\n",
    "    user_stats.query(\"tariff == 'ultra'\").groupby(level=0)['revenue'].sum().median()\n",
    "))\n"
   ]
  },
  {
   "cell_type": "markdown",
   "metadata": {},
   "source": [
    "* Средняя выручка стабильна во всех месяцах\n",
    "* Гистограмма скошена вправо. 16% клиентов 'Ультра' превышают тарифные лимиты.\n",
    "* средняя выручка 1,950 руб, стандартное отклонение 300 руб, дисперсия 90,191 руб\n",
    "* Общая выручка на 1 клиента в среднем: 13,725 руб"
   ]
  },
  {
   "cell_type": "markdown",
   "metadata": {},
   "source": [
    "### Выводы"
   ]
  },
  {
   "cell_type": "markdown",
   "metadata": {},
   "source": [
    "- Пользователи тарифа 'смарт' гораздо чаще превышают лимиты: около 25% клиентов превышают лимиты звонков и смс и около половины превышают лимит трафика. Причем лимиты звонков превышаются примерно в 1.5 раза, а  лимиты трафика максимально более чем в два раза.\n",
    "- Четверть 'ультра'-клиентов превышают лимит трафика. Но остальных ресурсов остается с запасом.\n",
    "- В целом пользователи чаще пользуются интернетом, затем звонками сотовой сети и реже смс.\n",
    "- Разброс значений (std) по все трем показателям у клиентов 'ультра' примерно в 2 раза больше клиентов 'смарт'\n",
    "- Средняя выручка с клиентов Смарт не стабильна от месяца к месяцу.\n",
    "- 86% клиентов 'Смарт' превышают тарифные лимиты.\n",
    "\n",
    "Характеристики выручки|тариф 'Смарт'|тариф 'Ультра'\n",
    "---|---|---\n",
    "Общая выручка за все время| 2,885,751 руб|2,040,000 руб\n",
    "Среднее| 1,150 руб|1,950 руб\n",
    "Стандартное отклонение| 724 руб|300 руб\n",
    "Дисперсия| 524,720 руб|90,191 руб\n",
    "Общая выручка на 1 клиента в среднем| 7,290 руб|13,725 руб \n",
    "\n",
    "- Тариф 'Ультра' стоит дороже, приносит выручки в среднем больше, выручка относительно стабильна, разброс значений относительно 'Смарт' меньше, клиентов относительно 'Смарт' меньше.\n",
    "- Здесь уже можно сказать, что департаменту рекомендуется заниматься тарифом 'Смарт'. Т.к. клиентам этого тарифа явно не хватает пакета, есть клиенты, которые сильно превышают лимиты и наблюдается гораздо больший, чем в 'Ультра', разброс значений."
   ]
  },
  {
   "cell_type": "markdown",
   "metadata": {},
   "source": [
    "## Проверка гипотез"
   ]
  },
  {
   "cell_type": "markdown",
   "metadata": {},
   "source": [
    "### Сравнение средних выручек по тарифам"
   ]
  },
  {
   "cell_type": "markdown",
   "metadata": {},
   "source": [
    "Так как проверяю гипотезу о равенстве средних (гипотеза 0: =; гипотеза 1: !=) двух выборок, использовать буду Т-тест с двусторонним критерием. Если попали статистикой в доверительную область, то нулевую гипотезу отвергнуть НЕ удалось, если в критическую - отвергаем нулевую гипотезу. Попадание в критическую область определяется с помощью p-value, если оно меньше уровня значимости значит мы в критической области. Еще одна интерпретация: посчитанное значение статистики Т-теста по модулю превзашло критическое значение соответствующее уровню значимости. Еще можно по площадям объяснить, но это удобнее рисовать."
   ]
  },
  {
   "cell_type": "code",
   "execution_count": 43,
   "metadata": {
    "scrolled": true
   },
   "outputs": [
    {
     "name": "stdout",
     "output_type": "stream",
     "text": [
      "Нулевая гипотеза: средние выручки тарифов smart и ultra равны\n",
      "Альтернативная гипотеза: средние выручки от клиентов smart и ultra НЕ равны\n",
      "\n",
      "p-значение: 1.457472875153576e-48\n",
      "Отвергаем нулевую гипотезу\n",
      "Средняя выручка тарифа 'смарт': 1150.0\n",
      "Средняя выручка тарифа 'ультра': 1950.0\n"
     ]
    }
   ],
   "source": [
    "print('Нулевая гипотеза: средние выручки тарифов smart и ultra равны')\n",
    "print('Альтернативная гипотеза: средние выручки от клиентов smart и ultra НЕ равны')\n",
    "print()\n",
    "\n",
    "alpha = .05\n",
    "result = st.stats.ttest_ind(smart_stats['revenue'], ultra_stats['revenue'], equal_var=False)\n",
    "\n",
    "print('p-значение:', result.pvalue)\n",
    "\n",
    "if result.pvalue < alpha:\n",
    "    print('Отвергаем нулевую гипотезу')\n",
    "else:\n",
    "    print('Не получилось отвергнуть нулевую гипотезу')\n",
    "    \n",
    "print(\"Средняя выручка тарифа 'смарт':\", smart_stats['revenue'].median().round())\n",
    "print(\"Средняя выручка тарифа 'ультра':\", ultra_stats['revenue'].median())"
   ]
  },
  {
   "cell_type": "markdown",
   "metadata": {},
   "source": [
    "### Сравнение средних выручек по регионам"
   ]
  },
  {
   "cell_type": "code",
   "execution_count": 44,
   "metadata": {},
   "outputs": [],
   "source": [
    "uid_moscow = users.query(\"city == 'Москва'\").set_index('user_id').index\n",
    "uid_regions = users.set_index('user_id').index.difference(uid_moscow)"
   ]
  },
  {
   "cell_type": "code",
   "execution_count": 45,
   "metadata": {},
   "outputs": [],
   "source": [
    "revenue_moscow = user_stats.query('user_id.isin(@uid_moscow)')['revenue']\n",
    "revenue_regions = user_stats.query('user_id.isin(@uid_regions)')['revenue']"
   ]
  },
  {
   "cell_type": "code",
   "execution_count": 46,
   "metadata": {
    "scrolled": true
   },
   "outputs": [
    {
     "name": "stdout",
     "output_type": "stream",
     "text": [
      "Нулевая гипотеза: средние выручки от клиентов Москвы и регионов равны\n",
      "Альтернативная гипотеза: средние выручки от клиентов Москвы и регионов НЕ равны\n",
      "\n",
      "p-значение: 0.5126564657748214\n",
      "Не получилось отвергнуть нулевую гипотезу\n",
      "Средняя выручка по Москве: 1750.0\n",
      "Средняя выручка по регионам: 1587.0\n"
     ]
    }
   ],
   "source": [
    "print('Нулевая гипотеза: средние выручки от клиентов Москвы и регионов равны')\n",
    "print('Альтернативная гипотеза: средние выручки от клиентов Москвы и регионов НЕ равны')\n",
    "print()\n",
    "\n",
    "alpha = .05\n",
    "result = st.stats.ttest_ind(revenue_moscow, revenue_regions, equal_var=False)\n",
    "\n",
    "print('p-значение:', result.pvalue)\n",
    "\n",
    "if result.pvalue < alpha:\n",
    "    print('Отвергаем нулевую гипотезу')\n",
    "else:\n",
    "    print('Не получилось отвергнуть нулевую гипотезу') \n",
    "\n",
    "print(\"Средняя выручка по Москве:\", revenue_moscow.median())\n",
    "print(\"Средняя выручка по регионам:\", revenue_regions.median())"
   ]
  },
  {
   "cell_type": "markdown",
   "metadata": {},
   "source": [
    "### Выводы"
   ]
  },
  {
   "cell_type": "markdown",
   "metadata": {},
   "source": [
    "- Средние выручки от клиентов по разным тарифам - не равны. Среднемесячная выручка от клиентов с тарифом 'ультра' больше, чем от клиентов 'смарт'\n",
    "- Средние выручки от клиентов по Москве и регионам статистически равны. "
   ]
  },
  {
   "cell_type": "markdown",
   "metadata": {},
   "source": [
    "## Общие выводы"
   ]
  },
  {
   "cell_type": "markdown",
   "metadata": {},
   "source": [
    "- Клиенты с тарифом 'ультра' - запасливые люди, покупают больше, чем тратят. Лимит превышается только на пользование трафиком. \n",
    "- Клиенты с тарифом 'смарт' - скорее всего стараются сэкономить, но большенству нужно больше предоставляемых ресурсов. Клиенты во всех категориях превышают лимиты.\n",
    "- Вариация расходов у клиентов 'ультра' шире, чем у 'смарт'.\n",
    "- Средние выручки от клиентов по разным тарифам - не равны. Среднемесячная выручка от клиентов с тарифом 'ультра' больше, чем от клиентов 'смарт'\n",
    "- Средние выручки от клиентов по Москве и регионам статистически равны.\n",
    "- Средняя выручка с клиентов Смарт не стабильна.\n",
    "- 86% клиентов 'Смарт' превышают тарифные лимиты.\n",
    "- Тариф 'Ультра' стоит дороже, приносит выручки на 1 клиента в среднем больше, выручка относительно стабильна, разброс значений относительно 'Смарт' гораздо меньше, клиентов относительно 'Смарт' меньше.\n",
    "- Департаменту рекомендуем заниматься тарифом 'Смарт'. Т.к. клиентам этого тарифа явно не хватает пакета, есть клиенты, которые сильно превышают лимиты и наблюдается гораздо больший, чем в 'Ультра', разброс значений.\n",
    "    "
   ]
  }
 ],
 "metadata": {
  "kernelspec": {
   "display_name": "Python 3",
   "language": "python",
   "name": "python3"
  },
  "language_info": {
   "codemirror_mode": {
    "name": "ipython",
    "version": 3
   },
   "file_extension": ".py",
   "mimetype": "text/x-python",
   "name": "python",
   "nbconvert_exporter": "python",
   "pygments_lexer": "ipython3",
   "version": "3.9.1"
  },
  "toc": {
   "base_numbering": 1,
   "nav_menu": {},
   "number_sections": true,
   "sideBar": true,
   "skip_h1_title": true,
   "title_cell": "Table of Contents",
   "title_sidebar": "Contents",
   "toc_cell": false,
   "toc_position": {
    "height": "calc(100% - 180px)",
    "left": "10px",
    "top": "150px",
    "width": "229.983px"
   },
   "toc_section_display": true,
   "toc_window_display": true
  }
 },
 "nbformat": 4,
 "nbformat_minor": 2
}
