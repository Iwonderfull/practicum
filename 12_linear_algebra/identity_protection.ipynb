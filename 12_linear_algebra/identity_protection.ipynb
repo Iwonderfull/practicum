{
 "cells": [
  {
   "cell_type": "markdown",
   "metadata": {
    "toc": true
   },
   "source": [
    "<h1>Содержание<span class=\"tocSkip\"></span></h1>\n",
    "<div class=\"toc\"><ul class=\"toc-item\"><li><span><a href=\"#Загрузка-данных\" data-toc-modified-id=\"Загрузка-данных-1\"><span class=\"toc-item-num\">1&nbsp;&nbsp;</span>Загрузка данных</a></span></li><li><span><a href=\"#Умножение-матриц\" data-toc-modified-id=\"Умножение-матриц-2\"><span class=\"toc-item-num\">2&nbsp;&nbsp;</span>Умножение матриц</a></span><ul class=\"toc-item\"><li><span><a href=\"#Умножение-слева\" data-toc-modified-id=\"Умножение-слева-2.1\"><span class=\"toc-item-num\">2.1&nbsp;&nbsp;</span>Умножение слева</a></span></li><li><span><a href=\"#Умножение-справа\" data-toc-modified-id=\"Умножение-справа-2.2\"><span class=\"toc-item-num\">2.2&nbsp;&nbsp;</span>Умножение справа</a></span></li></ul></li><li><span><a href=\"#Алгоритм-преобразования\" data-toc-modified-id=\"Алгоритм-преобразования-3\"><span class=\"toc-item-num\">3&nbsp;&nbsp;</span>Алгоритм преобразования</a></span></li><li><span><a href=\"#Проверка-алгоритма\" data-toc-modified-id=\"Проверка-алгоритма-4\"><span class=\"toc-item-num\">4&nbsp;&nbsp;</span>Проверка алгоритма</a></span><ul class=\"toc-item\"><li><span><a href=\"#Вывод\" data-toc-modified-id=\"Вывод-4.1\"><span class=\"toc-item-num\">4.1&nbsp;&nbsp;</span>Вывод</a></span></li></ul></li></ul></div>"
   ]
  },
  {
   "cell_type": "markdown",
   "metadata": {},
   "source": [
    "# Защита персональных данных клиентов"
   ]
  },
  {
   "cell_type": "markdown",
   "metadata": {},
   "source": [
    "Вам нужно защитить данные клиентов страховой компании «Хоть потоп». Разработайте такой метод преобразования данных, чтобы по ним было сложно восстановить персональную информацию. Обоснуйте корректность его работы.\n",
    "\n",
    "Нужно защитить данные, чтобы при преобразовании качество моделей машинного обучения не ухудшилось. Подбирать наилучшую модель не требуется."
   ]
  },
  {
   "cell_type": "markdown",
   "metadata": {},
   "source": [
    "## Загрузка данных"
   ]
  },
  {
   "cell_type": "code",
   "execution_count": 1,
   "metadata": {
    "collapsed": true
   },
   "outputs": [
    {
     "name": "stdout",
     "output_type": "stream",
     "text": [
      "\u001b[33mWARNING: Ignoring invalid distribution -cipy (/usr/local/Caskroom/miniconda/base/envs/ds/lib/python3.9/site-packages)\u001b[0m\u001b[33m\n",
      "\u001b[0m\u001b[33mWARNING: Ignoring invalid distribution -cipy (/usr/local/Caskroom/miniconda/base/envs/ds/lib/python3.9/site-packages)\u001b[0m\u001b[33m\n",
      "\u001b[0m\u001b[33mWARNING: Ignoring invalid distribution -cipy (/usr/local/Caskroom/miniconda/base/envs/ds/lib/python3.9/site-packages)\u001b[0m\u001b[33m\n",
      "\u001b[0m\u001b[33mWARNING: Ignoring invalid distribution -cipy (/usr/local/Caskroom/miniconda/base/envs/ds/lib/python3.9/site-packages)\u001b[0m\u001b[33m\n",
      "\u001b[0m\u001b[33mWARNING: Ignoring invalid distribution -cipy (/usr/local/Caskroom/miniconda/base/envs/ds/lib/python3.9/site-packages)\u001b[0m\u001b[33m\n",
      "\u001b[0m"
     ]
    }
   ],
   "source": [
    "!pip install -qU --no-warn-script-location pandas seaborn scikit-learn "
   ]
  },
  {
   "cell_type": "code",
   "execution_count": 2,
   "metadata": {
    "collapsed": true
   },
   "outputs": [
    {
     "name": "stderr",
     "output_type": "stream",
     "text": [
      "/usr/local/Caskroom/miniconda/base/envs/ds/lib/python3.9/site-packages/pandas/compat/_optional.py:149: UserWarning: Pandas requires version '1.3.1' or newer of 'bottleneck' (version '1.2.1' currently installed).\n",
      "  warnings.warn(msg, UserWarning)\n"
     ]
    }
   ],
   "source": [
    "import numpy as np\n",
    "import pandas as pd\n",
    "import seaborn as sns\n",
    "import matplotlib.pyplot as plt\n",
    "from sklearn.linear_model import LinearRegression"
   ]
  },
  {
   "cell_type": "code",
   "execution_count": 3,
   "metadata": {},
   "outputs": [],
   "source": [
    "sns.set_theme()"
   ]
  },
  {
   "cell_type": "code",
   "execution_count": 4,
   "metadata": {},
   "outputs": [
    {
     "data": {
      "text/html": [
       "<div>\n",
       "<style scoped>\n",
       "    .dataframe tbody tr th:only-of-type {\n",
       "        vertical-align: middle;\n",
       "    }\n",
       "\n",
       "    .dataframe tbody tr th {\n",
       "        vertical-align: top;\n",
       "    }\n",
       "\n",
       "    .dataframe thead th {\n",
       "        text-align: right;\n",
       "    }\n",
       "</style>\n",
       "<table border=\"1\" class=\"dataframe\">\n",
       "  <thead>\n",
       "    <tr style=\"text-align: right;\">\n",
       "      <th></th>\n",
       "      <th>Пол</th>\n",
       "      <th>Возраст</th>\n",
       "      <th>Зарплата</th>\n",
       "      <th>Члены семьи</th>\n",
       "      <th>Страховые выплаты</th>\n",
       "    </tr>\n",
       "  </thead>\n",
       "  <tbody>\n",
       "    <tr>\n",
       "      <th>0</th>\n",
       "      <td>1</td>\n",
       "      <td>41.0</td>\n",
       "      <td>49600.0</td>\n",
       "      <td>1</td>\n",
       "      <td>0</td>\n",
       "    </tr>\n",
       "    <tr>\n",
       "      <th>1</th>\n",
       "      <td>0</td>\n",
       "      <td>46.0</td>\n",
       "      <td>38000.0</td>\n",
       "      <td>1</td>\n",
       "      <td>1</td>\n",
       "    </tr>\n",
       "    <tr>\n",
       "      <th>2</th>\n",
       "      <td>0</td>\n",
       "      <td>29.0</td>\n",
       "      <td>21000.0</td>\n",
       "      <td>0</td>\n",
       "      <td>0</td>\n",
       "    </tr>\n",
       "    <tr>\n",
       "      <th>3</th>\n",
       "      <td>0</td>\n",
       "      <td>21.0</td>\n",
       "      <td>41700.0</td>\n",
       "      <td>2</td>\n",
       "      <td>0</td>\n",
       "    </tr>\n",
       "    <tr>\n",
       "      <th>4</th>\n",
       "      <td>1</td>\n",
       "      <td>28.0</td>\n",
       "      <td>26100.0</td>\n",
       "      <td>0</td>\n",
       "      <td>0</td>\n",
       "    </tr>\n",
       "    <tr>\n",
       "      <th>5</th>\n",
       "      <td>1</td>\n",
       "      <td>43.0</td>\n",
       "      <td>41000.0</td>\n",
       "      <td>2</td>\n",
       "      <td>1</td>\n",
       "    </tr>\n",
       "    <tr>\n",
       "      <th>6</th>\n",
       "      <td>1</td>\n",
       "      <td>39.0</td>\n",
       "      <td>39700.0</td>\n",
       "      <td>2</td>\n",
       "      <td>0</td>\n",
       "    </tr>\n",
       "  </tbody>\n",
       "</table>\n",
       "</div>"
      ],
      "text/plain": [
       "   Пол  Возраст  Зарплата  Члены семьи  Страховые выплаты\n",
       "0    1     41.0   49600.0            1                  0\n",
       "1    0     46.0   38000.0            1                  1\n",
       "2    0     29.0   21000.0            0                  0\n",
       "3    0     21.0   41700.0            2                  0\n",
       "4    1     28.0   26100.0            0                  0\n",
       "5    1     43.0   41000.0            2                  1\n",
       "6    1     39.0   39700.0            2                  0"
      ]
     },
     "execution_count": 4,
     "metadata": {},
     "output_type": "execute_result"
    }
   ],
   "source": [
    "data = pd.read_csv(\"/datasets/insurance.csv\")\n",
    "data.head(7)"
   ]
  },
  {
   "cell_type": "code",
   "execution_count": 5,
   "metadata": {},
   "outputs": [
    {
     "name": "stdout",
     "output_type": "stream",
     "text": [
      "<class 'pandas.core.frame.DataFrame'>\n",
      "RangeIndex: 5000 entries, 0 to 4999\n",
      "Data columns (total 5 columns):\n",
      " #   Column             Non-Null Count  Dtype  \n",
      "---  ------             --------------  -----  \n",
      " 0   Пол                5000 non-null   int64  \n",
      " 1   Возраст            5000 non-null   float64\n",
      " 2   Зарплата           5000 non-null   float64\n",
      " 3   Члены семьи        5000 non-null   int64  \n",
      " 4   Страховые выплаты  5000 non-null   int64  \n",
      "dtypes: float64(2), int64(3)\n",
      "memory usage: 195.4 KB\n"
     ]
    }
   ],
   "source": [
    "data.info()"
   ]
  },
  {
   "cell_type": "code",
   "execution_count": 6,
   "metadata": {},
   "outputs": [
    {
     "data": {
      "text/html": [
       "<div>\n",
       "<style scoped>\n",
       "    .dataframe tbody tr th:only-of-type {\n",
       "        vertical-align: middle;\n",
       "    }\n",
       "\n",
       "    .dataframe tbody tr th {\n",
       "        vertical-align: top;\n",
       "    }\n",
       "\n",
       "    .dataframe thead th {\n",
       "        text-align: right;\n",
       "    }\n",
       "</style>\n",
       "<table border=\"1\" class=\"dataframe\">\n",
       "  <thead>\n",
       "    <tr style=\"text-align: right;\">\n",
       "      <th></th>\n",
       "      <th>Пол</th>\n",
       "      <th>Возраст</th>\n",
       "      <th>Зарплата</th>\n",
       "      <th>Члены семьи</th>\n",
       "      <th>Страховые выплаты</th>\n",
       "    </tr>\n",
       "  </thead>\n",
       "  <tbody>\n",
       "    <tr>\n",
       "      <th>count</th>\n",
       "      <td>5000.000000</td>\n",
       "      <td>5000.000000</td>\n",
       "      <td>5000.000000</td>\n",
       "      <td>5000.000000</td>\n",
       "      <td>5000.000000</td>\n",
       "    </tr>\n",
       "    <tr>\n",
       "      <th>mean</th>\n",
       "      <td>0.499000</td>\n",
       "      <td>30.952800</td>\n",
       "      <td>39916.360000</td>\n",
       "      <td>1.194200</td>\n",
       "      <td>0.148000</td>\n",
       "    </tr>\n",
       "    <tr>\n",
       "      <th>std</th>\n",
       "      <td>0.500049</td>\n",
       "      <td>8.440807</td>\n",
       "      <td>9900.083569</td>\n",
       "      <td>1.091387</td>\n",
       "      <td>0.463183</td>\n",
       "    </tr>\n",
       "    <tr>\n",
       "      <th>min</th>\n",
       "      <td>0.000000</td>\n",
       "      <td>18.000000</td>\n",
       "      <td>5300.000000</td>\n",
       "      <td>0.000000</td>\n",
       "      <td>0.000000</td>\n",
       "    </tr>\n",
       "    <tr>\n",
       "      <th>25%</th>\n",
       "      <td>0.000000</td>\n",
       "      <td>24.000000</td>\n",
       "      <td>33300.000000</td>\n",
       "      <td>0.000000</td>\n",
       "      <td>0.000000</td>\n",
       "    </tr>\n",
       "    <tr>\n",
       "      <th>50%</th>\n",
       "      <td>0.000000</td>\n",
       "      <td>30.000000</td>\n",
       "      <td>40200.000000</td>\n",
       "      <td>1.000000</td>\n",
       "      <td>0.000000</td>\n",
       "    </tr>\n",
       "    <tr>\n",
       "      <th>75%</th>\n",
       "      <td>1.000000</td>\n",
       "      <td>37.000000</td>\n",
       "      <td>46600.000000</td>\n",
       "      <td>2.000000</td>\n",
       "      <td>0.000000</td>\n",
       "    </tr>\n",
       "    <tr>\n",
       "      <th>max</th>\n",
       "      <td>1.000000</td>\n",
       "      <td>65.000000</td>\n",
       "      <td>79000.000000</td>\n",
       "      <td>6.000000</td>\n",
       "      <td>5.000000</td>\n",
       "    </tr>\n",
       "  </tbody>\n",
       "</table>\n",
       "</div>"
      ],
      "text/plain": [
       "               Пол      Возраст      Зарплата  Члены семьи  Страховые выплаты\n",
       "count  5000.000000  5000.000000   5000.000000  5000.000000        5000.000000\n",
       "mean      0.499000    30.952800  39916.360000     1.194200           0.148000\n",
       "std       0.500049     8.440807   9900.083569     1.091387           0.463183\n",
       "min       0.000000    18.000000   5300.000000     0.000000           0.000000\n",
       "25%       0.000000    24.000000  33300.000000     0.000000           0.000000\n",
       "50%       0.000000    30.000000  40200.000000     1.000000           0.000000\n",
       "75%       1.000000    37.000000  46600.000000     2.000000           0.000000\n",
       "max       1.000000    65.000000  79000.000000     6.000000           5.000000"
      ]
     },
     "execution_count": 6,
     "metadata": {},
     "output_type": "execute_result"
    }
   ],
   "source": [
    "data.describe()"
   ]
  },
  {
   "cell_type": "code",
   "execution_count": 7,
   "metadata": {},
   "outputs": [
    {
     "data": {
      "image/png": "[encoded data removed]",
      "text/plain": [
       "<Figure size 1440x360 with 5 Axes>"
      ]
     },
     "metadata": {},
     "output_type": "display_data"
    }
   ],
   "source": [
    "f, axes = plt.subplots(ncols=5, figsize=(20, 5))\n",
    "\n",
    "for col, ax in zip(data.columns, axes):\n",
    "    sns.histplot(data=data[col], ax=ax)\n",
    "    ax.set_ylabel(\"\")\n",
    "axes[0].set_ylabel(\"Количество клиентов\")\n",
    "_ = f.suptitle(\"Гистограммы признаков.\")"
   ]
  },
  {
   "cell_type": "markdown",
   "metadata": {},
   "source": [
    "**Вывод**"
   ]
  },
  {
   "cell_type": "markdown",
   "metadata": {},
   "source": [
    "- Данные собраны с клиентов обоих полов примерно в равных пропорциях\n",
    "- Более молодых клиентов больше, чем пожилых\n",
    "- Зарплаты клиентов распределены нормально\n",
    "- Особо экстремальных, ошибочных, некорректных значений в данных не обнаружено "
   ]
  },
  {
   "cell_type": "markdown",
   "metadata": {},
   "source": [
    "## Умножение матриц"
   ]
  },
  {
   "cell_type": "markdown",
   "metadata": {},
   "source": [
    "В этом задании вы можете записывать формулы в *Jupyter Notebook.*\n",
    "\n",
    "Чтобы записать формулу внутри текста, окружите её символами доллара \\\\$; если снаружи —  двойными символами \\\\$\\\\$. Эти формулы записываются на языке вёрстки *LaTeX.* \n",
    "\n",
    "Для примера мы записали формулы линейной регрессии. Можете их скопировать и отредактировать, чтобы решить задачу.\n",
    "\n",
    "Работать в *LaTeX* необязательно."
   ]
  },
  {
   "cell_type": "markdown",
   "metadata": {},
   "source": [
    "Обозначения:\n",
    "\n",
    "- $X$ — матрица признаков (нулевой столбец состоит из единиц)\n",
    "\n",
    "- $y$ — вектор целевого признака\n",
    "\n",
    "- $P$ — матрица, на которую умножаются признаки\n",
    "\n",
    "- $w$ — вектор весов линейной регрессии (нулевой элемент равен сдвигу)"
   ]
  },
  {
   "cell_type": "markdown",
   "metadata": {},
   "source": [
    "Предсказания:\n",
    "\n",
    "$$\n",
    "a = Xw\n",
    "$$\n",
    "\n",
    "Задача обучения:\n",
    "\n",
    "$$\n",
    "w = \\arg\\min_w MSE(Xw, y)\n",
    "$$\n",
    "\n",
    "Формула обучения:\n",
    "\n",
    "$$\n",
    "w = (X^T X)^{-1} X^T y\n",
    "$$"
   ]
  },
  {
   "cell_type": "markdown",
   "metadata": {},
   "source": [
    "__Вопрос:__ Признаки умножают на обратимую матрицу. Изменится ли качество линейной регрессии? (Её можно обучить заново.)\n",
    "<br/>a. Изменится. Приведите примеры матриц.\n",
    "<br/>b. Не изменится. Укажите, как связаны параметры линейной регрессии в исходной задаче и в преобразованной."
   ]
  },
  {
   "cell_type": "markdown",
   "metadata": {},
   "source": [
    "### Умножение слева"
   ]
  },
  {
   "cell_type": "markdown",
   "metadata": {},
   "source": [
    "**Ответ:** Домножать на обратимую матрицу слева НЕ следует. Качество модели изменится.\n",
    "\n",
    "**Обоснование:** Во-первых, тогда размер матрицы будет зависеть от объема выборки (количества объектов в данных) и поиск большой обратимой матрицы может быть ресурсоемкой задачей.\n",
    "Во-вторых, ввиду справедливых неравенств $(X^T X)^{-1} \\neq  X^{-1} \\cdot (X^T)^{-1}$ и $((PX)^T(PX))^{-1} \\neq (PX)^{-1} \\cdot ((PX)^T)^{-1}$, $X$ и $PX$ - прямоугольные матрицы и для них не существует обратных. \n",
    "\n",
    "Предсказания модели примут вид: $a_{P} = X_{P} w_{P} = PX \\cdot (X^{T}P^{T} \\cdot PX)^{-1} \\cdot (PX)^T y$"
   ]
  },
  {
   "cell_type": "markdown",
   "metadata": {},
   "source": [
    "### Умножение справа"
   ]
  },
  {
   "cell_type": "markdown",
   "metadata": {},
   "source": [
    "**Ответ:** В сделанных предпосылках матрица $P$ - квадратная. Ее размер зависит от количества признаков и НЕ зависит от количества объектов выборки. Это полезное свойство, т.к. сложность вычислений для генерации матрицы $P$ не увеличивается с ростом объема выборки. Если матрица $P$ - невырожденная, то для нее существует обратная матрица $P^{-1}$, такая что: $PP^{-1}=P^{-1}P=E$. И преобразование признаков с помощью невырожденного линейного оператора $P$ изменит качество линейной регрессии с точностью до погрешности вычислений. "
   ]
  },
  {
   "cell_type": "markdown",
   "metadata": {},
   "source": [
    "**Обоснование:**   \n",
    "\n",
    "Напомним формулы:\n",
    "- Коэффициенты линейной регрессии **до** преобразования: $w = (X^T X)^{-1} X^T y$ \n",
    "- Предсказания линейной регрессии **до** преобразования: $a=Xw = X (X^T X)^{-1} X^T y$\n",
    "- Коэффициенты линейной регрессии **после** преобразования: $w_{P} = (X_{P}^TX_{P})^{-1}X_{P}^T y =((XP)^T XP)^{-1} (XP)^T y$\n",
    "- Предсказания линейной регрессии **после** преобразования: $a_{P}=X_{P}w_{P} = XP ((XP)^T XP)^{-1} (XP)^T y$"
   ]
  },
  {
   "cell_type": "markdown",
   "metadata": {},
   "source": [
    "Докажем, что для невырожденной матрицы $P$, $a=a_{P}$:\n",
    "\n",
    "\n",
    "$a_{P} = X_{P}w_{P} = XP ((XP)^T XP)^{-1} (XP)^T y = $\n",
    "\n",
    "[Воспользовались свойствами матриц: $(A \\cdot B)^T = B^T \\cdot A^T$]<br/>\n",
    "$XP (P^T(X^T X)P)^{-1} (XP)^T y = $<br/>\n",
    "[Воспользовались свойствами матриц: $(A \\cdot B)^{-1} = B^{-1} \\cdot A^{-1}$]<br/>\n",
    "$XP P^{-1}(P^T(X^TX))^{-1}P^TX^T y = $\n",
    "\n",
    "$XP P^{-1}(X^TX)^{-1}(P^T)^{-1}P^TX^T y = $\n",
    "\n",
    "[Воспользовались свойствами матриц: $(A^T)^{-1} = (A^{-1})^T$ и $(A \\cdot B)^T = B^T \\cdot A^T$]<br/>\n",
    "$XP P^{-1}(X^TX)^{-1}(PP^{-1})^TX^T y = $\n",
    "\n",
    "$XE(X^TX)^{-1}E^TX^T y = Xw =a $\n",
    "\n",
    "Доказали, что $a=a_{P}$, где $P$ - невырожденная. Таким образом преобразование с помощью линейного невыжроденного оператора не влияет на качество регрессии."
   ]
  },
  {
   "cell_type": "markdown",
   "metadata": {},
   "source": [
    "## Алгоритм преобразования"
   ]
  },
  {
   "cell_type": "markdown",
   "metadata": {},
   "source": [
    "1. Сгенерировать случайную квадратную матрицу $P$ размера равного количеству независимых признаков.\n",
    "2. Проверить ее обратимость путем прямой проверки. Запустить np.linalg.inv и найти обратную матрицу $P^{-1}$. В случае ошибки перейти на шаг 1.\n",
    "3. Преобразовать признаки умножением на полученную матрицу справа: $X_{P} = XP$."
   ]
  },
  {
   "cell_type": "markdown",
   "metadata": {},
   "source": [
    "## Проверка алгоритма"
   ]
  },
  {
   "cell_type": "markdown",
   "metadata": {},
   "source": [
    "Напишем вспомогательную функцию для поиска обратимой матрицы."
   ]
  },
  {
   "cell_type": "code",
   "execution_count": 8,
   "metadata": {},
   "outputs": [],
   "source": [
    "rg = np.random.default_rng()\n",
    "\n",
    "def get_operator(n_features):\n",
    "    while True:\n",
    "        P = rg.uniform(size=(n_features, n_features))\n",
    "        try:\n",
    "            P_inverse = np.linalg.inv(P)\n",
    "        except:\n",
    "            continue\n",
    "        else:\n",
    "            return P, P_inverse"
   ]
  },
  {
   "cell_type": "markdown",
   "metadata": {},
   "source": [
    "Выделим зависимый и независимые признаки"
   ]
  },
  {
   "cell_type": "code",
   "execution_count": 9,
   "metadata": {},
   "outputs": [],
   "source": [
    "X = data.iloc[:, :-1]\n",
    "y = data.iloc[:, -1]"
   ]
  },
  {
   "cell_type": "code",
   "execution_count": 10,
   "metadata": {},
   "outputs": [],
   "source": [
    "P, P_inverse = get_operator(X.shape[1])"
   ]
  },
  {
   "cell_type": "markdown",
   "metadata": {},
   "source": [
    "Обучим линейную регрессию на оригинальных и приобразованных данных для сравнения точности предсказаний."
   ]
  },
  {
   "cell_type": "code",
   "execution_count": 11,
   "metadata": {},
   "outputs": [],
   "source": [
    "model = LinearRegression()"
   ]
  },
  {
   "cell_type": "code",
   "execution_count": 12,
   "metadata": {},
   "outputs": [
    {
     "name": "stdout",
     "output_type": "stream",
     "text": [
      "Точность предсказаний линейной регрессии до преобразования: 0.42494550286668\n"
     ]
    }
   ],
   "source": [
    "model.fit(X, y)\n",
    "origin_score = model.score(X, y)\n",
    "print(\"Точность предсказаний линейной регрессии до преобразования: {}\".format(origin_score))"
   ]
  },
  {
   "cell_type": "code",
   "execution_count": 13,
   "metadata": {},
   "outputs": [
    {
     "name": "stdout",
     "output_type": "stream",
     "text": [
      "Точность предсказаний линейной регрессии после преобразования: 0.4249455028666874\n"
     ]
    }
   ],
   "source": [
    "X_encoded = X @ P\n",
    "model.fit(X_encoded, y)\n",
    "encoded_score = model.score(X_encoded, y)\n",
    "print(\"Точность предсказаний линейной регрессии после преобразования: {}\".format(encoded_score))"
   ]
  },
  {
   "cell_type": "code",
   "execution_count": 14,
   "metadata": {},
   "outputs": [
    {
     "name": "stdout",
     "output_type": "stream",
     "text": [
      "Отклонение в точности предсказаний модели до и после преобразования: 7.438494e-15\n"
     ]
    }
   ],
   "source": [
    "print(\"Отклонение в точности предсказаний модели до и после преобразования: {:e}\".format(\n",
    "    abs(origin_score - encoded_score))\n",
    ")"
   ]
  },
  {
   "cell_type": "markdown",
   "metadata": {},
   "source": [
    "### Вывод"
   ]
  },
  {
   "cell_type": "markdown",
   "metadata": {},
   "source": [
    "- Предложен алгоритм преобразования данных для сокрытия истинных значений признаков без потери качества линейной регрессии.\n",
    "- Для имещихся данных, качество линейной регрессии не ухудшилось. Метрики качества до и после преобразования совпадают до 15 разрядов после запятой. "
   ]
  }
 ],
 "metadata": {
  "ExecuteTimeLog": [
   {
    "duration": 501,
    "start_time": "2021-08-10T18:17:09.593Z"
   },
   {
    "duration": 27056,
    "start_time": "2021-08-10T18:18:55.477Z"
   },
   {
    "duration": 4,
    "start_time": "2021-08-10T18:19:22.537Z"
   },
   {
    "duration": 39,
    "start_time": "2021-08-10T18:19:39.379Z"
   },
   {
    "duration": 9,
    "start_time": "2021-08-10T18:19:50.716Z"
   },
   {
    "duration": 5,
    "start_time": "2021-08-12T18:41:01.582Z"
   },
   {
    "duration": 990,
    "start_time": "2021-08-12T18:50:18.553Z"
   },
   {
    "duration": 15012,
    "start_time": "2021-08-12T18:50:26.365Z"
   },
   {
    "duration": 4,
    "start_time": "2021-08-12T18:52:25.344Z"
   },
   {
    "duration": 4,
    "start_time": "2021-08-12T18:53:48.815Z"
   },
   {
    "duration": 5,
    "start_time": "2021-08-12T19:07:27.498Z"
   },
   {
    "duration": 108,
    "start_time": "2021-08-12T19:14:56.784Z"
   },
   {
    "duration": 462,
    "start_time": "2021-08-12T19:15:03.192Z"
   },
   {
    "duration": 349,
    "start_time": "2021-08-12T19:15:17.805Z"
   },
   {
    "duration": 456,
    "start_time": "2021-08-12T19:16:04.308Z"
   },
   {
    "duration": 459,
    "start_time": "2021-08-12T19:16:21.815Z"
   },
   {
    "duration": 679,
    "start_time": "2021-08-12T19:16:34.836Z"
   },
   {
    "duration": 11,
    "start_time": "2021-08-12T19:17:45.010Z"
   },
   {
    "duration": 480,
    "start_time": "2021-08-12T19:17:52.319Z"
   },
   {
    "duration": 16,
    "start_time": "2021-08-12T19:18:03.959Z"
   },
   {
    "duration": 15,
    "start_time": "2021-08-12T19:18:07.574Z"
   },
   {
    "duration": 243,
    "start_time": "2021-08-12T19:19:05.375Z"
   },
   {
    "duration": 4522,
    "start_time": "2021-08-12T19:19:15.359Z"
   },
   {
    "duration": 1837,
    "start_time": "2021-08-12T19:19:19.885Z"
   },
   {
    "duration": 44,
    "start_time": "2021-08-12T19:19:21.726Z"
   },
   {
    "duration": 27,
    "start_time": "2021-08-12T19:19:21.772Z"
   },
   {
    "duration": 5,
    "start_time": "2021-08-12T19:19:21.802Z"
   },
   {
    "duration": 12,
    "start_time": "2021-08-12T19:19:21.815Z"
   },
   {
    "duration": 470,
    "start_time": "2021-08-12T19:19:21.830Z"
   },
   {
    "duration": 16,
    "start_time": "2021-08-12T19:21:05.053Z"
   },
   {
    "duration": 693,
    "start_time": "2021-08-12T19:21:06.013Z"
   },
   {
    "duration": 11,
    "start_time": "2021-08-12T19:22:06.131Z"
   },
   {
    "duration": 745,
    "start_time": "2021-08-12T19:22:06.744Z"
   },
   {
    "duration": 18,
    "start_time": "2021-08-12T19:23:13.806Z"
   },
   {
    "duration": 729,
    "start_time": "2021-08-12T19:23:14.643Z"
   },
   {
    "duration": 12,
    "start_time": "2021-08-12T19:23:45.132Z"
   },
   {
    "duration": 768,
    "start_time": "2021-08-12T19:23:45.940Z"
   },
   {
    "duration": 620,
    "start_time": "2021-08-12T19:24:26.445Z"
   },
   {
    "duration": 20,
    "start_time": "2021-08-12T19:24:56.701Z"
   },
   {
    "duration": 8,
    "start_time": "2021-08-12T19:25:01.956Z"
   },
   {
    "duration": 14,
    "start_time": "2021-08-12T19:25:39.388Z"
   },
   {
    "duration": 7,
    "start_time": "2021-08-12T19:25:40.161Z"
   },
   {
    "duration": 538,
    "start_time": "2021-08-12T19:25:45.090Z"
   },
   {
    "duration": 11,
    "start_time": "2021-08-12T19:26:00.355Z"
   },
   {
    "duration": 32,
    "start_time": "2021-08-12T19:26:00.369Z"
   },
   {
    "duration": 13,
    "start_time": "2021-08-12T19:26:26.354Z"
   },
   {
    "duration": 7,
    "start_time": "2021-08-12T19:26:27.024Z"
   },
   {
    "duration": 7688,
    "start_time": "2021-08-12T19:26:32.704Z"
   },
   {
    "duration": 7,
    "start_time": "2021-08-12T19:27:10.246Z"
   },
   {
    "duration": 22,
    "start_time": "2021-08-12T19:27:31.285Z"
   },
   {
    "duration": 668,
    "start_time": "2021-08-12T19:27:31.845Z"
   },
   {
    "duration": 16,
    "start_time": "2021-08-12T19:27:40.928Z"
   },
   {
    "duration": 16,
    "start_time": "2021-08-12T19:27:42.503Z"
   },
   {
    "duration": 115,
    "start_time": "2021-08-12T19:27:42.924Z"
   },
   {
    "duration": 14,
    "start_time": "2021-08-12T19:28:09.906Z"
   },
   {
    "duration": 116,
    "start_time": "2021-08-12T19:28:10.302Z"
   },
   {
    "duration": 11,
    "start_time": "2021-08-12T19:28:31.465Z"
   },
   {
    "duration": 580,
    "start_time": "2021-08-12T19:28:31.927Z"
   },
   {
    "duration": 18,
    "start_time": "2021-08-12T19:28:53.778Z"
   },
   {
    "duration": 83,
    "start_time": "2021-08-12T19:28:54.145Z"
   },
   {
    "duration": 11,
    "start_time": "2021-08-12T19:29:02.961Z"
   },
   {
    "duration": 90,
    "start_time": "2021-08-12T19:29:03.624Z"
   },
   {
    "duration": 5,
    "start_time": "2021-08-12T19:31:20.887Z"
   },
   {
    "duration": 17,
    "start_time": "2021-08-12T19:31:58.753Z"
   },
   {
    "duration": 2300,
    "start_time": "2021-08-12T19:32:00.617Z"
   },
   {
    "duration": 12,
    "start_time": "2021-08-12T19:33:15.192Z"
   },
   {
    "duration": 76,
    "start_time": "2021-08-12T19:33:15.726Z"
   },
   {
    "duration": 4774,
    "start_time": "2021-08-12T19:33:26.716Z"
   },
   {
    "duration": 1667,
    "start_time": "2021-08-12T19:33:31.493Z"
   },
   {
    "duration": 33,
    "start_time": "2021-08-12T19:33:33.163Z"
   },
   {
    "duration": 13,
    "start_time": "2021-08-12T19:33:33.199Z"
   },
   {
    "duration": 5,
    "start_time": "2021-08-12T19:33:33.214Z"
   },
   {
    "duration": 11,
    "start_time": "2021-08-12T19:33:33.221Z"
   },
   {
    "duration": 6167,
    "start_time": "2021-08-12T19:33:33.234Z"
   },
   {
    "duration": 11,
    "start_time": "2021-08-12T19:36:22.280Z"
   },
   {
    "duration": 654,
    "start_time": "2021-08-12T19:36:22.742Z"
   },
   {
    "duration": 4,
    "start_time": "2021-08-12T19:38:44.041Z"
   },
   {
    "duration": 12,
    "start_time": "2021-08-12T19:39:20.954Z"
   },
   {
    "duration": 639,
    "start_time": "2021-08-12T19:39:21.360Z"
   },
   {
    "duration": 119,
    "start_time": "2021-08-12T19:39:39.929Z"
   },
   {
    "duration": 606,
    "start_time": "2021-08-12T19:39:40.303Z"
   },
   {
    "duration": 40,
    "start_time": "2021-08-12T19:39:45.593Z"
   },
   {
    "duration": 108,
    "start_time": "2021-08-12T19:39:46.007Z"
   },
   {
    "duration": 12,
    "start_time": "2021-08-12T19:40:44.574Z"
   },
   {
    "duration": 149,
    "start_time": "2021-08-12T19:40:44.948Z"
   },
   {
    "duration": 12,
    "start_time": "2021-08-12T19:44:38.744Z"
   },
   {
    "duration": 131,
    "start_time": "2021-08-12T19:44:39.081Z"
   },
   {
    "duration": 19,
    "start_time": "2021-08-12T19:45:27.721Z"
   },
   {
    "duration": 5,
    "start_time": "2021-08-12T19:45:42.624Z"
   },
   {
    "duration": 4,
    "start_time": "2021-08-12T19:45:45.597Z"
   },
   {
    "duration": 5,
    "start_time": "2021-08-12T19:45:46.171Z"
   },
   {
    "duration": 4,
    "start_time": "2021-08-12T19:45:46.395Z"
   },
   {
    "duration": 5,
    "start_time": "2021-08-12T19:45:46.598Z"
   },
   {
    "duration": 5,
    "start_time": "2021-08-12T19:45:49.844Z"
   },
   {
    "duration": 19,
    "start_time": "2021-08-12T19:45:52.247Z"
   },
   {
    "duration": 18,
    "start_time": "2021-08-12T19:46:01.069Z"
   },
   {
    "duration": 19,
    "start_time": "2021-08-12T19:46:07.091Z"
   },
   {
    "duration": 12,
    "start_time": "2021-08-12T19:46:27.400Z"
   },
   {
    "duration": 4,
    "start_time": "2021-08-12T19:46:28.027Z"
   },
   {
    "duration": 999,
    "start_time": "2021-08-12T19:46:32.098Z"
   },
   {
    "duration": 12,
    "start_time": "2021-08-12T19:47:08.578Z"
   },
   {
    "duration": 328,
    "start_time": "2021-08-12T19:47:09.062Z"
   },
   {
    "duration": 11,
    "start_time": "2021-08-12T19:47:19.496Z"
   },
   {
    "duration": 327,
    "start_time": "2021-08-12T19:47:19.956Z"
   },
   {
    "duration": 10,
    "start_time": "2021-08-12T19:47:34.527Z"
   },
   {
    "duration": 453,
    "start_time": "2021-08-12T19:47:35.076Z"
   },
   {
    "duration": 13,
    "start_time": "2021-08-12T19:47:51.477Z"
   },
   {
    "duration": 499,
    "start_time": "2021-08-12T19:47:52.195Z"
   },
   {
    "duration": 12,
    "start_time": "2021-08-12T19:48:31.812Z"
   },
   {
    "duration": 480,
    "start_time": "2021-08-12T19:48:32.202Z"
   },
   {
    "duration": 5,
    "start_time": "2021-08-12T19:48:45.619Z"
   },
   {
    "duration": 16,
    "start_time": "2021-08-12T19:49:12.275Z"
   },
   {
    "duration": 64,
    "start_time": "2021-08-12T19:49:12.799Z"
   },
   {
    "duration": 119,
    "start_time": "2021-08-12T19:52:06.721Z"
   },
   {
    "duration": 48,
    "start_time": "2021-08-12T19:52:07.199Z"
   },
   {
    "duration": 105,
    "start_time": "2021-08-12T19:52:17.719Z"
   },
   {
    "duration": 47,
    "start_time": "2021-08-12T19:52:18.247Z"
   },
   {
    "duration": 61,
    "start_time": "2021-08-12T19:52:19.391Z"
   },
   {
    "duration": 60,
    "start_time": "2021-08-12T19:52:19.606Z"
   },
   {
    "duration": 10,
    "start_time": "2021-08-12T19:52:30.963Z"
   },
   {
    "duration": 869,
    "start_time": "2021-08-12T19:52:31.398Z"
   },
   {
    "duration": 12,
    "start_time": "2021-08-12T19:52:42.520Z"
   },
   {
    "duration": 347,
    "start_time": "2021-08-12T19:52:43.046Z"
   },
   {
    "duration": 4,
    "start_time": "2021-08-12T19:52:54.338Z"
   },
   {
    "duration": 3986,
    "start_time": "2021-08-12T19:52:59.423Z"
   },
   {
    "duration": 1649,
    "start_time": "2021-08-12T19:53:03.412Z"
   },
   {
    "duration": 34,
    "start_time": "2021-08-12T19:53:05.064Z"
   },
   {
    "duration": 14,
    "start_time": "2021-08-12T19:53:05.101Z"
   },
   {
    "duration": 11,
    "start_time": "2021-08-12T19:53:05.118Z"
   },
   {
    "duration": 13,
    "start_time": "2021-08-12T19:53:05.131Z"
   },
   {
    "duration": 446,
    "start_time": "2021-08-12T19:53:05.147Z"
   },
   {
    "duration": 117,
    "start_time": "2021-08-12T19:59:29.226Z"
   },
   {
    "duration": 465,
    "start_time": "2021-08-12T19:59:29.618Z"
   },
   {
    "duration": 11,
    "start_time": "2021-08-12T19:59:36.619Z"
   },
   {
    "duration": 1021,
    "start_time": "2021-08-12T19:59:37.007Z"
   },
   {
    "duration": 12,
    "start_time": "2021-08-12T19:59:50.115Z"
   },
   {
    "duration": 691,
    "start_time": "2021-08-12T19:59:53.994Z"
   },
   {
    "duration": 7,
    "start_time": "2021-08-12T20:01:50.166Z"
   },
   {
    "duration": 283,
    "start_time": "2021-08-12T20:02:48.692Z"
   },
   {
    "duration": 10,
    "start_time": "2021-08-12T20:02:55.278Z"
   },
   {
    "duration": 5,
    "start_time": "2021-08-12T20:05:44.677Z"
   },
   {
    "duration": 634,
    "start_time": "2021-08-12T20:06:08.669Z"
   },
   {
    "duration": 13,
    "start_time": "2021-08-12T20:06:42.879Z"
   },
   {
    "duration": 505,
    "start_time": "2021-08-12T20:06:43.181Z"
   },
   {
    "duration": 397,
    "start_time": "2021-08-12T20:06:44.497Z"
   },
   {
    "duration": 397,
    "start_time": "2021-08-12T20:06:46.896Z"
   },
   {
    "duration": 21883,
    "start_time": "2021-08-13T08:21:02.722Z"
   },
   {
    "duration": 1960,
    "start_time": "2021-08-13T08:21:24.609Z"
   },
   {
    "duration": 39,
    "start_time": "2021-08-13T08:21:26.572Z"
   },
   {
    "duration": 14,
    "start_time": "2021-08-13T08:21:26.613Z"
   },
   {
    "duration": 536,
    "start_time": "2021-08-13T08:26:07.981Z"
   },
   {
    "duration": 4,
    "start_time": "2021-08-13T08:26:21.114Z"
   },
   {
    "duration": 1267,
    "start_time": "2021-08-13T08:27:21.138Z"
   },
   {
    "duration": 9891,
    "start_time": "2021-08-13T08:27:33.715Z"
   },
   {
    "duration": 7,
    "start_time": "2021-08-13T08:28:33.394Z"
   },
   {
    "duration": 6,
    "start_time": "2021-08-13T08:28:34.427Z"
   },
   {
    "duration": 6,
    "start_time": "2021-08-13T08:29:55.948Z"
   },
   {
    "duration": 398,
    "start_time": "2021-08-13T08:33:39.795Z"
   },
   {
    "duration": 5,
    "start_time": "2021-08-13T08:33:50.191Z"
   },
   {
    "duration": 5,
    "start_time": "2021-08-13T08:35:16.198Z"
   },
   {
    "duration": 521,
    "start_time": "2021-08-13T08:35:26.635Z"
   },
   {
    "duration": 5,
    "start_time": "2021-08-13T08:35:31.134Z"
   },
   {
    "duration": 6,
    "start_time": "2021-08-13T08:35:50.398Z"
   },
   {
    "duration": 5,
    "start_time": "2021-08-13T08:36:02.511Z"
   },
   {
    "duration": 6,
    "start_time": "2021-08-13T08:36:53.831Z"
   },
   {
    "duration": 5,
    "start_time": "2021-08-13T08:37:11.581Z"
   },
   {
    "duration": 6,
    "start_time": "2021-08-13T08:37:19.608Z"
   },
   {
    "duration": 6,
    "start_time": "2021-08-13T08:37:48.214Z"
   },
   {
    "duration": 370,
    "start_time": "2021-08-13T08:39:17.052Z"
   },
   {
    "duration": 11,
    "start_time": "2021-08-13T08:39:21.511Z"
   },
   {
    "duration": 22,
    "start_time": "2021-08-13T08:39:23.257Z"
   },
   {
    "duration": 4494,
    "start_time": "2021-08-13T08:39:51.830Z"
   },
   {
    "duration": 1811,
    "start_time": "2021-08-13T08:39:56.328Z"
   },
   {
    "duration": 37,
    "start_time": "2021-08-13T08:39:58.142Z"
   },
   {
    "duration": 18,
    "start_time": "2021-08-13T08:39:58.181Z"
   },
   {
    "duration": 522,
    "start_time": "2021-08-13T08:39:58.202Z"
   },
   {
    "duration": 24309,
    "start_time": "2021-08-13T08:39:34.418Z"
   },
   {
    "duration": 24302,
    "start_time": "2021-08-13T08:39:34.427Z"
   },
   {
    "duration": 24301,
    "start_time": "2021-08-13T08:39:34.429Z"
   },
   {
    "duration": 24300,
    "start_time": "2021-08-13T08:39:34.432Z"
   },
   {
    "duration": 24299,
    "start_time": "2021-08-13T08:39:34.434Z"
   },
   {
    "duration": 24300,
    "start_time": "2021-08-13T08:39:34.435Z"
   },
   {
    "duration": 24299,
    "start_time": "2021-08-13T08:39:34.437Z"
   },
   {
    "duration": 4747,
    "start_time": "2021-08-13T08:40:11.524Z"
   },
   {
    "duration": 1856,
    "start_time": "2021-08-13T08:40:16.279Z"
   },
   {
    "duration": 38,
    "start_time": "2021-08-13T08:40:18.138Z"
   },
   {
    "duration": 14,
    "start_time": "2021-08-13T08:40:18.178Z"
   },
   {
    "duration": 7,
    "start_time": "2021-08-13T08:40:18.195Z"
   },
   {
    "duration": 1187,
    "start_time": "2021-08-13T08:40:18.204Z"
   },
   {
    "duration": 10012,
    "start_time": "2021-08-13T08:40:19.394Z"
   },
   {
    "duration": 11,
    "start_time": "2021-08-13T08:40:29.409Z"
   },
   {
    "duration": 10,
    "start_time": "2021-08-13T08:40:29.422Z"
   },
   {
    "duration": 55,
    "start_time": "2021-08-13T08:40:29.434Z"
   },
   {
    "duration": 397,
    "start_time": "2021-08-13T08:40:29.493Z"
   },
   {
    "duration": 13,
    "start_time": "2021-08-13T08:41:01.947Z"
   },
   {
    "duration": 75,
    "start_time": "2021-08-13T08:41:04.315Z"
   },
   {
    "duration": 320,
    "start_time": "2021-08-13T08:41:06.375Z"
   },
   {
    "duration": 7,
    "start_time": "2021-08-13T08:41:38.582Z"
   },
   {
    "duration": 4498,
    "start_time": "2021-08-13T08:41:58.415Z"
   },
   {
    "duration": 2212,
    "start_time": "2021-08-13T08:42:02.917Z"
   },
   {
    "duration": 39,
    "start_time": "2021-08-13T08:42:05.132Z"
   },
   {
    "duration": 24,
    "start_time": "2021-08-13T08:42:05.174Z"
   },
   {
    "duration": 8,
    "start_time": "2021-08-13T08:42:05.202Z"
   },
   {
    "duration": 1281,
    "start_time": "2021-08-13T08:42:05.213Z"
   },
   {
    "duration": 9789,
    "start_time": "2021-08-13T08:42:06.496Z"
   },
   {
    "duration": 9906,
    "start_time": "2021-08-13T08:42:16.289Z"
   },
   {
    "duration": 11,
    "start_time": "2021-08-13T08:42:26.199Z"
   },
   {
    "duration": 9,
    "start_time": "2021-08-13T08:42:26.213Z"
   },
   {
    "duration": 63,
    "start_time": "2021-08-13T08:42:26.224Z"
   },
   {
    "duration": 403,
    "start_time": "2021-08-13T08:42:26.291Z"
   },
   {
    "duration": 6,
    "start_time": "2021-08-13T08:49:44.132Z"
   },
   {
    "duration": 4604,
    "start_time": "2021-08-13T08:53:21.060Z"
   },
   {
    "duration": 1918,
    "start_time": "2021-08-13T08:53:25.667Z"
   },
   {
    "duration": 38,
    "start_time": "2021-08-13T08:53:27.588Z"
   },
   {
    "duration": 14,
    "start_time": "2021-08-13T08:53:27.629Z"
   },
   {
    "duration": 14,
    "start_time": "2021-08-13T08:53:27.645Z"
   },
   {
    "duration": 1300,
    "start_time": "2021-08-13T08:53:27.662Z"
   },
   {
    "duration": 9335,
    "start_time": "2021-08-13T08:53:28.965Z"
   },
   {
    "duration": 9646,
    "start_time": "2021-08-13T08:53:38.303Z"
   },
   {
    "duration": 13,
    "start_time": "2021-08-13T08:53:47.953Z"
   },
   {
    "duration": 24,
    "start_time": "2021-08-13T08:53:47.968Z"
   },
   {
    "duration": 1948,
    "start_time": "2021-08-13T08:53:47.995Z"
   },
   {
    "duration": 23965,
    "start_time": "2021-08-13T08:53:25.981Z"
   },
   {
    "duration": 23964,
    "start_time": "2021-08-13T08:53:25.983Z"
   },
   {
    "duration": 12,
    "start_time": "2021-08-13T08:54:05.912Z"
   },
   {
    "duration": 3,
    "start_time": "2021-08-13T08:54:06.300Z"
   },
   {
    "duration": 48,
    "start_time": "2021-08-13T08:54:07.142Z"
   },
   {
    "duration": 267,
    "start_time": "2021-08-13T08:54:08.422Z"
   },
   {
    "duration": 6,
    "start_time": "2021-08-13T08:54:09.924Z"
   },
   {
    "duration": 4604,
    "start_time": "2021-08-13T08:56:34.417Z"
   },
   {
    "duration": 2006,
    "start_time": "2021-08-13T08:56:39.024Z"
   },
   {
    "duration": 38,
    "start_time": "2021-08-13T08:56:41.033Z"
   },
   {
    "duration": 18,
    "start_time": "2021-08-13T08:56:41.075Z"
   },
   {
    "duration": 3,
    "start_time": "2021-08-13T08:56:41.096Z"
   },
   {
    "duration": 1274,
    "start_time": "2021-08-13T08:56:41.101Z"
   },
   {
    "duration": 10090,
    "start_time": "2021-08-13T08:56:42.377Z"
   },
   {
    "duration": 16,
    "start_time": "2021-08-13T08:56:52.471Z"
   },
   {
    "duration": 8,
    "start_time": "2021-08-13T08:56:52.491Z"
   },
   {
    "duration": 89,
    "start_time": "2021-08-13T08:56:52.501Z"
   },
   {
    "duration": 493,
    "start_time": "2021-08-13T08:56:52.594Z"
   },
   {
    "duration": 10171,
    "start_time": "2021-08-13T09:12:32.236Z"
   },
   {
    "duration": 4476,
    "start_time": "2021-08-13T09:16:02.673Z"
   },
   {
    "duration": 1880,
    "start_time": "2021-08-13T09:16:07.152Z"
   },
   {
    "duration": 38,
    "start_time": "2021-08-13T09:16:09.035Z"
   },
   {
    "duration": 20,
    "start_time": "2021-08-13T09:16:09.076Z"
   },
   {
    "duration": 7,
    "start_time": "2021-08-13T09:16:09.098Z"
   },
   {
    "duration": 1201,
    "start_time": "2021-08-13T09:16:09.108Z"
   },
   {
    "duration": 9692,
    "start_time": "2021-08-13T09:16:10.312Z"
   },
   {
    "duration": 9,
    "start_time": "2021-08-13T09:16:20.007Z"
   },
   {
    "duration": 11,
    "start_time": "2021-08-13T09:16:20.019Z"
   },
   {
    "duration": 62,
    "start_time": "2021-08-13T09:16:20.033Z"
   },
   {
    "duration": 503,
    "start_time": "2021-08-13T09:16:20.187Z"
   },
   {
    "duration": 400,
    "start_time": "2021-08-13T09:16:20.693Z"
   },
   {
    "duration": 522,
    "start_time": "2021-08-13T09:16:21.185Z"
   },
   {
    "duration": 5,
    "start_time": "2021-08-13T09:18:06.859Z"
   },
   {
    "duration": 447,
    "start_time": "2021-08-13T09:18:07.802Z"
   },
   {
    "duration": 9,
    "start_time": "2021-08-13T09:18:18.222Z"
   },
   {
    "duration": 8,
    "start_time": "2021-08-13T09:19:25.439Z"
   },
   {
    "duration": 12,
    "start_time": "2021-08-13T09:20:06.233Z"
   },
   {
    "duration": 4887,
    "start_time": "2021-08-13T09:26:59.940Z"
   },
   {
    "duration": 1986,
    "start_time": "2021-08-13T09:27:04.830Z"
   },
   {
    "duration": 38,
    "start_time": "2021-08-13T09:27:06.819Z"
   },
   {
    "duration": 13,
    "start_time": "2021-08-13T09:27:06.860Z"
   },
   {
    "duration": 10,
    "start_time": "2021-08-13T09:27:06.876Z"
   },
   {
    "duration": 1206,
    "start_time": "2021-08-13T09:27:06.889Z"
   },
   {
    "duration": 9364,
    "start_time": "2021-08-13T09:27:08.100Z"
   },
   {
    "duration": 10,
    "start_time": "2021-08-13T09:27:17.468Z"
   },
   {
    "duration": 9,
    "start_time": "2021-08-13T09:27:17.485Z"
   },
   {
    "duration": 90,
    "start_time": "2021-08-13T09:27:17.499Z"
   },
   {
    "duration": 308,
    "start_time": "2021-08-13T09:27:17.592Z"
   },
   {
    "duration": 289,
    "start_time": "2021-08-13T09:27:17.904Z"
   },
   {
    "duration": 93,
    "start_time": "2021-08-13T09:27:18.196Z"
   },
   {
    "duration": 109,
    "start_time": "2021-08-13T09:27:47.881Z"
   },
   {
    "duration": 4916,
    "start_time": "2021-08-13T09:28:24.711Z"
   },
   {
    "duration": 2021,
    "start_time": "2021-08-13T09:28:29.630Z"
   },
   {
    "duration": 44,
    "start_time": "2021-08-13T09:28:31.654Z"
   },
   {
    "duration": 14,
    "start_time": "2021-08-13T09:28:31.702Z"
   },
   {
    "duration": 16,
    "start_time": "2021-08-13T09:28:31.719Z"
   },
   {
    "duration": 1246,
    "start_time": "2021-08-13T09:28:31.737Z"
   },
   {
    "duration": 9713,
    "start_time": "2021-08-13T09:28:32.986Z"
   },
   {
    "duration": 10,
    "start_time": "2021-08-13T09:28:42.702Z"
   },
   {
    "duration": 6,
    "start_time": "2021-08-13T09:28:42.716Z"
   },
   {
    "duration": 74,
    "start_time": "2021-08-13T09:28:42.724Z"
   },
   {
    "duration": 403,
    "start_time": "2021-08-13T09:28:42.801Z"
   },
   {
    "duration": 304,
    "start_time": "2021-08-13T09:28:43.288Z"
   },
   {
    "duration": 100,
    "start_time": "2021-08-13T09:28:43.596Z"
   },
   {
    "duration": 90,
    "start_time": "2021-08-13T09:28:43.700Z"
   },
   {
    "duration": 4874,
    "start_time": "2021-08-13T09:33:14.204Z"
   },
   {
    "duration": 2097,
    "start_time": "2021-08-13T09:33:19.081Z"
   },
   {
    "duration": 41,
    "start_time": "2021-08-13T09:33:21.181Z"
   },
   {
    "duration": 14,
    "start_time": "2021-08-13T09:33:21.225Z"
   },
   {
    "duration": 7,
    "start_time": "2021-08-13T09:33:21.243Z"
   },
   {
    "duration": 1223,
    "start_time": "2021-08-13T09:33:21.253Z"
   },
   {
    "duration": 10237,
    "start_time": "2021-08-13T09:33:22.479Z"
   },
   {
    "duration": 9,
    "start_time": "2021-08-13T09:33:32.720Z"
   },
   {
    "duration": 10,
    "start_time": "2021-08-13T09:33:32.732Z"
   },
   {
    "duration": 53,
    "start_time": "2021-08-13T09:33:32.744Z"
   },
   {
    "duration": 487,
    "start_time": "2021-08-13T09:33:32.802Z"
   },
   {
    "duration": 214,
    "start_time": "2021-08-13T09:33:33.295Z"
   },
   {
    "duration": 110,
    "start_time": "2021-08-13T09:33:33.590Z"
   },
   {
    "duration": 102,
    "start_time": "2021-08-13T09:33:33.704Z"
   },
   {
    "duration": 5099,
    "start_time": "2021-08-13T09:37:41.884Z"
   },
   {
    "duration": 2909,
    "start_time": "2021-08-13T09:37:46.987Z"
   },
   {
    "duration": 40,
    "start_time": "2021-08-13T09:37:49.900Z"
   },
   {
    "duration": 15,
    "start_time": "2021-08-13T09:37:49.943Z"
   },
   {
    "duration": 7,
    "start_time": "2021-08-13T09:37:49.961Z"
   },
   {
    "duration": 1202,
    "start_time": "2021-08-13T09:37:49.970Z"
   },
   {
    "duration": 9442,
    "start_time": "2021-08-13T09:37:51.174Z"
   },
   {
    "duration": 9,
    "start_time": "2021-08-13T09:38:00.620Z"
   },
   {
    "duration": 14,
    "start_time": "2021-08-13T09:38:00.631Z"
   },
   {
    "duration": 46,
    "start_time": "2021-08-13T09:38:00.647Z"
   },
   {
    "duration": 392,
    "start_time": "2021-08-13T09:38:00.698Z"
   },
   {
    "duration": 304,
    "start_time": "2021-08-13T09:38:01.093Z"
   },
   {
    "duration": 209,
    "start_time": "2021-08-13T09:38:01.400Z"
   },
   {
    "duration": 99,
    "start_time": "2021-08-13T09:38:01.694Z"
   },
   {
    "duration": 19623,
    "start_time": "2021-08-14T19:14:14.381Z"
   },
   {
    "duration": 2405,
    "start_time": "2021-08-14T19:14:35.660Z"
   },
   {
    "duration": 32,
    "start_time": "2021-08-14T19:14:39.707Z"
   },
   {
    "duration": 17,
    "start_time": "2021-08-14T19:14:41.115Z"
   },
   {
    "duration": 507,
    "start_time": "2021-08-14T19:14:54.098Z"
   },
   {
    "duration": 348,
    "start_time": "2021-08-14T19:15:12.253Z"
   },
   {
    "duration": 355,
    "start_time": "2021-08-14T19:15:45.018Z"
   },
   {
    "duration": 380,
    "start_time": "2021-08-14T19:15:57.195Z"
   },
   {
    "duration": 5,
    "start_time": "2021-08-14T19:16:29.460Z"
   },
   {
    "duration": 5,
    "start_time": "2021-08-14T19:16:40.430Z"
   },
   {
    "duration": 2089,
    "start_time": "2021-08-14T19:18:12.254Z"
   },
   {
    "duration": 1382,
    "start_time": "2021-08-14T19:19:41.222Z"
   },
   {
    "duration": 993,
    "start_time": "2021-08-14T19:20:28.975Z"
   },
   {
    "duration": 2357,
    "start_time": "2021-08-14T19:20:49.749Z"
   },
   {
    "duration": 1108,
    "start_time": "2021-08-14T19:21:39.459Z"
   },
   {
    "duration": 31,
    "start_time": "2021-08-14T19:22:23.506Z"
   },
   {
    "duration": 7,
    "start_time": "2021-08-14T22:06:43.480Z"
   },
   {
    "duration": 8,
    "start_time": "2021-08-14T22:07:03.310Z"
   },
   {
    "duration": 8,
    "start_time": "2021-08-14T22:07:12.358Z"
   },
   {
    "duration": 8,
    "start_time": "2021-08-14T22:07:13.630Z"
   },
   {
    "duration": 8,
    "start_time": "2021-08-14T22:07:14.494Z"
   },
   {
    "duration": 8,
    "start_time": "2021-08-14T22:07:15.126Z"
   },
   {
    "duration": 8,
    "start_time": "2021-08-14T22:07:15.646Z"
   },
   {
    "duration": 8,
    "start_time": "2021-08-14T22:07:16.231Z"
   },
   {
    "duration": 10,
    "start_time": "2021-08-14T22:07:17.070Z"
   },
   {
    "duration": 8,
    "start_time": "2021-08-14T22:07:17.678Z"
   },
   {
    "duration": 11,
    "start_time": "2021-08-14T22:07:18.310Z"
   },
   {
    "duration": 8,
    "start_time": "2021-08-14T22:07:19.208Z"
   },
   {
    "duration": 9,
    "start_time": "2021-08-14T22:07:20.830Z"
   },
   {
    "duration": 8,
    "start_time": "2021-08-14T22:07:21.895Z"
   },
   {
    "duration": 9,
    "start_time": "2021-08-14T22:07:37.622Z"
   },
   {
    "duration": 9,
    "start_time": "2021-08-14T22:07:40.827Z"
   },
   {
    "duration": 9,
    "start_time": "2021-08-14T22:07:41.710Z"
   },
   {
    "duration": 8,
    "start_time": "2021-08-14T22:07:42.366Z"
   },
   {
    "duration": 9,
    "start_time": "2021-08-14T22:07:45.191Z"
   },
   {
    "duration": 8,
    "start_time": "2021-08-14T22:07:57.932Z"
   },
   {
    "duration": 7,
    "start_time": "2021-08-14T22:07:59.491Z"
   },
   {
    "duration": 7,
    "start_time": "2021-08-14T22:08:00.172Z"
   },
   {
    "duration": 7,
    "start_time": "2021-08-14T22:08:00.571Z"
   },
   {
    "duration": 7,
    "start_time": "2021-08-14T22:08:00.981Z"
   },
   {
    "duration": 7,
    "start_time": "2021-08-14T22:08:04.771Z"
   },
   {
    "duration": 8,
    "start_time": "2021-08-14T22:08:12.532Z"
   },
   {
    "duration": 7,
    "start_time": "2021-08-14T22:08:14.379Z"
   },
   {
    "duration": 8,
    "start_time": "2021-08-14T22:08:14.892Z"
   },
   {
    "duration": 9,
    "start_time": "2021-08-14T22:08:15.634Z"
   },
   {
    "duration": 7,
    "start_time": "2021-08-14T22:21:59.511Z"
   },
   {
    "duration": 7,
    "start_time": "2021-08-14T22:23:05.349Z"
   },
   {
    "duration": 8,
    "start_time": "2021-08-14T22:23:40.356Z"
   },
   {
    "duration": 2339,
    "start_time": "2021-08-14T22:24:48.098Z"
   },
   {
    "duration": 2148,
    "start_time": "2021-08-14T22:24:58.016Z"
   },
   {
    "duration": 3981,
    "start_time": "2021-08-14T22:25:33.785Z"
   },
   {
    "duration": 18830,
    "start_time": "2021-08-14T22:25:50.494Z"
   },
   {
    "duration": 13664,
    "start_time": "2021-08-14T22:29:19.462Z"
   },
   {
    "duration": 14598,
    "start_time": "2021-08-14T22:31:03.778Z"
   },
   {
    "duration": 12759,
    "start_time": "2021-08-14T22:31:26.938Z"
   },
   {
    "duration": 59278,
    "start_time": "2021-08-14T22:31:45.090Z"
   },
   {
    "duration": 805,
    "start_time": "2021-08-14T22:33:42.839Z"
   },
   {
    "duration": 4733,
    "start_time": "2021-08-14T22:39:09.048Z"
   },
   {
    "duration": 2128,
    "start_time": "2021-08-14T22:39:13.784Z"
   },
   {
    "duration": 4,
    "start_time": "2021-08-14T22:39:15.915Z"
   },
   {
    "duration": 39,
    "start_time": "2021-08-14T22:39:15.921Z"
   },
   {
    "duration": 14,
    "start_time": "2021-08-14T22:39:15.963Z"
   },
   {
    "duration": 35,
    "start_time": "2021-08-14T22:39:15.979Z"
   },
   {
    "duration": 2561,
    "start_time": "2021-08-14T22:39:16.016Z"
   },
   {
    "duration": 4,
    "start_time": "2021-08-14T22:39:18.581Z"
   },
   {
    "duration": 1216,
    "start_time": "2021-08-14T22:39:18.588Z"
   },
   {
    "duration": 9954,
    "start_time": "2021-08-14T22:39:19.807Z"
   },
   {
    "duration": 9,
    "start_time": "2021-08-14T22:39:29.763Z"
   },
   {
    "duration": 10,
    "start_time": "2021-08-14T22:39:29.775Z"
   },
   {
    "duration": 73,
    "start_time": "2021-08-14T22:39:29.787Z"
   },
   {
    "duration": 396,
    "start_time": "2021-08-14T22:39:29.864Z"
   },
   {
    "duration": 298,
    "start_time": "2021-08-14T22:39:30.263Z"
   },
   {
    "duration": 294,
    "start_time": "2021-08-14T22:39:30.565Z"
   },
   {
    "duration": 98,
    "start_time": "2021-08-14T22:39:30.866Z"
   },
   {
    "duration": 6,
    "start_time": "2021-08-14T22:43:11.966Z"
   },
   {
    "duration": 6,
    "start_time": "2021-08-14T22:44:24.661Z"
   },
   {
    "duration": 69,
    "start_time": "2021-08-14T22:45:13.891Z"
   },
   {
    "duration": 491,
    "start_time": "2021-08-14T22:48:55.073Z"
   },
   {
    "duration": 647,
    "start_time": "2021-08-14T22:49:16.930Z"
   },
   {
    "duration": 357,
    "start_time": "2021-08-14T22:49:30.294Z"
   },
   {
    "duration": 356,
    "start_time": "2021-08-14T22:49:43.316Z"
   },
   {
    "duration": 7,
    "start_time": "2021-08-14T22:49:55.363Z"
   },
   {
    "duration": 7,
    "start_time": "2021-08-14T22:51:06.790Z"
   },
   {
    "duration": 5,
    "start_time": "2021-08-14T22:51:17.778Z"
   },
   {
    "duration": 21,
    "start_time": "2021-08-14T22:51:22.235Z"
   },
   {
    "duration": 18,
    "start_time": "2021-08-14T22:51:23.885Z"
   },
   {
    "duration": 98,
    "start_time": "2021-08-14T22:51:30.460Z"
   },
   {
    "duration": 4613,
    "start_time": "2021-08-14T22:52:04.683Z"
   },
   {
    "duration": 2142,
    "start_time": "2021-08-14T22:52:09.299Z"
   },
   {
    "duration": 5,
    "start_time": "2021-08-14T22:52:11.443Z"
   },
   {
    "duration": 40,
    "start_time": "2021-08-14T22:52:11.451Z"
   },
   {
    "duration": 13,
    "start_time": "2021-08-14T22:52:11.494Z"
   },
   {
    "duration": 45,
    "start_time": "2021-08-14T22:52:11.510Z"
   },
   {
    "duration": 2401,
    "start_time": "2021-08-14T22:52:11.558Z"
   },
   {
    "duration": 5,
    "start_time": "2021-08-14T22:52:13.965Z"
   },
   {
    "duration": 1265,
    "start_time": "2021-08-14T22:52:13.974Z"
   },
   {
    "duration": 9867,
    "start_time": "2021-08-14T22:52:15.242Z"
   },
   {
    "duration": 9,
    "start_time": "2021-08-14T22:52:25.111Z"
   },
   {
    "duration": 16,
    "start_time": "2021-08-14T22:52:25.122Z"
   },
   {
    "duration": 117,
    "start_time": "2021-08-14T22:52:25.141Z"
   },
   {
    "duration": 399,
    "start_time": "2021-08-14T22:52:25.261Z"
   },
   {
    "duration": 497,
    "start_time": "2021-08-14T22:52:25.663Z"
   },
   {
    "duration": 197,
    "start_time": "2021-08-14T22:52:26.163Z"
   },
   {
    "duration": 101,
    "start_time": "2021-08-14T22:52:26.363Z"
   },
   {
    "duration": 9,
    "start_time": "2021-08-14T22:52:26.468Z"
   },
   {
    "duration": 76,
    "start_time": "2021-08-14T22:52:26.480Z"
   },
   {
    "duration": 127,
    "start_time": "2021-08-14T22:52:26.558Z"
   },
   {
    "duration": -303,
    "start_time": "2021-08-14T22:52:26.991Z"
   },
   {
    "duration": 12,
    "start_time": "2021-08-14T22:52:59.799Z"
   },
   {
    "duration": 12,
    "start_time": "2021-08-14T22:53:07.796Z"
   },
   {
    "duration": 14,
    "start_time": "2021-08-14T22:53:10.692Z"
   },
   {
    "duration": 710,
    "start_time": "2021-08-14T22:53:58.196Z"
   },
   {
    "duration": 128,
    "start_time": "2021-08-14T22:56:10.151Z"
   },
   {
    "duration": 344,
    "start_time": "2021-08-14T22:56:15.879Z"
   },
   {
    "duration": 7,
    "start_time": "2021-08-14T22:56:33.462Z"
   },
   {
    "duration": 166,
    "start_time": "2021-08-14T22:56:51.589Z"
   },
   {
    "duration": 281,
    "start_time": "2021-08-15T13:50:36.939Z"
   },
   {
    "duration": 20400,
    "start_time": "2021-08-15T13:50:47.977Z"
   },
   {
    "duration": 2148,
    "start_time": "2021-08-15T13:51:08.380Z"
   },
   {
    "duration": 4,
    "start_time": "2021-08-15T13:51:10.531Z"
   },
   {
    "duration": 39,
    "start_time": "2021-08-15T13:51:10.538Z"
   },
   {
    "duration": 15,
    "start_time": "2021-08-15T13:51:10.579Z"
   },
   {
    "duration": 33,
    "start_time": "2021-08-15T13:51:10.597Z"
   },
   {
    "duration": 2344,
    "start_time": "2021-08-15T13:51:10.633Z"
   },
   {
    "duration": 2282,
    "start_time": "2021-08-15T13:51:34.495Z"
   },
   {
    "duration": 2265,
    "start_time": "2021-08-15T13:51:58.681Z"
   },
   {
    "duration": 4426,
    "start_time": "2021-08-15T13:52:20.279Z"
   },
   {
    "duration": 2405,
    "start_time": "2021-08-15T13:52:35.956Z"
   },
   {
    "duration": 2648,
    "start_time": "2021-08-15T13:52:54.949Z"
   },
   {
    "duration": 2347,
    "start_time": "2021-08-15T13:53:38.460Z"
   },
   {
    "duration": 2173,
    "start_time": "2021-08-15T13:53:42.449Z"
   },
   {
    "duration": 2627,
    "start_time": "2021-08-15T13:55:13.610Z"
   },
   {
    "duration": 2665,
    "start_time": "2021-08-15T13:55:35.776Z"
   },
   {
    "duration": 3587,
    "start_time": "2021-08-15T13:56:13.447Z"
   },
   {
    "duration": 4,
    "start_time": "2021-08-15T15:42:25.110Z"
   },
   {
    "duration": 5,
    "start_time": "2021-08-15T15:46:55.795Z"
   },
   {
    "duration": 5,
    "start_time": "2021-08-15T15:46:56.133Z"
   },
   {
    "duration": 545,
    "start_time": "2021-08-15T15:47:09.521Z"
   },
   {
    "duration": 5457,
    "start_time": "2021-08-15T15:48:03.095Z"
   },
   {
    "duration": 2692,
    "start_time": "2021-08-15T15:48:08.555Z"
   },
   {
    "duration": 6,
    "start_time": "2021-08-15T15:48:11.251Z"
   },
   {
    "duration": 36,
    "start_time": "2021-08-15T15:48:11.260Z"
   },
   {
    "duration": 15,
    "start_time": "2021-08-15T15:48:11.298Z"
   },
   {
    "duration": 57,
    "start_time": "2021-08-15T15:48:11.315Z"
   },
   {
    "duration": 2363,
    "start_time": "2021-08-15T15:48:11.374Z"
   },
   {
    "duration": 4,
    "start_time": "2021-08-15T15:48:13.740Z"
   },
   {
    "duration": 1253,
    "start_time": "2021-08-15T15:48:13.747Z"
   },
   {
    "duration": 9965,
    "start_time": "2021-08-15T15:48:15.003Z"
   },
   {
    "duration": 10,
    "start_time": "2021-08-15T15:48:24.970Z"
   },
   {
    "duration": 9,
    "start_time": "2021-08-15T15:48:24.982Z"
   },
   {
    "duration": 77,
    "start_time": "2021-08-15T15:48:24.993Z"
   },
   {
    "duration": 402,
    "start_time": "2021-08-15T15:48:25.164Z"
   },
   {
    "duration": 297,
    "start_time": "2021-08-15T15:48:25.570Z"
   },
   {
    "duration": 195,
    "start_time": "2021-08-15T15:48:25.871Z"
   },
   {
    "duration": 104,
    "start_time": "2021-08-15T15:48:26.070Z"
   },
   {
    "duration": 5,
    "start_time": "2021-08-15T15:48:26.274Z"
   },
   {
    "duration": 7,
    "start_time": "2021-08-15T15:48:26.281Z"
   },
   {
    "duration": 427,
    "start_time": "2021-08-15T15:48:26.290Z"
   },
   {
    "duration": -951,
    "start_time": "2021-08-15T15:48:27.672Z"
   },
   {
    "duration": -954,
    "start_time": "2021-08-15T15:48:27.677Z"
   },
   {
    "duration": -966,
    "start_time": "2021-08-15T15:48:27.691Z"
   },
   {
    "duration": 540,
    "start_time": "2021-08-15T15:52:10.259Z"
   },
   {
    "duration": 6,
    "start_time": "2021-08-15T15:52:18.340Z"
   },
   {
    "duration": 4,
    "start_time": "2021-08-15T15:52:18.952Z"
   },
   {
    "duration": 8,
    "start_time": "2021-08-15T15:52:21.944Z"
   },
   {
    "duration": 26,
    "start_time": "2021-08-15T15:52:30.939Z"
   },
   {
    "duration": 14,
    "start_time": "2021-08-15T15:52:31.928Z"
   },
   {
    "duration": 5637,
    "start_time": "2021-08-15T15:56:34.588Z"
   },
   {
    "duration": 2224,
    "start_time": "2021-08-15T15:56:40.229Z"
   },
   {
    "duration": 11,
    "start_time": "2021-08-15T15:56:42.458Z"
   },
   {
    "duration": 41,
    "start_time": "2021-08-15T15:56:42.473Z"
   },
   {
    "duration": 15,
    "start_time": "2021-08-15T15:56:42.517Z"
   },
   {
    "duration": 53,
    "start_time": "2021-08-15T15:56:42.534Z"
   },
   {
    "duration": 2378,
    "start_time": "2021-08-15T15:56:42.590Z"
   },
   {
    "duration": 3,
    "start_time": "2021-08-15T15:56:44.972Z"
   },
   {
    "duration": 1236,
    "start_time": "2021-08-15T15:56:44.978Z"
   },
   {
    "duration": 9585,
    "start_time": "2021-08-15T15:56:46.217Z"
   },
   {
    "duration": 10,
    "start_time": "2021-08-15T15:56:55.804Z"
   },
   {
    "duration": 10,
    "start_time": "2021-08-15T15:56:55.816Z"
   },
   {
    "duration": 143,
    "start_time": "2021-08-15T15:56:55.828Z"
   },
   {
    "duration": 589,
    "start_time": "2021-08-15T15:56:55.974Z"
   },
   {
    "duration": 400,
    "start_time": "2021-08-15T15:56:56.567Z"
   },
   {
    "duration": 296,
    "start_time": "2021-08-15T15:56:56.970Z"
   },
   {
    "duration": 101,
    "start_time": "2021-08-15T15:56:57.269Z"
   },
   {
    "duration": 4,
    "start_time": "2021-08-15T15:56:57.373Z"
   },
   {
    "duration": 6,
    "start_time": "2021-08-15T15:56:57.379Z"
   },
   {
    "duration": 9,
    "start_time": "2021-08-15T15:56:57.387Z"
   },
   {
    "duration": 66,
    "start_time": "2021-08-15T15:56:57.399Z"
   },
   {
    "duration": 108,
    "start_time": "2021-08-15T15:56:57.469Z"
   },
   {
    "duration": 196,
    "start_time": "2021-08-15T15:56:57.667Z"
   },
   {
    "duration": 97,
    "start_time": "2021-08-15T15:56:57.867Z"
   },
   {
    "duration": 5,
    "start_time": "2021-08-15T15:58:13.126Z"
   },
   {
    "duration": 5,
    "start_time": "2021-08-15T15:58:30.743Z"
   },
   {
    "duration": 6,
    "start_time": "2021-08-15T15:59:55.473Z"
   },
   {
    "duration": 4713,
    "start_time": "2021-08-15T16:12:39.982Z"
   },
   {
    "duration": 2367,
    "start_time": "2021-08-15T16:12:44.698Z"
   },
   {
    "duration": 6,
    "start_time": "2021-08-15T16:12:47.070Z"
   },
   {
    "duration": 44,
    "start_time": "2021-08-15T16:12:47.080Z"
   },
   {
    "duration": 38,
    "start_time": "2021-08-15T16:12:47.128Z"
   },
   {
    "duration": 37,
    "start_time": "2021-08-15T16:12:47.170Z"
   },
   {
    "duration": 2729,
    "start_time": "2021-08-15T16:12:47.209Z"
   },
   {
    "duration": 20,
    "start_time": "2021-08-15T16:12:49.942Z"
   },
   {
    "duration": 1196,
    "start_time": "2021-08-15T16:12:49.966Z"
   },
   {
    "duration": 9716,
    "start_time": "2021-08-15T16:12:51.164Z"
   },
   {
    "duration": 9,
    "start_time": "2021-08-15T16:13:00.882Z"
   },
   {
    "duration": 30,
    "start_time": "2021-08-15T16:13:00.893Z"
   },
   {
    "duration": 140,
    "start_time": "2021-08-15T16:13:00.926Z"
   },
   {
    "duration": 493,
    "start_time": "2021-08-15T16:13:01.070Z"
   },
   {
    "duration": 595,
    "start_time": "2021-08-15T16:13:01.571Z"
   },
   {
    "duration": 104,
    "start_time": "2021-08-15T16:13:02.262Z"
   },
   {
    "duration": 103,
    "start_time": "2021-08-15T16:13:02.370Z"
   },
   {
    "duration": 87,
    "start_time": "2021-08-15T16:13:02.475Z"
   },
   {
    "duration": 6,
    "start_time": "2021-08-15T16:13:02.565Z"
   },
   {
    "duration": 7,
    "start_time": "2021-08-15T16:13:02.573Z"
   },
   {
    "duration": 80,
    "start_time": "2021-08-15T16:13:02.582Z"
   },
   {
    "duration": 100,
    "start_time": "2021-08-15T16:13:02.666Z"
   },
   {
    "duration": 195,
    "start_time": "2021-08-15T16:13:02.771Z"
   },
   {
    "duration": 96,
    "start_time": "2021-08-15T16:13:02.969Z"
   }
  ],
  "kernelspec": {
   "display_name": "Python 3",
   "language": "python",
   "name": "python3"
  },
  "language_info": {
   "codemirror_mode": {
    "name": "ipython",
    "version": 3
   },
   "file_extension": ".py",
   "mimetype": "text/x-python",
   "name": "python",
   "nbconvert_exporter": "python",
   "pygments_lexer": "ipython3",
   "version": "3.9.1"
  },
  "toc": {
   "base_numbering": 1,
   "nav_menu": {},
   "number_sections": true,
   "sideBar": true,
   "skip_h1_title": true,
   "title_cell": "Содержание",
   "title_sidebar": "Contents",
   "toc_cell": true,
   "toc_position": {},
   "toc_section_display": true,
   "toc_window_display": true
  }
 },
 "nbformat": 4,
 "nbformat_minor": 2
}
