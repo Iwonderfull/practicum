{
 "cells": [
  {
   "cell_type": "markdown",
   "metadata": {},
   "source": [
    "## Откройте и изучите файл"
   ]
  },
  {
   "cell_type": "code",
   "execution_count": 1,
   "metadata": {},
   "outputs": [],
   "source": [
    "!pip install -q --no-warn-script-location --upgrade pip \n",
    "!pip install -q --no-warn-script-location -U pandas numpy scikit-learn seaborn"
   ]
  },
  {
   "cell_type": "code",
   "execution_count": 2,
   "metadata": {},
   "outputs": [],
   "source": [
    "import pandas as pd\n",
    "from sklearn.model_selection import train_test_split\n",
    "from sklearn.tree import DecisionTreeClassifier\n",
    "from sklearn.ensemble import RandomForestClassifier\n",
    "from sklearn.linear_model import LinearRegression, LogisticRegression\n",
    "from sklearn.metrics import accuracy_score\n",
    "from sklearn.model_selection import GridSearchCV, ParameterGrid\n",
    "from sklearn.preprocessing import StandardScaler\n",
    "from sklearn.dummy import DummyClassifier\n",
    "import seaborn as sb\n",
    "import numpy as np"
   ]
  },
  {
   "cell_type": "code",
   "execution_count": 3,
   "metadata": {},
   "outputs": [],
   "source": [
    "sb.set_theme(\n",
    "    font_scale=1.2,\n",
    "    rc={'figure.figsize':(11.7,8.27),}\n",
    ")"
   ]
  },
  {
   "cell_type": "code",
   "execution_count": 4,
   "metadata": {},
   "outputs": [
    {
     "data": {
      "text/html": [
       "<div>\n",
       "<style scoped>\n",
       "    .dataframe tbody tr th:only-of-type {\n",
       "        vertical-align: middle;\n",
       "    }\n",
       "\n",
       "    .dataframe tbody tr th {\n",
       "        vertical-align: top;\n",
       "    }\n",
       "\n",
       "    .dataframe thead th {\n",
       "        text-align: right;\n",
       "    }\n",
       "</style>\n",
       "<table border=\"1\" class=\"dataframe\">\n",
       "  <thead>\n",
       "    <tr style=\"text-align: right;\">\n",
       "      <th></th>\n",
       "      <th>calls</th>\n",
       "      <th>minutes</th>\n",
       "      <th>messages</th>\n",
       "      <th>mb_used</th>\n",
       "      <th>is_ultra</th>\n",
       "    </tr>\n",
       "  </thead>\n",
       "  <tbody>\n",
       "    <tr>\n",
       "      <th>0</th>\n",
       "      <td>40</td>\n",
       "      <td>311.90</td>\n",
       "      <td>83</td>\n",
       "      <td>19915.42</td>\n",
       "      <td>0</td>\n",
       "    </tr>\n",
       "    <tr>\n",
       "      <th>1</th>\n",
       "      <td>85</td>\n",
       "      <td>516.75</td>\n",
       "      <td>56</td>\n",
       "      <td>22696.96</td>\n",
       "      <td>0</td>\n",
       "    </tr>\n",
       "    <tr>\n",
       "      <th>2</th>\n",
       "      <td>77</td>\n",
       "      <td>467.66</td>\n",
       "      <td>86</td>\n",
       "      <td>21060.45</td>\n",
       "      <td>0</td>\n",
       "    </tr>\n",
       "    <tr>\n",
       "      <th>3</th>\n",
       "      <td>106</td>\n",
       "      <td>745.53</td>\n",
       "      <td>81</td>\n",
       "      <td>8437.39</td>\n",
       "      <td>1</td>\n",
       "    </tr>\n",
       "    <tr>\n",
       "      <th>4</th>\n",
       "      <td>66</td>\n",
       "      <td>418.74</td>\n",
       "      <td>1</td>\n",
       "      <td>14502.75</td>\n",
       "      <td>0</td>\n",
       "    </tr>\n",
       "  </tbody>\n",
       "</table>\n",
       "</div>"
      ],
      "text/plain": [
       "   calls  minutes  messages   mb_used  is_ultra\n",
       "0     40   311.90        83  19915.42         0\n",
       "1     85   516.75        56  22696.96         0\n",
       "2     77   467.66        86  21060.45         0\n",
       "3    106   745.53        81   8437.39         1\n",
       "4     66   418.74         1  14502.75         0"
      ]
     },
     "execution_count": 4,
     "metadata": {},
     "output_type": "execute_result"
    }
   ],
   "source": [
    "users_behavior = pd.read_csv(\n",
    "    filepath_or_buffer='/datasets/users_behavior.csv', \n",
    "    dtype={'calls': 'int', 'messages': 'int', 'is_ultra': 'int'}\n",
    ")\n",
    "users_behavior.head()"
   ]
  },
  {
   "cell_type": "code",
   "execution_count": 5,
   "metadata": {},
   "outputs": [
    {
     "name": "stdout",
     "output_type": "stream",
     "text": [
      "<class 'pandas.core.frame.DataFrame'>\n",
      "RangeIndex: 3214 entries, 0 to 3213\n",
      "Data columns (total 5 columns):\n",
      " #   Column    Non-Null Count  Dtype  \n",
      "---  ------    --------------  -----  \n",
      " 0   calls     3214 non-null   int64  \n",
      " 1   minutes   3214 non-null   float64\n",
      " 2   messages  3214 non-null   int64  \n",
      " 3   mb_used   3214 non-null   float64\n",
      " 4   is_ultra  3214 non-null   int64  \n",
      "dtypes: float64(2), int64(3)\n",
      "memory usage: 125.7 KB\n"
     ]
    }
   ],
   "source": [
    "users_behavior.info()"
   ]
  },
  {
   "cell_type": "code",
   "execution_count": 6,
   "metadata": {},
   "outputs": [
    {
     "data": {
      "text/html": [
       "<div>\n",
       "<style scoped>\n",
       "    .dataframe tbody tr th:only-of-type {\n",
       "        vertical-align: middle;\n",
       "    }\n",
       "\n",
       "    .dataframe tbody tr th {\n",
       "        vertical-align: top;\n",
       "    }\n",
       "\n",
       "    .dataframe thead th {\n",
       "        text-align: right;\n",
       "    }\n",
       "</style>\n",
       "<table border=\"1\" class=\"dataframe\">\n",
       "  <thead>\n",
       "    <tr style=\"text-align: right;\">\n",
       "      <th></th>\n",
       "      <th>calls</th>\n",
       "      <th>minutes</th>\n",
       "      <th>messages</th>\n",
       "      <th>mb_used</th>\n",
       "      <th>is_ultra</th>\n",
       "    </tr>\n",
       "  </thead>\n",
       "  <tbody>\n",
       "    <tr>\n",
       "      <th>count</th>\n",
       "      <td>3214.000000</td>\n",
       "      <td>3214.000000</td>\n",
       "      <td>3214.000000</td>\n",
       "      <td>3214.000000</td>\n",
       "      <td>3214.000000</td>\n",
       "    </tr>\n",
       "    <tr>\n",
       "      <th>mean</th>\n",
       "      <td>63.038892</td>\n",
       "      <td>438.208787</td>\n",
       "      <td>38.281269</td>\n",
       "      <td>17207.673836</td>\n",
       "      <td>0.306472</td>\n",
       "    </tr>\n",
       "    <tr>\n",
       "      <th>std</th>\n",
       "      <td>33.236368</td>\n",
       "      <td>234.569872</td>\n",
       "      <td>36.148326</td>\n",
       "      <td>7570.968246</td>\n",
       "      <td>0.461100</td>\n",
       "    </tr>\n",
       "    <tr>\n",
       "      <th>min</th>\n",
       "      <td>0.000000</td>\n",
       "      <td>0.000000</td>\n",
       "      <td>0.000000</td>\n",
       "      <td>0.000000</td>\n",
       "      <td>0.000000</td>\n",
       "    </tr>\n",
       "    <tr>\n",
       "      <th>25%</th>\n",
       "      <td>40.000000</td>\n",
       "      <td>274.575000</td>\n",
       "      <td>9.000000</td>\n",
       "      <td>12491.902500</td>\n",
       "      <td>0.000000</td>\n",
       "    </tr>\n",
       "    <tr>\n",
       "      <th>50%</th>\n",
       "      <td>62.000000</td>\n",
       "      <td>430.600000</td>\n",
       "      <td>30.000000</td>\n",
       "      <td>16943.235000</td>\n",
       "      <td>0.000000</td>\n",
       "    </tr>\n",
       "    <tr>\n",
       "      <th>75%</th>\n",
       "      <td>82.000000</td>\n",
       "      <td>571.927500</td>\n",
       "      <td>57.000000</td>\n",
       "      <td>21424.700000</td>\n",
       "      <td>1.000000</td>\n",
       "    </tr>\n",
       "    <tr>\n",
       "      <th>max</th>\n",
       "      <td>244.000000</td>\n",
       "      <td>1632.060000</td>\n",
       "      <td>224.000000</td>\n",
       "      <td>49745.730000</td>\n",
       "      <td>1.000000</td>\n",
       "    </tr>\n",
       "  </tbody>\n",
       "</table>\n",
       "</div>"
      ],
      "text/plain": [
       "             calls      minutes     messages       mb_used     is_ultra\n",
       "count  3214.000000  3214.000000  3214.000000   3214.000000  3214.000000\n",
       "mean     63.038892   438.208787    38.281269  17207.673836     0.306472\n",
       "std      33.236368   234.569872    36.148326   7570.968246     0.461100\n",
       "min       0.000000     0.000000     0.000000      0.000000     0.000000\n",
       "25%      40.000000   274.575000     9.000000  12491.902500     0.000000\n",
       "50%      62.000000   430.600000    30.000000  16943.235000     0.000000\n",
       "75%      82.000000   571.927500    57.000000  21424.700000     1.000000\n",
       "max     244.000000  1632.060000   224.000000  49745.730000     1.000000"
      ]
     },
     "execution_count": 6,
     "metadata": {},
     "output_type": "execute_result"
    }
   ],
   "source": [
    "users_behavior.describe()"
   ]
  },
  {
   "cell_type": "code",
   "execution_count": 7,
   "metadata": {},
   "outputs": [
    {
     "name": "stdout",
     "output_type": "stream",
     "text": [
      "Количество клиентов с тарифом смарт: 2229\n",
      "Количество клиентов с тарифом ультра: 985\n",
      "Соотношение количества пользователей тарифа смарт к тарифу ультра: 2.26\n"
     ]
    }
   ],
   "source": [
    "n_ultra = users_behavior['is_ultra'].sum()\n",
    "n_smart = users_behavior['is_ultra'].size - n_ultra\n",
    "print(\n",
    "    'Количество клиентов с тарифом смарт: {}'.format(n_smart),\n",
    "    'Количество клиентов с тарифом ультра: {}'.format(n_ultra),\n",
    "    'Соотношение количества пользователей тарифа смарт к тарифу ультра: {:.2f}'.format(n_smart/n_ultra),\n",
    "    sep='\\n'\n",
    ")"
   ]
  },
  {
   "cell_type": "markdown",
   "metadata": {},
   "source": [
    "**Вывод**\n",
    "- Похоже все значения действительно на месте.\n",
    "- Типы переменных 'calls', 'messages', 'is_ultra' преобразованы к типу int при загрузке данных.\n",
    "- Клиентские классы по тарифу не сбалансированны. Количество клиентов с тарифом ультра меньше количества клиентов с тарифом смарт в 2.26 раза. "
   ]
  },
  {
   "cell_type": "markdown",
   "metadata": {},
   "source": [
    "## Разбейте данные на выборки"
   ]
  },
  {
   "cell_type": "code",
   "execution_count": 8,
   "metadata": {},
   "outputs": [
    {
     "data": {
      "image/png": "[encoded data removed]",
      "text/plain": [
       "<Figure size 842.4x595.44 with 2 Axes>"
      ]
     },
     "metadata": {},
     "output_type": "display_data"
    }
   ],
   "source": [
    "ax = sb.heatmap(users_behavior.corr(), annot=True)\n",
    "_ = ax.set_title('Корреляционная матрица признаков')"
   ]
  },
  {
   "cell_type": "markdown",
   "metadata": {},
   "source": [
    "Признаки calls и minutes находятся в сильной линейной зависимости. Коэффициент корреляции 0.98. Это означает, что один признак практически польностью объясняет другой. "
   ]
  },
  {
   "cell_type": "markdown",
   "metadata": {},
   "source": [
    "\n",
    "Наличие двух сильно скоррелированных признаков влечет избыточность информации и может оказывать сильное влияние на обучение некоторых моделей."
   ]
  },
  {
   "cell_type": "code",
   "execution_count": 9,
   "metadata": {},
   "outputs": [],
   "source": [
    "def split_summary(feature, target, name):\n",
    "    print('Выборка:', name)\n",
    "    print('Размеры пространства feature:', feature.shape)\n",
    "    print('Размеры пространства target:', target.shape)\n",
    "    print('Доли классов target:')\n",
    "    for row in target.value_counts().iteritems():\n",
    "        print('    target class: {} fraction: {:.2f}'.format(row[0], row[1] / target.size))\n",
    "    print()"
   ]
  },
  {
   "cell_type": "code",
   "execution_count": 10,
   "metadata": {},
   "outputs": [
    {
     "name": "stdout",
     "output_type": "stream",
     "text": [
      "Выборка: train\n",
      "Размеры пространства feature: (1928, 4)\n",
      "Размеры пространства target: (1928,)\n",
      "Доли классов target:\n",
      "    target class: 0 fraction: 0.69\n",
      "    target class: 1 fraction: 0.31\n",
      "\n",
      "Выборка: valid\n",
      "Размеры пространства feature: (643, 4)\n",
      "Размеры пространства target: (643,)\n",
      "Доли классов target:\n",
      "    target class: 0 fraction: 0.69\n",
      "    target class: 1 fraction: 0.31\n",
      "\n",
      "Выборка: test\n",
      "Размеры пространства feature: (643, 4)\n",
      "Размеры пространства target: (643,)\n",
      "Доли классов target:\n",
      "    target class: 0 fraction: 0.69\n",
      "    target class: 1 fraction: 0.31\n",
      "\n"
     ]
    }
   ],
   "source": [
    "feature = users_behavior.drop(columns=['is_ultra']) #, 'calls'\n",
    "target = users_behavior['is_ultra']\n",
    "\n",
    "train_feature, checkup_feature, train_target, checkup_target = train_test_split(\n",
    "    feature,\n",
    "    target,\n",
    "    test_size=.4, \n",
    "    stratify=target,\n",
    "    random_state=12345\n",
    ")\n",
    "valid_feature, test_feature, valid_target, test_target = train_test_split(\n",
    "    checkup_feature,\n",
    "    checkup_target,\n",
    "    test_size=.5, \n",
    "    stratify=checkup_target,\n",
    "    random_state=12345\n",
    ")\n",
    "split_summary(train_feature, train_target, 'train')\n",
    "split_summary(valid_feature, valid_target, 'valid')\n",
    "split_summary(test_feature, test_target, 'test')"
   ]
  },
  {
   "cell_type": "markdown",
   "metadata": {},
   "source": [
    "Выше я применил функцию train_test_split дважды для разделения на три выборки train, test и valid. При разбиении я использовал параметр stratify, чтобы объекты разных классов во всех выборках были в одинаковых пропорциях. Иначе могло, например, случиться так, что в выборке train или не окажется или окажется очень мало представителей одного из классов и модель может просто научиться отвечать одно и то же (например выдавать всегда 0) на каждый вопрос."
   ]
  },
  {
   "cell_type": "markdown",
   "metadata": {},
   "source": [
    "**Вывод**\n",
    "\n",
    "- Данные были разбиты на три выборки train, valid, test с использованием стратификации по классам.\n",
    "- Выборку test откладываем для заключительной оценки качества.\n",
    "- Признаки calls/minutes не удалял"
   ]
  },
  {
   "cell_type": "markdown",
   "metadata": {},
   "source": [
    "## Исследуйте модели"
   ]
  },
  {
   "cell_type": "markdown",
   "metadata": {},
   "source": [
    "Ниже я написал вспомогательный класс для поиска параметров\n",
    "- инициализируется заданием выборок и типа sklearn.Estimator\n",
    "- основной метод - seach_params\n",
    "- есть свойства с типичными названиями scores, best_scores, best_params, params_grid, \n",
    "- свойство report отдает датафрейм с сеткой параметров и значений метрики\n",
    "- остальные функции - вспомогательные "
   ]
  },
  {
   "cell_type": "code",
   "execution_count": 11,
   "metadata": {},
   "outputs": [],
   "source": [
    "class ParamsSearch:\n",
    "    def __init__(self, train_feature, train_target, valid_feature, valid_target, estimator):\n",
    "        # There is should be checkup of args in __future__ (лень чет)\n",
    "        self.__estimator = estimator\n",
    "        self.__train_feature = train_feature\n",
    "        self.__train_target = train_target\n",
    "        self.__valid_feature = valid_feature\n",
    "        self.__valid_target = valid_target\n",
    "        self.__scores = list()\n",
    "        self.__params_grid = None\n",
    "        self.__best_score = None\n",
    "        self.__best_params = None\n",
    "        self.model = None\n",
    "        self.__fitted = False\n",
    "        self.__best_score_changed = False\n",
    "    \n",
    "    @property\n",
    "    def scores(self):\n",
    "        return self.__scores\n",
    "    \n",
    "    def __update_scores(self, value):\n",
    "        self.__scores.append(value)\n",
    "\n",
    "    @property\n",
    "    def best_score(self):\n",
    "        return self.__best_score\n",
    "    \n",
    "    def __update_best_score(self, value):\n",
    "        if (self.__best_score is None) or (self.__best_score < value):\n",
    "            self.__best_score = value\n",
    "            self.__best_score_changed = True\n",
    "        else:\n",
    "            self.__best_score_changed = False\n",
    "    \n",
    "    @property\n",
    "    def best_params(self):\n",
    "        return self.__best_params\n",
    "    \n",
    "    def __update_best_params(self, new_params):\n",
    "        if self.__best_score_changed:\n",
    "            self.__best_params = new_params\n",
    "\n",
    "    @property\n",
    "    def params_grid(self):\n",
    "        return pd.DataFrame(list(ParameterGrid(self.__params_grid)))\n",
    "    \n",
    "    @property\n",
    "    def report(self):\n",
    "        if self.__fitted:\n",
    "            report = self.params_grid\n",
    "            report['scores'] = self.scores\n",
    "            return report\n",
    "        else:\n",
    "            return None\n",
    "\n",
    "    def __update(self, score, params):\n",
    "        self.__update_scores(score)\n",
    "        self.__update_best_score(score)\n",
    "        self.__update_best_params(params)\n",
    "            \n",
    "    def search_params(self, params: dict, random_state: int=12345):\n",
    "        \"\"\"search best params combination\n",
    "        \n",
    "        Parameters\n",
    "        ----------\n",
    "        params : dict\n",
    "            parameters values to search the bests.\n",
    "        random_state : int\n",
    "            random seed to estimator, default '12345'.\n",
    "        \"\"\"\n",
    "        if not isinstance(params, dict):\n",
    "            raise TypeError('params type mistmatch: {}'.format(type(params).__name__))\n",
    "        if not isinstance(random_state, int):\n",
    "            raise TypeError('random_state type mistmatch: {}'.format(type(random_state).__name__))\n",
    "        \n",
    "        self.__params_grid = params\n",
    "        \n",
    "        for params_choice in ParameterGrid(params):\n",
    "            \n",
    "            # Create model\n",
    "            self.model = self.__estimator(\n",
    "                random_state=random_state, \n",
    "                **params_choice\n",
    "            )\n",
    "            \n",
    "            self.model.fit(\n",
    "                self.__train_feature, \n",
    "                self.__train_target\n",
    "            )\n",
    "\n",
    "            score = self.model.score(self.__valid_feature, self.__valid_target)\n",
    "            self.__update(score, params_choice)\n",
    "\n",
    "        # refit best model\n",
    "        self.model = self.__estimator(random_state=random_state, **self.best_params)\n",
    "        self.model.fit(self.__train_feature, self.__train_target)\n",
    "        self.__fitted = True\n",
    "        \n",
    "    def print_summary(self):\n",
    "        if self.__fitted:\n",
    "            print('Модель:', type(self.model).__name__)\n",
    "            print('Лучшая точность (accuracy%): {:.2%}'.format(self.best_score))\n",
    "            print('Лучшие параметры:')\n",
    "            print(*('    {}: {}'.format(k,v) for k,v in self.best_params.items()),\n",
    "                  sep='\\n')\n",
    "        else:\n",
    "            print('Модель:', self.__estimator.__name__)\n",
    "            print('Модель еще не обучена. Воспользуйтесь методом search_params.')"
   ]
  },
  {
   "cell_type": "code",
   "execution_count": 12,
   "metadata": {},
   "outputs": [
    {
     "name": "stdout",
     "output_type": "stream",
     "text": [
      "Модель: DecisionTreeClassifier\n",
      "Лучшая точность (accuracy%): 80.25%\n",
      "Лучшие параметры:\n",
      "    max_depth: 8\n"
     ]
    },
    {
     "data": {
      "image/png": "[encoded data removed]",
      "text/plain": [
       "<Figure size 842.4x595.44 with 1 Axes>"
      ]
     },
     "metadata": {},
     "output_type": "display_data"
    }
   ],
   "source": [
    "searcher_dtc = ParamsSearch(\n",
    "    train_feature, train_target, valid_feature, valid_target,\n",
    "    DecisionTreeClassifier\n",
    ")\n",
    "searcher_dtc.search_params(params={'max_depth':range(1,21)})\n",
    "\n",
    "searcher_dtc.print_summary()\n",
    "\n",
    "ax = sb.lineplot(data=searcher_dtc.report, x='max_depth', y='scores')\n",
    "ax.set_title('Динамика изменения метрики accuracy')\n",
    "\n",
    "dtc = searcher_dtc.model"
   ]
  },
  {
   "cell_type": "code",
   "execution_count": 13,
   "metadata": {},
   "outputs": [
    {
     "name": "stdout",
     "output_type": "stream",
     "text": [
      "Модель: RandomForestClassifier\n",
      "Лучшая точность (accuracy%): 81.34%\n",
      "Лучшие параметры:\n",
      "    max_depth: 9\n",
      "    n_estimators: 20\n"
     ]
    },
    {
     "data": {
      "image/png": "[encoded data removed]",
      "text/plain": [
       "<Figure size 842.4x595.44 with 1 Axes>"
      ]
     },
     "metadata": {},
     "output_type": "display_data"
    }
   ],
   "source": [
    "searcher_rfc = ParamsSearch(\n",
    "    train_feature, train_target, valid_feature, valid_target,\n",
    "    RandomForestClassifier\n",
    ")\n",
    "searcher_rfc.search_params(params={'max_depth':range(1,21), 'n_estimators': range(1,21)})\n",
    "\n",
    "searcher_rfc.print_summary()\n",
    "\n",
    "ax = sb.lineplot(data=searcher_rfc.report, y='scores', x='max_depth', hue='n_estimators')\n",
    "ax.set_title('Динамика изменения метрики accuracy')\n",
    "\n",
    "rfc = searcher_rfc.model"
   ]
  },
  {
   "cell_type": "code",
   "execution_count": 14,
   "metadata": {},
   "outputs": [
    {
     "name": "stdout",
     "output_type": "stream",
     "text": [
      "Модель: LogisticRegression\n",
      "Лучшая точность (accuracy%): 74.34%\n",
      "Лучшие параметры:\n",
      "    l1_ratio: 0\n",
      "    max_iter: 100\n",
      "    multi_class: ovr\n",
      "    penalty: elasticnet\n",
      "    solver: saga\n"
     ]
    },
    {
     "data": {
      "image/png": "[encoded data removed]",
      "text/plain": [
       "<Figure size 842.4x595.44 with 1 Axes>"
      ]
     },
     "metadata": {},
     "output_type": "display_data"
    }
   ],
   "source": [
    "scaler = StandardScaler()\n",
    "\n",
    "searcher_lr = ParamsSearch(\n",
    "    scaler.fit_transform(train_feature), \n",
    "    train_target, \n",
    "    scaler.transform(valid_feature), \n",
    "    valid_target,\n",
    "    LogisticRegression\n",
    ")\n",
    "\n",
    "searcher_lr.search_params(params={'penalty': ['elasticnet'],\n",
    "                                  'solver': ['saga'],\n",
    "                                  'multi_class': ['ovr'],\n",
    "                                  'max_iter': [100, 500, 1000],\n",
    "                                  'l1_ratio': [0, 1, .3, .7]})\n",
    "\n",
    "ax = sb.lineplot(data=searcher_lr.report, y='scores', x='max_iter', hue='l1_ratio')\n",
    "ax.set_title('Динамика изменения метрики accuracy')\n",
    "\n",
    "searcher_lr.print_summary()\n",
    "\n",
    "linear = searcher_lr.model"
   ]
  },
  {
   "cell_type": "markdown",
   "metadata": {},
   "source": [
    "**Выводы**\n",
    "\n",
    "- Рассмотрено три модели: DecisionTreeClassifier, RandomForestClassifier и LogisticRegression.\n",
    "- Лучше всего показала себя модель случайного леса с параметрами max_depth: 9, n_estimators: 20. 1ое место.\n",
    "- Хотя DecisionTreeClassifier совсем немного уступила RandomForestClassifier, обучается она быстрее. 2ое место. \n",
    "- Модель логистической регрессии получилось настроить до максимальной точности в 74.34% при обучении. И это оказался худший показатель среди рассмотренных. 3 место. \n",
    "- На графиках отражено поведение метрики accuracy относительно изменения параметров\n",
    "- Протестированно наборов параметров 20 + 20*20 + 3*4 = 432"
   ]
  },
  {
   "cell_type": "markdown",
   "metadata": {},
   "source": [
    "## Проверьте модель на тестовой выборке"
   ]
  },
  {
   "cell_type": "code",
   "execution_count": 15,
   "metadata": {},
   "outputs": [
    {
     "name": "stdout",
     "output_type": "stream",
     "text": [
      "Точность RandomForestClassifier: 81.03%\n",
      "Точность DecisionTreeClassifier: 78.38%\n",
      "Точность LogisticRegression: 74.96%\n"
     ]
    }
   ],
   "source": [
    "print('Точность RandomForestClassifier: {:.2%}'.format(rfc.score(test_feature, test_target)))\n",
    "print('Точность DecisionTreeClassifier: {:.2%}'.format(dtc.score(test_feature, test_target)))\n",
    "print('Точность LogisticRegression: {:.2%}'.format(\n",
    "    linear.score(\n",
    "        scaler.transform(test_feature), \n",
    "        test_target\n",
    "    )\n",
    "))"
   ]
  },
  {
   "cell_type": "markdown",
   "metadata": {},
   "source": [
    "**Выводы**\n",
    "\n",
    "- И снова победила модель случайного леса с параметрами max_depth: 9, n_estimators: 20. \n",
    "- Значение accuracy для RandomForestClassifier ниже относительно обучающей выборки на 0.31%. \n",
    "- Значение accuracy для DecisionTreeClassifier ниже относительно обучающей выборки на 2%. \n",
    "- В защиту LogisticRegression: модель показала состоятельность на тестовой выборке и показала большее значение точности, чем при обучении 74.96% vs 74.34%. Хотя до порога в 75% добраться так и не получилось."
   ]
  },
  {
   "cell_type": "markdown",
   "metadata": {},
   "source": [
    "## (бонус) Проверьте модели на адекватность"
   ]
  },
  {
   "cell_type": "markdown",
   "metadata": {},
   "source": [
    "Построим случайную равновероятную модель предсказаний для сравнения с полученными выше моделями. А также для ответа на вопрос об адекватности."
   ]
  },
  {
   "cell_type": "code",
   "execution_count": 16,
   "metadata": {},
   "outputs": [
    {
     "name": "stdout",
     "output_type": "stream",
     "text": [
      "Точность равновероятной модели: 48.99%\n",
      "\n",
      "Разница между accuracy моделей и accuracy равновероятной модели:\n",
      "RFC_score - dumb_score = 32.04%\n",
      "DTC_score - dumb_score = 29.39%\n",
      "Linear_best_score - dumb_score = 25.97%\n"
     ]
    }
   ],
   "source": [
    "# Dummy model uniform random predictions\n",
    "rg = np.random.default_rng()\n",
    "dumb_predictions = rg.integers(0, 2, size=len(test_target))\n",
    "dumb_score = accuracy_score(dumb_predictions, test_target)\n",
    "\n",
    "RFC_score = rfc.score(test_feature, test_target)\n",
    "DTC_score = dtc.score(test_feature, test_target)\n",
    "Linear_best_score = linear.score(\n",
    "                        scaler.transform(test_feature), \n",
    "                        test_target\n",
    "                    )\n",
    "\n",
    "print('Точность равновероятной модели: {:.2%}'.format(dumb_score))\n",
    "print()\n",
    "print('Разница между accuracy моделей и accuracy равновероятной модели:')\n",
    "print('RFC_score - dumb_score = {:.2%}'.format(RFC_score - dumb_score))\n",
    "print('DTC_score - dumb_score = {:.2%}'.format(DTC_score - dumb_score))\n",
    "print('Linear_best_score - dumb_score = {:.2%}'.format(Linear_best_score - dumb_score))"
   ]
  },
  {
   "cell_type": "code",
   "execution_count": 17,
   "metadata": {},
   "outputs": [
    {
     "name": "stdout",
     "output_type": "stream",
     "text": [
      "Точность most_frequent модели: 69.36%\n",
      "\n",
      "Разница между accuracy моделей и accuracy most_frequent модели:\n",
      "RFC_score - dumb_score = 11.66%\n",
      "DTC_score - dumb_score = 9.02%\n",
      "Linear_best_score - dumb_score = 5.60%\n"
     ]
    }
   ],
   "source": [
    "dummy = DummyClassifier(strategy=\"most_frequent\")\n",
    "dummy.fit(train_feature, train_target)\n",
    "dumb_score = dummy.score(test_feature, test_target)\n",
    "\n",
    "\n",
    "RFC_score = rfc.score(test_feature, test_target)\n",
    "DTC_score = dtc.score(test_feature, test_target)\n",
    "Linear_best_score = linear.score(\n",
    "                        scaler.fit_transform(test_feature), \n",
    "                        test_target\n",
    "                    )\n",
    "\n",
    "print('Точность most_frequent модели: {:.2%}'.format(dumb_score))\n",
    "print()\n",
    "print('Разница между accuracy моделей и accuracy most_frequent модели:')\n",
    "print('RFC_score - dumb_score = {:.2%}'.format(RFC_score - dumb_score))\n",
    "print('DTC_score - dumb_score = {:.2%}'.format(DTC_score - dumb_score))\n",
    "print('Linear_best_score - dumb_score = {:.2%}'.format(Linear_best_score - dumb_score))"
   ]
  },
  {
   "cell_type": "markdown",
   "metadata": {},
   "source": [
    "Полученные модели отличаются от модели предсказывающей наиболее популярное значение максимум на 11.66% для RandomForestClassifier. При этом модель LogisticRegression ушла не далеко, опередив dummy всего на 5.6%."
   ]
  },
  {
   "cell_type": "markdown",
   "metadata": {},
   "source": [
    "##  Выводы"
   ]
  },
  {
   "cell_type": "markdown",
   "metadata": {},
   "source": [
    "- Лучшая модель по итогам анализа: RandomForestClassifier с параметрами max_depth: 9, n_estimators: 20\n",
    "- Модель RandomForestClassifier подтвердила свою состоятельность при проверке на тестовой выборке\n",
    "\n",
    "model|valid accuracy|test accuracy\n",
    "---|---|---\n",
    "RandomForestClassifier|81.34%|81.03%\n",
    "\n",
    "- Модель RandomForestClassifier работает явно лучше случайной равновероятной модели. Прошла проверку на адекватность дважды."
   ]
  },
  {
   "cell_type": "markdown",
   "metadata": {},
   "source": [
    "## Другой код с кроссвалидацией"
   ]
  },
  {
   "cell_type": "markdown",
   "metadata": {},
   "source": [
    "При подходе с использованием кроссвалидации не нужно выделять валидационную выборку. Во время обучения вся обучающая выборка делится на k частей, каждая из которых по очереди играет роль валидационной, а остальные k-1 части используются для обучения модели."
   ]
  },
  {
   "cell_type": "code",
   "execution_count": 18,
   "metadata": {},
   "outputs": [
    {
     "name": "stdout",
     "output_type": "stream",
     "text": [
      "Выборка: train\n",
      "Размеры пространства feature: (2571, 3)\n",
      "Размеры пространства target: (2571,)\n",
      "Доли классов target:\n",
      "    target class: 0 fraction: 0.69\n",
      "    target class: 1 fraction: 0.31\n",
      "\n",
      "Выборка: test\n",
      "Размеры пространства feature: (643, 3)\n",
      "Размеры пространства target: (643,)\n",
      "Доли классов target:\n",
      "    target class: 0 fraction: 0.69\n",
      "    target class: 1 fraction: 0.31\n",
      "\n"
     ]
    }
   ],
   "source": [
    "feature = users_behavior.drop(columns=['is_ultra', 'calls'])\n",
    "target = users_behavior['is_ultra']\n",
    "\n",
    "train_feature, test_feature, train_target, test_target = train_test_split(\n",
    "    feature,\n",
    "    target,\n",
    "    test_size=.2, \n",
    "    stratify=target,\n",
    "    random_state=12345\n",
    ")\n",
    "split_summary(train_feature, train_target, 'train')\n",
    "split_summary(test_feature, test_target, 'test')"
   ]
  },
  {
   "cell_type": "markdown",
   "metadata": {},
   "source": [
    "Для поиска лучших параметров можно воспользоваться классом GridSearchCV. Он ищет лучшую комбинацию параметров среди указанных в аргументе params значений, при этом, глядя в документацию, для нашего случая по умолчанию используется стратифицированная кроссвалидация. Т.е. применяется StratifiedKFold итератор."
   ]
  },
  {
   "cell_type": "code",
   "execution_count": 19,
   "metadata": {},
   "outputs": [
    {
     "name": "stdout",
     "output_type": "stream",
     "text": [
      "Best score: 79.00%\n",
      "Best parameters:\n",
      "    max_depth: 7\n"
     ]
    }
   ],
   "source": [
    "dtc = GridSearchCV(\n",
    "    estimator=DecisionTreeClassifier(random_state=12345),\n",
    "    param_grid={'max_depth': range(1, 21)},\n",
    "    cv=5, n_jobs=-1\n",
    ")\n",
    "dtc.fit(train_feature, train_target)\n",
    "\n",
    "print('Best score: {:.2%}'.format(dtc.best_score_))\n",
    "print('Best parameters:')\n",
    "print(*(\"    {}: {}\".format(k, v) for k, v in dtc.best_params_.items()), sep='\\n')"
   ]
  },
  {
   "cell_type": "code",
   "execution_count": 20,
   "metadata": {},
   "outputs": [
    {
     "name": "stdout",
     "output_type": "stream",
     "text": [
      "Best score: 80.13%\n",
      "Best parameters:\n",
      "    max_depth: 8\n",
      "    n_estimators: 9\n"
     ]
    }
   ],
   "source": [
    "rfc = GridSearchCV(\n",
    "    estimator=RandomForestClassifier(random_state=12345),\n",
    "    param_grid={'n_estimators': range(1, 21),\n",
    "                'max_depth': range(1, 21)}, \n",
    "    cv=5, n_jobs=-1\n",
    ")\n",
    "rfc.fit(train_feature, train_target)\n",
    "\n",
    "print('Best score: {:.2%}'.format(rfc.best_score_))\n",
    "print('Best parameters:')\n",
    "print(*(\"    {}: {}\".format(k, v) for k, v in rfc.best_params_.items()), sep='\\n')"
   ]
  },
  {
   "cell_type": "markdown",
   "metadata": {},
   "source": [
    "Параметры несколько отличаются от полученных без кроссвалидации, а значения метрик приблизительно такое же."
   ]
  },
  {
   "cell_type": "code",
   "execution_count": 21,
   "metadata": {},
   "outputs": [
    {
     "name": "stdout",
     "output_type": "stream",
     "text": [
      "Точность RandomForestClassifier: 80.56%\n"
     ]
    }
   ],
   "source": [
    "print('Точность RandomForestClassifier: {:.2%}'.format(rfc.score(test_feature, test_target)))"
   ]
  },
  {
   "cell_type": "code",
   "execution_count": 22,
   "metadata": {},
   "outputs": [
    {
     "name": "stdout",
     "output_type": "stream",
     "text": [
      "Точность DecisionTreeClassifier: 79.47%\n"
     ]
    }
   ],
   "source": [
    "print('Точность DecisionTreeClassifier: {:.2%}'.format(dtc.score(test_feature, test_target)))"
   ]
  },
  {
   "cell_type": "markdown",
   "metadata": {},
   "source": [
    "- Точность моделей при обучении с кроссвалидацией на тестовой выборке превышает значение на обучающей. Обучились лучше.\n",
    "- Если удалить колонку calls точноть немного повышается. Примерно на 0.3%\n",
    "- Обе модели подтвеждают свою состоятельность на тестовой выборке"
   ]
  },
  {
   "cell_type": "markdown",
   "metadata": {},
   "source": [
    "Можно даже мегаотчет посмотреть на примере RandomForestClassifier..."
   ]
  },
  {
   "cell_type": "code",
   "execution_count": 23,
   "metadata": {},
   "outputs": [
    {
     "data": {
      "text/html": [
       "<div>\n",
       "<style scoped>\n",
       "    .dataframe tbody tr th:only-of-type {\n",
       "        vertical-align: middle;\n",
       "    }\n",
       "\n",
       "    .dataframe tbody tr th {\n",
       "        vertical-align: top;\n",
       "    }\n",
       "\n",
       "    .dataframe thead th {\n",
       "        text-align: right;\n",
       "    }\n",
       "</style>\n",
       "<table border=\"1\" class=\"dataframe\">\n",
       "  <thead>\n",
       "    <tr style=\"text-align: right;\">\n",
       "      <th></th>\n",
       "      <th>mean_fit_time</th>\n",
       "      <th>std_fit_time</th>\n",
       "      <th>mean_score_time</th>\n",
       "      <th>std_score_time</th>\n",
       "      <th>param_max_depth</th>\n",
       "      <th>param_n_estimators</th>\n",
       "      <th>params</th>\n",
       "      <th>split0_test_score</th>\n",
       "      <th>split1_test_score</th>\n",
       "      <th>split2_test_score</th>\n",
       "      <th>split3_test_score</th>\n",
       "      <th>split4_test_score</th>\n",
       "      <th>mean_test_score</th>\n",
       "      <th>std_test_score</th>\n",
       "      <th>rank_test_score</th>\n",
       "    </tr>\n",
       "  </thead>\n",
       "  <tbody>\n",
       "    <tr>\n",
       "      <th>0</th>\n",
       "      <td>0.009189</td>\n",
       "      <td>0.004986</td>\n",
       "      <td>0.003417</td>\n",
       "      <td>0.000181</td>\n",
       "      <td>1</td>\n",
       "      <td>1</td>\n",
       "      <td>{'max_depth': 1, 'n_estimators': 1}</td>\n",
       "      <td>0.724272</td>\n",
       "      <td>0.735409</td>\n",
       "      <td>0.749027</td>\n",
       "      <td>0.702335</td>\n",
       "      <td>0.715953</td>\n",
       "      <td>0.725399</td>\n",
       "      <td>0.016006</td>\n",
       "      <td>397</td>\n",
       "    </tr>\n",
       "    <tr>\n",
       "      <th>1</th>\n",
       "      <td>0.008476</td>\n",
       "      <td>0.000110</td>\n",
       "      <td>0.003394</td>\n",
       "      <td>0.000037</td>\n",
       "      <td>1</td>\n",
       "      <td>2</td>\n",
       "      <td>{'max_depth': 1, 'n_estimators': 2}</td>\n",
       "      <td>0.751456</td>\n",
       "      <td>0.791829</td>\n",
       "      <td>0.762646</td>\n",
       "      <td>0.741245</td>\n",
       "      <td>0.743191</td>\n",
       "      <td>0.758073</td>\n",
       "      <td>0.018487</td>\n",
       "      <td>353</td>\n",
       "    </tr>\n",
       "    <tr>\n",
       "      <th>2</th>\n",
       "      <td>0.010439</td>\n",
       "      <td>0.000116</td>\n",
       "      <td>0.003699</td>\n",
       "      <td>0.000137</td>\n",
       "      <td>1</td>\n",
       "      <td>3</td>\n",
       "      <td>{'max_depth': 1, 'n_estimators': 3}</td>\n",
       "      <td>0.739806</td>\n",
       "      <td>0.772374</td>\n",
       "      <td>0.764591</td>\n",
       "      <td>0.745136</td>\n",
       "      <td>0.745136</td>\n",
       "      <td>0.753409</td>\n",
       "      <td>0.012701</td>\n",
       "      <td>359</td>\n",
       "    </tr>\n",
       "    <tr>\n",
       "      <th>3</th>\n",
       "      <td>0.016734</td>\n",
       "      <td>0.002885</td>\n",
       "      <td>0.005323</td>\n",
       "      <td>0.000637</td>\n",
       "      <td>1</td>\n",
       "      <td>4</td>\n",
       "      <td>{'max_depth': 1, 'n_estimators': 4}</td>\n",
       "      <td>0.747573</td>\n",
       "      <td>0.785992</td>\n",
       "      <td>0.764591</td>\n",
       "      <td>0.749027</td>\n",
       "      <td>0.745136</td>\n",
       "      <td>0.758464</td>\n",
       "      <td>0.015367</td>\n",
       "      <td>351</td>\n",
       "    </tr>\n",
       "    <tr>\n",
       "      <th>4</th>\n",
       "      <td>0.023234</td>\n",
       "      <td>0.000289</td>\n",
       "      <td>0.006268</td>\n",
       "      <td>0.000176</td>\n",
       "      <td>1</td>\n",
       "      <td>5</td>\n",
       "      <td>{'max_depth': 1, 'n_estimators': 5}</td>\n",
       "      <td>0.737864</td>\n",
       "      <td>0.747082</td>\n",
       "      <td>0.739300</td>\n",
       "      <td>0.717899</td>\n",
       "      <td>0.725681</td>\n",
       "      <td>0.733565</td>\n",
       "      <td>0.010408</td>\n",
       "      <td>392</td>\n",
       "    </tr>\n",
       "    <tr>\n",
       "      <th>...</th>\n",
       "      <td>...</td>\n",
       "      <td>...</td>\n",
       "      <td>...</td>\n",
       "      <td>...</td>\n",
       "      <td>...</td>\n",
       "      <td>...</td>\n",
       "      <td>...</td>\n",
       "      <td>...</td>\n",
       "      <td>...</td>\n",
       "      <td>...</td>\n",
       "      <td>...</td>\n",
       "      <td>...</td>\n",
       "      <td>...</td>\n",
       "      <td>...</td>\n",
       "      <td>...</td>\n",
       "    </tr>\n",
       "    <tr>\n",
       "      <th>395</th>\n",
       "      <td>0.068671</td>\n",
       "      <td>0.001147</td>\n",
       "      <td>0.007638</td>\n",
       "      <td>0.000338</td>\n",
       "      <td>20</td>\n",
       "      <td>16</td>\n",
       "      <td>{'max_depth': 20, 'n_estimators': 16}</td>\n",
       "      <td>0.753398</td>\n",
       "      <td>0.785992</td>\n",
       "      <td>0.828794</td>\n",
       "      <td>0.760700</td>\n",
       "      <td>0.789883</td>\n",
       "      <td>0.783754</td>\n",
       "      <td>0.026548</td>\n",
       "      <td>242</td>\n",
       "    </tr>\n",
       "    <tr>\n",
       "      <th>396</th>\n",
       "      <td>0.072083</td>\n",
       "      <td>0.000512</td>\n",
       "      <td>0.007642</td>\n",
       "      <td>0.000178</td>\n",
       "      <td>20</td>\n",
       "      <td>17</td>\n",
       "      <td>{'max_depth': 20, 'n_estimators': 17}</td>\n",
       "      <td>0.751456</td>\n",
       "      <td>0.791829</td>\n",
       "      <td>0.828794</td>\n",
       "      <td>0.760700</td>\n",
       "      <td>0.787938</td>\n",
       "      <td>0.784143</td>\n",
       "      <td>0.027148</td>\n",
       "      <td>237</td>\n",
       "    </tr>\n",
       "    <tr>\n",
       "      <th>397</th>\n",
       "      <td>0.075040</td>\n",
       "      <td>0.001213</td>\n",
       "      <td>0.007944</td>\n",
       "      <td>0.000228</td>\n",
       "      <td>20</td>\n",
       "      <td>18</td>\n",
       "      <td>{'max_depth': 20, 'n_estimators': 18}</td>\n",
       "      <td>0.763107</td>\n",
       "      <td>0.791829</td>\n",
       "      <td>0.830739</td>\n",
       "      <td>0.764591</td>\n",
       "      <td>0.793774</td>\n",
       "      <td>0.788808</td>\n",
       "      <td>0.024654</td>\n",
       "      <td>168</td>\n",
       "    </tr>\n",
       "    <tr>\n",
       "      <th>398</th>\n",
       "      <td>0.080519</td>\n",
       "      <td>0.000442</td>\n",
       "      <td>0.008133</td>\n",
       "      <td>0.000289</td>\n",
       "      <td>20</td>\n",
       "      <td>19</td>\n",
       "      <td>{'max_depth': 20, 'n_estimators': 19}</td>\n",
       "      <td>0.755340</td>\n",
       "      <td>0.787938</td>\n",
       "      <td>0.822957</td>\n",
       "      <td>0.762646</td>\n",
       "      <td>0.795720</td>\n",
       "      <td>0.784920</td>\n",
       "      <td>0.024264</td>\n",
       "      <td>226</td>\n",
       "    </tr>\n",
       "    <tr>\n",
       "      <th>399</th>\n",
       "      <td>0.083793</td>\n",
       "      <td>0.000447</td>\n",
       "      <td>0.008238</td>\n",
       "      <td>0.000259</td>\n",
       "      <td>20</td>\n",
       "      <td>20</td>\n",
       "      <td>{'max_depth': 20, 'n_estimators': 20}</td>\n",
       "      <td>0.751456</td>\n",
       "      <td>0.793774</td>\n",
       "      <td>0.828794</td>\n",
       "      <td>0.768482</td>\n",
       "      <td>0.793774</td>\n",
       "      <td>0.787256</td>\n",
       "      <td>0.026247</td>\n",
       "      <td>190</td>\n",
       "    </tr>\n",
       "  </tbody>\n",
       "</table>\n",
       "<p>400 rows × 15 columns</p>\n",
       "</div>"
      ],
      "text/plain": [
       "     mean_fit_time  std_fit_time  mean_score_time  std_score_time  \\\n",
       "0         0.009189      0.004986         0.003417        0.000181   \n",
       "1         0.008476      0.000110         0.003394        0.000037   \n",
       "2         0.010439      0.000116         0.003699        0.000137   \n",
       "3         0.016734      0.002885         0.005323        0.000637   \n",
       "4         0.023234      0.000289         0.006268        0.000176   \n",
       "..             ...           ...              ...             ...   \n",
       "395       0.068671      0.001147         0.007638        0.000338   \n",
       "396       0.072083      0.000512         0.007642        0.000178   \n",
       "397       0.075040      0.001213         0.007944        0.000228   \n",
       "398       0.080519      0.000442         0.008133        0.000289   \n",
       "399       0.083793      0.000447         0.008238        0.000259   \n",
       "\n",
       "    param_max_depth param_n_estimators                                 params  \\\n",
       "0                 1                  1    {'max_depth': 1, 'n_estimators': 1}   \n",
       "1                 1                  2    {'max_depth': 1, 'n_estimators': 2}   \n",
       "2                 1                  3    {'max_depth': 1, 'n_estimators': 3}   \n",
       "3                 1                  4    {'max_depth': 1, 'n_estimators': 4}   \n",
       "4                 1                  5    {'max_depth': 1, 'n_estimators': 5}   \n",
       "..              ...                ...                                    ...   \n",
       "395              20                 16  {'max_depth': 20, 'n_estimators': 16}   \n",
       "396              20                 17  {'max_depth': 20, 'n_estimators': 17}   \n",
       "397              20                 18  {'max_depth': 20, 'n_estimators': 18}   \n",
       "398              20                 19  {'max_depth': 20, 'n_estimators': 19}   \n",
       "399              20                 20  {'max_depth': 20, 'n_estimators': 20}   \n",
       "\n",
       "     split0_test_score  split1_test_score  split2_test_score  \\\n",
       "0             0.724272           0.735409           0.749027   \n",
       "1             0.751456           0.791829           0.762646   \n",
       "2             0.739806           0.772374           0.764591   \n",
       "3             0.747573           0.785992           0.764591   \n",
       "4             0.737864           0.747082           0.739300   \n",
       "..                 ...                ...                ...   \n",
       "395           0.753398           0.785992           0.828794   \n",
       "396           0.751456           0.791829           0.828794   \n",
       "397           0.763107           0.791829           0.830739   \n",
       "398           0.755340           0.787938           0.822957   \n",
       "399           0.751456           0.793774           0.828794   \n",
       "\n",
       "     split3_test_score  split4_test_score  mean_test_score  std_test_score  \\\n",
       "0             0.702335           0.715953         0.725399        0.016006   \n",
       "1             0.741245           0.743191         0.758073        0.018487   \n",
       "2             0.745136           0.745136         0.753409        0.012701   \n",
       "3             0.749027           0.745136         0.758464        0.015367   \n",
       "4             0.717899           0.725681         0.733565        0.010408   \n",
       "..                 ...                ...              ...             ...   \n",
       "395           0.760700           0.789883         0.783754        0.026548   \n",
       "396           0.760700           0.787938         0.784143        0.027148   \n",
       "397           0.764591           0.793774         0.788808        0.024654   \n",
       "398           0.762646           0.795720         0.784920        0.024264   \n",
       "399           0.768482           0.793774         0.787256        0.026247   \n",
       "\n",
       "     rank_test_score  \n",
       "0                397  \n",
       "1                353  \n",
       "2                359  \n",
       "3                351  \n",
       "4                392  \n",
       "..               ...  \n",
       "395              242  \n",
       "396              237  \n",
       "397              168  \n",
       "398              226  \n",
       "399              190  \n",
       "\n",
       "[400 rows x 15 columns]"
      ]
     },
     "execution_count": 23,
     "metadata": {},
     "output_type": "execute_result"
    }
   ],
   "source": [
    "rfc_cvreport = pd.DataFrame(rfc.cv_results_)\n",
    "rfc_cvreport"
   ]
  }
 ],
 "metadata": {
  "ExecuteTimeLog": [
   {
    "duration": 1502,
    "start_time": "2021-06-27T21:09:25.935Z"
   },
   {
    "duration": 427,
    "start_time": "2021-06-27T21:09:27.440Z"
   },
   {
    "duration": 62,
    "start_time": "2021-06-27T21:09:27.808Z"
   },
   {
    "duration": 9,
    "start_time": "2021-06-27T21:09:27.863Z"
   },
   {
    "duration": 7,
    "start_time": "2021-06-27T21:09:27.866Z"
   },
   {
    "duration": -7,
    "start_time": "2021-06-27T21:09:27.881Z"
   },
   {
    "duration": -7,
    "start_time": "2021-06-27T21:09:27.883Z"
   },
   {
    "duration": -17,
    "start_time": "2021-06-27T21:09:27.894Z"
   },
   {
    "duration": -18,
    "start_time": "2021-06-27T21:09:27.897Z"
   },
   {
    "duration": -19,
    "start_time": "2021-06-27T21:09:27.899Z"
   },
   {
    "duration": -32,
    "start_time": "2021-06-27T21:09:27.913Z"
   },
   {
    "duration": -34,
    "start_time": "2021-06-27T21:09:27.916Z"
   },
   {
    "duration": -41,
    "start_time": "2021-06-27T21:09:27.925Z"
   },
   {
    "duration": -43,
    "start_time": "2021-06-27T21:09:27.928Z"
   },
   {
    "duration": -44,
    "start_time": "2021-06-27T21:09:27.930Z"
   },
   {
    "duration": -45,
    "start_time": "2021-06-27T21:09:27.932Z"
   },
   {
    "duration": -54,
    "start_time": "2021-06-27T21:09:27.943Z"
   },
   {
    "duration": -56,
    "start_time": "2021-06-27T21:09:27.946Z"
   },
   {
    "duration": -56,
    "start_time": "2021-06-27T21:09:27.948Z"
   },
   {
    "duration": -58,
    "start_time": "2021-06-27T21:09:27.951Z"
   },
   {
    "duration": -59,
    "start_time": "2021-06-27T21:09:27.953Z"
   },
   {
    "duration": 38,
    "start_time": "2021-06-27T21:10:11.601Z"
   },
   {
    "duration": 8,
    "start_time": "2021-06-27T21:10:11.642Z"
   },
   {
    "duration": 45,
    "start_time": "2021-06-27T21:10:11.653Z"
   },
   {
    "duration": 26,
    "start_time": "2021-06-27T21:10:11.701Z"
   },
   {
    "duration": 469,
    "start_time": "2021-06-27T21:10:11.730Z"
   },
   {
    "duration": 5,
    "start_time": "2021-06-27T21:10:12.201Z"
   },
   {
    "duration": 39,
    "start_time": "2021-06-27T21:10:12.208Z"
   },
   {
    "duration": 22,
    "start_time": "2021-06-27T21:10:12.252Z"
   },
   {
    "duration": 514,
    "start_time": "2021-06-27T21:10:12.276Z"
   },
   {
    "duration": 19437,
    "start_time": "2021-06-27T21:10:12.792Z"
   },
   {
    "duration": 12,
    "start_time": "2021-06-27T21:10:32.232Z"
   },
   {
    "duration": 22,
    "start_time": "2021-06-27T21:10:32.246Z"
   },
   {
    "duration": 6,
    "start_time": "2021-06-27T21:10:32.271Z"
   },
   {
    "duration": -228,
    "start_time": "2021-06-27T21:10:32.508Z"
   },
   {
    "duration": -230,
    "start_time": "2021-06-27T21:10:32.511Z"
   },
   {
    "duration": -231,
    "start_time": "2021-06-27T21:10:32.514Z"
   },
   {
    "duration": -206,
    "start_time": "2021-06-27T21:10:32.530Z"
   },
   {
    "duration": -207,
    "start_time": "2021-06-27T21:10:32.532Z"
   },
   {
    "duration": -207,
    "start_time": "2021-06-27T21:10:32.534Z"
   },
   {
    "duration": 5,
    "start_time": "2021-06-27T21:12:05.983Z"
   },
   {
    "duration": 274,
    "start_time": "2021-06-27T21:12:05.991Z"
   },
   {
    "duration": 54,
    "start_time": "2021-06-27T21:12:06.214Z"
   },
   {
    "duration": 53,
    "start_time": "2021-06-27T21:12:06.217Z"
   },
   {
    "duration": 51,
    "start_time": "2021-06-27T21:12:06.220Z"
   },
   {
    "duration": 51,
    "start_time": "2021-06-27T21:12:06.222Z"
   },
   {
    "duration": 41,
    "start_time": "2021-06-27T21:12:06.233Z"
   },
   {
    "duration": 40,
    "start_time": "2021-06-27T21:12:06.235Z"
   },
   {
    "duration": 39,
    "start_time": "2021-06-27T21:12:06.238Z"
   },
   {
    "duration": 29,
    "start_time": "2021-06-27T21:12:06.249Z"
   },
   {
    "duration": 29,
    "start_time": "2021-06-27T21:12:06.251Z"
   },
   {
    "duration": 17,
    "start_time": "2021-06-27T21:12:06.265Z"
   },
   {
    "duration": 16,
    "start_time": "2021-06-27T21:12:06.267Z"
   },
   {
    "duration": 6,
    "start_time": "2021-06-27T21:12:06.279Z"
   },
   {
    "duration": -5,
    "start_time": "2021-06-27T21:12:06.291Z"
   },
   {
    "duration": -13,
    "start_time": "2021-06-27T21:12:06.300Z"
   },
   {
    "duration": -15,
    "start_time": "2021-06-27T21:12:06.303Z"
   },
   {
    "duration": -15,
    "start_time": "2021-06-27T21:12:06.305Z"
   },
   {
    "duration": -16,
    "start_time": "2021-06-27T21:12:06.307Z"
   },
   {
    "duration": -24,
    "start_time": "2021-06-27T21:12:06.316Z"
   },
   {
    "duration": -24,
    "start_time": "2021-06-27T21:12:06.318Z"
   },
   {
    "duration": 1487,
    "start_time": "2021-06-27T21:12:21.040Z"
   },
   {
    "duration": 409,
    "start_time": "2021-06-27T21:12:22.530Z"
   },
   {
    "duration": 60,
    "start_time": "2021-06-27T21:12:22.882Z"
   },
   {
    "duration": 44,
    "start_time": "2021-06-27T21:12:22.900Z"
   },
   {
    "duration": -9,
    "start_time": "2021-06-27T21:12:22.954Z"
   },
   {
    "duration": -19,
    "start_time": "2021-06-27T21:12:22.965Z"
   },
   {
    "duration": -29,
    "start_time": "2021-06-27T21:12:22.977Z"
   },
   {
    "duration": -30,
    "start_time": "2021-06-27T21:12:22.979Z"
   },
   {
    "duration": -32,
    "start_time": "2021-06-27T21:12:22.982Z"
   },
   {
    "duration": -32,
    "start_time": "2021-06-27T21:12:22.984Z"
   },
   {
    "duration": -33,
    "start_time": "2021-06-27T21:12:22.986Z"
   },
   {
    "duration": -34,
    "start_time": "2021-06-27T21:12:22.988Z"
   },
   {
    "duration": -36,
    "start_time": "2021-06-27T21:12:22.991Z"
   },
   {
    "duration": -37,
    "start_time": "2021-06-27T21:12:22.993Z"
   },
   {
    "duration": -37,
    "start_time": "2021-06-27T21:12:22.995Z"
   },
   {
    "duration": -37,
    "start_time": "2021-06-27T21:12:22.996Z"
   },
   {
    "duration": -39,
    "start_time": "2021-06-27T21:12:22.999Z"
   },
   {
    "duration": -52,
    "start_time": "2021-06-27T21:12:23.013Z"
   },
   {
    "duration": -58,
    "start_time": "2021-06-27T21:12:23.021Z"
   },
   {
    "duration": -59,
    "start_time": "2021-06-27T21:12:23.023Z"
   },
   {
    "duration": -61,
    "start_time": "2021-06-27T21:12:23.026Z"
   },
   {
    "duration": 35,
    "start_time": "2021-06-27T21:12:30.517Z"
   },
   {
    "duration": 9,
    "start_time": "2021-06-27T21:12:30.555Z"
   },
   {
    "duration": 62,
    "start_time": "2021-06-27T21:12:30.566Z"
   },
   {
    "duration": 6,
    "start_time": "2021-06-27T21:12:30.631Z"
   },
   {
    "duration": 472,
    "start_time": "2021-06-27T21:12:30.639Z"
   },
   {
    "duration": 12,
    "start_time": "2021-06-27T21:12:31.113Z"
   },
   {
    "duration": 27,
    "start_time": "2021-06-27T21:12:31.128Z"
   },
   {
    "duration": 18,
    "start_time": "2021-06-27T21:12:31.157Z"
   },
   {
    "duration": 547,
    "start_time": "2021-06-27T21:12:31.179Z"
   },
   {
    "duration": 19514,
    "start_time": "2021-06-27T21:12:31.729Z"
   },
   {
    "duration": 13,
    "start_time": "2021-06-27T21:12:51.246Z"
   },
   {
    "duration": 19,
    "start_time": "2021-06-27T21:12:51.261Z"
   },
   {
    "duration": 7,
    "start_time": "2021-06-27T21:12:51.282Z"
   },
   {
    "duration": -570,
    "start_time": "2021-06-27T21:12:51.862Z"
   },
   {
    "duration": -541,
    "start_time": "2021-06-27T21:12:51.865Z"
   },
   {
    "duration": -542,
    "start_time": "2021-06-27T21:12:51.867Z"
   },
   {
    "duration": -546,
    "start_time": "2021-06-27T21:12:51.873Z"
   },
   {
    "duration": -548,
    "start_time": "2021-06-27T21:12:51.876Z"
   },
   {
    "duration": -551,
    "start_time": "2021-06-27T21:12:51.880Z"
   },
   {
    "duration": 20,
    "start_time": "2021-06-27T21:13:00.537Z"
   },
   {
    "duration": 1279,
    "start_time": "2021-06-27T21:13:00.560Z"
   },
   {
    "duration": 83156,
    "start_time": "2021-06-27T21:13:01.842Z"
   },
   {
    "duration": 24,
    "start_time": "2021-06-27T21:14:25.000Z"
   },
   {
    "duration": 7,
    "start_time": "2021-06-27T21:14:25.027Z"
   },
   {
    "duration": 39,
    "start_time": "2021-06-27T21:14:25.037Z"
   },
   {
    "duration": 24040,
    "start_time": "2021-06-28T13:04:04.670Z"
   },
   {
    "duration": 14323,
    "start_time": "2021-06-28T13:05:04.432Z"
   },
   {
    "duration": 8647,
    "start_time": "2021-06-28T13:05:55.804Z"
   },
   {
    "duration": 8570,
    "start_time": "2021-06-28T13:06:08.633Z"
   },
   {
    "duration": 1967,
    "start_time": "2021-06-28T13:06:17.206Z"
   },
   {
    "duration": 5,
    "start_time": "2021-06-28T13:06:19.176Z"
   },
   {
    "duration": 51,
    "start_time": "2021-06-28T13:06:19.184Z"
   },
   {
    "duration": 17,
    "start_time": "2021-06-28T13:06:19.237Z"
   },
   {
    "duration": 44,
    "start_time": "2021-06-28T13:06:19.257Z"
   },
   {
    "duration": 7,
    "start_time": "2021-06-28T13:06:19.304Z"
   },
   {
    "duration": 693,
    "start_time": "2021-06-28T13:06:19.314Z"
   },
   {
    "duration": 6,
    "start_time": "2021-06-28T13:06:20.011Z"
   },
   {
    "duration": 46,
    "start_time": "2021-06-28T13:06:20.019Z"
   },
   {
    "duration": 18,
    "start_time": "2021-06-28T13:06:20.067Z"
   },
   {
    "duration": 831,
    "start_time": "2021-06-28T13:06:20.087Z"
   },
   {
    "duration": 21744,
    "start_time": "2021-06-28T13:06:20.921Z"
   },
   {
    "duration": 15,
    "start_time": "2021-06-28T13:06:42.667Z"
   },
   {
    "duration": 24,
    "start_time": "2021-06-28T13:06:42.685Z"
   },
   {
    "duration": 47,
    "start_time": "2021-06-28T13:06:42.712Z"
   },
   {
    "duration": 8830,
    "start_time": "2021-06-28T13:06:33.932Z"
   },
   {
    "duration": 8829,
    "start_time": "2021-06-28T13:06:33.934Z"
   },
   {
    "duration": 8823,
    "start_time": "2021-06-28T13:06:33.941Z"
   },
   {
    "duration": 8822,
    "start_time": "2021-06-28T13:06:33.944Z"
   },
   {
    "duration": 8821,
    "start_time": "2021-06-28T13:06:33.946Z"
   },
   {
    "duration": 8821,
    "start_time": "2021-06-28T13:06:33.947Z"
   },
   {
    "duration": 5,
    "start_time": "2021-06-28T13:09:46.730Z"
   },
   {
    "duration": 9506,
    "start_time": "2021-06-28T13:49:30.954Z"
   },
   {
    "duration": 2051,
    "start_time": "2021-06-28T13:49:40.463Z"
   },
   {
    "duration": 5,
    "start_time": "2021-06-28T13:49:42.517Z"
   },
   {
    "duration": 69,
    "start_time": "2021-06-28T13:49:42.525Z"
   },
   {
    "duration": 18,
    "start_time": "2021-06-28T13:49:42.597Z"
   },
   {
    "duration": 37,
    "start_time": "2021-06-28T13:49:42.618Z"
   },
   {
    "duration": 7,
    "start_time": "2021-06-28T13:49:42.658Z"
   },
   {
    "duration": 715,
    "start_time": "2021-06-28T13:49:42.669Z"
   },
   {
    "duration": 6,
    "start_time": "2021-06-28T13:49:43.389Z"
   },
   {
    "duration": 32,
    "start_time": "2021-06-28T13:49:43.398Z"
   },
   {
    "duration": 27,
    "start_time": "2021-06-28T13:49:43.454Z"
   },
   {
    "duration": 977,
    "start_time": "2021-06-28T13:49:43.484Z"
   },
   {
    "duration": 21739,
    "start_time": "2021-06-28T13:49:44.463Z"
   },
   {
    "duration": 88,
    "start_time": "2021-06-28T14:12:41.992Z"
   },
   {
    "duration": 665,
    "start_time": "2021-06-28T14:12:47.430Z"
   },
   {
    "duration": 524,
    "start_time": "2021-06-28T14:13:52.349Z"
   },
   {
    "duration": 520,
    "start_time": "2021-06-28T14:14:26.452Z"
   },
   {
    "duration": 614,
    "start_time": "2021-06-28T14:14:50.298Z"
   },
   {
    "duration": 512,
    "start_time": "2021-06-28T14:15:38.169Z"
   },
   {
    "duration": 19,
    "start_time": "2021-06-28T14:16:04.159Z"
   },
   {
    "duration": 512,
    "start_time": "2021-06-28T14:16:08.219Z"
   },
   {
    "duration": 286,
    "start_time": "2021-06-28T14:16:59.596Z"
   },
   {
    "duration": 1576,
    "start_time": "2021-06-28T14:17:38.089Z"
   },
   {
    "duration": 19,
    "start_time": "2021-06-28T14:18:03.636Z"
   },
   {
    "duration": 1501,
    "start_time": "2021-06-28T14:18:10.556Z"
   },
   {
    "duration": 7347,
    "start_time": "2021-06-28T14:21:56.186Z"
   },
   {
    "duration": 5,
    "start_time": "2021-06-28T14:31:48.432Z"
   },
   {
    "duration": 7,
    "start_time": "2021-06-28T14:31:48.441Z"
   },
   {
    "duration": 35,
    "start_time": "2021-06-28T14:31:48.450Z"
   },
   {
    "duration": 16,
    "start_time": "2021-06-28T14:31:48.488Z"
   },
   {
    "duration": 38,
    "start_time": "2021-06-28T14:31:48.507Z"
   },
   {
    "duration": 10,
    "start_time": "2021-06-28T14:31:48.548Z"
   },
   {
    "duration": 643,
    "start_time": "2021-06-28T14:31:48.560Z"
   },
   {
    "duration": 5,
    "start_time": "2021-06-28T14:31:49.206Z"
   },
   {
    "duration": 43,
    "start_time": "2021-06-28T14:31:49.215Z"
   },
   {
    "duration": 20,
    "start_time": "2021-06-28T14:31:49.262Z"
   },
   {
    "duration": 855,
    "start_time": "2021-06-28T14:31:49.285Z"
   },
   {
    "duration": 22462,
    "start_time": "2021-06-28T14:31:50.143Z"
   },
   {
    "duration": 256,
    "start_time": "2021-06-28T14:49:13.855Z"
   },
   {
    "duration": 676,
    "start_time": "2021-06-28T14:50:20.658Z"
   },
   {
    "duration": 525,
    "start_time": "2021-06-28T14:51:06.600Z"
   },
   {
    "duration": 976,
    "start_time": "2021-06-28T14:51:21.026Z"
   },
   {
    "duration": 795,
    "start_time": "2021-06-28T14:52:02.701Z"
   },
   {
    "duration": 787,
    "start_time": "2021-06-28T14:52:15.549Z"
   },
   {
    "duration": 819,
    "start_time": "2021-06-28T14:52:43.567Z"
   },
   {
    "duration": 903,
    "start_time": "2021-06-28T14:52:53.698Z"
   },
   {
    "duration": 1055,
    "start_time": "2021-06-28T14:53:34.312Z"
   },
   {
    "duration": 3041,
    "start_time": "2021-06-28T14:56:04.105Z"
   },
   {
    "duration": 758,
    "start_time": "2021-06-28T14:56:12.452Z"
   },
   {
    "duration": 5,
    "start_time": "2021-06-28T14:57:58.026Z"
   },
   {
    "duration": 668,
    "start_time": "2021-06-28T14:59:47.178Z"
   },
   {
    "duration": 866,
    "start_time": "2021-06-28T15:00:03.429Z"
   },
   {
    "duration": 1590,
    "start_time": "2021-06-28T15:00:32.235Z"
   },
   {
    "duration": 2220,
    "start_time": "2021-06-28T15:00:51.665Z"
   },
   {
    "duration": 1380,
    "start_time": "2021-06-28T15:01:14.997Z"
   },
   {
    "duration": 1497,
    "start_time": "2021-06-28T15:01:34.280Z"
   },
   {
    "duration": 1561,
    "start_time": "2021-06-28T15:01:41.220Z"
   },
   {
    "duration": 1540,
    "start_time": "2021-06-28T15:01:47.644Z"
   },
   {
    "duration": 1542,
    "start_time": "2021-06-28T15:01:57.661Z"
   },
   {
    "duration": 1555,
    "start_time": "2021-06-28T15:02:07.989Z"
   },
   {
    "duration": 1445,
    "start_time": "2021-06-28T15:02:25.316Z"
   },
   {
    "duration": 803,
    "start_time": "2021-06-28T15:03:00.408Z"
   },
   {
    "duration": 85,
    "start_time": "2021-06-28T15:08:10.829Z"
   },
   {
    "duration": 270,
    "start_time": "2021-06-28T15:09:05.872Z"
   },
   {
    "duration": 862,
    "start_time": "2021-06-28T15:09:11.699Z"
   },
   {
    "duration": 427,
    "start_time": "2021-06-28T15:09:15.229Z"
   },
   {
    "duration": 24,
    "start_time": "2021-06-28T15:09:32.981Z"
   },
   {
    "duration": 740,
    "start_time": "2021-06-28T15:09:47.748Z"
   },
   {
    "duration": 26,
    "start_time": "2021-06-28T15:09:52.654Z"
   },
   {
    "duration": 27,
    "start_time": "2021-06-28T15:09:55.234Z"
   },
   {
    "duration": 931,
    "start_time": "2021-06-28T15:10:10.728Z"
   },
   {
    "duration": 26,
    "start_time": "2021-06-28T15:10:15.248Z"
   },
   {
    "duration": 7,
    "start_time": "2021-06-28T15:17:29.941Z"
   },
   {
    "duration": 8,
    "start_time": "2021-06-28T15:17:50.616Z"
   },
   {
    "duration": 301,
    "start_time": "2021-06-28T15:18:24.569Z"
   },
   {
    "duration": 28,
    "start_time": "2021-06-28T15:19:05.029Z"
   },
   {
    "duration": 88,
    "start_time": "2021-06-28T15:19:38.432Z"
   },
   {
    "duration": 6,
    "start_time": "2021-06-28T15:33:38.794Z"
   },
   {
    "duration": 245,
    "start_time": "2021-06-28T15:38:21.161Z"
   },
   {
    "duration": 9,
    "start_time": "2021-06-28T15:38:34.366Z"
   },
   {
    "duration": 30,
    "start_time": "2021-06-28T15:39:40.739Z"
   },
   {
    "duration": 28,
    "start_time": "2021-06-28T15:40:08.679Z"
   },
   {
    "duration": 1995,
    "start_time": "2021-06-28T15:45:02.105Z"
   },
   {
    "duration": 5,
    "start_time": "2021-06-28T15:45:04.104Z"
   },
   {
    "duration": 46,
    "start_time": "2021-06-28T15:45:04.112Z"
   },
   {
    "duration": 17,
    "start_time": "2021-06-28T15:45:04.161Z"
   },
   {
    "duration": 42,
    "start_time": "2021-06-28T15:45:04.181Z"
   },
   {
    "duration": 6,
    "start_time": "2021-06-28T15:45:04.225Z"
   },
   {
    "duration": 650,
    "start_time": "2021-06-28T15:45:04.255Z"
   },
   {
    "duration": 5,
    "start_time": "2021-06-28T15:45:04.907Z"
   },
   {
    "duration": 43,
    "start_time": "2021-06-28T15:45:04.916Z"
   },
   {
    "duration": 19,
    "start_time": "2021-06-28T15:45:04.962Z"
   },
   {
    "duration": 1019,
    "start_time": "2021-06-28T15:45:04.984Z"
   },
   {
    "duration": 22164,
    "start_time": "2021-06-28T15:45:06.006Z"
   },
   {
    "duration": 906,
    "start_time": "2021-06-28T15:45:28.173Z"
   },
   {
    "duration": 25,
    "start_time": "2021-06-28T15:45:29.082Z"
   },
   {
    "duration": 57,
    "start_time": "2021-06-28T15:45:29.110Z"
   },
   {
    "duration": 28,
    "start_time": "2021-06-28T15:45:29.170Z"
   },
   {
    "duration": 15,
    "start_time": "2021-06-28T15:45:29.201Z"
   },
   {
    "duration": 1437,
    "start_time": "2021-06-28T15:45:29.219Z"
   },
   {
    "duration": 92584,
    "start_time": "2021-06-28T15:45:30.659Z"
   },
   {
    "duration": 15,
    "start_time": "2021-06-28T15:47:03.245Z"
   },
   {
    "duration": 8,
    "start_time": "2021-06-28T15:47:03.263Z"
   },
   {
    "duration": 42,
    "start_time": "2021-06-28T15:47:03.273Z"
   },
   {
    "duration": 9167,
    "start_time": "2021-06-28T15:49:01.494Z"
   },
   {
    "duration": 1988,
    "start_time": "2021-06-28T15:49:10.666Z"
   },
   {
    "duration": 5,
    "start_time": "2021-06-28T15:49:12.657Z"
   },
   {
    "duration": 52,
    "start_time": "2021-06-28T15:49:12.665Z"
   },
   {
    "duration": 17,
    "start_time": "2021-06-28T15:49:12.719Z"
   },
   {
    "duration": 39,
    "start_time": "2021-06-28T15:49:12.738Z"
   },
   {
    "duration": 6,
    "start_time": "2021-06-28T15:49:12.779Z"
   },
   {
    "duration": 691,
    "start_time": "2021-06-28T15:49:12.789Z"
   },
   {
    "duration": 6,
    "start_time": "2021-06-28T15:49:13.483Z"
   },
   {
    "duration": 34,
    "start_time": "2021-06-28T15:49:13.491Z"
   },
   {
    "duration": 35,
    "start_time": "2021-06-28T15:49:13.528Z"
   },
   {
    "duration": 935,
    "start_time": "2021-06-28T15:49:13.565Z"
   },
   {
    "duration": 22037,
    "start_time": "2021-06-28T15:49:14.503Z"
   },
   {
    "duration": 792,
    "start_time": "2021-06-28T15:49:36.543Z"
   },
   {
    "duration": 31,
    "start_time": "2021-06-28T15:49:37.338Z"
   },
   {
    "duration": 30,
    "start_time": "2021-06-28T15:49:37.372Z"
   },
   {
    "duration": 66,
    "start_time": "2021-06-28T15:49:37.405Z"
   },
   {
    "duration": 17,
    "start_time": "2021-06-28T15:49:37.474Z"
   },
   {
    "duration": 1421,
    "start_time": "2021-06-28T15:49:37.494Z"
   },
   {
    "duration": 93637,
    "start_time": "2021-06-28T15:49:38.917Z"
   },
   {
    "duration": 11,
    "start_time": "2021-06-28T15:51:12.556Z"
   },
   {
    "duration": 8,
    "start_time": "2021-06-28T15:51:12.570Z"
   },
   {
    "duration": 71,
    "start_time": "2021-06-28T15:51:12.583Z"
   }
  ],
  "interpreter": {
   "hash": "dced0c67c79fe469167d08eaf5b0428a0573fb00917c5306cf303fb717885630"
  },
  "kernelspec": {
   "display_name": "Python 3",
   "language": "python",
   "name": "python3"
  },
  "language_info": {
   "codemirror_mode": {
    "name": "ipython",
    "version": 3
   },
   "file_extension": ".py",
   "mimetype": "text/x-python",
   "name": "python",
   "nbconvert_exporter": "python",
   "pygments_lexer": "ipython3",
   "version": "3.9.1"
  },
  "toc": {
   "base_numbering": 1,
   "nav_menu": {},
   "number_sections": true,
   "sideBar": true,
   "skip_h1_title": true,
   "title_cell": "Table of Contents",
   "title_sidebar": "Contents",
   "toc_cell": false,
   "toc_position": {},
   "toc_section_display": true,
   "toc_window_display": true
  }
 },
 "nbformat": 4,
 "nbformat_minor": 2
}
