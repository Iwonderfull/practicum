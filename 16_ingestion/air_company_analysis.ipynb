{
 "cells": [
  {
   "cell_type": "markdown",
   "metadata": {
    "toc": true
   },
   "source": [
    "<h1>Содержание<span class=\"tocSkip\"></span></h1>\n",
    "<div class=\"toc\"><ul class=\"toc-item\"><li><span><a href=\"#Настройка-среды\" data-toc-modified-id=\"Настройка-среды-1\"><span class=\"toc-item-num\">1&nbsp;&nbsp;</span>Настройка среды</a></span></li><li><span><a href=\"#Загрузка-данных\" data-toc-modified-id=\"Загрузка-данных-2\"><span class=\"toc-item-num\">2&nbsp;&nbsp;</span>Загрузка данных</a></span><ul class=\"toc-item\"><li><span><a href=\"#Выводы\" data-toc-modified-id=\"Выводы-2.1\"><span class=\"toc-item-num\">2.1&nbsp;&nbsp;</span>Выводы</a></span></li></ul></li><li><span><a href=\"#Аналитика\" data-toc-modified-id=\"Аналитика-3\"><span class=\"toc-item-num\">3&nbsp;&nbsp;</span>Аналитика</a></span></li><li><span><a href=\"#Выводы\" data-toc-modified-id=\"Выводы-4\"><span class=\"toc-item-num\">4&nbsp;&nbsp;</span>Выводы</a></span></li><li><span><a href=\"#Чек-лист-проверки\" data-toc-modified-id=\"Чек-лист-проверки-5\"><span class=\"toc-item-num\">5&nbsp;&nbsp;</span>Чек-лист проверки</a></span></li></ul></div>"
   ]
  },
  {
   "cell_type": "markdown",
   "metadata": {},
   "source": [
    "## Настройка среды"
   ]
  },
  {
   "cell_type": "code",
   "execution_count": 1,
   "metadata": {},
   "outputs": [],
   "source": [
    "!pip install --no-warn-script-location -qU pandas seaborn matplotlib"
   ]
  },
  {
   "cell_type": "code",
   "execution_count": 2,
   "metadata": {},
   "outputs": [],
   "source": [
    "import pandas as pd\n",
    "import seaborn as sns\n",
    "import matplotlib.pyplot as plt"
   ]
  },
  {
   "cell_type": "code",
   "execution_count": 3,
   "metadata": {},
   "outputs": [],
   "source": [
    "sns.set()"
   ]
  },
  {
   "cell_type": "markdown",
   "metadata": {},
   "source": [
    "## Загрузка данных"
   ]
  },
  {
   "cell_type": "code",
   "execution_count": 4,
   "metadata": {},
   "outputs": [
    {
     "name": "stdout",
     "output_type": "stream",
     "text": [
      "<class 'pandas.core.frame.DataFrame'>\n",
      "RangeIndex: 8 entries, 0 to 7\n",
      "Data columns (total 2 columns):\n",
      " #   Column          Non-Null Count  Dtype \n",
      "---  ------          --------------  ----- \n",
      " 0   model           8 non-null      object\n",
      " 1   flights_amount  8 non-null      int64 \n",
      "dtypes: int64(1), object(1)\n",
      "memory usage: 256.0+ bytes\n"
     ]
    },
    {
     "data": {
      "text/html": [
       "<div>\n",
       "<style scoped>\n",
       "    .dataframe tbody tr th:only-of-type {\n",
       "        vertical-align: middle;\n",
       "    }\n",
       "\n",
       "    .dataframe tbody tr th {\n",
       "        vertical-align: top;\n",
       "    }\n",
       "\n",
       "    .dataframe thead th {\n",
       "        text-align: right;\n",
       "    }\n",
       "</style>\n",
       "<table border=\"1\" class=\"dataframe\">\n",
       "  <thead>\n",
       "    <tr style=\"text-align: right;\">\n",
       "      <th></th>\n",
       "      <th>model</th>\n",
       "      <th>flights_amount</th>\n",
       "    </tr>\n",
       "  </thead>\n",
       "  <tbody>\n",
       "    <tr>\n",
       "      <th>0</th>\n",
       "      <td>Airbus A319-100</td>\n",
       "      <td>607</td>\n",
       "    </tr>\n",
       "    <tr>\n",
       "      <th>1</th>\n",
       "      <td>Airbus A321-200</td>\n",
       "      <td>960</td>\n",
       "    </tr>\n",
       "    <tr>\n",
       "      <th>2</th>\n",
       "      <td>Boeing 737-300</td>\n",
       "      <td>630</td>\n",
       "    </tr>\n",
       "    <tr>\n",
       "      <th>3</th>\n",
       "      <td>Boeing 767-300</td>\n",
       "      <td>600</td>\n",
       "    </tr>\n",
       "    <tr>\n",
       "      <th>4</th>\n",
       "      <td>Boeing 777-300</td>\n",
       "      <td>300</td>\n",
       "    </tr>\n",
       "    <tr>\n",
       "      <th>5</th>\n",
       "      <td>Bombardier CRJ-200</td>\n",
       "      <td>4446</td>\n",
       "    </tr>\n",
       "    <tr>\n",
       "      <th>6</th>\n",
       "      <td>Cessna 208 Caravan</td>\n",
       "      <td>4557</td>\n",
       "    </tr>\n",
       "    <tr>\n",
       "      <th>7</th>\n",
       "      <td>Sukhoi SuperJet-100</td>\n",
       "      <td>4185</td>\n",
       "    </tr>\n",
       "  </tbody>\n",
       "</table>\n",
       "</div>"
      ],
      "text/plain": [
       "                 model  flights_amount\n",
       "0      Airbus A319-100             607\n",
       "1      Airbus A321-200             960\n",
       "2       Boeing 737-300             630\n",
       "3       Boeing 767-300             600\n",
       "4       Boeing 777-300             300\n",
       "5   Bombardier CRJ-200            4446\n",
       "6   Cessna 208 Caravan            4557\n",
       "7  Sukhoi SuperJet-100            4185"
      ]
     },
     "execution_count": 4,
     "metadata": {},
     "output_type": "execute_result"
    }
   ],
   "source": [
    "q1 = pd.read_csv('/datasets/query_1.csv')\n",
    "q1.info()\n",
    "q1"
   ]
  },
  {
   "cell_type": "code",
   "execution_count": 5,
   "metadata": {},
   "outputs": [
    {
     "name": "stdout",
     "output_type": "stream",
     "text": [
      "<class 'pandas.core.frame.DataFrame'>\n",
      "RangeIndex: 101 entries, 0 to 100\n",
      "Data columns (total 2 columns):\n",
      " #   Column           Non-Null Count  Dtype  \n",
      "---  ------           --------------  -----  \n",
      " 0   city             101 non-null    object \n",
      " 1   average_flights  101 non-null    float64\n",
      "dtypes: float64(1), object(1)\n",
      "memory usage: 1.7+ KB\n"
     ]
    },
    {
     "data": {
      "text/html": [
       "<div>\n",
       "<style scoped>\n",
       "    .dataframe tbody tr th:only-of-type {\n",
       "        vertical-align: middle;\n",
       "    }\n",
       "\n",
       "    .dataframe tbody tr th {\n",
       "        vertical-align: top;\n",
       "    }\n",
       "\n",
       "    .dataframe thead th {\n",
       "        text-align: right;\n",
       "    }\n",
       "</style>\n",
       "<table border=\"1\" class=\"dataframe\">\n",
       "  <thead>\n",
       "    <tr style=\"text-align: right;\">\n",
       "      <th></th>\n",
       "      <th>city</th>\n",
       "      <th>average_flights</th>\n",
       "    </tr>\n",
       "  </thead>\n",
       "  <tbody>\n",
       "    <tr>\n",
       "      <th>26</th>\n",
       "      <td>Калининград</td>\n",
       "      <td>2.580645</td>\n",
       "    </tr>\n",
       "    <tr>\n",
       "      <th>55</th>\n",
       "      <td>Новый Уренгой</td>\n",
       "      <td>8.290323</td>\n",
       "    </tr>\n",
       "    <tr>\n",
       "      <th>16</th>\n",
       "      <td>Воронеж</td>\n",
       "      <td>2.000000</td>\n",
       "    </tr>\n",
       "    <tr>\n",
       "      <th>35</th>\n",
       "      <td>Курск</td>\n",
       "      <td>2.290323</td>\n",
       "    </tr>\n",
       "    <tr>\n",
       "      <th>73</th>\n",
       "      <td>Советский</td>\n",
       "      <td>9.000000</td>\n",
       "    </tr>\n",
       "    <tr>\n",
       "      <th>82</th>\n",
       "      <td>Удачный</td>\n",
       "      <td>3.000000</td>\n",
       "    </tr>\n",
       "    <tr>\n",
       "      <th>3</th>\n",
       "      <td>Архангельск</td>\n",
       "      <td>5.354839</td>\n",
       "    </tr>\n",
       "    <tr>\n",
       "      <th>71</th>\n",
       "      <td>Саранск</td>\n",
       "      <td>2.000000</td>\n",
       "    </tr>\n",
       "  </tbody>\n",
       "</table>\n",
       "</div>"
      ],
      "text/plain": [
       "             city  average_flights\n",
       "26    Калининград         2.580645\n",
       "55  Новый Уренгой         8.290323\n",
       "16        Воронеж         2.000000\n",
       "35          Курск         2.290323\n",
       "73      Советский         9.000000\n",
       "82        Удачный         3.000000\n",
       "3     Архангельск         5.354839\n",
       "71        Саранск         2.000000"
      ]
     },
     "execution_count": 5,
     "metadata": {},
     "output_type": "execute_result"
    }
   ],
   "source": [
    "q3 = pd.read_csv('/datasets/query_3.csv')\n",
    "q3.info()\n",
    "q3.sample(8)"
   ]
  },
  {
   "cell_type": "markdown",
   "metadata": {},
   "source": [
    "### Выводы"
   ]
  },
  {
   "cell_type": "markdown",
   "metadata": {},
   "source": [
    "- В данных первого запроса признак модели самолета представлен в виде строк, а признак количества рейсов за сентябрь 2018 года имеет целочисленный тип 'int64'. Данные первого запроса имеют корректные форматы.\n",
    "- В данных третьего запроса названия городов представлены в виде строк, а признак среднего количества рейсов за сентябрь 2018 года в формате с плавающей точкой 'float64'. Данные третьего запроса имеют корректные форматы.\n",
    "- В данных обоих запросов пропусков нет."
   ]
  },
  {
   "cell_type": "markdown",
   "metadata": {},
   "source": [
    "## Аналитика"
   ]
  },
  {
   "cell_type": "code",
   "execution_count": 6,
   "metadata": {
    "scrolled": true
   },
   "outputs": [
    {
     "data": {
      "image/png": "[encoded data removed]",
      "text/plain": [
       "<Figure size 432x288 with 1 Axes>"
      ]
     },
     "metadata": {},
     "output_type": "display_data"
    }
   ],
   "source": [
    "#График моделей самолётов и количества рейсов\n",
    "ax = sns.barplot(\n",
    "    data=q1.sort_values('flights_amount', ascending=False),\n",
    "    x='flights_amount', \n",
    "    y='model', \n",
    "    orient='h'\n",
    ")\n",
    "ax.set_title(\"График моделей самолётов и количества рейсов\")\n",
    "ax.set_xlabel(\"Количество рейсов\")\n",
    "ax.set_ylabel(\"Модели самолетов\")\n",
    "print(end='')"
   ]
  },
  {
   "cell_type": "markdown",
   "metadata": {},
   "source": [
    "На графике можно увидеть три модели самолетов, которые используются гораздо чаще остальных (более чем в 4 раза):\n",
    "- Cessna 208 Caravan - это американский лёгкий одномоторный турбовинтовой самолёт общего назначения с неубирающимся шасси. Не считая экипаж, может вмещать 9 пассажиров. Может использоваться для частных перелетов или перевозок грузов.\n",
    "- Bombardier CRJ-200 - региональный самолёт, производимый канадской компанией Bombardier. Пассажировместимость 50 человек.\n",
    "- Sukhoi SuperJet-100 - российский среднемагистральный узкофюзеляжный пассажирский самолёт, предназначенный для перевозки от 87 до 108 пассажиров на дальность 3050 или 4600 км.\n",
    "\n",
    "Предполагаю, все эти три самолета - наиболее популярные представители своего класса, отличающиеся грузоподъемностью, дальностью перелетов и пассажировместимостью."
   ]
  },
  {
   "cell_type": "code",
   "execution_count": 7,
   "metadata": {
    "scrolled": false
   },
   "outputs": [
    {
     "data": {
      "image/png": "[encoded data removed]",
      "text/plain": [
       "<Figure size 720x1440 with 1 Axes>"
      ]
     },
     "metadata": {},
     "output_type": "display_data"
    }
   ],
   "source": [
    "#График городов и сренднее количество рейсов в день\n",
    "ax = sns.barplot(\n",
    "    data=q3,\n",
    "    x='average_flights', \n",
    "    y='city', \n",
    "    orient='h'\n",
    ")\n",
    "ax.set_title(\"График городов и среднее количество рейсов в день\")\n",
    "ax.set_xlabel(\"Количество рейсов\")\n",
    "ax.set_ylabel(\"Города\")\n",
    "ax.figure.set_size_inches(10, 20)\n",
    "print(end='')"
   ]
  },
  {
   "cell_type": "markdown",
   "metadata": {},
   "source": [
    "Средняя нагруженность аэропортов большинства городов не выходит за пределы 12 рейсов за сентябрь 2018 года. В то время как можно увидеть три выброса в районе 17 рейсов в Новосибирск, 31 рейса в Санкт-Петербург и особенно большого в районе 130 рейсов в Москву в среднем за период."
   ]
  },
  {
   "cell_type": "markdown",
   "metadata": {},
   "source": [
    "Посмотрим в какие города рейсы совершаются чаще всего. Самый большой выброс относится к столице. Составим топ-10 городов по количеству рейсов."
   ]
  },
  {
   "cell_type": "code",
   "execution_count": 8,
   "metadata": {
    "scrolled": false
   },
   "outputs": [
    {
     "data": {
      "image/png": "[encoded data removed]",
      "text/plain": [
       "<Figure size 720x360 with 1 Axes>"
      ]
     },
     "metadata": {},
     "output_type": "display_data"
    }
   ],
   "source": [
    "#График топ-10 городов по количеству рейсов в день\n",
    "top10cities = q3.sort_values('average_flights', ascending=False).head(10)\n",
    "\n",
    "plt.figure(figsize=(10, 5))\n",
    "ax = sns.barplot(\n",
    "    data=top10cities,\n",
    "    x='average_flights', \n",
    "    y='city', \n",
    "    orient='h',\n",
    ")\n",
    "ax.set_title(\"Топ-10 городов по количеству рейсов в день\")\n",
    "ax.set_xlabel(\"Среднее количество рейсов\")\n",
    "ax.set_ylabel(\"Города\")\n",
    "ax.legend(\n",
    "    handles=ax.patches, \n",
    "    labels=top10cities['average_flights'].round(decimals=2).to_list(),\n",
    "    bbox_to_anchor=(1.05, 1), \n",
    "    loc=2, \n",
    "    borderaxespad=0.,\n",
    "    title=\"Среднее количество рейсов\"\n",
    ")\n",
    "print(end='')"
   ]
  },
  {
   "cell_type": "markdown",
   "metadata": {},
   "source": [
    "Дейтвительно в среднем, за исследуемый период, большее количество рейсов направляются в Москву. На втором месте Санкт-Петербуг, на третьем крупный город Новосибирск.\n",
    "\n",
    "Думаю такая разница возникает потому, что Москва, СПб и Новосибирск - крупные города миллионники, особенно Москва (самый крупный город РФ). А следовательно и крупные потребители и обладатели большого культурного наследия. Поэтому туда доставляют большее количество грузов и через них проходит больший трафик людей (в том числе туристов). "
   ]
  },
  {
   "cell_type": "markdown",
   "metadata": {},
   "source": [
    "## Выводы"
   ]
  },
  {
   "cell_type": "markdown",
   "metadata": {},
   "source": [
    "- Данные загружены в корректном формате\n",
    "- Сделаны графики моделей самолётов и количества рейсов, городов и количества рейсов, топ-10 городов и количества рейсов\n",
    "- Проведен анализ данных и графиков, по результатам которого установлены наиболее популярные модели самолетов, а также составлен список топ 10 городов, в которые совершается большее количество рейсов. Обнаружено, что самые популярные самолеты отличаются по дальности перелета и пассажировместимости, а также, что в город-герой Москва за указанный период рейсов было больше на порядки, чем в другие города."
   ]
  }
 ],
 "metadata": {
  "ExecuteTimeLog": [
   {
    "duration": 1234,
    "start_time": "2021-11-09T11:04:08.669Z"
   },
   {
    "duration": 14462,
    "start_time": "2021-11-09T11:04:40.996Z"
   },
   {
    "duration": 7,
    "start_time": "2021-11-09T11:04:58.467Z"
   },
   {
    "duration": 475,
    "start_time": "2021-11-09T11:07:00.354Z"
   },
   {
    "duration": 5670,
    "start_time": "2021-11-09T11:07:24.173Z"
   },
   {
    "duration": 9232,
    "start_time": "2021-11-09T11:07:36.729Z"
   },
   {
    "duration": 4,
    "start_time": "2021-11-09T11:07:48.856Z"
   },
   {
    "duration": 355,
    "start_time": "2021-11-09T11:07:52.216Z"
   },
   {
    "duration": 5,
    "start_time": "2021-11-09T11:08:13.075Z"
   },
   {
    "duration": 1939,
    "start_time": "2021-11-09T11:09:37.856Z"
   },
   {
    "duration": 130,
    "start_time": "2021-11-09T11:13:01.090Z"
   },
   {
    "duration": 85,
    "start_time": "2021-11-09T11:13:12.580Z"
   },
   {
    "duration": 97,
    "start_time": "2021-11-09T11:13:54.865Z"
   },
   {
    "duration": 96,
    "start_time": "2021-11-09T11:14:00.980Z"
   },
   {
    "duration": 87,
    "start_time": "2021-11-09T11:15:09.405Z"
   },
   {
    "duration": 79,
    "start_time": "2021-11-09T11:15:14.308Z"
   },
   {
    "duration": 383,
    "start_time": "2021-11-09T11:15:50.235Z"
   },
   {
    "duration": 81,
    "start_time": "2021-11-09T11:15:57.550Z"
   },
   {
    "duration": 73,
    "start_time": "2021-11-09T11:15:57.943Z"
   },
   {
    "duration": 304,
    "start_time": "2021-11-09T11:17:47.740Z"
   },
   {
    "duration": 13,
    "start_time": "2021-11-09T11:18:03.626Z"
   },
   {
    "duration": 13,
    "start_time": "2021-11-09T11:18:15.894Z"
   },
   {
    "duration": 21,
    "start_time": "2021-11-09T11:19:27.630Z"
   },
   {
    "duration": 18,
    "start_time": "2021-11-09T11:19:40.767Z"
   },
   {
    "duration": 14,
    "start_time": "2021-11-09T11:20:38.680Z"
   },
   {
    "duration": 12,
    "start_time": "2021-11-09T11:21:15.128Z"
   },
   {
    "duration": 15,
    "start_time": "2021-11-09T11:21:28.241Z"
   },
   {
    "duration": 19,
    "start_time": "2021-11-09T11:21:38.488Z"
   },
   {
    "duration": 292,
    "start_time": "2021-11-09T11:32:35.761Z"
   },
   {
    "duration": 369,
    "start_time": "2021-11-09T11:33:20.656Z"
   },
   {
    "duration": 296,
    "start_time": "2021-11-09T11:33:40.286Z"
   },
   {
    "duration": 352,
    "start_time": "2021-11-09T11:33:50.368Z"
   },
   {
    "duration": 105,
    "start_time": "2021-11-09T11:34:26.540Z"
   },
   {
    "duration": 501,
    "start_time": "2021-11-09T11:34:40.312Z"
   },
   {
    "duration": 633,
    "start_time": "2021-11-09T11:34:53.937Z"
   },
   {
    "duration": 594,
    "start_time": "2021-11-09T11:36:02.398Z"
   },
   {
    "duration": 650,
    "start_time": "2021-11-09T11:36:21.031Z"
   },
   {
    "duration": 668,
    "start_time": "2021-11-09T11:37:19.514Z"
   },
   {
    "duration": 658,
    "start_time": "2021-11-09T11:37:49.058Z"
   },
   {
    "duration": 648,
    "start_time": "2021-11-09T11:38:03.611Z"
   },
   {
    "duration": 292,
    "start_time": "2021-11-09T11:41:41.133Z"
   },
   {
    "duration": 3940,
    "start_time": "2021-11-09T11:41:51.856Z"
   },
   {
    "duration": 2813,
    "start_time": "2021-11-09T11:44:10.131Z"
   },
   {
    "duration": 2975,
    "start_time": "2021-11-09T11:44:55.300Z"
   },
   {
    "duration": 4998,
    "start_time": "2021-11-09T11:47:27.882Z"
   },
   {
    "duration": 1162,
    "start_time": "2021-11-09T11:47:43.846Z"
   },
   {
    "duration": 389,
    "start_time": "2021-11-09T11:47:53.741Z"
   },
   {
    "duration": 560,
    "start_time": "2021-11-09T11:48:32.546Z"
   },
   {
    "duration": 503,
    "start_time": "2021-11-09T11:51:19.058Z"
   },
   {
    "duration": 325,
    "start_time": "2021-11-09T11:51:24.840Z"
   },
   {
    "duration": 282,
    "start_time": "2021-11-09T11:51:39.312Z"
   },
   {
    "duration": 318,
    "start_time": "2021-11-09T11:51:50.452Z"
   },
   {
    "duration": 329,
    "start_time": "2021-11-09T11:52:04.195Z"
   },
   {
    "duration": 360,
    "start_time": "2021-11-09T11:52:08.115Z"
   },
   {
    "duration": 443,
    "start_time": "2021-11-09T11:52:37.024Z"
   },
   {
    "duration": 732,
    "start_time": "2021-11-09T11:53:12.996Z"
   },
   {
    "duration": 450,
    "start_time": "2021-11-09T11:53:25.780Z"
   },
   {
    "duration": 506,
    "start_time": "2021-11-09T11:53:37.099Z"
   },
   {
    "duration": 752,
    "start_time": "2021-11-09T11:53:49.774Z"
   },
   {
    "duration": 224,
    "start_time": "2021-11-09T11:54:06.215Z"
   },
   {
    "duration": 478,
    "start_time": "2021-11-09T11:54:33.810Z"
   },
   {
    "duration": 550,
    "start_time": "2021-11-09T11:55:06.928Z"
   },
   {
    "duration": 306,
    "start_time": "2021-11-09T11:55:37.732Z"
   },
   {
    "duration": 289,
    "start_time": "2021-11-09T11:55:40.827Z"
   },
   {
    "duration": 4840,
    "start_time": "2021-11-09T11:55:53.543Z"
   },
   {
    "duration": 1957,
    "start_time": "2021-11-09T11:55:58.387Z"
   },
   {
    "duration": 4,
    "start_time": "2021-11-09T11:56:00.347Z"
   },
   {
    "duration": 134,
    "start_time": "2021-11-09T11:56:00.354Z"
   },
   {
    "duration": 196,
    "start_time": "2021-11-09T11:56:00.490Z"
   },
   {
    "duration": 13,
    "start_time": "2021-11-09T11:56:00.688Z"
   },
   {
    "duration": 484,
    "start_time": "2021-11-09T11:56:00.704Z"
   },
   {
    "duration": 2662,
    "start_time": "2021-11-09T11:56:01.191Z"
   },
   {
    "duration": 905,
    "start_time": "2021-11-09T11:56:03.857Z"
   },
   {
    "duration": 636,
    "start_time": "2021-11-09T11:56:34.234Z"
   },
   {
    "duration": 629,
    "start_time": "2021-11-09T11:57:19.456Z"
   },
   {
    "duration": 699,
    "start_time": "2021-11-09T11:57:45.203Z"
   },
   {
    "duration": 589,
    "start_time": "2021-11-09T11:58:01.595Z"
   },
   {
    "duration": 293,
    "start_time": "2021-11-09T11:58:48.486Z"
   },
   {
    "duration": 468,
    "start_time": "2021-11-09T11:58:58.343Z"
   },
   {
    "duration": 494,
    "start_time": "2021-11-09T11:59:28.894Z"
   },
   {
    "duration": 13,
    "start_time": "2021-11-09T12:01:56.839Z"
   },
   {
    "duration": 5110,
    "start_time": "2021-11-09T12:45:29.035Z"
   },
   {
    "duration": 1658,
    "start_time": "2021-11-09T12:45:34.149Z"
   },
   {
    "duration": 5,
    "start_time": "2021-11-09T12:45:35.810Z"
   },
   {
    "duration": 128,
    "start_time": "2021-11-09T12:45:35.818Z"
   },
   {
    "duration": 114,
    "start_time": "2021-11-09T12:45:35.949Z"
   },
   {
    "duration": 579,
    "start_time": "2021-11-09T12:45:36.066Z"
   },
   {
    "duration": 881,
    "start_time": "2021-11-09T12:45:36.648Z"
   },
   {
    "duration": 34,
    "start_time": "2021-11-09T12:45:37.533Z"
   },
   {
    "duration": 492,
    "start_time": "2021-11-09T12:45:37.570Z"
   },
   {
    "duration": 327796,
    "start_time": "2021-11-09T15:29:54.754Z"
   },
   {
    "duration": 2136,
    "start_time": "2021-11-09T15:35:22.553Z"
   },
   {
    "duration": 9,
    "start_time": "2021-11-09T15:35:24.693Z"
   },
   {
    "duration": 43,
    "start_time": "2021-11-09T15:35:24.705Z"
   },
   {
    "duration": 34,
    "start_time": "2021-11-09T15:35:24.750Z"
   },
   {
    "duration": 605,
    "start_time": "2021-11-09T15:35:24.787Z"
   },
   {
    "duration": 653,
    "start_time": "2021-11-09T15:35:25.394Z"
   },
   {
    "duration": 13,
    "start_time": "2021-11-09T15:35:26.051Z"
   },
   {
    "duration": 457,
    "start_time": "2021-11-09T15:35:26.066Z"
   },
   {
    "duration": 10221,
    "start_time": "2021-11-09T18:46:50.781Z"
   },
   {
    "duration": 1415,
    "start_time": "2021-11-09T18:47:01.004Z"
   },
   {
    "duration": 4,
    "start_time": "2021-11-09T18:47:02.422Z"
   },
   {
    "duration": 52,
    "start_time": "2021-11-09T18:47:02.428Z"
   },
   {
    "duration": 27,
    "start_time": "2021-11-09T18:47:08.261Z"
   },
   {
    "duration": 1613,
    "start_time": "2021-11-09T19:08:40.025Z"
   },
   {
    "duration": 1660,
    "start_time": "2021-11-09T19:08:51.687Z"
   },
   {
    "duration": 3139,
    "start_time": "2021-11-09T19:57:19.306Z"
   },
   {
    "duration": 1266,
    "start_time": "2021-11-09T19:57:22.448Z"
   },
   {
    "duration": 4,
    "start_time": "2021-11-09T19:57:23.716Z"
   },
   {
    "duration": 46,
    "start_time": "2021-11-09T19:57:23.722Z"
   },
   {
    "duration": 29,
    "start_time": "2021-11-09T19:57:23.770Z"
   },
   {
    "duration": 342,
    "start_time": "2021-11-09T19:57:23.800Z"
   },
   {
    "duration": 1595,
    "start_time": "2021-11-09T19:57:24.144Z"
   },
   {
    "duration": 10,
    "start_time": "2021-11-09T19:57:25.741Z"
   },
   {
    "duration": 288,
    "start_time": "2021-11-09T19:57:25.764Z"
   },
   {
    "duration": 696,
    "start_time": "2021-11-11T09:05:46.038Z"
   },
   {
    "duration": 644,
    "start_time": "2021-11-11T09:08:32.919Z"
   },
   {
    "duration": 660,
    "start_time": "2021-11-11T09:09:01.683Z"
   },
   {
    "duration": 18632,
    "start_time": "2021-11-11T09:10:59.811Z"
   },
   {
    "duration": 19723,
    "start_time": "2021-12-28T10:04:20.484Z"
   },
   {
    "duration": 3313,
    "start_time": "2021-12-28T10:04:40.210Z"
   },
   {
    "duration": 4,
    "start_time": "2021-12-28T10:04:43.526Z"
   },
   {
    "duration": 48,
    "start_time": "2021-12-28T10:04:43.533Z"
   },
   {
    "duration": 33,
    "start_time": "2021-12-28T10:04:43.584Z"
   },
   {
    "duration": 497,
    "start_time": "2021-12-28T10:04:43.620Z"
   },
   {
    "duration": 2298,
    "start_time": "2021-12-28T10:04:44.119Z"
   },
   {
    "duration": 14,
    "start_time": "2021-12-28T10:04:46.420Z"
   },
   {
    "duration": 502,
    "start_time": "2021-12-28T10:04:46.460Z"
   },
   {
    "duration": 5351,
    "start_time": "2021-12-28T10:05:07.993Z"
   },
   {
    "duration": 2267,
    "start_time": "2021-12-28T10:05:13.347Z"
   },
   {
    "duration": 4,
    "start_time": "2021-12-28T10:05:15.618Z"
   },
   {
    "duration": 48,
    "start_time": "2021-12-28T10:05:15.625Z"
   },
   {
    "duration": 51,
    "start_time": "2021-12-28T10:05:15.676Z"
   },
   {
    "duration": 503,
    "start_time": "2021-12-28T10:05:15.730Z"
   },
   {
    "duration": 2313,
    "start_time": "2021-12-28T10:05:16.236Z"
   },
   {
    "duration": 15,
    "start_time": "2021-12-28T10:05:18.553Z"
   },
   {
    "duration": 466,
    "start_time": "2021-12-28T10:05:18.570Z"
   },
   {
    "duration": 11,
    "start_time": "2021-12-28T10:06:43.958Z"
   },
   {
    "duration": 459,
    "start_time": "2021-12-28T10:07:06.275Z"
   },
   {
    "duration": 5406,
    "start_time": "2021-12-28T10:10:26.199Z"
   },
   {
    "duration": 456,
    "start_time": "2021-12-28T10:11:04.785Z"
   },
   {
    "duration": 531,
    "start_time": "2021-12-28T10:11:41.411Z"
   },
   {
    "duration": 654,
    "start_time": "2021-12-28T10:11:55.215Z"
   },
   {
    "duration": 582,
    "start_time": "2021-12-28T10:12:12.969Z"
   },
   {
    "duration": 621,
    "start_time": "2021-12-28T10:12:43.089Z"
   },
   {
    "duration": 547,
    "start_time": "2021-12-28T10:12:59.503Z"
   },
   {
    "duration": 755,
    "start_time": "2021-12-28T10:13:04.858Z"
   },
   {
    "duration": 650,
    "start_time": "2021-12-28T10:13:23.503Z"
   },
   {
    "duration": 539,
    "start_time": "2021-12-28T10:13:33.078Z"
   },
   {
    "duration": 541,
    "start_time": "2021-12-28T10:13:44.584Z"
   },
   {
    "duration": 486,
    "start_time": "2021-12-28T10:13:54.239Z"
   },
   {
    "duration": 476,
    "start_time": "2021-12-28T10:14:12.726Z"
   },
   {
    "duration": 510,
    "start_time": "2021-12-28T10:14:36.787Z"
   },
   {
    "duration": 938,
    "start_time": "2021-12-28T10:15:33.503Z"
   },
   {
    "duration": 463,
    "start_time": "2021-12-28T10:15:36.655Z"
   },
   {
    "duration": 532,
    "start_time": "2021-12-28T10:15:57.719Z"
   },
   {
    "duration": 725,
    "start_time": "2021-12-28T10:16:16.085Z"
   },
   {
    "duration": 595,
    "start_time": "2021-12-28T10:16:33.497Z"
   },
   {
    "duration": 749,
    "start_time": "2021-12-28T10:17:05.203Z"
   },
   {
    "duration": 467,
    "start_time": "2021-12-28T10:20:02.578Z"
   },
   {
    "duration": 468,
    "start_time": "2021-12-28T10:21:18.295Z"
   },
   {
    "duration": 498,
    "start_time": "2021-12-28T10:21:30.279Z"
   },
   {
    "duration": 555,
    "start_time": "2021-12-28T10:21:38.622Z"
   },
   {
    "duration": 558,
    "start_time": "2021-12-28T10:21:47.804Z"
   },
   {
    "duration": 609,
    "start_time": "2021-12-28T10:22:06.853Z"
   },
   {
    "duration": 781,
    "start_time": "2021-12-28T10:22:51.939Z"
   },
   {
    "duration": 598,
    "start_time": "2021-12-28T10:23:30.284Z"
   },
   {
    "duration": 473,
    "start_time": "2021-12-28T10:23:35.637Z"
   },
   {
    "duration": 420,
    "start_time": "2021-12-28T10:23:42.339Z"
   },
   {
    "duration": 587,
    "start_time": "2021-12-28T10:23:45.190Z"
   },
   {
    "duration": 828,
    "start_time": "2021-12-28T10:24:40.106Z"
   },
   {
    "duration": 687,
    "start_time": "2021-12-28T10:24:48.099Z"
   },
   {
    "duration": 511,
    "start_time": "2021-12-28T10:24:55.248Z"
   },
   {
    "duration": 432,
    "start_time": "2021-12-28T10:25:17.554Z"
   },
   {
    "duration": 484,
    "start_time": "2021-12-28T10:25:24.610Z"
   },
   {
    "duration": 117,
    "start_time": "2021-12-28T10:25:28.604Z"
   },
   {
    "duration": 437,
    "start_time": "2021-12-28T10:25:31.921Z"
   },
   {
    "duration": 477,
    "start_time": "2021-12-28T10:25:39.897Z"
   },
   {
    "duration": 821,
    "start_time": "2021-12-28T10:27:29.622Z"
   },
   {
    "duration": 445,
    "start_time": "2021-12-28T10:27:35.888Z"
   },
   {
    "duration": 441,
    "start_time": "2021-12-28T10:28:06.303Z"
   },
   {
    "duration": 1181,
    "start_time": "2021-12-28T10:29:33.327Z"
   },
   {
    "duration": 733,
    "start_time": "2021-12-28T10:30:01.734Z"
   },
   {
    "duration": 432,
    "start_time": "2021-12-28T10:31:40.310Z"
   },
   {
    "duration": 480,
    "start_time": "2021-12-28T10:31:48.279Z"
   },
   {
    "duration": 427,
    "start_time": "2021-12-28T10:32:07.039Z"
   },
   {
    "duration": 440,
    "start_time": "2021-12-28T10:32:17.336Z"
   },
   {
    "duration": 479,
    "start_time": "2021-12-28T10:32:32.065Z"
   },
   {
    "duration": 482,
    "start_time": "2021-12-28T10:32:47.541Z"
   },
   {
    "duration": 514,
    "start_time": "2021-12-28T10:32:57.158Z"
   },
   {
    "duration": 649,
    "start_time": "2021-12-28T10:33:38.732Z"
   },
   {
    "duration": 612,
    "start_time": "2021-12-28T10:33:48.875Z"
   },
   {
    "duration": 456,
    "start_time": "2021-12-28T10:35:15.497Z"
   },
   {
    "duration": 457,
    "start_time": "2021-12-28T10:35:25.710Z"
   },
   {
    "duration": 531,
    "start_time": "2021-12-28T10:35:58.380Z"
   },
   {
    "duration": 4769,
    "start_time": "2021-12-28T10:43:18.517Z"
   },
   {
    "duration": 2220,
    "start_time": "2021-12-28T10:43:23.290Z"
   },
   {
    "duration": 5,
    "start_time": "2021-12-28T10:43:25.514Z"
   },
   {
    "duration": 41,
    "start_time": "2021-12-28T10:43:25.523Z"
   },
   {
    "duration": 31,
    "start_time": "2021-12-28T10:43:25.567Z"
   },
   {
    "duration": 410,
    "start_time": "2021-12-28T10:43:25.601Z"
   },
   {
    "duration": 2234,
    "start_time": "2021-12-28T10:43:26.014Z"
   },
   {
    "duration": 19,
    "start_time": "2021-12-28T10:43:28.250Z"
   },
   {
    "duration": 476,
    "start_time": "2021-12-28T10:43:28.272Z"
   },
   {
    "duration": 431,
    "start_time": "2021-12-28T10:46:57.566Z"
   },
   {
    "duration": 453,
    "start_time": "2021-12-28T10:47:05.198Z"
   },
   {
    "duration": 435,
    "start_time": "2021-12-28T10:47:24.837Z"
   },
   {
    "duration": 488,
    "start_time": "2021-12-28T10:47:33.858Z"
   },
   {
    "duration": 432,
    "start_time": "2021-12-28T10:47:46.562Z"
   },
   {
    "duration": 491,
    "start_time": "2021-12-28T10:47:59.777Z"
   },
   {
    "duration": 521,
    "start_time": "2021-12-28T10:48:27.994Z"
   },
   {
    "duration": 782,
    "start_time": "2021-12-28T10:48:33.816Z"
   },
   {
    "duration": 481,
    "start_time": "2021-12-28T10:48:42.487Z"
   },
   {
    "duration": 453,
    "start_time": "2021-12-28T10:48:52.937Z"
   },
   {
    "duration": 707,
    "start_time": "2021-12-28T10:49:37.218Z"
   },
   {
    "duration": 4898,
    "start_time": "2021-12-28T11:02:15.780Z"
   },
   {
    "duration": 2232,
    "start_time": "2021-12-28T11:02:20.682Z"
   },
   {
    "duration": 4,
    "start_time": "2021-12-28T11:02:22.917Z"
   },
   {
    "duration": 40,
    "start_time": "2021-12-28T11:02:22.924Z"
   },
   {
    "duration": 33,
    "start_time": "2021-12-28T11:02:22.966Z"
   },
   {
    "duration": 419,
    "start_time": "2021-12-28T11:02:23.001Z"
   },
   {
    "duration": 2269,
    "start_time": "2021-12-28T11:02:23.423Z"
   },
   {
    "duration": 13,
    "start_time": "2021-12-28T11:02:25.696Z"
   },
   {
    "duration": 457,
    "start_time": "2021-12-28T11:02:25.712Z"
   },
   {
    "duration": 568,
    "start_time": "2021-12-28T11:02:26.172Z"
   },
   {
    "duration": 988,
    "start_time": "2021-12-28T11:03:06.271Z"
   },
   {
    "duration": 427,
    "start_time": "2021-12-28T11:03:25.318Z"
   },
   {
    "duration": 786,
    "start_time": "2021-12-28T11:03:30.560Z"
   },
   {
    "duration": 542,
    "start_time": "2021-12-28T11:03:54.989Z"
   },
   {
    "duration": 511,
    "start_time": "2021-12-28T11:05:09.257Z"
   },
   {
    "duration": 590,
    "start_time": "2021-12-28T11:06:00.781Z"
   },
   {
    "duration": 552,
    "start_time": "2021-12-28T11:06:18.487Z"
   },
   {
    "duration": 558,
    "start_time": "2021-12-28T11:06:37.374Z"
   },
   {
    "duration": 516,
    "start_time": "2021-12-28T11:06:51.259Z"
   },
   {
    "duration": 524,
    "start_time": "2021-12-28T11:07:31.582Z"
   },
   {
    "duration": 4740,
    "start_time": "2021-12-28T11:10:22.601Z"
   },
   {
    "duration": 2296,
    "start_time": "2021-12-28T11:10:27.345Z"
   },
   {
    "duration": 14,
    "start_time": "2021-12-28T11:10:29.645Z"
   },
   {
    "duration": 46,
    "start_time": "2021-12-28T11:10:29.663Z"
   },
   {
    "duration": 47,
    "start_time": "2021-12-28T11:10:29.712Z"
   },
   {
    "duration": 401,
    "start_time": "2021-12-28T11:10:29.762Z"
   },
   {
    "duration": 2268,
    "start_time": "2021-12-28T11:10:30.166Z"
   },
   {
    "duration": 515,
    "start_time": "2021-12-28T11:10:32.437Z"
   },
   {
    "duration": 534,
    "start_time": "2021-12-28T11:11:10.280Z"
   },
   {
    "duration": 572,
    "start_time": "2021-12-28T11:11:15.790Z"
   },
   {
    "duration": 558,
    "start_time": "2021-12-28T11:11:23.083Z"
   },
   {
    "duration": 519,
    "start_time": "2021-12-28T11:11:27.333Z"
   },
   {
    "duration": 6313,
    "start_time": "2021-12-28T11:11:56.110Z"
   },
   {
    "duration": 2459,
    "start_time": "2021-12-28T11:12:02.427Z"
   },
   {
    "duration": 4,
    "start_time": "2021-12-28T11:12:04.889Z"
   },
   {
    "duration": 41,
    "start_time": "2021-12-28T11:12:04.896Z"
   },
   {
    "duration": 35,
    "start_time": "2021-12-28T11:12:04.939Z"
   },
   {
    "duration": 438,
    "start_time": "2021-12-28T11:12:04.976Z"
   },
   {
    "duration": 3391,
    "start_time": "2021-12-28T11:12:05.417Z"
   },
   {
    "duration": 747,
    "start_time": "2021-12-28T11:12:08.812Z"
   }
  ],
  "kernelspec": {
   "display_name": "Python 3",
   "language": "python",
   "name": "python3"
  },
  "language_info": {
   "codemirror_mode": {
    "name": "ipython",
    "version": 3
   },
   "file_extension": ".py",
   "mimetype": "text/x-python",
   "name": "python",
   "nbconvert_exporter": "python",
   "pygments_lexer": "ipython3",
   "version": "3.9.1"
  },
  "toc": {
   "base_numbering": 1,
   "nav_menu": {},
   "number_sections": true,
   "sideBar": true,
   "skip_h1_title": true,
   "title_cell": "Содержание",
   "title_sidebar": "Contents",
   "toc_cell": true,
   "toc_position": {},
   "toc_section_display": true,
   "toc_window_display": false
  }
 },
 "nbformat": 4,
 "nbformat_minor": 2
}
