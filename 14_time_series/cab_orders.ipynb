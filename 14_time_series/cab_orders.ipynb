{
 "cells": [
  {
   "cell_type": "markdown",
   "metadata": {
    "toc": true
   },
   "source": [
    "<h1>Содержание<span class=\"tocSkip\"></span></h1>\n",
    "<div class=\"toc\"><ul class=\"toc-item\"><li><span><a href=\"#Настройка-среды\" data-toc-modified-id=\"Настройка-среды-1\"><span class=\"toc-item-num\">1&nbsp;&nbsp;</span>Настройка среды</a></span></li><li><span><a href=\"#Подготовка-данных\" data-toc-modified-id=\"Подготовка-данных-2\"><span class=\"toc-item-num\">2&nbsp;&nbsp;</span>Подготовка данных</a></span><ul class=\"toc-item\"><li><span><a href=\"#Вывод\" data-toc-modified-id=\"Вывод-2.1\"><span class=\"toc-item-num\">2.1&nbsp;&nbsp;</span>Вывод</a></span></li></ul></li><li><span><a href=\"#Анализ\" data-toc-modified-id=\"Анализ-3\"><span class=\"toc-item-num\">3&nbsp;&nbsp;</span>Анализ</a></span><ul class=\"toc-item\"><li><span><a href=\"#Вывод\" data-toc-modified-id=\"Вывод-3.1\"><span class=\"toc-item-num\">3.1&nbsp;&nbsp;</span>Вывод</a></span></li></ul></li><li><span><a href=\"#Обучение\" data-toc-modified-id=\"Обучение-4\"><span class=\"toc-item-num\">4&nbsp;&nbsp;</span>Обучение</a></span><ul class=\"toc-item\"><li><span><a href=\"#Выводы\" data-toc-modified-id=\"Выводы-4.1\"><span class=\"toc-item-num\">4.1&nbsp;&nbsp;</span>Выводы</a></span></li></ul></li><li><span><a href=\"#Тестирование\" data-toc-modified-id=\"Тестирование-5\"><span class=\"toc-item-num\">5&nbsp;&nbsp;</span>Тестирование</a></span></li><li><span><a href=\"#Выводы\" data-toc-modified-id=\"Выводы-6\"><span class=\"toc-item-num\">6&nbsp;&nbsp;</span>Выводы</a></span></li><li><span><a href=\"#Чек-лист-проверки\" data-toc-modified-id=\"Чек-лист-проверки-7\"><span class=\"toc-item-num\">7&nbsp;&nbsp;</span>Чек-лист проверки</a></span></li></ul></div>"
   ]
  },
  {
   "cell_type": "markdown",
   "metadata": {},
   "source": [
    "## Настройка среды"
   ]
  },
  {
   "cell_type": "code",
   "execution_count": null,
   "metadata": {},
   "outputs": [],
   "source": [
    "!pip install -qU pip\n",
    "!pip install -qU seaborn pandas statsmodels lightgbm scikit-learn"
   ]
  },
  {
   "cell_type": "code",
   "execution_count": 1,
   "metadata": {},
   "outputs": [],
   "source": [
    "from lightgbm.sklearn import LGBMRegressor"
   ]
  },
  {
   "cell_type": "code",
   "execution_count": 2,
   "metadata": {},
   "outputs": [],
   "source": [
    "import pandas as pd\n",
    "import numpy as np\n",
    "import seaborn as sns"
   ]
  },
  {
   "cell_type": "code",
   "execution_count": 3,
   "metadata": {},
   "outputs": [],
   "source": [
    "from statsmodels.tsa.seasonal import seasonal_decompose"
   ]
  },
  {
   "cell_type": "code",
   "execution_count": 4,
   "metadata": {},
   "outputs": [],
   "source": [
    "from sklearn.metrics import mean_squared_error, make_scorer\n",
    "from sklearn.model_selection import train_test_split, TimeSeriesSplit, GridSearchCV\n",
    "from sklearn.linear_model import ElasticNet\n",
    "from sklearn.ensemble import RandomForestRegressor\n",
    "from sklearn.dummy import DummyRegressor"
   ]
  },
  {
   "cell_type": "code",
   "execution_count": 5,
   "metadata": {},
   "outputs": [],
   "source": [
    "sns.set_style('darkgrid')"
   ]
  },
  {
   "cell_type": "markdown",
   "metadata": {},
   "source": [
    "## Подготовка данных"
   ]
  },
  {
   "cell_type": "code",
   "execution_count": 6,
   "metadata": {},
   "outputs": [
    {
     "data": {
      "text/html": [
       "<div>\n",
       "<style scoped>\n",
       "    .dataframe tbody tr th:only-of-type {\n",
       "        vertical-align: middle;\n",
       "    }\n",
       "\n",
       "    .dataframe tbody tr th {\n",
       "        vertical-align: top;\n",
       "    }\n",
       "\n",
       "    .dataframe thead th {\n",
       "        text-align: right;\n",
       "    }\n",
       "</style>\n",
       "<table border=\"1\" class=\"dataframe\">\n",
       "  <thead>\n",
       "    <tr style=\"text-align: right;\">\n",
       "      <th></th>\n",
       "      <th>num_orders</th>\n",
       "    </tr>\n",
       "    <tr>\n",
       "      <th>datetime</th>\n",
       "      <th></th>\n",
       "    </tr>\n",
       "  </thead>\n",
       "  <tbody>\n",
       "    <tr>\n",
       "      <th>2018-03-01 00:00:00</th>\n",
       "      <td>124</td>\n",
       "    </tr>\n",
       "    <tr>\n",
       "      <th>2018-03-01 01:00:00</th>\n",
       "      <td>85</td>\n",
       "    </tr>\n",
       "    <tr>\n",
       "      <th>2018-03-01 02:00:00</th>\n",
       "      <td>71</td>\n",
       "    </tr>\n",
       "    <tr>\n",
       "      <th>2018-03-01 03:00:00</th>\n",
       "      <td>66</td>\n",
       "    </tr>\n",
       "    <tr>\n",
       "      <th>2018-03-01 04:00:00</th>\n",
       "      <td>43</td>\n",
       "    </tr>\n",
       "  </tbody>\n",
       "</table>\n",
       "</div>"
      ],
      "text/plain": [
       "                     num_orders\n",
       "datetime                       \n",
       "2018-03-01 00:00:00         124\n",
       "2018-03-01 01:00:00          85\n",
       "2018-03-01 02:00:00          71\n",
       "2018-03-01 03:00:00          66\n",
       "2018-03-01 04:00:00          43"
      ]
     },
     "execution_count": 6,
     "metadata": {},
     "output_type": "execute_result"
    }
   ],
   "source": [
    "# Set 'Datetime' as index of type datetime64 during data loading\n",
    "taxi = pd.read_csv(\"/datasets/taxi.csv\", index_col=[0], parse_dates=[0])\n",
    "# Sort data by index\n",
    "taxi = taxi.sort_index()\n",
    "# Resample data for 1 hour and agregate 'num_orders'\n",
    "taxi = taxi.resample('1H').sum()\n",
    "taxi.head(5)"
   ]
  },
  {
   "cell_type": "code",
   "execution_count": 7,
   "metadata": {},
   "outputs": [
    {
     "data": {
      "text/html": [
       "<div>\n",
       "<style scoped>\n",
       "    .dataframe tbody tr th:only-of-type {\n",
       "        vertical-align: middle;\n",
       "    }\n",
       "\n",
       "    .dataframe tbody tr th {\n",
       "        vertical-align: top;\n",
       "    }\n",
       "\n",
       "    .dataframe thead th {\n",
       "        text-align: right;\n",
       "    }\n",
       "</style>\n",
       "<table border=\"1\" class=\"dataframe\">\n",
       "  <thead>\n",
       "    <tr style=\"text-align: right;\">\n",
       "      <th></th>\n",
       "      <th>num_orders</th>\n",
       "    </tr>\n",
       "  </thead>\n",
       "  <tbody>\n",
       "    <tr>\n",
       "      <th>count</th>\n",
       "      <td>4416.000000</td>\n",
       "    </tr>\n",
       "    <tr>\n",
       "      <th>mean</th>\n",
       "      <td>84.422781</td>\n",
       "    </tr>\n",
       "    <tr>\n",
       "      <th>std</th>\n",
       "      <td>45.023853</td>\n",
       "    </tr>\n",
       "    <tr>\n",
       "      <th>min</th>\n",
       "      <td>0.000000</td>\n",
       "    </tr>\n",
       "    <tr>\n",
       "      <th>25%</th>\n",
       "      <td>54.000000</td>\n",
       "    </tr>\n",
       "    <tr>\n",
       "      <th>50%</th>\n",
       "      <td>78.000000</td>\n",
       "    </tr>\n",
       "    <tr>\n",
       "      <th>75%</th>\n",
       "      <td>107.000000</td>\n",
       "    </tr>\n",
       "    <tr>\n",
       "      <th>max</th>\n",
       "      <td>462.000000</td>\n",
       "    </tr>\n",
       "  </tbody>\n",
       "</table>\n",
       "</div>"
      ],
      "text/plain": [
       "        num_orders\n",
       "count  4416.000000\n",
       "mean     84.422781\n",
       "std      45.023853\n",
       "min       0.000000\n",
       "25%      54.000000\n",
       "50%      78.000000\n",
       "75%     107.000000\n",
       "max     462.000000"
      ]
     },
     "execution_count": 7,
     "metadata": {},
     "output_type": "execute_result"
    }
   ],
   "source": [
    "taxi.describe()"
   ]
  },
  {
   "cell_type": "code",
   "execution_count": 8,
   "metadata": {},
   "outputs": [
    {
     "name": "stdout",
     "output_type": "stream",
     "text": [
      "<class 'pandas.core.frame.DataFrame'>\n",
      "DatetimeIndex: 4416 entries, 2018-03-01 00:00:00 to 2018-08-31 23:00:00\n",
      "Freq: H\n",
      "Data columns (total 1 columns):\n",
      " #   Column      Non-Null Count  Dtype\n",
      "---  ------      --------------  -----\n",
      " 0   num_orders  4416 non-null   int64\n",
      "dtypes: int64(1)\n",
      "memory usage: 69.0 KB\n"
     ]
    }
   ],
   "source": [
    "taxi.info()"
   ]
  },
  {
   "cell_type": "code",
   "execution_count": 9,
   "metadata": {},
   "outputs": [
    {
     "data": {
      "image/png": "[encoded data removed]",
      "text/plain": [
       "<Figure size 432x288 with 1 Axes>"
      ]
     },
     "metadata": {},
     "output_type": "display_data"
    }
   ],
   "source": [
    "ax = sns.histplot(taxi)\n",
    "_ = ax.set_title(\"Гистограмма количество заказов/час\")"
   ]
  },
  {
   "cell_type": "markdown",
   "metadata": {},
   "source": [
    "### Вывод"
   ]
  },
  {
   "cell_type": "markdown",
   "metadata": {},
   "source": [
    "- Данные сгруппированы по суммарному значению в часовом интервале \n",
    "- Распределение числа заказов такси скошено вправо\n",
    "- Есть нулевые значения. Что значит, бывает, в течении часа заказов нет\n",
    "- Есть большие значения хвоста справа. Что означает аврал заказов, что также \"бывает\"\n",
    "- Пропусков нет"
   ]
  },
  {
   "cell_type": "markdown",
   "metadata": {},
   "source": [
    "## Анализ"
   ]
  },
  {
   "cell_type": "code",
   "execution_count": 10,
   "metadata": {},
   "outputs": [],
   "source": [
    "def make_features(\n",
    "    _df: pd.DataFrame, *,\n",
    "    target_name: str, \n",
    "    max_lag: int, \n",
    "    window: int,\n",
    ") -> pd.DataFrame:\n",
    "    \n",
    "    \"\"\"Feature generation for time series. Make features:\n",
    "        - year\n",
    "        - month\n",
    "        - day\n",
    "        - dayofweek\n",
    "        - lag_{i} wich count defined by `max_lags` parameter\n",
    "        - rolling_mean\n",
    "        - trend\n",
    "        - seasonal\n",
    "        - resid\n",
    "        \n",
    "        Parameters\n",
    "        ----------\n",
    "        target_name : str\n",
    "            Target column name.\n",
    "        max_lag : int\n",
    "            Max shifts.\n",
    "        window : int\n",
    "            Rolling mean window size.\n",
    "            \n",
    "        Returns\n",
    "        -------\n",
    "        Panas DataFrame object.\"\"\"\n",
    "    \n",
    "    df = _df.copy()\n",
    "    \n",
    "    df['year'] = df.index.year\n",
    "    df['month'] = df.index.month\n",
    "    df['day'] = df.index.day\n",
    "    df['dayofweek'] = df.index.dayofweek\n",
    "    \n",
    "    lags = []\n",
    "    for lag in range(1, max_lag + 1):\n",
    "        df['lag_{}'.format(lag)] = df[target_name].shift(lag)\n",
    "\n",
    "    df['rolling_mean'] = df[target_name].shift().rolling(window).mean()\n",
    "    \n",
    "    decomposed = seasonal_decompose(df[target_name])\n",
    "    df['trend'] = decomposed.trend.shift()\n",
    "    df['seasonal'] = decomposed.seasonal.shift()\n",
    "    df['resid'] = decomposed.resid.shift()\n",
    "    \n",
    "    return df"
   ]
  },
  {
   "cell_type": "code",
   "execution_count": 11,
   "metadata": {},
   "outputs": [],
   "source": [
    "lags = 24\n",
    "window_size = 13\n",
    "taxi = make_features(taxi, target_name='num_orders', max_lag=lags, window=window_size)"
   ]
  },
  {
   "cell_type": "code",
   "execution_count": 12,
   "metadata": {
    "scrolled": true
   },
   "outputs": [
    {
     "data": {
      "image/png": "[encoded data removed]",
      "text/plain": [
       "<Figure size 432x288 with 1 Axes>"
      ]
     },
     "metadata": {},
     "output_type": "display_data"
    }
   ],
   "source": [
    "ax = taxi['rolling_mean'].plot()\n",
    "_ = ax.set_title(\"Скользящее среднее, размер окна: {}\".format(window_size))"
   ]
  },
  {
   "cell_type": "markdown",
   "metadata": {},
   "source": [
    "Созерцая значения скользящего среднего, можно заметить не крутой, но уверенный uptrend."
   ]
  },
  {
   "cell_type": "code",
   "execution_count": 13,
   "metadata": {},
   "outputs": [
    {
     "data": {
      "image/png": "[encoded data removed]",
      "text/plain": [
       "<Figure size 432x288 with 1 Axes>"
      ]
     },
     "metadata": {},
     "output_type": "display_data"
    }
   ],
   "source": [
    "ax = taxi['trend'].plot()\n",
    "_ = ax.set_title(\"Тренд\")"
   ]
  },
  {
   "cell_type": "markdown",
   "metadata": {},
   "source": [
    "Предыдущий вывод подтверждается тренд-сотавляющей декомпозиции значений целевого признака. И себя проверил: скользящее среднее похоже на этот график."
   ]
  },
  {
   "cell_type": "code",
   "execution_count": 14,
   "metadata": {},
   "outputs": [
    {
     "data": {
      "image/png": "[encoded data removed]",
      "text/plain": [
       "<Figure size 432x288 with 1 Axes>"
      ]
     },
     "metadata": {},
     "output_type": "display_data"
    }
   ],
   "source": [
    "ax = taxi['seasonal'][:50].plot()\n",
    "_ = ax.set_title(\"Сезонность\")"
   ]
  },
  {
   "cell_type": "markdown",
   "metadata": {},
   "source": [
    "По сезонной составляющей можно сделать вывод **о наличии периода** с 6 утра до 6 утра следующего дня в целевых значениях; **с тремя пиками** в 10:00, 16:00 и 12 часов ночи. Можно предположить, что утром люди едут на работку, вечером с работы и в двенадцать, уже нарядные, еще раз заказывают такси."
   ]
  },
  {
   "cell_type": "code",
   "execution_count": 15,
   "metadata": {},
   "outputs": [
    {
     "data": {
      "image/png": "[encoded data removed]",
      "text/plain": [
       "<Figure size 432x288 with 1 Axes>"
      ]
     },
     "metadata": {},
     "output_type": "display_data"
    }
   ],
   "source": [
    "ax = taxi['resid'].plot()\n",
    "_ = ax.set_title(\"Остатки\")"
   ]
  },
  {
   "cell_type": "markdown",
   "metadata": {},
   "source": [
    "Остатки выглядят с довольно постоянным средним и дисперсией с несколькими отдельными пиками в сентябре (на которые можно смотреть как выбросы)."
   ]
  },
  {
   "cell_type": "code",
   "execution_count": 16,
   "metadata": {},
   "outputs": [],
   "source": [
    "X = taxi.drop(columns=['num_orders', 'rolling_mean'])\n",
    "y = taxi['num_orders']"
   ]
  },
  {
   "cell_type": "code",
   "execution_count": 17,
   "metadata": {},
   "outputs": [
    {
     "data": {
      "image/png": "[encoded data removed]",
      "text/plain": [
       "<Figure size 432x288 with 2 Axes>"
      ]
     },
     "metadata": {},
     "output_type": "display_data"
    }
   ],
   "source": [
    "ax = sns.heatmap(\n",
    "    taxi[[\"num_orders\", \"trend\", \"seasonal\", \"resid\", \"rolling_mean\"]].corr(),\n",
    "    fmt='.2f',\n",
    "    annot=True\n",
    ")\n",
    "_ = ax.set_title(\"Корреляция\")"
   ]
  },
  {
   "cell_type": "code",
   "execution_count": 18,
   "metadata": {},
   "outputs": [],
   "source": [
    "X_train, X_test, y_train, y_test = train_test_split(X.fillna(0), y, test_size=.1, shuffle=False)"
   ]
  },
  {
   "cell_type": "markdown",
   "metadata": {},
   "source": [
    "### Вывод"
   ]
  },
  {
   "cell_type": "markdown",
   "metadata": {},
   "source": [
    "- Временной ряд количества заказов такси в час нестационарный с верхним трендом и сезонностью в период на 24 часа с 6:00 по 6:00.\n",
    "- Добавлены признаки: год, месяц, день месяца, день недели, временные сдвиги, скользящее среднее, а также признаки декомпозиции: тренд, сезонность и остатки.\n",
    "- Среди полученных данных есть сильно скоррелированные признаки."
   ]
  },
  {
   "cell_type": "markdown",
   "metadata": {},
   "source": [
    "## Обучение"
   ]
  },
  {
   "cell_type": "markdown",
   "metadata": {},
   "source": [
    "Попробуем обучить три модели: линейную, случайный лес и бустинг деревьев"
   ]
  },
  {
   "cell_type": "code",
   "execution_count": 19,
   "metadata": {},
   "outputs": [],
   "source": [
    "rmse = make_scorer(mean_squared_error, greater_is_better=False, squared=False)"
   ]
  },
  {
   "cell_type": "code",
   "execution_count": 20,
   "metadata": {},
   "outputs": [
    {
     "name": "stdout",
     "output_type": "stream",
     "text": [
      "ElasticNet\n",
      "\n",
      "RMSE на обучающей выборке: 23.57\n",
      "RMSE на тестовой выборке: 45.17\n",
      "\n",
      "CPU times: user 260 ms, sys: 484 ms, total: 744 ms\n",
      "Wall time: 101 ms\n"
     ]
    },
    {
     "data": {
      "image/png": "[encoded data removed]",
      "text/plain": [
       "<Figure size 432x288 with 1 Axes>"
      ]
     },
     "metadata": {},
     "output_type": "display_data"
    }
   ],
   "source": [
    "%%time\n",
    "\n",
    "# Define linear model\n",
    "linear_model = ElasticNet(random_state=12345)\n",
    "    \n",
    "# Fit model\n",
    "linear_model.fit(X_train, y_train)\n",
    "\n",
    "# Format linear model coefficients to dataframe\n",
    "df = pd.DataFrame(\n",
    "    [np.abs(linear_model.coef_)], \n",
    "    columns=X_train.columns\n",
    ").sort_values(by=0, axis=1, ascending=False)\n",
    "\n",
    "# Print RMSE score\n",
    "linear_rmse_train = abs(rmse(linear_model, X_train, y_train))\n",
    "linear_rmse_test = abs(rmse(linear_model, X_test, y_test))\n",
    "print(\"\"\"\\\n",
    "ElasticNet\n",
    "\n",
    "RMSE на обучающей выборке: {:.2f}\n",
    "RMSE на тестовой выборке: {:.2f}\n",
    "\"\"\".format(linear_rmse_train, linear_rmse_test))\n",
    "\n",
    "# Draw coefs barplot\n",
    "bound = 10\n",
    "rotation = 45\n",
    "\n",
    "ax = sns.barplot(x=df.columns[:bound], y=df.iloc[0, :bound])\n",
    "ax.set_xticklabels(ax.get_xticklabels(), rotation = rotation)\n",
    "_ = ax.set_title(\"Значимость коэффициентов\")"
   ]
  },
  {
   "cell_type": "code",
   "execution_count": 21,
   "metadata": {},
   "outputs": [
    {
     "name": "stdout",
     "output_type": "stream",
     "text": [
      "RandomForestRegressor\n",
      "\n",
      "RMSE на обучающей выборке: 9.65\n",
      "RMSE на тестовой выборке: 42.99\n",
      "\n",
      "Лучшие параметры модели:\n",
      "\tmin_samples_leaf: 2\n",
      "\tmin_samples_split: 5\n",
      "\tn_estimators: 100\n",
      "\n",
      "CPU times: user 3.69 s, sys: 72.5 ms, total: 3.76 s\n",
      "Wall time: 36.9 s\n"
     ]
    }
   ],
   "source": [
    "%%time\n",
    "\n",
    "# Define wood model with hyperparameters tuning\n",
    "wood_model = GridSearchCV(\n",
    "    RandomForestRegressor(criterion='squared_error', random_state=12345),\n",
    "    param_grid={\n",
    "        \"n_estimators\": [25, 50, 100],\n",
    "        \"min_samples_leaf\": [1, 2, 4],\n",
    "        \"min_samples_split\": [2, 5, 10],\n",
    "    },\n",
    "    cv=TimeSeriesSplit(),\n",
    "    n_jobs=4\n",
    ")\n",
    "\n",
    "# Fit wood model\n",
    "wood_model.fit(X_train, y_train)\n",
    "\n",
    "# Print RMSE score\n",
    "wood_rmse_train = abs(rmse(wood_model, X_train, y_train))\n",
    "wood_rmse_test = abs(rmse(wood_model, X_test, y_test))\n",
    "print(\"\"\"\\\n",
    "RandomForestRegressor\n",
    "\n",
    "RMSE на обучающей выборке: {:.2f}\n",
    "RMSE на тестовой выборке: {:.2f}\n",
    "\"\"\".format(wood_rmse_train, wood_rmse_test))\n",
    "\n",
    "print(\"Лучшие параметры модели:\")\n",
    "for name, value in wood_model.best_params_.items():\n",
    "    print(\"\\t{}: {}\".format(name, value))\n",
    "print()"
   ]
  },
  {
   "cell_type": "code",
   "execution_count": 22,
   "metadata": {},
   "outputs": [
    {
     "name": "stdout",
     "output_type": "stream",
     "text": [
      "LightGBM\n",
      "\n",
      "RMSE на обучающей выборке: 6.31\n",
      "RMSE на тестовой выборке: 43.93\n",
      "\n",
      "Лучшие параметры модели:\n",
      "\tn_estimators: 250\n",
      "\n",
      "CPU times: user 1.29 s, sys: 25.1 ms, total: 1.31 s\n",
      "Wall time: 2.2 s\n"
     ]
    },
    {
     "data": {
      "image/png": "[encoded data removed]",
      "text/plain": [
       "<Figure size 432x288 with 1 Axes>"
      ]
     },
     "metadata": {},
     "output_type": "display_data"
    }
   ],
   "source": [
    "%%time\n",
    "\n",
    "# Define wood model with hyperparameters tuning\n",
    "lgbm_model = GridSearchCV(\n",
    "    LGBMRegressor(random_state=12345),\n",
    "    param_grid={\n",
    "        \"n_estimators\": [250, 500, 1000],\n",
    "#         \"min_data_in_leaf\": [100, 300],\n",
    "#         \"num_leaves\": [20, 40, 60]\n",
    "    },\n",
    "    cv=TimeSeriesSplit(),\n",
    "    n_jobs=4\n",
    ")\n",
    "\n",
    "# Fit lgbm model\n",
    "lgbm_model.fit(X_train, y_train)\n",
    "\n",
    "# Print RMSE score\n",
    "lgbm_rmse_train = abs(rmse(lgbm_model, X_train, y_train))\n",
    "lgbm_rmse_test = abs(rmse(lgbm_model, X_test, y_test))\n",
    "print(\"\"\"\\\n",
    "LightGBM\n",
    "\n",
    "RMSE на обучающей выборке: {:.2f}\n",
    "RMSE на тестовой выборке: {:.2f}\n",
    "\"\"\".format(lgbm_rmse_train, lgbm_rmse_test))\n",
    "\n",
    "print(\"Лучшие параметры модели:\")\n",
    "for name, value in lgbm_model.best_params_.items():\n",
    "    print(\"\\t{}: {}\".format(name, value))\n",
    "print()\n",
    "\n",
    "# Format lgbm model coefficients to dataframe\n",
    "df = pd.DataFrame(\n",
    "    [lgbm_model.best_estimator_.feature_importances_], \n",
    "    columns=X_train.columns\n",
    ").sort_values(by=0, axis=1, ascending=False)\n",
    "\n",
    "# Draw coefs barplot\n",
    "bound = 20\n",
    "rotation = 45\n",
    "\n",
    "ax = sns.barplot(x=df.columns[:bound], y=df.iloc[0, :bound])\n",
    "ax.set_xticklabels(ax.get_xticklabels(), rotation = rotation)\n",
    "_ = ax.set_title(\"Значимость коэффициентов\")"
   ]
  },
  {
   "cell_type": "markdown",
   "metadata": {},
   "source": [
    "### Выводы"
   ]
  },
  {
   "cell_type": "markdown",
   "metadata": {},
   "source": [
    "Модель|RMSE train|RMSE test\n",
    "---|---|---\n",
    "ElasticNet|23.57|45.17\n",
    "RandomForest|9.65|42.99\n",
    "LGBM|6.31|43.93\n",
    "\n",
    "- Все обученные модели имеют допустимое значение метрики на тестовой выборке.\n",
    "- Похоже все модели переобучились. Значения метрик для обучающей и тетовой выборок сильно отличаются.\n",
    "- RandomForestRegressor обладатель наминьшего значения RMSE на тестовой выборке: 42.99.\n",
    "- Наиболее значимые для ElasticNet признаки: 'lag_1', 'resid', 'dayofweek', 'trend', 'seasonal', 'month'\n",
    "- Наиболее значимые для LGBM признаки: 'trend', 'lag_24', 'resid', 'lag_1' "
   ]
  },
  {
   "cell_type": "markdown",
   "metadata": {},
   "source": [
    "## Тестирование"
   ]
  },
  {
   "cell_type": "code",
   "execution_count": 23,
   "metadata": {},
   "outputs": [
    {
     "name": "stdout",
     "output_type": "stream",
     "text": [
      "Модель прогноза среднего\n",
      "RMSE на обучающей выборке: 38.67\n",
      "RMSE на тестовой выборке: 84.74\n",
      "\n"
     ]
    }
   ],
   "source": [
    "dummy_regressor = DummyRegressor()\n",
    "dummy_regressor.fit(X_train, y_train)\n",
    "dummy_regressor_rmse_train = abs(rmse(dummy_regressor, X_train, y_train))\n",
    "dummy_regressor_rmse_test = abs(rmse(dummy_regressor, X_test, y_test))\n",
    "print(\"\"\"\\\n",
    "Модель прогноза среднего\n",
    "RMSE на обучающей выборке: {:.2f}\n",
    "RMSE на тестовой выборке: {:.2f}\n",
    "\"\"\".format(dummy_regressor_rmse_train, dummy_regressor_rmse_test))"
   ]
  },
  {
   "cell_type": "code",
   "execution_count": 24,
   "metadata": {},
   "outputs": [
    {
     "name": "stdout",
     "output_type": "stream",
     "text": [
      "\n",
      "Прогнозирование по предыдущим значениям\n",
      "Лаг номер: 1\n",
      "RMSE на тестовой выборке: 58.86\n"
     ]
    }
   ],
   "source": [
    "lag = 1\n",
    "y_previous = X_test['lag_{}'.format(lag)]\n",
    "print()\n",
    "print(\"\"\"Прогнозирование по предыдущим значениям\n",
    "Лаг номер: {}\n",
    "RMSE на тестовой выборке: {:.2f}\"\"\".format(\n",
    "        lag,\n",
    "        abs(mean_squared_error(y_previous, y_test, squared=False))\n",
    "    )\n",
    ")"
   ]
  },
  {
   "cell_type": "markdown",
   "metadata": {},
   "source": [
    "## Выводы"
   ]
  },
  {
   "cell_type": "markdown",
   "metadata": {},
   "source": [
    "Модель|RMSE train|RMSE test\n",
    "---|---|---\n",
    "ElasticNet|23.57|45.17\n",
    "RandomForest|9.65|42.99\n",
    "LGBM|6.31|43.93\n",
    "Dummy Mean|38.67|84.74\n",
    "Dummy Previos|-|58.86\n",
    "\n",
    "- Временной ряд количества заказов такси в час нестационарный с верхним трендом и сезонностью в период на 24 часа с 6:00 по 6:00.\n",
    "- Все обученные модели имеют допустимое значение метрики (ниже 48) на тестовой выборке.\n",
    "- Значения метрик для обучающей и тетовой выборок сильно отличаются. Похоже все модели переобучились. \n",
    "- Лучшая модель: RandomForestRegressor обладатель наминьшего значения RMSE на тестовой выборке: 42.99.\n",
    "- Значения метрик моделей на тестовой выборке ниже значений метрик обоих наивных моделей. \n",
    "- Наиболее значимые для ElasticNet признаки: 'lag_1', 'resid', 'dayofweek', 'trend', 'seasonal', 'month'\n",
    "- Наиболее значимые для LGBM признаки: 'trend', 'lag_24', 'resid', 'lag_1'"
   ]
  }
 ],
 "metadata": {
  "ExecuteTimeLog": [
   {
    "duration": 1470,
    "start_time": "2021-10-11T11:06:23.578Z"
   },
   {
    "duration": 48,
    "start_time": "2021-10-11T11:07:15.915Z"
   },
   {
    "duration": 53,
    "start_time": "2021-10-11T11:07:45.684Z"
   },
   {
    "duration": 48,
    "start_time": "2021-10-11T11:08:08.505Z"
   },
   {
    "duration": 49,
    "start_time": "2021-10-11T11:08:12.922Z"
   },
   {
    "duration": 20,
    "start_time": "2021-10-11T11:08:41.710Z"
   },
   {
    "duration": 9,
    "start_time": "2021-10-11T11:08:54.978Z"
   },
   {
    "duration": 709,
    "start_time": "2021-10-11T11:09:29.129Z"
   },
   {
    "duration": 669,
    "start_time": "2021-10-11T11:09:53.199Z"
   },
   {
    "duration": 4851,
    "start_time": "2021-10-11T11:10:11.618Z"
   },
   {
    "duration": 4,
    "start_time": "2021-10-11T11:10:27.204Z"
   },
   {
    "duration": 346,
    "start_time": "2021-10-11T11:10:45.362Z"
   },
   {
    "duration": 3,
    "start_time": "2021-10-11T11:11:01.595Z"
   },
   {
    "duration": 3740,
    "start_time": "2021-10-11T11:11:39.937Z"
   },
   {
    "duration": 1421,
    "start_time": "2021-10-11T11:11:43.680Z"
   },
   {
    "duration": 5,
    "start_time": "2021-10-11T11:11:45.105Z"
   },
   {
    "duration": 67,
    "start_time": "2021-10-11T11:11:45.114Z"
   },
   {
    "duration": 20,
    "start_time": "2021-10-11T11:11:45.184Z"
   },
   {
    "duration": 10,
    "start_time": "2021-10-11T11:11:45.207Z"
   },
   {
    "duration": 1127,
    "start_time": "2021-10-11T11:11:45.220Z"
   },
   {
    "duration": 1027,
    "start_time": "2021-10-11T11:12:14.044Z"
   },
   {
    "duration": 1981,
    "start_time": "2021-10-11T11:24:25.612Z"
   },
   {
    "duration": 1420,
    "start_time": "2021-10-11T11:24:27.596Z"
   },
   {
    "duration": 4,
    "start_time": "2021-10-11T11:24:29.019Z"
   },
   {
    "duration": 67,
    "start_time": "2021-10-11T11:24:29.026Z"
   },
   {
    "duration": 17,
    "start_time": "2021-10-11T11:24:29.096Z"
   },
   {
    "duration": 11,
    "start_time": "2021-10-11T11:24:29.115Z"
   },
   {
    "duration": 711,
    "start_time": "2021-10-11T11:24:29.129Z"
   },
   {
    "duration": 11805,
    "start_time": "2021-10-11T11:24:38.990Z"
   },
   {
    "duration": 2481,
    "start_time": "2021-10-11T11:24:50.799Z"
   },
   {
    "duration": 4,
    "start_time": "2021-10-11T11:24:53.283Z"
   },
   {
    "duration": 61,
    "start_time": "2021-10-11T11:24:53.290Z"
   },
   {
    "duration": 17,
    "start_time": "2021-10-11T11:24:53.362Z"
   },
   {
    "duration": 16,
    "start_time": "2021-10-11T11:24:53.382Z"
   },
   {
    "duration": 725,
    "start_time": "2021-10-11T11:24:53.401Z"
   },
   {
    "duration": 4,
    "start_time": "2021-10-11T11:32:26.187Z"
   },
   {
    "duration": 89,
    "start_time": "2021-10-14T08:04:55.858Z"
   },
   {
    "duration": 332,
    "start_time": "2021-10-14T10:01:02.702Z"
   },
   {
    "duration": 32986,
    "start_time": "2021-10-14T10:01:11.964Z"
   },
   {
    "duration": 1368,
    "start_time": "2021-10-14T10:01:44.953Z"
   },
   {
    "duration": 322,
    "start_time": "2021-10-14T10:01:46.324Z"
   },
   {
    "duration": 29,
    "start_time": "2021-10-14T10:01:46.649Z"
   },
   {
    "duration": 63,
    "start_time": "2021-10-14T10:01:46.681Z"
   },
   {
    "duration": 16,
    "start_time": "2021-10-14T10:01:46.747Z"
   },
   {
    "duration": 68,
    "start_time": "2021-10-14T10:01:46.766Z"
   },
   {
    "duration": 26,
    "start_time": "2021-10-14T10:01:46.836Z"
   },
   {
    "duration": 12,
    "start_time": "2021-10-14T10:01:46.866Z"
   },
   {
    "duration": 748,
    "start_time": "2021-10-14T10:01:46.881Z"
   },
   {
    "duration": 8,
    "start_time": "2021-10-14T10:01:47.631Z"
   },
   {
    "duration": 129,
    "start_time": "2021-10-14T10:01:47.641Z"
   },
   {
    "duration": 1277,
    "start_time": "2021-10-14T10:01:47.772Z"
   },
   {
    "duration": 624,
    "start_time": "2021-10-14T10:01:49.052Z"
   },
   {
    "duration": 432,
    "start_time": "2021-10-14T10:01:49.679Z"
   },
   {
    "duration": 673,
    "start_time": "2021-10-14T10:01:50.114Z"
   },
   {
    "duration": 7,
    "start_time": "2021-10-14T10:01:50.789Z"
   },
   {
    "duration": 528,
    "start_time": "2021-10-14T10:01:50.798Z"
   },
   {
    "duration": 8,
    "start_time": "2021-10-14T10:01:51.328Z"
   },
   {
    "duration": 6,
    "start_time": "2021-10-14T10:01:51.338Z"
   },
   {
    "duration": 2070,
    "start_time": "2021-10-14T10:01:51.361Z"
   },
   {
    "duration": 142917,
    "start_time": "2021-10-14T10:01:53.433Z"
   },
   {
    "duration": 52530,
    "start_time": "2021-10-14T10:04:16.353Z"
   },
   {
    "duration": 7,
    "start_time": "2021-10-14T10:05:08.885Z"
   },
   {
    "duration": 7,
    "start_time": "2021-10-14T10:05:08.895Z"
   },
   {
    "duration": 26,
    "start_time": "2021-10-14T10:05:08.905Z"
   },
   {
    "duration": 768,
    "start_time": "2021-10-14T10:10:37.081Z"
   }
  ],
  "kernelspec": {
   "display_name": "Python 3",
   "language": "python",
   "name": "python3"
  },
  "language_info": {
   "codemirror_mode": {
    "name": "ipython",
    "version": 3
   },
   "file_extension": ".py",
   "mimetype": "text/x-python",
   "name": "python",
   "nbconvert_exporter": "python",
   "pygments_lexer": "ipython3",
   "version": "3.9.1"
  },
  "toc": {
   "base_numbering": 1,
   "nav_menu": {},
   "number_sections": true,
   "sideBar": true,
   "skip_h1_title": true,
   "title_cell": "Содержание",
   "title_sidebar": "Contents",
   "toc_cell": true,
   "toc_position": {},
   "toc_section_display": true,
   "toc_window_display": false
  }
 },
 "nbformat": 4,
 "nbformat_minor": 2
}
