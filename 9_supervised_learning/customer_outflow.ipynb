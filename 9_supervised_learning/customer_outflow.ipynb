{
 "cells": [
  {
   "cell_type": "markdown",
   "metadata": {
    "toc": true
   },
   "source": [
    "<h1>Содержание<span class=\"tocSkip\"></span></h1>\n",
    "<div class=\"toc\"><ul class=\"toc-item\"><li><span><a href=\"#Подготовка-данных\" data-toc-modified-id=\"Подготовка-данных-1\"><span class=\"toc-item-num\">1&nbsp;&nbsp;</span>Подготовка данных</a></span><ul class=\"toc-item\"><li><span><a href=\"#Подключение-библиотек\" data-toc-modified-id=\"Подключение-библиотек-1.1\"><span class=\"toc-item-num\">1.1&nbsp;&nbsp;</span>Подключение библиотек</a></span></li><li><span><a href=\"#Загрузка-и-обзор\" data-toc-modified-id=\"Загрузка-и-обзор-1.2\"><span class=\"toc-item-num\">1.2&nbsp;&nbsp;</span>Загрузка и обзор</a></span></li><li><span><a href=\"#Выводы\" data-toc-modified-id=\"Выводы-1.3\"><span class=\"toc-item-num\">1.3&nbsp;&nbsp;</span>Выводы</a></span></li></ul></li><li><span><a href=\"#Исследование-задачи\" data-toc-modified-id=\"Исследование-задачи-2\"><span class=\"toc-item-num\">2&nbsp;&nbsp;</span>Исследование задачи</a></span><ul class=\"toc-item\"><li><span><a href=\"#Предобработка\" data-toc-modified-id=\"Предобработка-2.1\"><span class=\"toc-item-num\">2.1&nbsp;&nbsp;</span>Предобработка</a></span></li><li><span><a href=\"#Обучение\" data-toc-modified-id=\"Обучение-2.2\"><span class=\"toc-item-num\">2.2&nbsp;&nbsp;</span>Обучение</a></span></li><li><span><a href=\"#Выводы\" data-toc-modified-id=\"Выводы-2.3\"><span class=\"toc-item-num\">2.3&nbsp;&nbsp;</span>Выводы</a></span></li></ul></li><li><span><a href=\"#Борьба-с-дисбалансом\" data-toc-modified-id=\"Борьба-с-дисбалансом-3\"><span class=\"toc-item-num\">3&nbsp;&nbsp;</span>Борьба с дисбалансом</a></span><ul class=\"toc-item\"><li><span><a href=\"#Взвешивание\" data-toc-modified-id=\"Взвешивание-3.1\"><span class=\"toc-item-num\">3.1&nbsp;&nbsp;</span>Взвешивание</a></span></li><li><span><a href=\"#Upsampling\" data-toc-modified-id=\"Upsampling-3.2\"><span class=\"toc-item-num\">3.2&nbsp;&nbsp;</span>Upsampling</a></span></li><li><span><a href=\"#Downsampling\" data-toc-modified-id=\"Downsampling-3.3\"><span class=\"toc-item-num\">3.3&nbsp;&nbsp;</span>Downsampling</a></span></li><li><span><a href=\"#Деревья\" data-toc-modified-id=\"Деревья-3.4\"><span class=\"toc-item-num\">3.4&nbsp;&nbsp;</span>Деревья</a></span></li><li><span><a href=\"#Выводы\" data-toc-modified-id=\"Выводы-3.5\"><span class=\"toc-item-num\">3.5&nbsp;&nbsp;</span>Выводы</a></span></li></ul></li><li><span><a href=\"#Тестирование-модели\" data-toc-modified-id=\"Тестирование-модели-4\"><span class=\"toc-item-num\">4&nbsp;&nbsp;</span>Тестирование модели</a></span><ul class=\"toc-item\"><li><span><a href=\"#Логистическая-регрессия,-веса\" data-toc-modified-id=\"Логистическая-регрессия,-веса-4.1\"><span class=\"toc-item-num\">4.1&nbsp;&nbsp;</span>Логистическая регрессия, веса</a></span></li><li><span><a href=\"#Логистическая-регрессия,-upsampling\" data-toc-modified-id=\"Логистическая-регрессия,-upsampling-4.2\"><span class=\"toc-item-num\">4.2&nbsp;&nbsp;</span>Логистическая регрессия, upsampling</a></span></li><li><span><a href=\"#Логистическая-регрессия,-downsampling\" data-toc-modified-id=\"Логистическая-регрессия,-downsampling-4.3\"><span class=\"toc-item-num\">4.3&nbsp;&nbsp;</span>Логистическая регрессия, downsampling</a></span></li><li><span><a href=\"#Случайный-лес\" data-toc-modified-id=\"Случайный-лес-4.4\"><span class=\"toc-item-num\">4.4&nbsp;&nbsp;</span>Случайный лес</a></span></li><li><span><a href=\"#Выводы\" data-toc-modified-id=\"Выводы-4.5\"><span class=\"toc-item-num\">4.5&nbsp;&nbsp;</span>Выводы</a></span></li></ul></li><li><span><a href=\"#Чек-лист-готовности-проекта\" data-toc-modified-id=\"Чек-лист-готовности-проекта-5\"><span class=\"toc-item-num\">5&nbsp;&nbsp;</span>Чек-лист готовности проекта</a></span></li></ul></div>"
   ]
  },
  {
   "cell_type": "markdown",
   "metadata": {},
   "source": [
    "## Подготовка данных"
   ]
  },
  {
   "cell_type": "markdown",
   "metadata": {},
   "source": [
    "### Подключение библиотек"
   ]
  },
  {
   "cell_type": "code",
   "execution_count": null,
   "metadata": {},
   "outputs": [],
   "source": [
    "!pip install -qU category_encoders seaborn scikit-learn pandas"
   ]
  },
  {
   "cell_type": "code",
   "execution_count": 2,
   "metadata": {},
   "outputs": [
    {
     "name": "stderr",
     "output_type": "stream",
     "text": [
      "/opt/conda/lib/python3.7/site-packages/statsmodels/tools/_testing.py:19: FutureWarning: pandas.util.testing is deprecated. Use the functions in the public API at pandas.testing instead.\n",
      "  import pandas.util.testing as tm\n"
     ]
    }
   ],
   "source": [
    "import warnings\n",
    "import pandas as pd \n",
    "import numpy as np\n",
    "import seaborn as sns\n",
    "from sklearn.utils import shuffle\n",
    "from sklearn.ensemble import RandomForestClassifier\n",
    "from sklearn.linear_model import LogisticRegression\n",
    "from sklearn.metrics import roc_auc_score, roc_curve, confusion_matrix, f1_score, accuracy_score\n",
    "from sklearn.model_selection import GridSearchCV, train_test_split\n",
    "from sklearn.model_selection import ShuffleSplit, StratifiedKFold, LeaveOneGroupOut\n",
    "from sklearn.preprocessing import StandardScaler\n",
    "from sklearn.pipeline import Pipeline, make_pipeline\n",
    "from sklearn.dummy import DummyClassifier\n",
    "from category_encoders import BinaryEncoder, OneHotEncoder, OrdinalEncoder\n",
    "import matplotlib.pyplot as plt"
   ]
  },
  {
   "cell_type": "code",
   "execution_count": 3,
   "metadata": {},
   "outputs": [],
   "source": [
    "# Settings\n",
    "warnings.filterwarnings(action='ignore')\n",
    "sns.set_theme(context=\"talk\", rc={'figure.figsize':(8,6)})\n",
    "pd.set_option('display.max_columns', None)"
   ]
  },
  {
   "cell_type": "markdown",
   "metadata": {},
   "source": [
    "### Загрузка и обзор"
   ]
  },
  {
   "cell_type": "code",
   "execution_count": 4,
   "metadata": {},
   "outputs": [
    {
     "name": "stdout",
     "output_type": "stream",
     "text": [
      "Количество строк: 10000 столбцов: 13\n"
     ]
    },
    {
     "data": {
      "text/html": [
       "<div>\n",
       "<style scoped>\n",
       "    .dataframe tbody tr th:only-of-type {\n",
       "        vertical-align: middle;\n",
       "    }\n",
       "\n",
       "    .dataframe tbody tr th {\n",
       "        vertical-align: top;\n",
       "    }\n",
       "\n",
       "    .dataframe thead th {\n",
       "        text-align: right;\n",
       "    }\n",
       "</style>\n",
       "<table border=\"1\" class=\"dataframe\">\n",
       "  <thead>\n",
       "    <tr style=\"text-align: right;\">\n",
       "      <th></th>\n",
       "      <th>CustomerId</th>\n",
       "      <th>Surname</th>\n",
       "      <th>CreditScore</th>\n",
       "      <th>Geography</th>\n",
       "      <th>Gender</th>\n",
       "      <th>Age</th>\n",
       "      <th>Tenure</th>\n",
       "      <th>Balance</th>\n",
       "      <th>NumOfProducts</th>\n",
       "      <th>HasCrCard</th>\n",
       "      <th>IsActiveMember</th>\n",
       "      <th>EstimatedSalary</th>\n",
       "      <th>Exited</th>\n",
       "    </tr>\n",
       "  </thead>\n",
       "  <tbody>\n",
       "    <tr>\n",
       "      <th>7867</th>\n",
       "      <td>15697201</td>\n",
       "      <td>Yocum</td>\n",
       "      <td>640</td>\n",
       "      <td>Spain</td>\n",
       "      <td>Female</td>\n",
       "      <td>46</td>\n",
       "      <td>3.0</td>\n",
       "      <td>0.00</td>\n",
       "      <td>1</td>\n",
       "      <td>1</td>\n",
       "      <td>1</td>\n",
       "      <td>156260.08</td>\n",
       "      <td>0</td>\n",
       "    </tr>\n",
       "    <tr>\n",
       "      <th>1402</th>\n",
       "      <td>15613282</td>\n",
       "      <td>Vorobyova</td>\n",
       "      <td>757</td>\n",
       "      <td>France</td>\n",
       "      <td>Male</td>\n",
       "      <td>29</td>\n",
       "      <td>8.0</td>\n",
       "      <td>130306.49</td>\n",
       "      <td>1</td>\n",
       "      <td>1</td>\n",
       "      <td>0</td>\n",
       "      <td>77469.38</td>\n",
       "      <td>0</td>\n",
       "    </tr>\n",
       "    <tr>\n",
       "      <th>8606</th>\n",
       "      <td>15694581</td>\n",
       "      <td>Rawlings</td>\n",
       "      <td>807</td>\n",
       "      <td>Spain</td>\n",
       "      <td>Male</td>\n",
       "      <td>42</td>\n",
       "      <td>5.0</td>\n",
       "      <td>0.00</td>\n",
       "      <td>2</td>\n",
       "      <td>1</td>\n",
       "      <td>1</td>\n",
       "      <td>74900.90</td>\n",
       "      <td>0</td>\n",
       "    </tr>\n",
       "    <tr>\n",
       "      <th>8885</th>\n",
       "      <td>15815125</td>\n",
       "      <td>Michael</td>\n",
       "      <td>668</td>\n",
       "      <td>Spain</td>\n",
       "      <td>Male</td>\n",
       "      <td>45</td>\n",
       "      <td>4.0</td>\n",
       "      <td>102486.21</td>\n",
       "      <td>2</td>\n",
       "      <td>1</td>\n",
       "      <td>1</td>\n",
       "      <td>158379.25</td>\n",
       "      <td>0</td>\n",
       "    </tr>\n",
       "    <tr>\n",
       "      <th>6494</th>\n",
       "      <td>15752846</td>\n",
       "      <td>Pinto</td>\n",
       "      <td>699</td>\n",
       "      <td>France</td>\n",
       "      <td>Male</td>\n",
       "      <td>28</td>\n",
       "      <td>7.0</td>\n",
       "      <td>0.00</td>\n",
       "      <td>2</td>\n",
       "      <td>1</td>\n",
       "      <td>1</td>\n",
       "      <td>22684.78</td>\n",
       "      <td>0</td>\n",
       "    </tr>\n",
       "    <tr>\n",
       "      <th>9628</th>\n",
       "      <td>15596624</td>\n",
       "      <td>Topp</td>\n",
       "      <td>662</td>\n",
       "      <td>France</td>\n",
       "      <td>Female</td>\n",
       "      <td>22</td>\n",
       "      <td>9.0</td>\n",
       "      <td>0.00</td>\n",
       "      <td>2</td>\n",
       "      <td>1</td>\n",
       "      <td>1</td>\n",
       "      <td>44377.65</td>\n",
       "      <td>0</td>\n",
       "    </tr>\n",
       "    <tr>\n",
       "      <th>7459</th>\n",
       "      <td>15583724</td>\n",
       "      <td>Raymond</td>\n",
       "      <td>645</td>\n",
       "      <td>Spain</td>\n",
       "      <td>Female</td>\n",
       "      <td>29</td>\n",
       "      <td>4.0</td>\n",
       "      <td>0.00</td>\n",
       "      <td>2</td>\n",
       "      <td>1</td>\n",
       "      <td>1</td>\n",
       "      <td>74346.11</td>\n",
       "      <td>0</td>\n",
       "    </tr>\n",
       "    <tr>\n",
       "      <th>3964</th>\n",
       "      <td>15714981</td>\n",
       "      <td>Sabbatini</td>\n",
       "      <td>476</td>\n",
       "      <td>France</td>\n",
       "      <td>Male</td>\n",
       "      <td>37</td>\n",
       "      <td>4.0</td>\n",
       "      <td>0.00</td>\n",
       "      <td>1</td>\n",
       "      <td>1</td>\n",
       "      <td>1</td>\n",
       "      <td>55775.84</td>\n",
       "      <td>1</td>\n",
       "    </tr>\n",
       "    <tr>\n",
       "      <th>7000</th>\n",
       "      <td>15739548</td>\n",
       "      <td>Johnson</td>\n",
       "      <td>775</td>\n",
       "      <td>France</td>\n",
       "      <td>Male</td>\n",
       "      <td>28</td>\n",
       "      <td>9.0</td>\n",
       "      <td>111167.70</td>\n",
       "      <td>1</td>\n",
       "      <td>1</td>\n",
       "      <td>0</td>\n",
       "      <td>149331.01</td>\n",
       "      <td>0</td>\n",
       "    </tr>\n",
       "    <tr>\n",
       "      <th>4470</th>\n",
       "      <td>15593795</td>\n",
       "      <td>Linton</td>\n",
       "      <td>516</td>\n",
       "      <td>Germany</td>\n",
       "      <td>Female</td>\n",
       "      <td>53</td>\n",
       "      <td>NaN</td>\n",
       "      <td>156674.20</td>\n",
       "      <td>1</td>\n",
       "      <td>1</td>\n",
       "      <td>0</td>\n",
       "      <td>118502.34</td>\n",
       "      <td>1</td>\n",
       "    </tr>\n",
       "  </tbody>\n",
       "</table>\n",
       "</div>"
      ],
      "text/plain": [
       "      CustomerId    Surname  CreditScore Geography  Gender  Age  Tenure  \\\n",
       "7867    15697201      Yocum          640     Spain  Female   46     3.0   \n",
       "1402    15613282  Vorobyova          757    France    Male   29     8.0   \n",
       "8606    15694581   Rawlings          807     Spain    Male   42     5.0   \n",
       "8885    15815125    Michael          668     Spain    Male   45     4.0   \n",
       "6494    15752846      Pinto          699    France    Male   28     7.0   \n",
       "9628    15596624       Topp          662    France  Female   22     9.0   \n",
       "7459    15583724    Raymond          645     Spain  Female   29     4.0   \n",
       "3964    15714981  Sabbatini          476    France    Male   37     4.0   \n",
       "7000    15739548    Johnson          775    France    Male   28     9.0   \n",
       "4470    15593795     Linton          516   Germany  Female   53     NaN   \n",
       "\n",
       "        Balance  NumOfProducts  HasCrCard  IsActiveMember  EstimatedSalary  \\\n",
       "7867       0.00              1          1               1        156260.08   \n",
       "1402  130306.49              1          1               0         77469.38   \n",
       "8606       0.00              2          1               1         74900.90   \n",
       "8885  102486.21              2          1               1        158379.25   \n",
       "6494       0.00              2          1               1         22684.78   \n",
       "9628       0.00              2          1               1         44377.65   \n",
       "7459       0.00              2          1               1         74346.11   \n",
       "3964       0.00              1          1               1         55775.84   \n",
       "7000  111167.70              1          1               0        149331.01   \n",
       "4470  156674.20              1          1               0        118502.34   \n",
       "\n",
       "      Exited  \n",
       "7867       0  \n",
       "1402       0  \n",
       "8606       0  \n",
       "8885       0  \n",
       "6494       0  \n",
       "9628       0  \n",
       "7459       0  \n",
       "3964       1  \n",
       "7000       0  \n",
       "4470       1  "
      ]
     },
     "execution_count": 4,
     "metadata": {},
     "output_type": "execute_result"
    }
   ],
   "source": [
    "churn = pd.read_csv('/datasets/Churn.csv', index_col='RowNumber')\n",
    "churn = churn.reset_index(drop=True)\n",
    "print('Количество строк: {} столбцов: {}'.format(*churn.shape))\n",
    "churn.sample(n=10, random_state=12345)"
   ]
  },
  {
   "cell_type": "code",
   "execution_count": 5,
   "metadata": {},
   "outputs": [
    {
     "name": "stdout",
     "output_type": "stream",
     "text": [
      "<class 'pandas.core.frame.DataFrame'>\n",
      "RangeIndex: 10000 entries, 0 to 9999\n",
      "Data columns (total 13 columns):\n",
      " #   Column           Non-Null Count  Dtype  \n",
      "---  ------           --------------  -----  \n",
      " 0   CustomerId       10000 non-null  int64  \n",
      " 1   Surname          10000 non-null  object \n",
      " 2   CreditScore      10000 non-null  int64  \n",
      " 3   Geography        10000 non-null  object \n",
      " 4   Gender           10000 non-null  object \n",
      " 5   Age              10000 non-null  int64  \n",
      " 6   Tenure           9091 non-null   float64\n",
      " 7   Balance          10000 non-null  float64\n",
      " 8   NumOfProducts    10000 non-null  int64  \n",
      " 9   HasCrCard        10000 non-null  int64  \n",
      " 10  IsActiveMember   10000 non-null  int64  \n",
      " 11  EstimatedSalary  10000 non-null  float64\n",
      " 12  Exited           10000 non-null  int64  \n",
      "dtypes: float64(3), int64(7), object(3)\n",
      "memory usage: 1015.8+ KB\n"
     ]
    }
   ],
   "source": [
    "churn.info()"
   ]
  },
  {
   "cell_type": "code",
   "execution_count": 6,
   "metadata": {},
   "outputs": [
    {
     "data": {
      "text/html": [
       "<div>\n",
       "<style scoped>\n",
       "    .dataframe tbody tr th:only-of-type {\n",
       "        vertical-align: middle;\n",
       "    }\n",
       "\n",
       "    .dataframe tbody tr th {\n",
       "        vertical-align: top;\n",
       "    }\n",
       "\n",
       "    .dataframe thead th {\n",
       "        text-align: right;\n",
       "    }\n",
       "</style>\n",
       "<table border=\"1\" class=\"dataframe\">\n",
       "  <thead>\n",
       "    <tr style=\"text-align: right;\">\n",
       "      <th></th>\n",
       "      <th>Surname</th>\n",
       "      <th>Geography</th>\n",
       "      <th>Gender</th>\n",
       "    </tr>\n",
       "  </thead>\n",
       "  <tbody>\n",
       "    <tr>\n",
       "      <th>count</th>\n",
       "      <td>10000</td>\n",
       "      <td>10000</td>\n",
       "      <td>10000</td>\n",
       "    </tr>\n",
       "    <tr>\n",
       "      <th>unique</th>\n",
       "      <td>2932</td>\n",
       "      <td>3</td>\n",
       "      <td>2</td>\n",
       "    </tr>\n",
       "    <tr>\n",
       "      <th>top</th>\n",
       "      <td>Smith</td>\n",
       "      <td>France</td>\n",
       "      <td>Male</td>\n",
       "    </tr>\n",
       "    <tr>\n",
       "      <th>freq</th>\n",
       "      <td>32</td>\n",
       "      <td>5014</td>\n",
       "      <td>5457</td>\n",
       "    </tr>\n",
       "  </tbody>\n",
       "</table>\n",
       "</div>"
      ],
      "text/plain": [
       "       Surname Geography Gender\n",
       "count    10000     10000  10000\n",
       "unique    2932         3      2\n",
       "top      Smith    France   Male\n",
       "freq        32      5014   5457"
      ]
     },
     "execution_count": 6,
     "metadata": {},
     "output_type": "execute_result"
    }
   ],
   "source": [
    "churn.describe(include='object')"
   ]
  },
  {
   "cell_type": "code",
   "execution_count": 7,
   "metadata": {},
   "outputs": [
    {
     "data": {
      "text/html": [
       "<div>\n",
       "<style scoped>\n",
       "    .dataframe tbody tr th:only-of-type {\n",
       "        vertical-align: middle;\n",
       "    }\n",
       "\n",
       "    .dataframe tbody tr th {\n",
       "        vertical-align: top;\n",
       "    }\n",
       "\n",
       "    .dataframe thead th {\n",
       "        text-align: right;\n",
       "    }\n",
       "</style>\n",
       "<table border=\"1\" class=\"dataframe\">\n",
       "  <thead>\n",
       "    <tr style=\"text-align: right;\">\n",
       "      <th></th>\n",
       "      <th>CustomerId</th>\n",
       "      <th>CreditScore</th>\n",
       "      <th>Age</th>\n",
       "      <th>Tenure</th>\n",
       "      <th>Balance</th>\n",
       "      <th>NumOfProducts</th>\n",
       "      <th>HasCrCard</th>\n",
       "      <th>IsActiveMember</th>\n",
       "      <th>EstimatedSalary</th>\n",
       "      <th>Exited</th>\n",
       "    </tr>\n",
       "  </thead>\n",
       "  <tbody>\n",
       "    <tr>\n",
       "      <th>count</th>\n",
       "      <td>1.000000e+04</td>\n",
       "      <td>10000.000000</td>\n",
       "      <td>10000.000000</td>\n",
       "      <td>9091.000000</td>\n",
       "      <td>10000.000000</td>\n",
       "      <td>10000.000000</td>\n",
       "      <td>10000.00000</td>\n",
       "      <td>10000.000000</td>\n",
       "      <td>10000.000000</td>\n",
       "      <td>10000.000000</td>\n",
       "    </tr>\n",
       "    <tr>\n",
       "      <th>mean</th>\n",
       "      <td>1.569094e+07</td>\n",
       "      <td>650.528800</td>\n",
       "      <td>38.921800</td>\n",
       "      <td>4.997690</td>\n",
       "      <td>76485.889288</td>\n",
       "      <td>1.530200</td>\n",
       "      <td>0.70550</td>\n",
       "      <td>0.515100</td>\n",
       "      <td>100090.239881</td>\n",
       "      <td>0.203700</td>\n",
       "    </tr>\n",
       "    <tr>\n",
       "      <th>std</th>\n",
       "      <td>7.193619e+04</td>\n",
       "      <td>96.653299</td>\n",
       "      <td>10.487806</td>\n",
       "      <td>2.894723</td>\n",
       "      <td>62397.405202</td>\n",
       "      <td>0.581654</td>\n",
       "      <td>0.45584</td>\n",
       "      <td>0.499797</td>\n",
       "      <td>57510.492818</td>\n",
       "      <td>0.402769</td>\n",
       "    </tr>\n",
       "    <tr>\n",
       "      <th>min</th>\n",
       "      <td>1.556570e+07</td>\n",
       "      <td>350.000000</td>\n",
       "      <td>18.000000</td>\n",
       "      <td>0.000000</td>\n",
       "      <td>0.000000</td>\n",
       "      <td>1.000000</td>\n",
       "      <td>0.00000</td>\n",
       "      <td>0.000000</td>\n",
       "      <td>11.580000</td>\n",
       "      <td>0.000000</td>\n",
       "    </tr>\n",
       "    <tr>\n",
       "      <th>25%</th>\n",
       "      <td>1.562853e+07</td>\n",
       "      <td>584.000000</td>\n",
       "      <td>32.000000</td>\n",
       "      <td>2.000000</td>\n",
       "      <td>0.000000</td>\n",
       "      <td>1.000000</td>\n",
       "      <td>0.00000</td>\n",
       "      <td>0.000000</td>\n",
       "      <td>51002.110000</td>\n",
       "      <td>0.000000</td>\n",
       "    </tr>\n",
       "    <tr>\n",
       "      <th>50%</th>\n",
       "      <td>1.569074e+07</td>\n",
       "      <td>652.000000</td>\n",
       "      <td>37.000000</td>\n",
       "      <td>5.000000</td>\n",
       "      <td>97198.540000</td>\n",
       "      <td>1.000000</td>\n",
       "      <td>1.00000</td>\n",
       "      <td>1.000000</td>\n",
       "      <td>100193.915000</td>\n",
       "      <td>0.000000</td>\n",
       "    </tr>\n",
       "    <tr>\n",
       "      <th>75%</th>\n",
       "      <td>1.575323e+07</td>\n",
       "      <td>718.000000</td>\n",
       "      <td>44.000000</td>\n",
       "      <td>7.000000</td>\n",
       "      <td>127644.240000</td>\n",
       "      <td>2.000000</td>\n",
       "      <td>1.00000</td>\n",
       "      <td>1.000000</td>\n",
       "      <td>149388.247500</td>\n",
       "      <td>0.000000</td>\n",
       "    </tr>\n",
       "    <tr>\n",
       "      <th>max</th>\n",
       "      <td>1.581569e+07</td>\n",
       "      <td>850.000000</td>\n",
       "      <td>92.000000</td>\n",
       "      <td>10.000000</td>\n",
       "      <td>250898.090000</td>\n",
       "      <td>4.000000</td>\n",
       "      <td>1.00000</td>\n",
       "      <td>1.000000</td>\n",
       "      <td>199992.480000</td>\n",
       "      <td>1.000000</td>\n",
       "    </tr>\n",
       "  </tbody>\n",
       "</table>\n",
       "</div>"
      ],
      "text/plain": [
       "         CustomerId   CreditScore           Age       Tenure        Balance  \\\n",
       "count  1.000000e+04  10000.000000  10000.000000  9091.000000   10000.000000   \n",
       "mean   1.569094e+07    650.528800     38.921800     4.997690   76485.889288   \n",
       "std    7.193619e+04     96.653299     10.487806     2.894723   62397.405202   \n",
       "min    1.556570e+07    350.000000     18.000000     0.000000       0.000000   \n",
       "25%    1.562853e+07    584.000000     32.000000     2.000000       0.000000   \n",
       "50%    1.569074e+07    652.000000     37.000000     5.000000   97198.540000   \n",
       "75%    1.575323e+07    718.000000     44.000000     7.000000  127644.240000   \n",
       "max    1.581569e+07    850.000000     92.000000    10.000000  250898.090000   \n",
       "\n",
       "       NumOfProducts    HasCrCard  IsActiveMember  EstimatedSalary  \\\n",
       "count   10000.000000  10000.00000    10000.000000     10000.000000   \n",
       "mean        1.530200      0.70550        0.515100    100090.239881   \n",
       "std         0.581654      0.45584        0.499797     57510.492818   \n",
       "min         1.000000      0.00000        0.000000        11.580000   \n",
       "25%         1.000000      0.00000        0.000000     51002.110000   \n",
       "50%         1.000000      1.00000        1.000000    100193.915000   \n",
       "75%         2.000000      1.00000        1.000000    149388.247500   \n",
       "max         4.000000      1.00000        1.000000    199992.480000   \n",
       "\n",
       "             Exited  \n",
       "count  10000.000000  \n",
       "mean       0.203700  \n",
       "std        0.402769  \n",
       "min        0.000000  \n",
       "25%        0.000000  \n",
       "50%        0.000000  \n",
       "75%        0.000000  \n",
       "max        1.000000  "
      ]
     },
     "execution_count": 7,
     "metadata": {},
     "output_type": "execute_result"
    }
   ],
   "source": [
    "churn.describe()"
   ]
  },
  {
   "cell_type": "code",
   "execution_count": 8,
   "metadata": {},
   "outputs": [
    {
     "name": "stdout",
     "output_type": "stream",
     "text": [
      "Частоты фамилий:\n"
     ]
    },
    {
     "data": {
      "text/plain": [
       "Smith       32\n",
       "Scott       29\n",
       "Martin      29\n",
       "Walker      28\n",
       "Brown       26\n",
       "Yeh         25\n",
       "Shih        25\n",
       "Genovese    25\n",
       "Maclean     24\n",
       "Wright      24\n",
       "Name: Surname, dtype: int64"
      ]
     },
     "execution_count": 8,
     "metadata": {},
     "output_type": "execute_result"
    }
   ],
   "source": [
    "print(\"Частоты фамилий:\")\n",
    "churn['Surname'].value_counts().head(10)"
   ]
  },
  {
   "cell_type": "markdown",
   "metadata": {},
   "source": [
    "В данных встречаются люди с одинаковыми фамилиями."
   ]
  },
  {
   "cell_type": "code",
   "execution_count": 9,
   "metadata": {
    "scrolled": true
   },
   "outputs": [
    {
     "name": "stdout",
     "output_type": "stream",
     "text": [
      "Количество идентификаторов, имеющих дубликаты: 0\n"
     ]
    }
   ],
   "source": [
    "print(\"Количество идентификаторов, имеющих дубликаты: {}\".format((churn['CustomerId'].value_counts() > 1).sum()))"
   ]
  },
  {
   "cell_type": "markdown",
   "metadata": {},
   "source": [
    "Все идентификаторы уникальны. Каждый клиент в одной строке."
   ]
  },
  {
   "cell_type": "code",
   "execution_count": 10,
   "metadata": {},
   "outputs": [
    {
     "data": {
      "text/plain": [
       "France     5014\n",
       "Germany    2509\n",
       "Spain      2477\n",
       "Name: Geography, dtype: int64"
      ]
     },
     "execution_count": 10,
     "metadata": {},
     "output_type": "execute_result"
    }
   ],
   "source": [
    "churn['Geography'].value_counts()"
   ]
  },
  {
   "cell_type": "markdown",
   "metadata": {},
   "source": [
    "Группы клиентов из ранзых регионов имеют различную численность. \n",
    "Имеется дисбаланс групп по регионам."
   ]
  },
  {
   "cell_type": "code",
   "execution_count": 11,
   "metadata": {},
   "outputs": [
    {
     "data": {
      "text/plain": [
       "Male      5457\n",
       "Female    4543\n",
       "Name: Gender, dtype: int64"
      ]
     },
     "execution_count": 11,
     "metadata": {},
     "output_type": "execute_result"
    }
   ],
   "source": [
    "churn['Gender'].value_counts()"
   ]
  },
  {
   "cell_type": "markdown",
   "metadata": {},
   "source": [
    "Можно считать, что группы клиентов по половой принадлежности сбалансированны."
   ]
  },
  {
   "cell_type": "markdown",
   "metadata": {},
   "source": [
    "Посмотрим на гистограммы некоторых признаков, исключая те у которые принимают всего пару значений и фамилии с идентификаторами."
   ]
  },
  {
   "cell_type": "code",
   "execution_count": 12,
   "metadata": {
    "scrolled": false
   },
   "outputs": [
    {
     "data": {
      "image/png": "[encoded data removed]",
      "text/plain": [
       "<Figure size 1080x1440 with 6 Axes>"
      ]
     },
     "metadata": {},
     "output_type": "display_data"
    }
   ],
   "source": [
    "f, axes = plt.subplots(3,2, figsize=(15,20))\n",
    "cols_iter = churn[['CreditScore','Age','Tenure','Balance','EstimatedSalary','NumOfProducts']].iteritems()\n",
    "for ax in axes.reshape(-1):\n",
    "    col_name, col_data = next(cols_iter)\n",
    "    ax.set_title=col_name\n",
    "    sns.histplot(col_data, ax=ax)"
   ]
  },
  {
   "cell_type": "markdown",
   "metadata": {},
   "source": [
    "- 'Tenure', 'EstimatedSalary' - распределены почти равномерно\n",
    "- 'Balance' - средства на балансе у клиентов имеют нормальное распределение, но есть клиенты с нулевым балансом (счет завели, но еще не пополнили)\n",
    "- 'CreditScore', 'Age'- распределены номально, без скошенности.\n",
    "- 'NumOfProducts' - большинство клиентов используют один или два продукта"
   ]
  },
  {
   "cell_type": "code",
   "execution_count": 13,
   "metadata": {},
   "outputs": [
    {
     "data": {
      "image/png": "[encoded data removed]",
      "text/plain": [
       "<Figure size 720x576 with 2 Axes>"
      ]
     },
     "metadata": {},
     "output_type": "display_data"
    }
   ],
   "source": [
    "ax = sns.heatmap(churn.corr(), annot=True, fmt='.1f', linewidth=.1)\n",
    "ax.figure.set_figheight(8)\n",
    "ax.figure.set_figwidth(10)\n",
    "_ = ax.set_title('Корреляционная матрица признаков')"
   ]
  },
  {
   "cell_type": "markdown",
   "metadata": {},
   "source": [
    "Есть очень слабая корреляция между признаками 'Age' и 'Exited', 'NumOfProducts' и 'Balance'. Сильно скоррелированных признаков не наблюдается."
   ]
  },
  {
   "cell_type": "markdown",
   "metadata": {},
   "source": [
    "### Выводы"
   ]
  },
  {
   "cell_type": "markdown",
   "metadata": {},
   "source": [
    "- Имеется дисбаланс групп по регионам.\n",
    "- Каждый отдельный клиент представлен единственной записью. При чем признаки id и surname нужно исключить из обучения. Т.к. идентификаторы имеют искусственную природу, а наша задача - приблизить модель к реальности; а если оставить фамилии, то модель может, например, обратить внимание на частоту встречаемости популярных фамилий и стать предвзятой. Ну и нам, все таки, интересней оценивать именно поведение клиента.\n",
    ">- Здравствуйте уважаемый! Какая у вас фамилия?\n",
    ">- Smith\n",
    ">- Извините. Со Смитами не работаем.\n",
    "- Имеются пропуски, порядка 10%, в колонке tenure (сколько лет человек является клиентом банка). Медиана и среднее практически совпадают. Можно заполнить пропуски любым на выбор. Либо модой.\n",
    "- hascrcard говорит, что 70.55% клиентов имеют кредитные карточки (т.к. признак бинарный, этот процент опредеяется средним).\n",
    "- Распределение numofproducts скошено влево (медиана < среднего). Т.е. большая часть клиентов пользуется одним двумя банковскими продуктами.\n",
    "- Ативных клиентов 50%.\n",
    "- Ушедших клинтов 20%. Что означает дисбаланс классов (зависимого признака). \n",
    "- Age: т.к. медиана и среднее практически равны - распределение можно считать не скошенным, но имеются выбросы Q3 + 1.5*(Q3-Q1) = 44 + 18 = 52 < 92 = max.\n",
    "- Признаки имеют разный масштаб значений. Перед обучением нужно нормализовать данные\n",
    "- В качестве категориальных можно выделить признаки: 'Age', 'Tenure', 'NumOfProducts', 'HasCrCard', 'IsActiveMember', 'Geography', 'Gender'.\n",
    "- Есть очень слабая корреляция между признаками 'Age' и 'Exited', 'NumOfProducts' и 'Balance'. Сильно скоррелированных признаков не наблюдается."
   ]
  },
  {
   "cell_type": "markdown",
   "metadata": {},
   "source": [
    "## Исследование задачи"
   ]
  },
  {
   "cell_type": "markdown",
   "metadata": {},
   "source": [
    "### Предобработка"
   ]
  },
  {
   "cell_type": "markdown",
   "metadata": {},
   "source": [
    "Заменим пропуски в tenure модой"
   ]
  },
  {
   "cell_type": "code",
   "execution_count": 14,
   "metadata": {},
   "outputs": [
    {
     "name": "stdout",
     "output_type": "stream",
     "text": [
      "Наиболее популярное значение tenure: 1.0\n"
     ]
    }
   ],
   "source": [
    "tenure_mode = churn['Tenure'].mode().iat[0]\n",
    "print('Наиболее популярное значение tenure:', tenure_mode)\n",
    "churn['Tenure'] = churn['Tenure'].fillna(value=tenure_mode, downcast='infer')"
   ]
  },
  {
   "cell_type": "markdown",
   "metadata": {},
   "source": [
    "Итак в данных имеется дисбаланс классов. Посмотрим как ведут себя модели без учета дисбаланса.\n",
    "Учитывая выводы предыдущего раздела, перед обучением признаки данных разделим на сильных и независимых и зависимых, закодируем категориальные признаки и нормализуем значения. CustomerId и Surname исключим при обучении модели."
   ]
  },
  {
   "cell_type": "markdown",
   "metadata": {},
   "source": [
    "Удалим колонки 'CustomerId', 'Surname'."
   ]
  },
  {
   "cell_type": "code",
   "execution_count": 15,
   "metadata": {},
   "outputs": [],
   "source": [
    "churn = churn.drop(columns=['CustomerId', 'Surname'])"
   ]
  },
  {
   "cell_type": "markdown",
   "metadata": {},
   "source": [
    "Закодируем признак 'Gender' с помощью бинарного кодирования, а признаки 'NumOfProducts', 'Geography' - OHE. \n",
    "Удалим первые колонки признаков 'Geography', 'NumOfProducts', полученные после OHE кодировки, чтобы не попасть в dummy-ловушку."
   ]
  },
  {
   "cell_type": "code",
   "execution_count": 16,
   "metadata": {},
   "outputs": [],
   "source": [
    "encoder = make_pipeline(\n",
    "    OrdinalEncoder(mapping=[{'col':'Gender', 'mapping':{'Male':1, 'Female':0}}]),\n",
    "    OneHotEncoder(cols=['Geography', 'NumOfProducts']),\n",
    ")"
   ]
  },
  {
   "cell_type": "code",
   "execution_count": 17,
   "metadata": {},
   "outputs": [],
   "source": [
    "churn = encoder.fit_transform(churn)\n",
    "churn = churn.drop(columns=['Geography_1', 'NumOfProducts_1'])"
   ]
  },
  {
   "cell_type": "code",
   "execution_count": 18,
   "metadata": {},
   "outputs": [
    {
     "name": "stdout",
     "output_type": "stream",
     "text": [
      "Посмотрим сколько и какие колонки получились:\n",
      "\n",
      " 0. CreditScore\n",
      " 1. Geography_2\n",
      " 2. Geography_3\n",
      " 3. Gender\n",
      " 4. Age\n",
      " 5. Tenure\n",
      " 6. Balance\n",
      " 7. NumOfProducts_2\n",
      " 8. NumOfProducts_3\n",
      " 9. NumOfProducts_4\n",
      "10. HasCrCard\n",
      "11. IsActiveMember\n",
      "12. EstimatedSalary\n",
      "13. Exited\n"
     ]
    }
   ],
   "source": [
    "print(\"Посмотрим сколько и какие колонки получились:\", end='\\n\\n')\n",
    "for i, col in enumerate(churn.columns):\n",
    "    print(\"{:2}. {}\".format(i, col))"
   ]
  },
  {
   "cell_type": "markdown",
   "metadata": {},
   "source": [
    "Выделим из данных независмые признаки и зависимый."
   ]
  },
  {
   "cell_type": "code",
   "execution_count": 19,
   "metadata": {},
   "outputs": [],
   "source": [
    "# features, target = np.split(ary=churn, indices_or_sections=[len(churn.columns)-1], axis=1)"
   ]
  },
  {
   "cell_type": "code",
   "execution_count": 20,
   "metadata": {},
   "outputs": [],
   "source": [
    "features = churn.drop(['Exited'],axis=1)\n",
    "target = churn['Exited']"
   ]
  },
  {
   "cell_type": "markdown",
   "metadata": {},
   "source": [
    "Выделим обучающую, валидационную и тестовую выборки."
   ]
  },
  {
   "cell_type": "code",
   "execution_count": 21,
   "metadata": {},
   "outputs": [],
   "source": [
    "features_train, features_test, target_train, target_test = train_test_split(\n",
    "    features, target,\n",
    "    train_size=.8,\n",
    "    test_size=.2, \n",
    "    stratify=target, \n",
    "    random_state=12345\n",
    ")"
   ]
  },
  {
   "cell_type": "code",
   "execution_count": 22,
   "metadata": {},
   "outputs": [],
   "source": [
    "# valid_idx = target.index.difference(\n",
    "#     pd.concat([target_train, target_test]).index\n",
    "# )\n",
    "# features_valid, target_valid = features.loc[valid_idx], target.loc[valid_idx]\n",
    "\n",
    "features_valid, features_test, target_valid, target_test = train_test_split(\n",
    "    features_test, target_test,\n",
    "    train_size=.5,\n",
    "    stratify=target_test, \n",
    "    random_state=12345\n",
    ")"
   ]
  },
  {
   "cell_type": "code",
   "execution_count": 23,
   "metadata": {},
   "outputs": [
    {
     "name": "stdout",
     "output_type": "stream",
     "text": [
      "Размер features_train: (8000, 13)\n",
      "Размер target_train: (8000,)\n",
      "Доли классов train: 80%, 20%\n",
      "\n",
      "Размер features_valid: (1000, 13)\n",
      "Размер target_valid: (1000,)\n",
      "Доли классов valid: 80%, 20%\n",
      "\n",
      "Размер features_test: (1000, 13)\n",
      "Размер target_test: (1000,)\n",
      "Доли классов test: 80%, 20%\n",
      "\n"
     ]
    }
   ],
   "source": [
    "print(\"\"\"\\\n",
    "Размер features_train: {}\n",
    "Размер target_train: {}\n",
    "Доли классов train: {:.0%}, {:.0%}\n",
    "\n",
    "Размер features_valid: {}\n",
    "Размер target_valid: {}\n",
    "Доли классов valid: {:.0%}, {:.0%}\n",
    "\n",
    "Размер features_test: {}\n",
    "Размер target_test: {}\n",
    "Доли классов test: {:.0%}, {:.0%}\n",
    "\"\"\".format(\n",
    "        features_train.shape,\n",
    "        target_train.shape,\n",
    "        *(target_train.value_counts() / target_train.size),\n",
    "    \n",
    "        features_valid.shape,\n",
    "        target_valid.shape,\n",
    "        *(target_valid.value_counts() / target_valid.size),\n",
    "    \n",
    "        features_test.shape,\n",
    "        target_test.shape,\n",
    "        *(target_test.value_counts() / target_test.size),\n",
    "    )\n",
    ")"
   ]
  },
  {
   "cell_type": "markdown",
   "metadata": {},
   "source": [
    "### Обучение"
   ]
  },
  {
   "cell_type": "markdown",
   "metadata": {},
   "source": [
    "В качестве классификатора попробуем обучить логистическую регрессию. Организуем нормализацию и классификацию в технологическую цепочку для удобства."
   ]
  },
  {
   "cell_type": "code",
   "execution_count": 24,
   "metadata": {},
   "outputs": [],
   "source": [
    "model = Pipeline([('scaler', StandardScaler()), \n",
    "                  ('lr', LogisticRegression(solver='liblinear'))])\n",
    "\n",
    "gs_lr = GridSearchCV(\n",
    "    estimator=model,\n",
    "    param_grid={\n",
    "        'lr__C': np.arange(.1, 1.1, .1)\n",
    "    },\n",
    "    scoring='f1',\n",
    "    cv=StratifiedKFold(shuffle=True, random_state=12345)\n",
    ")"
   ]
  },
  {
   "cell_type": "markdown",
   "metadata": {},
   "source": [
    "Напишем вспомогательную функцию для обзора результатов."
   ]
  },
  {
   "cell_type": "code",
   "execution_count": 25,
   "metadata": {},
   "outputs": [],
   "source": [
    "def print_gs_summary(model, X=None, y=None, metric='f1'):\n",
    "    \n",
    "    if (X is not None) and (y is not None):\n",
    "        print('Выборка задана.')\n",
    "        print('Метрика {!r}: {:.3f}'.format(\n",
    "            str(metric), \n",
    "            f1_score(y,model.predict(X))\n",
    "        ))\n",
    "        print(\"Метрика 'AUC': {:.2f}\".format(roc_auc_score(y, model.predict(X))))\n",
    "    elif hasattr(model, 'best_score_'):\n",
    "        print(\"Метрика 'accuracy': {:.2%}\".format(str(metric), model.best_score_))\n",
    "        \n",
    "        \n",
    "    if hasattr(model, 'best_params_'):\n",
    "        print('Лучшие параметры модели')\n",
    "        for k, v in model.best_params_.items():\n",
    "            if '__' in k:\n",
    "                print('    {}: {}'.format(k.split('__')[-1], v))\n",
    "            else:\n",
    "                print('    {}: {}'.format(k, v))\n",
    "\n",
    "def draw_confusion_matrix(model, X, y):\n",
    "        ax = sns.heatmap(\n",
    "            confusion_matrix(y, model.predict(X)), \n",
    "            annot=True, \n",
    "            fmt='d',\n",
    "        )\n",
    "        ax.set_title(\"Матрица ошибок (Confusion matrix)\")\n",
    "        ax.set_xlabel(\"Суровая реальность порожденная моделью\")\n",
    "        ax.set_ylabel(\"Ожадания\")"
   ]
  },
  {
   "cell_type": "code",
   "execution_count": 26,
   "metadata": {
    "scrolled": false
   },
   "outputs": [
    {
     "name": "stdout",
     "output_type": "stream",
     "text": [
      "Выборка задана.\n",
      "Метрика 'f1': 0.487\n",
      "Метрика 'AUC': 0.67\n",
      "Лучшие параметры модели\n",
      "    C: 0.8\n"
     ]
    },
    {
     "data": {
      "image/png": "[encoded data removed]",
      "text/plain": [
       "<Figure size 576x432 with 2 Axes>"
      ]
     },
     "metadata": {},
     "output_type": "display_data"
    }
   ],
   "source": [
    "gs_lr.fit(features_train, target_train)\n",
    "print_gs_summary(gs_lr, features_valid, target_valid)\n",
    "draw_confusion_matrix(gs_lr, features_valid, target_valid)"
   ]
  },
  {
   "cell_type": "code",
   "execution_count": 27,
   "metadata": {},
   "outputs": [
    {
     "data": {
      "image/png": "[encoded data removed]",
      "text/plain": [
       "<Figure size 576x432 with 2 Axes>"
      ]
     },
     "metadata": {},
     "output_type": "display_data"
    }
   ],
   "source": [
    "dummy_model = make_pipeline(StandardScaler(), DummyClassifier(strategy='most_frequent', random_state=12345))\n",
    "dummy_model.fit(features_train, target_train)\n",
    "\n",
    "draw_confusion_matrix(dummy_model, features_valid, target_valid)"
   ]
  },
  {
   "cell_type": "markdown",
   "metadata": {},
   "source": [
    "### Выводы"
   ]
  },
  {
   "cell_type": "markdown",
   "metadata": {},
   "source": [
    "- Полученная модель на основе логистической регрессии достигла показателя 0.49 метрики f1, AUC = 0.67. Хотя наша модель лучше dummy_most_frequent, у которой метрика f1 равна нулю, паказатель качества еще не удовлетворяет требованиям. Сказывается дисбаланс классов.\n",
    "- Далее применим несколько техник для борьбы с дисбалансом"
   ]
  },
  {
   "cell_type": "markdown",
   "metadata": {},
   "source": [
    "## Борьба с дисбалансом"
   ]
  },
  {
   "cell_type": "code",
   "execution_count": 28,
   "metadata": {},
   "outputs": [],
   "source": [
    "def upsample(lables, frac, random_state=12345):\n",
    "    indices = pd.concat([\n",
    "            lables.loc[lables == 0],\n",
    "            lables.loc[lables == 1].sample(frac=frac, replace=True, random_state=random_state)\n",
    "        ]).index\n",
    "        \n",
    "    return shuffle(indices, random_state=random_state)\n",
    "\n",
    "def downsamlpe(lables, frac, random_state=12345):\n",
    "    indices = pd.concat([\n",
    "            lables.loc[lables == 0].sample(frac=frac, random_state=random_state),\n",
    "            lables.loc[lables == 1]\n",
    "        ]).index\n",
    "        \n",
    "    return shuffle(indices, random_state=random_state)\n",
    "\n",
    "        "
   ]
  },
  {
   "cell_type": "markdown",
   "metadata": {},
   "source": [
    "### Взвешивание"
   ]
  },
  {
   "cell_type": "markdown",
   "metadata": {},
   "source": [
    "Попробуем придать малочисленному классу больший вес и проверим результаты на валидационной выборке."
   ]
  },
  {
   "cell_type": "code",
   "execution_count": 29,
   "metadata": {},
   "outputs": [
    {
     "name": "stdout",
     "output_type": "stream",
     "text": [
      "Выборка задана.\n",
      "Метрика 'f1': 0.588\n",
      "Метрика 'AUC': 0.78\n",
      "Лучшие параметры модели\n",
      "    C: 0.4\n",
      "    class_weight: balanced\n"
     ]
    },
    {
     "data": {
      "image/png": "[encoded data removed]",
      "text/plain": [
       "<Figure size 576x432 with 2 Axes>"
      ]
     },
     "metadata": {},
     "output_type": "display_data"
    }
   ],
   "source": [
    "gs_lr.param_grid.update({'lr__class_weight': [None, 'balanced']})\n",
    "gs_lr.fit(features_train, target_train)\n",
    "print_gs_summary(gs_lr, features_valid, target_valid)\n",
    "draw_confusion_matrix(gs_lr, features_valid, target_valid)"
   ]
  },
  {
   "cell_type": "code",
   "execution_count": 30,
   "metadata": {},
   "outputs": [],
   "source": [
    "lr_weighted = gs_lr.best_estimator_"
   ]
  },
  {
   "cell_type": "markdown",
   "metadata": {},
   "source": [
    "Показатель метрики f1 логистической регрессии на взвешенных классах составил 0.588, AUC=0.78. Модель улучшила результат на 0.101. Уже лучше, но еще немного не хватает."
   ]
  },
  {
   "cell_type": "markdown",
   "metadata": {},
   "source": [
    "### Upsampling"
   ]
  },
  {
   "cell_type": "markdown",
   "metadata": {},
   "source": [
    "Попробуем увеличивать малочисленный класс, случайно дублируя его объекты. Уберем взвешивание классов."
   ]
  },
  {
   "cell_type": "code",
   "execution_count": 31,
   "metadata": {},
   "outputs": [],
   "source": [
    "_ = gs_lr.param_grid.pop('lr__class_weight', None)"
   ]
  },
  {
   "cell_type": "code",
   "execution_count": 32,
   "metadata": {},
   "outputs": [
    {
     "name": "stdout",
     "output_type": "stream",
     "text": [
      "Малочисленный класс увеличен в 1.2 раза\n",
      "Выборка задана.\n",
      "Метрика 'f1': 0.524\n",
      "Метрика 'AUC': 0.69\n",
      "Лучшие параметры модели\n",
      "    C: 0.8\n",
      "Малочисленный класс увеличен в 1.5 раза\n",
      "Выборка задана.\n",
      "Метрика 'f1': 0.546\n",
      "Метрика 'AUC': 0.71\n",
      "Лучшие параметры модели\n",
      "    C: 0.2\n",
      "Малочисленный класс увеличен в 2 раза\n",
      "Выборка задана.\n",
      "Метрика 'f1': 0.569\n",
      "Метрика 'AUC': 0.73\n",
      "Лучшие параметры модели\n",
      "    C: 0.5\n",
      "Малочисленный класс увеличен в 2.5 раза\n",
      "Выборка задана.\n",
      "Метрика 'f1': 0.575\n",
      "Метрика 'AUC': 0.75\n",
      "Лучшие параметры модели\n",
      "    C: 0.30000000000000004\n",
      "Малочисленный класс увеличен в 3 раза\n",
      "Выборка задана.\n",
      "Метрика 'f1': 0.589\n",
      "Метрика 'AUC': 0.77\n",
      "Лучшие параметры модели\n",
      "    C: 0.4\n",
      "Малочисленный класс увеличен в 3.5 раза\n",
      "Выборка задана.\n",
      "Метрика 'f1': 0.584\n",
      "Метрика 'AUC': 0.77\n",
      "Лучшие параметры модели\n",
      "    C: 0.1\n",
      "Малочисленный класс увеличен в 4 раза\n",
      "Выборка задана.\n",
      "Метрика 'f1': 0.586\n",
      "Метрика 'AUC': 0.78\n",
      "Лучшие параметры модели\n",
      "    C: 0.1\n",
      "Малочисленный класс увеличен в 4.5 раза\n",
      "Выборка задана.\n",
      "Метрика 'f1': 0.565\n",
      "Метрика 'AUC': 0.77\n",
      "Лучшие параметры модели\n",
      "    C: 0.1\n"
     ]
    }
   ],
   "source": [
    "lr_upsampling = None\n",
    "valid_score = 0\n",
    "\n",
    "# Downsampling dataset by removing data fraction\n",
    "# iterate through multiple values of frac to find the best one\n",
    "for frac in [1.2, 1.5, 2, 2.5, 3, 3.5, 4, 4.5]:\n",
    "    # get sample indices\n",
    "    sample_idx = upsample(target_train, frac)\n",
    "    \n",
    "    gs_lr.fit(\n",
    "        features_train.loc[sample_idx], \n",
    "        target_train.loc[sample_idx]\n",
    "    )\n",
    "    \n",
    "    # save best estimator\n",
    "    cur_score = gs_lr.score(features_valid, target_valid)\n",
    "    if valid_score < cur_score:\n",
    "        valid_score = cur_score\n",
    "        lr_upsampling = gs_lr.best_estimator_\n",
    "    \n",
    "    \n",
    "    print(\"Малочисленный класс увеличен в {} раза\".format(frac))\n",
    "    print_gs_summary(gs_lr, features_valid, target_valid)\n",
    "    "
   ]
  },
  {
   "cell_type": "markdown",
   "metadata": {},
   "source": [
    "Лучший показатель метрики f1 логистической регрессии на валидационной выборке с применением техники upsampling  составил 0.589, AUC=0.77. Ну почти..."
   ]
  },
  {
   "cell_type": "markdown",
   "metadata": {},
   "source": [
    "### Downsampling"
   ]
  },
  {
   "cell_type": "markdown",
   "metadata": {},
   "source": [
    "Попробуем удалить некоторые объекты большего класса."
   ]
  },
  {
   "cell_type": "code",
   "execution_count": 33,
   "metadata": {},
   "outputs": [
    {
     "name": "stdout",
     "output_type": "stream",
     "text": [
      "Популярный класс уменьшен в 1.0 раза\n",
      "Выборка задана.\n",
      "Метрика 'f1': 0.483\n",
      "Метрика 'AUC': 0.66\n",
      "Лучшие параметры модели\n",
      "    C: 0.5\n",
      "Популярный класс уменьшен в 0.9 раза\n",
      "Выборка задана.\n",
      "Метрика 'f1': 0.512\n",
      "Метрика 'AUC': 0.68\n",
      "Лучшие параметры модели\n",
      "    C: 0.8\n",
      "Популярный класс уменьшен в 0.8 раза\n",
      "Выборка задана.\n",
      "Метрика 'f1': 0.533\n",
      "Метрика 'AUC': 0.69\n",
      "Лучшие параметры модели\n",
      "    C: 0.2\n",
      "Популярный класс уменьшен в 0.7 раза\n",
      "Выборка задана.\n",
      "Метрика 'f1': 0.543\n",
      "Метрика 'AUC': 0.70\n",
      "Лучшие параметры модели\n",
      "    C: 0.2\n",
      "Популярный класс уменьшен в 0.6 раза\n",
      "Выборка задана.\n",
      "Метрика 'f1': 0.556\n",
      "Метрика 'AUC': 0.72\n",
      "Лучшие параметры модели\n",
      "    C: 1.0\n",
      "Популярный класс уменьшен в 0.5 раза\n",
      "Выборка задана.\n",
      "Метрика 'f1': 0.573\n",
      "Метрика 'AUC': 0.73\n",
      "Лучшие параметры модели\n",
      "    C: 0.2\n",
      "Популярный класс уменьшен в 0.4 раза\n",
      "Выборка задана.\n",
      "Метрика 'f1': 0.572\n",
      "Метрика 'AUC': 0.74\n",
      "Лучшие параметры модели\n",
      "    C: 0.4\n",
      "Популярный класс уменьшен в 0.3 раза\n",
      "Выборка задана.\n",
      "Метрика 'f1': 0.586\n",
      "Метрика 'AUC': 0.77\n",
      "Лучшие параметры модели\n",
      "    C: 0.2\n",
      "Популярный класс уменьшен в 0.2 раза\n",
      "Выборка задана.\n",
      "Метрика 'f1': 0.548\n",
      "Метрика 'AUC': 0.76\n",
      "Лучшие параметры модели\n",
      "    C: 0.4\n",
      "Популярный класс уменьшен в 0.1 раза\n",
      "Выборка задана.\n",
      "Метрика 'f1': 0.474\n",
      "Метрика 'AUC': 0.71\n",
      "Лучшие параметры модели\n",
      "    C: 0.30000000000000004\n"
     ]
    }
   ],
   "source": [
    "lr_downsampling = None\n",
    "valid_score = 0\n",
    "\n",
    "# Downsampling dataset by removing data fraction\n",
    "# iterate through multiple values of frac to find the best one\n",
    "for frac in np.arange(1, 0, -.1):\n",
    "    # get sample indices\n",
    "    sample_idx = downsamlpe(target_train, frac)\n",
    "    \n",
    "    gs_lr.fit(\n",
    "        features_train.loc[sample_idx], \n",
    "        target_train.loc[sample_idx]\n",
    "    )\n",
    "    \n",
    "    # save best estimator\n",
    "    cur_score = gs_lr.score(features_valid, target_valid)\n",
    "    if valid_score < cur_score:\n",
    "        valid_score = cur_score\n",
    "        lr_downsampling = gs_lr.best_estimator_\n",
    "        \n",
    "    print(\"Популярный класс уменьшен в {:.1f} раза\".format(frac))\n",
    "    print_gs_summary(gs_lr, features_valid, target_valid)\n",
    "    "
   ]
  },
  {
   "cell_type": "markdown",
   "metadata": {},
   "source": [
    "Лучший показатель метрики f1 логистической регрессии на валидационной выборке с применением техники downsampling составил 0.586, AUC=0.77."
   ]
  },
  {
   "cell_type": "markdown",
   "metadata": {},
   "source": [
    "### Деревья"
   ]
  },
  {
   "cell_type": "markdown",
   "metadata": {},
   "source": [
    "Попробуем обучить случайный лес."
   ]
  },
  {
   "cell_type": "code",
   "execution_count": 34,
   "metadata": {},
   "outputs": [],
   "source": [
    "forest = Pipeline([('scaler', StandardScaler()), \n",
    "                  ('rfc', RandomForestClassifier())])\n",
    "\n",
    "gs_forest = GridSearchCV(\n",
    "    estimator=forest,\n",
    "    param_grid={\n",
    "        'rfc__n_estimators': [10, 50, 100],\n",
    "        'rfc__max_depth': [5, 15, 20],\n",
    "        'rfc__min_samples_split': [2, 4, 8],\n",
    "        'rfc__class_weight': [None, 'balanced', 'balanced_subsample'],\n",
    "        'rfc__random_state': [12345]\n",
    "    },\n",
    "    scoring='f1',\n",
    "    cv=StratifiedKFold(shuffle=True, random_state=12345)\n",
    ")"
   ]
  },
  {
   "cell_type": "code",
   "execution_count": 35,
   "metadata": {
    "scrolled": false
   },
   "outputs": [
    {
     "name": "stdout",
     "output_type": "stream",
     "text": [
      "Выборка задана.\n",
      "Метрика 'f1': 0.656\n",
      "Метрика 'AUC': 0.77\n",
      "Лучшие параметры модели\n",
      "    class_weight: balanced_subsample\n",
      "    max_depth: 20\n",
      "    min_samples_split: 8\n",
      "    n_estimators: 100\n",
      "    random_state: 12345\n"
     ]
    },
    {
     "data": {
      "image/png": "[encoded data removed]",
      "text/plain": [
       "<Figure size 576x432 with 2 Axes>"
      ]
     },
     "metadata": {},
     "output_type": "display_data"
    }
   ],
   "source": [
    "gs_forest.fit(features_train, target_train)\n",
    "print_gs_summary(gs_forest, features_valid, target_valid)\n",
    "draw_confusion_matrix(gs_forest, features_valid, target_valid)"
   ]
  },
  {
   "cell_type": "markdown",
   "metadata": {},
   "source": [
    "Показатель метрики f1 случайного леса на валидационной выборке составил 0.62. Победа? Проверим на тестовой выборке."
   ]
  },
  {
   "cell_type": "markdown",
   "metadata": {},
   "source": [
    "### Выводы"
   ]
  },
  {
   "cell_type": "markdown",
   "metadata": {},
   "source": [
    "- Показатель метрики f1 логистической регрессии на взвешенных классах составил 0.588, AUC=0.78\n",
    "- Лучший показатель метрики f1 логистической регрессии на валидационной выборке с применением техники upsampling составил 0.589, AUC=0.77.\n",
    "- Лучший показатель метрики f1 логистической регрессии на валидационной выборке с применением техники downsampling составил 0.586, AUC=0.77.\n",
    "- Показатель метрики f1 случайного леса на валидационной выборке составил 0.656, AUC = 0.77."
   ]
  },
  {
   "cell_type": "markdown",
   "metadata": {},
   "source": [
    "## Тестирование модели"
   ]
  },
  {
   "cell_type": "code",
   "execution_count": 36,
   "metadata": {},
   "outputs": [],
   "source": [
    "def plot_roc(model, X, y, title=''):\n",
    "    fpr, tpr, threshold = roc_curve(y, model.predict_proba(X)[:, 1])\n",
    "    ax = sns.lineplot(y=tpr, x=fpr)\n",
    "    x = [0.0, 1.0]\n",
    "    ax.plot(x, x, linestyle='dashed')\n",
    "    ax.set_xlabel(\"FPR\")\n",
    "    ax.set_ylabel(\"TPR\")\n",
    "    ax.set_title(title)"
   ]
  },
  {
   "cell_type": "markdown",
   "metadata": {},
   "source": [
    "### Логистическая регрессия, веса"
   ]
  },
  {
   "cell_type": "code",
   "execution_count": 37,
   "metadata": {},
   "outputs": [
    {
     "name": "stdout",
     "output_type": "stream",
     "text": [
      "Выборка задана.\n",
      "Метрика 'f1': 0.549\n",
      "Метрика 'AUC': 0.75\n"
     ]
    },
    {
     "data": {
      "image/png": "[encoded data removed]",
      "text/plain": [
       "<Figure size 576x432 with 2 Axes>"
      ]
     },
     "metadata": {},
     "output_type": "display_data"
    }
   ],
   "source": [
    "print_gs_summary(lr_weighted, features_test, target_test)\n",
    "draw_confusion_matrix(lr_weighted, features_test, target_test)"
   ]
  },
  {
   "cell_type": "code",
   "execution_count": 38,
   "metadata": {
    "scrolled": false
   },
   "outputs": [
    {
     "data": {
      "image/png": "[encoded data removed]",
      "text/plain": [
       "<Figure size 576x432 with 1 Axes>"
      ]
     },
     "metadata": {},
     "output_type": "display_data"
    }
   ],
   "source": [
    "plot_roc(lr_weighted, features_test, target_test)"
   ]
  },
  {
   "cell_type": "markdown",
   "metadata": {},
   "source": [
    "### Логистическая регрессия, upsampling"
   ]
  },
  {
   "cell_type": "code",
   "execution_count": 39,
   "metadata": {},
   "outputs": [
    {
     "name": "stdout",
     "output_type": "stream",
     "text": [
      "Выборка задана.\n",
      "Метрика 'f1': 0.576\n",
      "Метрика 'AUC': 0.75\n"
     ]
    },
    {
     "data": {
      "image/png": "[encoded data removed]",
      "text/plain": [
       "<Figure size 576x432 with 2 Axes>"
      ]
     },
     "metadata": {},
     "output_type": "display_data"
    }
   ],
   "source": [
    "print_gs_summary(lr_upsampling, features_test, target_test)\n",
    "draw_confusion_matrix(lr_upsampling, features_test, target_test)"
   ]
  },
  {
   "cell_type": "code",
   "execution_count": 40,
   "metadata": {
    "scrolled": false
   },
   "outputs": [
    {
     "data": {
      "image/png": "[encoded data removed]",
      "text/plain": [
       "<Figure size 576x432 with 1 Axes>"
      ]
     },
     "metadata": {},
     "output_type": "display_data"
    }
   ],
   "source": [
    "plot_roc(lr_upsampling, features_test, target_test)"
   ]
  },
  {
   "cell_type": "markdown",
   "metadata": {},
   "source": [
    "### Логистическая регрессия, downsampling"
   ]
  },
  {
   "cell_type": "code",
   "execution_count": 41,
   "metadata": {},
   "outputs": [
    {
     "name": "stdout",
     "output_type": "stream",
     "text": [
      "Выборка задана.\n",
      "Метрика 'f1': 0.563\n",
      "Метрика 'AUC': 0.75\n"
     ]
    },
    {
     "data": {
      "image/png": "[encoded data removed]",
      "text/plain": [
       "<Figure size 576x432 with 2 Axes>"
      ]
     },
     "metadata": {},
     "output_type": "display_data"
    }
   ],
   "source": [
    "print_gs_summary(lr_downsampling, features_test, target_test)\n",
    "draw_confusion_matrix(lr_downsampling, features_test, target_test)"
   ]
  },
  {
   "cell_type": "code",
   "execution_count": 42,
   "metadata": {
    "scrolled": false
   },
   "outputs": [
    {
     "data": {
      "image/png": "[encoded data removed]",
      "text/plain": [
       "<Figure size 576x432 with 1 Axes>"
      ]
     },
     "metadata": {},
     "output_type": "display_data"
    }
   ],
   "source": [
    "plot_roc(lr_downsampling, features_test, target_test)"
   ]
  },
  {
   "cell_type": "markdown",
   "metadata": {},
   "source": [
    "### Случайный лес"
   ]
  },
  {
   "cell_type": "code",
   "execution_count": 43,
   "metadata": {},
   "outputs": [
    {
     "name": "stdout",
     "output_type": "stream",
     "text": [
      "Выборка задана.\n",
      "Метрика 'f1': 0.602\n",
      "Метрика 'AUC': 0.74\n",
      "Лучшие параметры модели\n",
      "    class_weight: balanced_subsample\n",
      "    max_depth: 20\n",
      "    min_samples_split: 8\n",
      "    n_estimators: 100\n",
      "    random_state: 12345\n"
     ]
    },
    {
     "data": {
      "image/png": "[encoded data removed]",
      "text/plain": [
       "<Figure size 576x432 with 2 Axes>"
      ]
     },
     "metadata": {},
     "output_type": "display_data"
    }
   ],
   "source": [
    "print_gs_summary(gs_forest, features_test, target_test)\n",
    "draw_confusion_matrix(gs_forest, features_test, target_test)"
   ]
  },
  {
   "cell_type": "code",
   "execution_count": 44,
   "metadata": {
    "scrolled": false
   },
   "outputs": [
    {
     "data": {
      "image/png": "[encoded data removed]",
      "text/plain": [
       "<Figure size 576x432 with 1 Axes>"
      ]
     },
     "metadata": {},
     "output_type": "display_data"
    }
   ],
   "source": [
    "plot_roc(gs_forest, features_test, target_test)"
   ]
  },
  {
   "cell_type": "markdown",
   "metadata": {},
   "source": [
    "### Выводы"
   ]
  },
  {
   "cell_type": "markdown",
   "metadata": {},
   "source": [
    "На тестовой выборке\n",
    "- Показатель метрики f1 логистической регрессии, обученной на взвешенных классах, составил 0.576, auc_roc=0.75.\n",
    "- Лучший показатель метрики f1 логистической регрессии с применением техники upsampling составил 0.576, auc_roc=0.75. \n",
    "- Лучший показатель метрики f1 логистической регрессии с применением техники downsampling составил 0.563, auc_roc=0.75.\n",
    "- Показатель метрики f1 случайного леса на валидационной выборке составил 0.602, auc_roc=0.74. **удовлетворяет требованиям**\n",
    "- Метрики auc во всех моделях логистических регрессий приблизительно равны.\n",
    "- Победителем, из тестируемых алгоритмов, объявляется случайный лес с параметрами: \n",
    "    - class_weight: balanced_subsample\n",
    "    - max_depth: 15\n",
    "    - min_samples_split: 8\n",
    "    - n_estimators: 50"
   ]
  }
 ],
 "metadata": {
  "ExecuteTimeLog": [
   {
    "duration": 2827,
    "start_time": "2021-07-13T16:30:41.283Z"
   },
   {
    "duration": 2147,
    "start_time": "2021-07-13T16:30:44.114Z"
   },
   {
    "duration": 61,
    "start_time": "2021-07-13T16:30:46.204Z"
   },
   {
    "duration": 60,
    "start_time": "2021-07-13T16:30:46.207Z"
   },
   {
    "duration": 58,
    "start_time": "2021-07-13T16:30:46.210Z"
   },
   {
    "duration": 56,
    "start_time": "2021-07-13T16:30:46.213Z"
   },
   {
    "duration": 42,
    "start_time": "2021-07-13T16:30:46.229Z"
   },
   {
    "duration": 40,
    "start_time": "2021-07-13T16:30:46.232Z"
   },
   {
    "duration": 39,
    "start_time": "2021-07-13T16:30:46.234Z"
   },
   {
    "duration": 39,
    "start_time": "2021-07-13T16:30:46.236Z"
   },
   {
    "duration": 38,
    "start_time": "2021-07-13T16:30:46.238Z"
   },
   {
    "duration": 36,
    "start_time": "2021-07-13T16:30:46.241Z"
   },
   {
    "duration": 35,
    "start_time": "2021-07-13T16:30:46.243Z"
   },
   {
    "duration": 35,
    "start_time": "2021-07-13T16:30:46.245Z"
   },
   {
    "duration": 34,
    "start_time": "2021-07-13T16:30:46.247Z"
   },
   {
    "duration": 33,
    "start_time": "2021-07-13T16:30:46.249Z"
   },
   {
    "duration": 32,
    "start_time": "2021-07-13T16:30:46.251Z"
   },
   {
    "duration": 31,
    "start_time": "2021-07-13T16:30:46.254Z"
   },
   {
    "duration": 30,
    "start_time": "2021-07-13T16:30:46.256Z"
   },
   {
    "duration": 30,
    "start_time": "2021-07-13T16:30:46.258Z"
   },
   {
    "duration": 29,
    "start_time": "2021-07-13T16:30:46.260Z"
   },
   {
    "duration": 28,
    "start_time": "2021-07-13T16:30:46.262Z"
   },
   {
    "duration": 28,
    "start_time": "2021-07-13T16:30:46.264Z"
   },
   {
    "duration": 26,
    "start_time": "2021-07-13T16:30:46.267Z"
   },
   {
    "duration": 26,
    "start_time": "2021-07-13T16:30:46.268Z"
   },
   {
    "duration": 25,
    "start_time": "2021-07-13T16:30:46.271Z"
   },
   {
    "duration": 3,
    "start_time": "2021-07-13T16:30:46.294Z"
   },
   {
    "duration": 1,
    "start_time": "2021-07-13T16:30:46.297Z"
   },
   {
    "duration": -1,
    "start_time": "2021-07-13T16:30:46.301Z"
   },
   {
    "duration": -4,
    "start_time": "2021-07-13T16:30:46.305Z"
   },
   {
    "duration": -6,
    "start_time": "2021-07-13T16:30:46.308Z"
   },
   {
    "duration": -7,
    "start_time": "2021-07-13T16:30:46.311Z"
   },
   {
    "duration": -9,
    "start_time": "2021-07-13T16:30:46.313Z"
   },
   {
    "duration": -10,
    "start_time": "2021-07-13T16:30:46.315Z"
   },
   {
    "duration": -11,
    "start_time": "2021-07-13T16:30:46.317Z"
   },
   {
    "duration": -13,
    "start_time": "2021-07-13T16:30:46.320Z"
   },
   {
    "duration": -13,
    "start_time": "2021-07-13T16:30:46.322Z"
   },
   {
    "duration": -13,
    "start_time": "2021-07-13T16:30:46.325Z"
   },
   {
    "duration": -12,
    "start_time": "2021-07-13T16:30:46.327Z"
   },
   {
    "duration": -10,
    "start_time": "2021-07-13T16:30:46.330Z"
   },
   {
    "duration": 7008,
    "start_time": "2021-07-13T16:31:35.696Z"
   },
   {
    "duration": 7208,
    "start_time": "2021-07-13T16:31:49.770Z"
   },
   {
    "duration": 5745,
    "start_time": "2021-07-13T16:32:51.128Z"
   },
   {
    "duration": 7139,
    "start_time": "2021-07-13T16:33:09.035Z"
   },
   {
    "duration": 2182,
    "start_time": "2021-07-13T16:33:20.885Z"
   },
   {
    "duration": 6795,
    "start_time": "2021-07-13T16:33:50.634Z"
   },
   {
    "duration": 5175,
    "start_time": "2021-07-13T16:34:26.114Z"
   },
   {
    "duration": 2798,
    "start_time": "2021-07-13T16:34:31.292Z"
   },
   {
    "duration": 5,
    "start_time": "2021-07-13T16:34:34.093Z"
   },
   {
    "duration": 72,
    "start_time": "2021-07-13T16:34:34.101Z"
   },
   {
    "duration": 19,
    "start_time": "2021-07-13T16:34:34.175Z"
   },
   {
    "duration": 28,
    "start_time": "2021-07-13T16:34:34.197Z"
   },
   {
    "duration": 54,
    "start_time": "2021-07-13T16:34:34.228Z"
   },
   {
    "duration": 34,
    "start_time": "2021-07-13T16:34:34.286Z"
   },
   {
    "duration": 8,
    "start_time": "2021-07-13T16:34:34.323Z"
   },
   {
    "duration": 9,
    "start_time": "2021-07-13T16:34:34.334Z"
   },
   {
    "duration": 15,
    "start_time": "2021-07-13T16:34:34.346Z"
   },
   {
    "duration": 49,
    "start_time": "2021-07-13T16:34:34.363Z"
   },
   {
    "duration": 21,
    "start_time": "2021-07-13T16:34:34.415Z"
   },
   {
    "duration": 12,
    "start_time": "2021-07-13T16:34:34.438Z"
   },
   {
    "duration": 84,
    "start_time": "2021-07-13T16:34:34.453Z"
   },
   {
    "duration": 17,
    "start_time": "2021-07-13T16:34:34.539Z"
   },
   {
    "duration": 18,
    "start_time": "2021-07-13T16:34:34.558Z"
   },
   {
    "duration": 68,
    "start_time": "2021-07-13T16:34:34.578Z"
   },
   {
    "duration": 7,
    "start_time": "2021-07-13T16:34:34.649Z"
   },
   {
    "duration": 17,
    "start_time": "2021-07-13T16:34:34.659Z"
   },
   {
    "duration": 8,
    "start_time": "2021-07-13T16:34:34.679Z"
   },
   {
    "duration": 26,
    "start_time": "2021-07-13T16:34:34.689Z"
   },
   {
    "duration": 10795,
    "start_time": "2021-07-13T16:34:34.720Z"
   },
   {
    "duration": 491,
    "start_time": "2021-07-13T16:34:45.518Z"
   },
   {
    "duration": 20967,
    "start_time": "2021-07-13T16:34:46.011Z"
   },
   {
    "duration": 4,
    "start_time": "2021-07-13T16:35:06.980Z"
   },
   {
    "duration": 27,
    "start_time": "2021-07-13T16:35:06.986Z"
   },
   {
    "duration": 82900,
    "start_time": "2021-07-13T16:35:07.015Z"
   },
   {
    "duration": 67698,
    "start_time": "2021-07-13T16:36:29.919Z"
   },
   {
    "duration": 6,
    "start_time": "2021-07-13T16:37:37.709Z"
   },
   {
    "duration": 176662,
    "start_time": "2021-07-13T16:37:37.718Z"
   },
   {
    "duration": 8,
    "start_time": "2021-07-13T16:40:34.383Z"
   },
   {
    "duration": 1076,
    "start_time": "2021-07-13T16:40:34.394Z"
   },
   {
    "duration": 13609,
    "start_time": "2021-07-13T16:40:35.474Z"
   },
   {
    "duration": 915,
    "start_time": "2021-07-13T16:40:49.086Z"
   },
   {
    "duration": 10083,
    "start_time": "2021-07-13T16:40:50.004Z"
   },
   {
    "duration": 922,
    "start_time": "2021-07-13T16:41:00.091Z"
   },
   {
    "duration": 7465,
    "start_time": "2021-07-13T16:41:01.015Z"
   },
   {
    "duration": 859,
    "start_time": "2021-07-13T16:41:08.483Z"
   },
   {
    "duration": 6999,
    "start_time": "2021-07-13T16:41:09.344Z"
   },
   {
    "duration": 371,
    "start_time": "2021-07-14T05:48:27.337Z"
   },
   {
    "duration": 31347,
    "start_time": "2021-07-14T05:48:33.314Z"
   },
   {
    "duration": 2897,
    "start_time": "2021-07-14T05:49:04.664Z"
   },
   {
    "duration": 5,
    "start_time": "2021-07-14T05:49:07.565Z"
   },
   {
    "duration": 68,
    "start_time": "2021-07-14T05:49:07.573Z"
   },
   {
    "duration": 26,
    "start_time": "2021-07-14T05:49:07.644Z"
   },
   {
    "duration": 24,
    "start_time": "2021-07-14T05:49:07.672Z"
   },
   {
    "duration": 74,
    "start_time": "2021-07-14T05:49:07.699Z"
   },
   {
    "duration": 10,
    "start_time": "2021-07-14T05:49:07.777Z"
   },
   {
    "duration": 7,
    "start_time": "2021-07-14T05:49:07.790Z"
   },
   {
    "duration": 15,
    "start_time": "2021-07-14T05:49:07.800Z"
   },
   {
    "duration": 11,
    "start_time": "2021-07-14T05:49:07.817Z"
   },
   {
    "duration": 43,
    "start_time": "2021-07-14T05:49:07.830Z"
   },
   {
    "duration": 5,
    "start_time": "2021-07-14T05:49:07.876Z"
   },
   {
    "duration": 4,
    "start_time": "2021-07-14T05:49:07.884Z"
   },
   {
    "duration": 103,
    "start_time": "2021-07-14T05:49:07.890Z"
   },
   {
    "duration": 16,
    "start_time": "2021-07-14T05:49:07.995Z"
   },
   {
    "duration": 9,
    "start_time": "2021-07-14T05:49:08.013Z"
   },
   {
    "duration": 83,
    "start_time": "2021-07-14T05:49:08.025Z"
   },
   {
    "duration": 19,
    "start_time": "2021-07-14T05:49:08.110Z"
   },
   {
    "duration": 63,
    "start_time": "2021-07-14T05:49:11.577Z"
   },
   {
    "duration": 19,
    "start_time": "2021-07-14T05:49:12.201Z"
   },
   {
    "duration": 416,
    "start_time": "2021-07-14T05:49:16.856Z"
   },
   {
    "duration": 341,
    "start_time": "2021-07-14T05:50:46.059Z"
   },
   {
    "duration": 25,
    "start_time": "2021-07-14T05:51:05.479Z"
   },
   {
    "duration": 6,
    "start_time": "2021-07-14T05:51:09.341Z"
   },
   {
    "duration": 317,
    "start_time": "2021-07-14T05:51:24.829Z"
   },
   {
    "duration": 312,
    "start_time": "2021-07-14T05:51:35.442Z"
   },
   {
    "duration": 5,
    "start_time": "2021-07-14T05:51:51.027Z"
   },
   {
    "duration": 63,
    "start_time": "2021-07-14T05:51:55.043Z"
   },
   {
    "duration": 22,
    "start_time": "2021-07-14T05:51:57.446Z"
   },
   {
    "duration": 12,
    "start_time": "2021-07-14T05:51:58.615Z"
   },
   {
    "duration": 5,
    "start_time": "2021-07-14T05:52:06.681Z"
   },
   {
    "duration": 9,
    "start_time": "2021-07-14T05:52:08.550Z"
   },
   {
    "duration": 331,
    "start_time": "2021-07-14T05:52:15.266Z"
   },
   {
    "duration": 65,
    "start_time": "2021-07-14T05:52:46.921Z"
   },
   {
    "duration": 21,
    "start_time": "2021-07-14T05:52:47.363Z"
   },
   {
    "duration": 14,
    "start_time": "2021-07-14T05:52:49.813Z"
   },
   {
    "duration": 5,
    "start_time": "2021-07-14T05:52:50.367Z"
   },
   {
    "duration": 9,
    "start_time": "2021-07-14T05:52:50.737Z"
   },
   {
    "duration": 10802,
    "start_time": "2021-07-14T05:52:51.659Z"
   },
   {
    "duration": 477,
    "start_time": "2021-07-14T05:53:02.467Z"
   },
   {
    "duration": 20896,
    "start_time": "2021-07-14T05:53:13.076Z"
   },
   {
    "duration": 6,
    "start_time": "2021-07-14T05:53:46.402Z"
   },
   {
    "duration": 327,
    "start_time": "2021-07-14T05:53:49.598Z"
   },
   {
    "duration": 4,
    "start_time": "2021-07-14T05:53:59.681Z"
   },
   {
    "duration": 653,
    "start_time": "2021-07-14T05:54:04.709Z"
   },
   {
    "duration": 10,
    "start_time": "2021-07-14T05:56:20.819Z"
   },
   {
    "duration": 21187,
    "start_time": "2021-07-14T05:56:24.559Z"
   },
   {
    "duration": 9,
    "start_time": "2021-07-14T05:57:03.090Z"
   },
   {
    "duration": 1351,
    "start_time": "2021-07-14T05:57:06.016Z"
   },
   {
    "duration": 10,
    "start_time": "2021-07-14T05:57:14.266Z"
   },
   {
    "duration": 908,
    "start_time": "2021-07-14T05:57:17.226Z"
   },
   {
    "duration": 876,
    "start_time": "2021-07-14T05:57:41.416Z"
   },
   {
    "duration": 4130,
    "start_time": "2021-07-14T05:59:13.884Z"
   },
   {
    "duration": 164082,
    "start_time": "2021-07-14T05:59:49.184Z"
   },
   {
    "duration": 871,
    "start_time": "2021-07-14T06:02:33.270Z"
   },
   {
    "duration": 10,
    "start_time": "2021-07-14T06:07:00.096Z"
   },
   {
    "duration": 892,
    "start_time": "2021-07-14T06:07:22.663Z"
   },
   {
    "duration": 7358,
    "start_time": "2021-07-14T06:24:53.486Z"
   },
   {
    "duration": 7,
    "start_time": "2021-07-14T06:25:00.848Z"
   },
   {
    "duration": 28,
    "start_time": "2021-07-14T06:25:00.858Z"
   },
   {
    "duration": 75,
    "start_time": "2021-07-14T06:25:00.889Z"
   },
   {
    "duration": 17,
    "start_time": "2021-07-14T06:25:00.966Z"
   },
   {
    "duration": 25,
    "start_time": "2021-07-14T06:25:00.986Z"
   },
   {
    "duration": 78,
    "start_time": "2021-07-14T06:25:01.013Z"
   },
   {
    "duration": 10,
    "start_time": "2021-07-14T06:25:01.094Z"
   },
   {
    "duration": 28,
    "start_time": "2021-07-14T06:25:01.109Z"
   },
   {
    "duration": 40,
    "start_time": "2021-07-14T06:25:01.140Z"
   },
   {
    "duration": 21,
    "start_time": "2021-07-14T06:25:01.183Z"
   },
   {
    "duration": 49,
    "start_time": "2021-07-14T06:25:01.206Z"
   },
   {
    "duration": 33,
    "start_time": "2021-07-14T06:25:01.257Z"
   },
   {
    "duration": 26,
    "start_time": "2021-07-14T06:25:01.293Z"
   },
   {
    "duration": 83,
    "start_time": "2021-07-14T06:25:01.321Z"
   },
   {
    "duration": 16,
    "start_time": "2021-07-14T06:25:01.407Z"
   },
   {
    "duration": 27,
    "start_time": "2021-07-14T06:25:01.425Z"
   },
   {
    "duration": 15,
    "start_time": "2021-07-14T06:25:01.454Z"
   },
   {
    "duration": 45,
    "start_time": "2021-07-14T06:25:01.471Z"
   },
   {
    "duration": 96,
    "start_time": "2021-07-14T06:25:01.518Z"
   },
   {
    "duration": 26,
    "start_time": "2021-07-14T06:25:01.617Z"
   },
   {
    "duration": 81,
    "start_time": "2021-07-14T06:25:01.646Z"
   },
   {
    "duration": 16,
    "start_time": "2021-07-14T06:25:01.730Z"
   },
   {
    "duration": 44,
    "start_time": "2021-07-14T06:25:01.748Z"
   },
   {
    "duration": 786,
    "start_time": "2021-07-14T06:25:01.795Z"
   },
   {
    "duration": -176,
    "start_time": "2021-07-14T06:25:02.762Z"
   },
   {
    "duration": -179,
    "start_time": "2021-07-14T06:25:02.767Z"
   },
   {
    "duration": -183,
    "start_time": "2021-07-14T06:25:02.773Z"
   },
   {
    "duration": -185,
    "start_time": "2021-07-14T06:25:02.777Z"
   },
   {
    "duration": -186,
    "start_time": "2021-07-14T06:25:02.781Z"
   },
   {
    "duration": -188,
    "start_time": "2021-07-14T06:25:02.785Z"
   },
   {
    "duration": -190,
    "start_time": "2021-07-14T06:25:02.789Z"
   },
   {
    "duration": -191,
    "start_time": "2021-07-14T06:25:02.792Z"
   },
   {
    "duration": -192,
    "start_time": "2021-07-14T06:25:02.795Z"
   },
   {
    "duration": -192,
    "start_time": "2021-07-14T06:25:02.798Z"
   },
   {
    "duration": -193,
    "start_time": "2021-07-14T06:25:02.801Z"
   },
   {
    "duration": -194,
    "start_time": "2021-07-14T06:25:02.804Z"
   },
   {
    "duration": -195,
    "start_time": "2021-07-14T06:25:02.807Z"
   },
   {
    "duration": -195,
    "start_time": "2021-07-14T06:25:02.809Z"
   },
   {
    "duration": -196,
    "start_time": "2021-07-14T06:25:02.812Z"
   },
   {
    "duration": -197,
    "start_time": "2021-07-14T06:25:02.815Z"
   },
   {
    "duration": -150,
    "start_time": "2021-07-14T06:25:02.818Z"
   },
   {
    "duration": 11108,
    "start_time": "2021-07-14T06:25:22.667Z"
   },
   {
    "duration": 21606,
    "start_time": "2021-07-14T06:25:34.769Z"
   },
   {
    "duration": 3,
    "start_time": "2021-07-14T06:25:56.378Z"
   },
   {
    "duration": 5,
    "start_time": "2021-07-14T06:25:56.744Z"
   },
   {
    "duration": 1165,
    "start_time": "2021-07-14T06:26:00.602Z"
   },
   {
    "duration": 8663,
    "start_time": "2021-07-14T06:26:01.940Z"
   },
   {
    "duration": 10,
    "start_time": "2021-07-14T06:29:23.571Z"
   },
   {
    "duration": 710,
    "start_time": "2021-07-14T06:29:30.818Z"
   },
   {
    "duration": 12,
    "start_time": "2021-07-14T06:29:55.656Z"
   },
   {
    "duration": 862,
    "start_time": "2021-07-14T06:30:01.100Z"
   },
   {
    "duration": 16972,
    "start_time": "2021-07-14T14:35:13.471Z"
   },
   {
    "duration": 2944,
    "start_time": "2021-07-14T14:35:30.446Z"
   },
   {
    "duration": 7,
    "start_time": "2021-07-14T14:35:33.394Z"
   },
   {
    "duration": 62,
    "start_time": "2021-07-14T14:35:33.409Z"
   },
   {
    "duration": 17,
    "start_time": "2021-07-14T14:35:33.473Z"
   },
   {
    "duration": 26,
    "start_time": "2021-07-14T14:35:33.508Z"
   },
   {
    "duration": 74,
    "start_time": "2021-07-14T14:35:33.536Z"
   },
   {
    "duration": 10,
    "start_time": "2021-07-14T14:35:33.614Z"
   },
   {
    "duration": 10,
    "start_time": "2021-07-14T14:35:33.627Z"
   },
   {
    "duration": 8,
    "start_time": "2021-07-14T14:35:33.639Z"
   },
   {
    "duration": 16,
    "start_time": "2021-07-14T14:35:33.650Z"
   },
   {
    "duration": 49,
    "start_time": "2021-07-14T14:35:33.669Z"
   },
   {
    "duration": 7,
    "start_time": "2021-07-14T14:35:33.721Z"
   },
   {
    "duration": 6,
    "start_time": "2021-07-14T14:35:33.730Z"
   },
   {
    "duration": 97,
    "start_time": "2021-07-14T14:35:33.738Z"
   },
   {
    "duration": 16,
    "start_time": "2021-07-14T14:35:33.837Z"
   },
   {
    "duration": 10,
    "start_time": "2021-07-14T14:35:33.855Z"
   },
   {
    "duration": 12,
    "start_time": "2021-07-14T14:35:33.868Z"
   },
   {
    "duration": 28,
    "start_time": "2021-07-14T14:35:33.882Z"
   },
   {
    "duration": 620,
    "start_time": "2021-07-14T14:35:33.912Z"
   },
   {
    "duration": 20116,
    "start_time": "2021-07-14T14:35:14.420Z"
   },
   {
    "duration": 20108,
    "start_time": "2021-07-14T14:35:14.429Z"
   },
   {
    "duration": 20107,
    "start_time": "2021-07-14T14:35:14.432Z"
   },
   {
    "duration": 20106,
    "start_time": "2021-07-14T14:35:14.434Z"
   },
   {
    "duration": 20105,
    "start_time": "2021-07-14T14:35:14.437Z"
   },
   {
    "duration": 20104,
    "start_time": "2021-07-14T14:35:14.439Z"
   },
   {
    "duration": 20100,
    "start_time": "2021-07-14T14:35:14.445Z"
   },
   {
    "duration": 20099,
    "start_time": "2021-07-14T14:35:14.447Z"
   },
   {
    "duration": 20098,
    "start_time": "2021-07-14T14:35:14.449Z"
   },
   {
    "duration": 20094,
    "start_time": "2021-07-14T14:35:14.455Z"
   },
   {
    "duration": 20094,
    "start_time": "2021-07-14T14:35:14.457Z"
   },
   {
    "duration": 20090,
    "start_time": "2021-07-14T14:35:14.463Z"
   },
   {
    "duration": 20089,
    "start_time": "2021-07-14T14:35:14.466Z"
   },
   {
    "duration": 20070,
    "start_time": "2021-07-14T14:35:14.488Z"
   },
   {
    "duration": 20070,
    "start_time": "2021-07-14T14:35:14.491Z"
   },
   {
    "duration": 20067,
    "start_time": "2021-07-14T14:35:14.496Z"
   },
   {
    "duration": 20067,
    "start_time": "2021-07-14T14:35:14.499Z"
   },
   {
    "duration": 20065,
    "start_time": "2021-07-14T14:35:14.503Z"
   },
   {
    "duration": 20064,
    "start_time": "2021-07-14T14:35:14.506Z"
   },
   {
    "duration": 20061,
    "start_time": "2021-07-14T14:35:14.511Z"
   },
   {
    "duration": 20096,
    "start_time": "2021-07-14T14:35:14.513Z"
   },
   {
    "duration": 20096,
    "start_time": "2021-07-14T14:35:14.516Z"
   },
   {
    "duration": 6,
    "start_time": "2021-07-14T14:36:20.815Z"
   },
   {
    "duration": 13,
    "start_time": "2021-07-14T14:36:22.500Z"
   },
   {
    "duration": 7,
    "start_time": "2021-07-14T14:36:24.611Z"
   },
   {
    "duration": 10,
    "start_time": "2021-07-14T14:36:25.788Z"
   },
   {
    "duration": 5,
    "start_time": "2021-07-14T14:36:27.501Z"
   },
   {
    "duration": 11,
    "start_time": "2021-07-14T14:36:27.865Z"
   },
   {
    "duration": 10908,
    "start_time": "2021-07-14T14:36:28.497Z"
   },
   {
    "duration": 493,
    "start_time": "2021-07-14T14:36:39.408Z"
   },
   {
    "duration": 20883,
    "start_time": "2021-07-14T14:36:39.904Z"
   },
   {
    "duration": 4,
    "start_time": "2021-07-14T14:37:00.789Z"
   },
   {
    "duration": 4,
    "start_time": "2021-07-14T14:37:13.717Z"
   },
   {
    "duration": 344,
    "start_time": "2021-07-14T14:37:13.869Z"
   },
   {
    "duration": 28322,
    "start_time": "2021-07-14T14:39:05.061Z"
   },
   {
    "duration": 410,
    "start_time": "2021-07-14T15:14:52.282Z"
   },
   {
    "duration": 56,
    "start_time": "2021-07-14T15:15:00.990Z"
   },
   {
    "duration": 90190,
    "start_time": "2021-07-14T15:21:12.388Z"
   },
   {
    "duration": 619,
    "start_time": "2021-07-14T15:25:30.083Z"
   },
   {
    "duration": 88086,
    "start_time": "2021-07-14T15:26:11.124Z"
   },
   {
    "duration": 818,
    "start_time": "2021-07-14T15:27:39.213Z"
   },
   {
    "duration": 1254,
    "start_time": "2021-07-14T15:28:30.840Z"
   },
   {
    "duration": 1462,
    "start_time": "2021-07-14T15:29:48.863Z"
   },
   {
    "duration": 1423,
    "start_time": "2021-07-14T15:30:11.843Z"
   },
   {
    "duration": 1362,
    "start_time": "2021-07-14T15:30:21.159Z"
   },
   {
    "duration": 775,
    "start_time": "2021-07-14T15:30:32.438Z"
   },
   {
    "duration": 788,
    "start_time": "2021-07-14T15:30:40.799Z"
   },
   {
    "duration": 1096,
    "start_time": "2021-07-14T15:31:35.692Z"
   },
   {
    "duration": 1328,
    "start_time": "2021-07-14T15:32:02.594Z"
   },
   {
    "duration": 1251,
    "start_time": "2021-07-14T15:32:56.938Z"
   },
   {
    "duration": 1276,
    "start_time": "2021-07-14T15:33:06.352Z"
   },
   {
    "duration": 1261,
    "start_time": "2021-07-14T15:33:42.884Z"
   },
   {
    "duration": 1250,
    "start_time": "2021-07-14T15:33:53.052Z"
   },
   {
    "duration": 20085,
    "start_time": "2021-07-14T15:37:03.468Z"
   },
   {
    "duration": 4902,
    "start_time": "2021-07-14T15:37:42.055Z"
   },
   {
    "duration": 1370,
    "start_time": "2021-07-14T15:38:03.757Z"
   },
   {
    "duration": 406,
    "start_time": "2021-07-14T15:38:50.951Z"
   },
   {
    "duration": 370,
    "start_time": "2021-07-14T15:38:58.979Z"
   },
   {
    "duration": 360,
    "start_time": "2021-07-14T15:45:25.714Z"
   },
   {
    "duration": 348,
    "start_time": "2021-07-14T15:45:41.486Z"
   },
   {
    "duration": 351,
    "start_time": "2021-07-14T15:45:54.692Z"
   },
   {
    "duration": 1347,
    "start_time": "2021-07-14T15:46:21.358Z"
   },
   {
    "duration": 23,
    "start_time": "2021-07-14T15:46:49.572Z"
   },
   {
    "duration": 1335,
    "start_time": "2021-07-14T15:47:06.599Z"
   },
   {
    "duration": 327,
    "start_time": "2021-07-14T15:47:26.507Z"
   },
   {
    "duration": 312,
    "start_time": "2021-07-14T15:47:32.390Z"
   },
   {
    "duration": 338,
    "start_time": "2021-07-14T15:48:08.726Z"
   },
   {
    "duration": 315,
    "start_time": "2021-07-14T15:48:29.919Z"
   },
   {
    "duration": 14,
    "start_time": "2021-07-14T15:48:41.095Z"
   },
   {
    "duration": 18,
    "start_time": "2021-07-14T15:48:48.169Z"
   },
   {
    "duration": 357,
    "start_time": "2021-07-14T15:48:54.980Z"
   },
   {
    "duration": 908,
    "start_time": "2021-07-14T15:49:03.502Z"
   },
   {
    "duration": 961,
    "start_time": "2021-07-14T15:49:12.376Z"
   },
   {
    "duration": 1073,
    "start_time": "2021-07-14T15:49:19.629Z"
   },
   {
    "duration": 1321,
    "start_time": "2021-07-14T15:49:33.105Z"
   },
   {
    "duration": 662,
    "start_time": "2021-07-14T15:50:05.576Z"
   },
   {
    "duration": 331,
    "start_time": "2021-07-14T15:50:16.697Z"
   },
   {
    "duration": 302,
    "start_time": "2021-07-14T15:50:31.407Z"
   },
   {
    "duration": 318,
    "start_time": "2021-07-14T15:50:45.712Z"
   },
   {
    "duration": 48804,
    "start_time": "2021-07-14T15:50:56.240Z"
   },
   {
    "duration": 20013,
    "start_time": "2021-07-14T15:51:25.038Z"
   },
   {
    "duration": 8,
    "start_time": "2021-07-14T15:51:47.322Z"
   },
   {
    "duration": 4,
    "start_time": "2021-07-14T15:52:50.789Z"
   },
   {
    "duration": 366,
    "start_time": "2021-07-14T15:55:53.348Z"
   },
   {
    "duration": 363,
    "start_time": "2021-07-14T15:56:22.798Z"
   },
   {
    "duration": 413,
    "start_time": "2021-07-14T15:56:31.111Z"
   },
   {
    "duration": 3362,
    "start_time": "2021-07-14T15:56:48.983Z"
   },
   {
    "duration": 3647,
    "start_time": "2021-07-14T15:57:42.868Z"
   },
   {
    "duration": 5431,
    "start_time": "2021-07-14T15:59:19.957Z"
   },
   {
    "duration": 4564,
    "start_time": "2021-07-14T16:00:09.978Z"
   },
   {
    "duration": 4368,
    "start_time": "2021-07-14T16:01:31.995Z"
   },
   {
    "duration": 4979,
    "start_time": "2021-07-14T16:03:28.851Z"
   },
   {
    "duration": 4169,
    "start_time": "2021-07-14T16:04:58.699Z"
   },
   {
    "duration": 3981,
    "start_time": "2021-07-14T16:06:19.528Z"
   },
   {
    "duration": 3600,
    "start_time": "2021-07-14T16:06:31.466Z"
   },
   {
    "duration": 3755,
    "start_time": "2021-07-14T16:06:40.765Z"
   },
   {
    "duration": 3749,
    "start_time": "2021-07-14T16:06:57.029Z"
   },
   {
    "duration": 3779,
    "start_time": "2021-07-14T16:08:40.467Z"
   },
   {
    "duration": 3755,
    "start_time": "2021-07-14T16:09:35.674Z"
   },
   {
    "duration": 5001,
    "start_time": "2021-07-14T16:09:44.275Z"
   },
   {
    "duration": 5138,
    "start_time": "2021-07-14T16:10:15.331Z"
   },
   {
    "duration": 5069,
    "start_time": "2021-07-14T16:10:33.988Z"
   },
   {
    "duration": 4993,
    "start_time": "2021-07-14T16:11:32.563Z"
   },
   {
    "duration": 4972,
    "start_time": "2021-07-14T16:11:48.840Z"
   },
   {
    "duration": 5117,
    "start_time": "2021-07-14T16:16:51.491Z"
   },
   {
    "duration": 11217,
    "start_time": "2021-07-14T16:17:11.818Z"
   },
   {
    "duration": 4543,
    "start_time": "2021-07-14T16:17:44.570Z"
   },
   {
    "duration": 5134,
    "start_time": "2021-07-14T16:18:07.991Z"
   },
   {
    "duration": 4871,
    "start_time": "2021-07-14T16:18:34.963Z"
   },
   {
    "duration": 4811,
    "start_time": "2021-07-14T16:21:23.299Z"
   },
   {
    "duration": 5399,
    "start_time": "2021-07-14T16:21:40.099Z"
   },
   {
    "duration": 4711,
    "start_time": "2021-07-14T16:22:08.060Z"
   },
   {
    "duration": 4572,
    "start_time": "2021-07-14T16:22:18.479Z"
   },
   {
    "duration": 5410,
    "start_time": "2021-07-14T16:22:57.981Z"
   },
   {
    "duration": 6007,
    "start_time": "2021-07-14T16:23:10.631Z"
   },
   {
    "duration": 4736,
    "start_time": "2021-07-14T16:23:54.072Z"
   },
   {
    "duration": 4819,
    "start_time": "2021-07-14T16:24:09.654Z"
   },
   {
    "duration": 4618,
    "start_time": "2021-07-14T16:24:56.277Z"
   },
   {
    "duration": 5286,
    "start_time": "2021-07-14T16:25:29.523Z"
   },
   {
    "duration": 5676,
    "start_time": "2021-07-14T16:25:47.052Z"
   },
   {
    "duration": 120,
    "start_time": "2021-07-14T16:26:38.386Z"
   },
   {
    "duration": 5273,
    "start_time": "2021-07-14T16:26:47.306Z"
   },
   {
    "duration": 5417,
    "start_time": "2021-07-14T16:27:03.483Z"
   },
   {
    "duration": 4514,
    "start_time": "2021-07-14T16:29:04.565Z"
   },
   {
    "duration": 8,
    "start_time": "2021-07-14T16:30:05.099Z"
   },
   {
    "duration": 4,
    "start_time": "2021-07-14T16:30:07.179Z"
   },
   {
    "duration": 3995,
    "start_time": "2021-07-14T16:30:07.338Z"
   },
   {
    "duration": 3870,
    "start_time": "2021-07-14T16:33:15.680Z"
   },
   {
    "duration": 3188,
    "start_time": "2021-07-14T16:33:27.359Z"
   },
   {
    "duration": 9,
    "start_time": "2021-07-14T16:35:09.260Z"
   },
   {
    "duration": 3441,
    "start_time": "2021-07-14T16:35:42.795Z"
   },
   {
    "duration": 4386,
    "start_time": "2021-07-14T16:36:06.347Z"
   },
   {
    "duration": 3721,
    "start_time": "2021-07-14T16:36:20.634Z"
   },
   {
    "duration": 3278,
    "start_time": "2021-07-14T16:37:32.539Z"
   },
   {
    "duration": 3540,
    "start_time": "2021-07-14T16:38:24.614Z"
   },
   {
    "duration": 1267,
    "start_time": "2021-07-14T16:41:31.593Z"
   },
   {
    "duration": 1358,
    "start_time": "2021-07-14T16:41:38.672Z"
   },
   {
    "duration": 1276,
    "start_time": "2021-07-14T16:41:45.774Z"
   },
   {
    "duration": 1237,
    "start_time": "2021-07-14T16:41:59.539Z"
   },
   {
    "duration": 1757,
    "start_time": "2021-07-14T16:42:14.967Z"
   },
   {
    "duration": 1252,
    "start_time": "2021-07-14T16:42:18.760Z"
   },
   {
    "duration": 5,
    "start_time": "2021-07-14T16:55:03.338Z"
   },
   {
    "duration": 8,
    "start_time": "2021-07-14T16:56:16.758Z"
   },
   {
    "duration": 7,
    "start_time": "2021-07-14T16:56:39.528Z"
   },
   {
    "duration": 9,
    "start_time": "2021-07-14T16:56:57.118Z"
   },
   {
    "duration": 7,
    "start_time": "2021-07-14T16:57:35.153Z"
   },
   {
    "duration": 5013,
    "start_time": "2021-07-14T16:58:03.886Z"
   },
   {
    "duration": 2502,
    "start_time": "2021-07-14T16:58:08.903Z"
   },
   {
    "duration": 5,
    "start_time": "2021-07-14T16:58:11.408Z"
   },
   {
    "duration": 65,
    "start_time": "2021-07-14T16:58:11.416Z"
   },
   {
    "duration": 33,
    "start_time": "2021-07-14T16:58:11.484Z"
   },
   {
    "duration": 25,
    "start_time": "2021-07-14T16:58:11.520Z"
   },
   {
    "duration": 74,
    "start_time": "2021-07-14T16:58:11.548Z"
   },
   {
    "duration": 11,
    "start_time": "2021-07-14T16:58:11.626Z"
   },
   {
    "duration": 7,
    "start_time": "2021-07-14T16:58:11.640Z"
   },
   {
    "duration": 8,
    "start_time": "2021-07-14T16:58:11.649Z"
   },
   {
    "duration": 51,
    "start_time": "2021-07-14T16:58:11.659Z"
   },
   {
    "duration": 3355,
    "start_time": "2021-07-14T16:58:11.712Z"
   },
   {
    "duration": 1269,
    "start_time": "2021-07-14T16:58:15.070Z"
   },
   {
    "duration": 9,
    "start_time": "2021-07-14T16:58:16.341Z"
   },
   {
    "duration": 7,
    "start_time": "2021-07-14T16:58:16.352Z"
   },
   {
    "duration": 6,
    "start_time": "2021-07-14T16:58:16.362Z"
   },
   {
    "duration": 93,
    "start_time": "2021-07-14T16:58:16.370Z"
   },
   {
    "duration": 7,
    "start_time": "2021-07-14T16:58:16.466Z"
   },
   {
    "duration": 5,
    "start_time": "2021-07-14T16:58:16.475Z"
   },
   {
    "duration": 26,
    "start_time": "2021-07-14T16:58:16.483Z"
   },
   {
    "duration": 77,
    "start_time": "2021-07-14T16:58:16.512Z"
   },
   {
    "duration": 40,
    "start_time": "2021-07-14T16:58:16.592Z"
   },
   {
    "duration": 29,
    "start_time": "2021-07-14T16:58:16.639Z"
   },
   {
    "duration": 6,
    "start_time": "2021-07-14T16:58:16.673Z"
   },
   {
    "duration": 27,
    "start_time": "2021-07-14T16:58:16.682Z"
   },
   {
    "duration": 10870,
    "start_time": "2021-07-14T16:58:16.712Z"
   },
   {
    "duration": 503,
    "start_time": "2021-07-14T16:58:27.585Z"
   },
   {
    "duration": 20993,
    "start_time": "2021-07-14T16:58:28.090Z"
   },
   {
    "duration": 3,
    "start_time": "2021-07-14T16:58:49.085Z"
   },
   {
    "duration": 19,
    "start_time": "2021-07-14T16:58:49.090Z"
   },
   {
    "duration": 83699,
    "start_time": "2021-07-14T16:58:49.111Z"
   },
   {
    "duration": 79800,
    "start_time": "2021-07-14T17:00:12.814Z"
   },
   {
    "duration": 6,
    "start_time": "2021-07-14T17:01:32.709Z"
   },
   {
    "duration": 205262,
    "start_time": "2021-07-14T17:01:32.718Z"
   },
   {
    "duration": 6,
    "start_time": "2021-07-14T17:04:57.983Z"
   },
   {
    "duration": 979,
    "start_time": "2021-07-14T17:04:57.991Z"
   },
   {
    "duration": 4312,
    "start_time": "2021-07-14T17:04:58.972Z"
   },
   {
    "duration": 787,
    "start_time": "2021-07-14T17:05:03.286Z"
   },
   {
    "duration": 4099,
    "start_time": "2021-07-14T17:05:04.076Z"
   },
   {
    "duration": 1131,
    "start_time": "2021-07-14T17:05:08.178Z"
   },
   {
    "duration": 4549,
    "start_time": "2021-07-14T17:05:09.311Z"
   },
   {
    "duration": 712,
    "start_time": "2021-07-14T17:05:13.862Z"
   },
   {
    "duration": 3853,
    "start_time": "2021-07-14T17:05:14.577Z"
   },
   {
    "duration": 5413,
    "start_time": "2021-07-14T17:19:22.321Z"
   },
   {
    "duration": 3054,
    "start_time": "2021-07-14T17:19:27.737Z"
   },
   {
    "duration": 12,
    "start_time": "2021-07-14T17:19:30.796Z"
   },
   {
    "duration": 104,
    "start_time": "2021-07-14T17:19:30.812Z"
   },
   {
    "duration": 28,
    "start_time": "2021-07-14T17:19:30.919Z"
   },
   {
    "duration": 50,
    "start_time": "2021-07-14T17:19:30.949Z"
   },
   {
    "duration": 52,
    "start_time": "2021-07-14T17:19:31.001Z"
   },
   {
    "duration": 10,
    "start_time": "2021-07-14T17:19:31.056Z"
   },
   {
    "duration": 42,
    "start_time": "2021-07-14T17:19:31.070Z"
   },
   {
    "duration": 37,
    "start_time": "2021-07-14T17:19:31.116Z"
   },
   {
    "duration": 23,
    "start_time": "2021-07-14T17:19:31.155Z"
   },
   {
    "duration": 3547,
    "start_time": "2021-07-14T17:19:31.181Z"
   },
   {
    "duration": 1290,
    "start_time": "2021-07-14T17:19:34.731Z"
   },
   {
    "duration": 14,
    "start_time": "2021-07-14T17:19:36.024Z"
   },
   {
    "duration": 30,
    "start_time": "2021-07-14T17:19:36.042Z"
   },
   {
    "duration": 8,
    "start_time": "2021-07-14T17:19:36.074Z"
   },
   {
    "duration": 91,
    "start_time": "2021-07-14T17:19:36.085Z"
   },
   {
    "duration": 30,
    "start_time": "2021-07-14T17:19:36.178Z"
   },
   {
    "duration": 16,
    "start_time": "2021-07-14T17:19:36.211Z"
   },
   {
    "duration": 10,
    "start_time": "2021-07-14T17:19:36.230Z"
   },
   {
    "duration": 16,
    "start_time": "2021-07-14T17:19:36.242Z"
   },
   {
    "duration": 11,
    "start_time": "2021-07-14T17:19:36.260Z"
   },
   {
    "duration": 10,
    "start_time": "2021-07-14T17:19:36.273Z"
   },
   {
    "duration": 5,
    "start_time": "2021-07-14T17:19:36.310Z"
   },
   {
    "duration": 9,
    "start_time": "2021-07-14T17:19:36.318Z"
   },
   {
    "duration": 10762,
    "start_time": "2021-07-14T17:19:36.331Z"
   },
   {
    "duration": 516,
    "start_time": "2021-07-14T17:19:47.098Z"
   },
   {
    "duration": 6,
    "start_time": "2021-07-14T17:19:47.617Z"
   },
   {
    "duration": 21011,
    "start_time": "2021-07-14T17:19:47.626Z"
   },
   {
    "duration": 4,
    "start_time": "2021-07-14T17:20:08.640Z"
   },
   {
    "duration": 16,
    "start_time": "2021-07-14T17:20:08.646Z"
   },
   {
    "duration": 1002,
    "start_time": "2021-07-14T17:20:08.665Z"
   },
   {
    "duration": 20139,
    "start_time": "2021-07-14T17:19:49.532Z"
   },
   {
    "duration": 20136,
    "start_time": "2021-07-14T17:19:49.538Z"
   },
   {
    "duration": 20135,
    "start_time": "2021-07-14T17:19:49.541Z"
   },
   {
    "duration": 20131,
    "start_time": "2021-07-14T17:19:49.547Z"
   },
   {
    "duration": 20129,
    "start_time": "2021-07-14T17:19:49.551Z"
   },
   {
    "duration": 20129,
    "start_time": "2021-07-14T17:19:49.554Z"
   },
   {
    "duration": 20128,
    "start_time": "2021-07-14T17:19:49.557Z"
   },
   {
    "duration": 20124,
    "start_time": "2021-07-14T17:19:49.564Z"
   },
   {
    "duration": 20122,
    "start_time": "2021-07-14T17:19:49.568Z"
   },
   {
    "duration": 20121,
    "start_time": "2021-07-14T17:19:49.571Z"
   },
   {
    "duration": 20119,
    "start_time": "2021-07-14T17:19:49.575Z"
   },
   {
    "duration": 20114,
    "start_time": "2021-07-14T17:19:49.582Z"
   },
   {
    "duration": 4517,
    "start_time": "2021-07-14T19:33:04.435Z"
   },
   {
    "duration": 2837,
    "start_time": "2021-07-14T19:33:08.955Z"
   },
   {
    "duration": 7,
    "start_time": "2021-07-14T19:33:11.797Z"
   },
   {
    "duration": 80,
    "start_time": "2021-07-14T19:33:11.808Z"
   },
   {
    "duration": 21,
    "start_time": "2021-07-14T19:33:11.891Z"
   },
   {
    "duration": 69,
    "start_time": "2021-07-14T19:33:11.915Z"
   },
   {
    "duration": 55,
    "start_time": "2021-07-14T19:33:11.987Z"
   },
   {
    "duration": 40,
    "start_time": "2021-07-14T19:33:12.048Z"
   },
   {
    "duration": 19,
    "start_time": "2021-07-14T19:33:12.092Z"
   },
   {
    "duration": 10,
    "start_time": "2021-07-14T19:33:12.113Z"
   },
   {
    "duration": 10,
    "start_time": "2021-07-14T19:33:12.125Z"
   },
   {
    "duration": 3269,
    "start_time": "2021-07-14T19:33:12.138Z"
   },
   {
    "duration": 1225,
    "start_time": "2021-07-14T19:33:15.409Z"
   },
   {
    "duration": 11,
    "start_time": "2021-07-14T19:33:16.637Z"
   },
   {
    "duration": 36,
    "start_time": "2021-07-14T19:33:16.650Z"
   },
   {
    "duration": 7,
    "start_time": "2021-07-14T19:33:16.689Z"
   },
   {
    "duration": 85,
    "start_time": "2021-07-14T19:33:16.698Z"
   },
   {
    "duration": 7,
    "start_time": "2021-07-14T19:33:16.785Z"
   },
   {
    "duration": 7,
    "start_time": "2021-07-14T19:33:16.794Z"
   },
   {
    "duration": 11,
    "start_time": "2021-07-14T19:33:16.803Z"
   },
   {
    "duration": 15,
    "start_time": "2021-07-14T19:33:16.816Z"
   },
   {
    "duration": 7,
    "start_time": "2021-07-14T19:33:16.833Z"
   },
   {
    "duration": 9,
    "start_time": "2021-07-14T19:33:16.883Z"
   },
   {
    "duration": 10,
    "start_time": "2021-07-14T19:33:16.895Z"
   },
   {
    "duration": 8,
    "start_time": "2021-07-14T19:33:16.908Z"
   },
   {
    "duration": 11029,
    "start_time": "2021-07-14T19:33:16.919Z"
   },
   {
    "duration": 517,
    "start_time": "2021-07-14T19:33:27.950Z"
   },
   {
    "duration": 13,
    "start_time": "2021-07-14T19:33:28.470Z"
   },
   {
    "duration": 20852,
    "start_time": "2021-07-14T19:33:28.486Z"
   },
   {
    "duration": 4,
    "start_time": "2021-07-14T19:33:49.340Z"
   },
   {
    "duration": 8,
    "start_time": "2021-07-14T19:33:49.346Z"
   },
   {
    "duration": 82432,
    "start_time": "2021-07-14T19:33:49.357Z"
   },
   {
    "duration": 77797,
    "start_time": "2021-07-14T19:35:11.792Z"
   },
   {
    "duration": 93,
    "start_time": "2021-07-14T19:36:29.592Z"
   },
   {
    "duration": 104029,
    "start_time": "2021-07-14T19:36:29.688Z"
   },
   {
    "duration": 606,
    "start_time": "2021-07-14T19:38:13.114Z"
   },
   {
    "duration": 603,
    "start_time": "2021-07-14T19:38:13.118Z"
   },
   {
    "duration": 601,
    "start_time": "2021-07-14T19:38:13.122Z"
   },
   {
    "duration": 599,
    "start_time": "2021-07-14T19:38:13.125Z"
   },
   {
    "duration": 597,
    "start_time": "2021-07-14T19:38:13.128Z"
   },
   {
    "duration": 596,
    "start_time": "2021-07-14T19:38:13.131Z"
   },
   {
    "duration": 594,
    "start_time": "2021-07-14T19:38:13.134Z"
   },
   {
    "duration": 592,
    "start_time": "2021-07-14T19:38:13.137Z"
   },
   {
    "duration": 590,
    "start_time": "2021-07-14T19:38:13.140Z"
   },
   {
    "duration": 4536,
    "start_time": "2021-07-14T19:39:39.323Z"
   },
   {
    "duration": 2326,
    "start_time": "2021-07-14T19:39:43.862Z"
   },
   {
    "duration": 6,
    "start_time": "2021-07-14T19:39:46.191Z"
   },
   {
    "duration": 62,
    "start_time": "2021-07-14T19:39:46.200Z"
   },
   {
    "duration": 32,
    "start_time": "2021-07-14T19:39:46.265Z"
   },
   {
    "duration": 27,
    "start_time": "2021-07-14T19:39:46.300Z"
   },
   {
    "duration": 93,
    "start_time": "2021-07-14T19:39:46.329Z"
   },
   {
    "duration": 13,
    "start_time": "2021-07-14T19:39:46.428Z"
   },
   {
    "duration": 39,
    "start_time": "2021-07-14T19:39:46.445Z"
   },
   {
    "duration": 14,
    "start_time": "2021-07-14T19:39:46.487Z"
   },
   {
    "duration": 10,
    "start_time": "2021-07-14T19:39:46.505Z"
   },
   {
    "duration": 3481,
    "start_time": "2021-07-14T19:39:46.518Z"
   },
   {
    "duration": 1186,
    "start_time": "2021-07-14T19:39:50.001Z"
   },
   {
    "duration": 9,
    "start_time": "2021-07-14T19:39:51.190Z"
   },
   {
    "duration": 15,
    "start_time": "2021-07-14T19:39:51.201Z"
   },
   {
    "duration": 5,
    "start_time": "2021-07-14T19:39:51.219Z"
   },
   {
    "duration": 94,
    "start_time": "2021-07-14T19:39:51.226Z"
   },
   {
    "duration": 8,
    "start_time": "2021-07-14T19:39:51.322Z"
   },
   {
    "duration": 9,
    "start_time": "2021-07-14T19:39:51.332Z"
   },
   {
    "duration": 10,
    "start_time": "2021-07-14T19:39:51.344Z"
   },
   {
    "duration": 16,
    "start_time": "2021-07-14T19:39:51.384Z"
   },
   {
    "duration": 9,
    "start_time": "2021-07-14T19:39:51.403Z"
   },
   {
    "duration": 11,
    "start_time": "2021-07-14T19:39:51.419Z"
   },
   {
    "duration": 49,
    "start_time": "2021-07-14T19:39:51.434Z"
   },
   {
    "duration": 11,
    "start_time": "2021-07-14T19:39:51.485Z"
   },
   {
    "duration": 10863,
    "start_time": "2021-07-14T19:39:51.499Z"
   },
   {
    "duration": 480,
    "start_time": "2021-07-14T19:40:02.365Z"
   },
   {
    "duration": 6,
    "start_time": "2021-07-14T19:40:02.848Z"
   },
   {
    "duration": 20902,
    "start_time": "2021-07-14T19:40:02.856Z"
   },
   {
    "duration": 5,
    "start_time": "2021-07-14T19:40:23.761Z"
   },
   {
    "duration": 4,
    "start_time": "2021-07-14T19:40:23.783Z"
   },
   {
    "duration": 82397,
    "start_time": "2021-07-14T19:40:23.791Z"
   },
   {
    "duration": 77597,
    "start_time": "2021-07-14T19:41:46.192Z"
   },
   {
    "duration": 9,
    "start_time": "2021-07-14T19:43:03.883Z"
   },
   {
    "duration": 190763,
    "start_time": "2021-07-14T19:43:03.983Z"
   },
   {
    "duration": 5,
    "start_time": "2021-07-14T19:46:14.749Z"
   },
   {
    "duration": 781,
    "start_time": "2021-07-14T19:46:14.756Z"
   },
   {
    "duration": 4032,
    "start_time": "2021-07-14T19:46:15.539Z"
   },
   {
    "duration": 759,
    "start_time": "2021-07-14T19:46:19.574Z"
   },
   {
    "duration": 3798,
    "start_time": "2021-07-14T19:46:20.336Z"
   },
   {
    "duration": 689,
    "start_time": "2021-07-14T19:46:24.136Z"
   },
   {
    "duration": 4327,
    "start_time": "2021-07-14T19:46:24.827Z"
   },
   {
    "duration": 604,
    "start_time": "2021-07-14T19:46:29.156Z"
   },
   {
    "duration": 3702,
    "start_time": "2021-07-14T19:46:29.763Z"
   }
  ],
  "kernelspec": {
   "display_name": "Python 3",
   "language": "python",
   "name": "python3"
  },
  "language_info": {
   "codemirror_mode": {
    "name": "ipython",
    "version": 3
   },
   "file_extension": ".py",
   "mimetype": "text/x-python",
   "name": "python",
   "nbconvert_exporter": "python",
   "pygments_lexer": "ipython3",
   "version": "3.9.1"
  },
  "toc": {
   "base_numbering": 1,
   "nav_menu": {},
   "number_sections": true,
   "sideBar": true,
   "skip_h1_title": true,
   "title_cell": "Содержание",
   "title_sidebar": "Contents",
   "toc_cell": true,
   "toc_position": {},
   "toc_section_display": true,
   "toc_window_display": true
  }
 },
 "nbformat": 4,
 "nbformat_minor": 2
}
