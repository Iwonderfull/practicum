{
 "cells": [
  {
   "cell_type": "markdown",
   "metadata": {},
   "source": [
    "\n",
    "## Загрузка и подготовка данных"
   ]
  },
  {
   "cell_type": "markdown",
   "metadata": {},
   "source": [
    "Привет! Можешь посмотреть, что не так, не получилось установить pandas-profiling. Мои попытки в закоментированных строках."
   ]
  },
  {
   "cell_type": "code",
   "execution_count": 1,
   "metadata": {},
   "outputs": [
    {
     "name": "stdout",
     "output_type": "stream",
     "text": [
      "Defaulting to user installation because normal site-packages is not writeable\n",
      "Requirement already satisfied: pip in /home/jovyan/.local/lib/python3.7/site-packages (21.1.3)\n",
      "Requirement already satisfied: scikit-learn in /home/jovyan/.local/lib/python3.7/site-packages (0.24.2)\n",
      "Requirement already satisfied: seaborn in /home/jovyan/.local/lib/python3.7/site-packages (0.11.1)\n",
      "Requirement already satisfied: pandas in /home/jovyan/.local/lib/python3.7/site-packages (1.3.0)\n",
      "Requirement already satisfied: scipy in /home/jovyan/.local/lib/python3.7/site-packages (1.7.0)\n",
      "Requirement already satisfied: threadpoolctl>=2.0.0 in /home/jovyan/.local/lib/python3.7/site-packages (from scikit-learn) (2.2.0)\n",
      "Requirement already satisfied: numpy>=1.13.3 in /opt/conda/lib/python3.7/site-packages (from scikit-learn) (1.19.5)\n",
      "Requirement already satisfied: joblib>=0.11 in /opt/conda/lib/python3.7/site-packages (from scikit-learn) (1.0.1)\n",
      "Requirement already satisfied: matplotlib>=2.2 in /opt/conda/lib/python3.7/site-packages (from seaborn) (3.1.0)\n",
      "Requirement already satisfied: pytz>=2017.3 in /opt/conda/lib/python3.7/site-packages (from pandas) (2021.1)\n",
      "Requirement already satisfied: python-dateutil>=2.7.3 in /opt/conda/lib/python3.7/site-packages (from pandas) (2.8.1)\n",
      "Requirement already satisfied: cycler>=0.10 in /opt/conda/lib/python3.7/site-packages (from matplotlib>=2.2->seaborn) (0.10.0)\n",
      "Requirement already satisfied: kiwisolver>=1.0.1 in /opt/conda/lib/python3.7/site-packages (from matplotlib>=2.2->seaborn) (1.3.1)\n",
      "Requirement already satisfied: pyparsing!=2.0.4,!=2.1.2,!=2.1.6,>=2.0.1 in /opt/conda/lib/python3.7/site-packages (from matplotlib>=2.2->seaborn) (2.4.7)\n",
      "Requirement already satisfied: six in /opt/conda/lib/python3.7/site-packages (from cycler>=0.10->matplotlib>=2.2->seaborn) (1.15.0)\n"
     ]
    }
   ],
   "source": [
    "!pip install -U pip scikit-learn seaborn pandas scipy\n",
    "# !python -m pip install -r https://raw.githubusercontent.com/pandas-profiling/pandas-profiling/master/requirements.txt\n",
    "# !python -m pip install -U pandas-profiling"
   ]
  },
  {
   "cell_type": "code",
   "execution_count": 2,
   "metadata": {},
   "outputs": [],
   "source": [
    "# !pip install pandas-profiling"
   ]
  },
  {
   "cell_type": "code",
   "execution_count": 3,
   "metadata": {},
   "outputs": [],
   "source": [
    "import pandas as pd\n",
    "import numpy as np\n",
    "import seaborn as sns\n",
    "import matplotlib as mpl\n",
    "import matplotlib.pyplot as plt"
   ]
  },
  {
   "cell_type": "code",
   "execution_count": 4,
   "metadata": {},
   "outputs": [],
   "source": [
    "from sklearn.pipeline import make_pipeline\n",
    "from sklearn.preprocessing import StandardScaler\n",
    "from sklearn.model_selection import train_test_split\n",
    "from sklearn.linear_model import LinearRegression, RidgeCV\n",
    "from sklearn.metrics import mean_squared_error"
   ]
  },
  {
   "cell_type": "code",
   "execution_count": 5,
   "metadata": {},
   "outputs": [],
   "source": [
    "from collections import namedtuple\n",
    "from scipy import stats as st"
   ]
  },
  {
   "cell_type": "code",
   "execution_count": 6,
   "metadata": {},
   "outputs": [],
   "source": [
    "# Settings\n",
    "sns.set_theme()"
   ]
  },
  {
   "cell_type": "code",
   "execution_count": 7,
   "metadata": {},
   "outputs": [
    {
     "name": "stdout",
     "output_type": "stream",
     "text": [
      "Уникальных id: 99990\n",
      "<class 'pandas.core.frame.DataFrame'>\n",
      "RangeIndex: 100000 entries, 0 to 99999\n",
      "Data columns (total 5 columns):\n",
      " #   Column   Non-Null Count   Dtype  \n",
      "---  ------   --------------   -----  \n",
      " 0   id       100000 non-null  object \n",
      " 1   f0       100000 non-null  float64\n",
      " 2   f1       100000 non-null  float64\n",
      " 3   f2       100000 non-null  float64\n",
      " 4   product  100000 non-null  float64\n",
      "dtypes: float64(4), object(1)\n",
      "memory usage: 3.8+ MB\n",
      "None\n"
     ]
    },
    {
     "data": {
      "text/html": [
       "<div>\n",
       "<style scoped>\n",
       "    .dataframe tbody tr th:only-of-type {\n",
       "        vertical-align: middle;\n",
       "    }\n",
       "\n",
       "    .dataframe tbody tr th {\n",
       "        vertical-align: top;\n",
       "    }\n",
       "\n",
       "    .dataframe thead th {\n",
       "        text-align: right;\n",
       "    }\n",
       "</style>\n",
       "<table border=\"1\" class=\"dataframe\">\n",
       "  <thead>\n",
       "    <tr style=\"text-align: right;\">\n",
       "      <th></th>\n",
       "      <th>id</th>\n",
       "      <th>f0</th>\n",
       "      <th>f1</th>\n",
       "      <th>f2</th>\n",
       "      <th>product</th>\n",
       "    </tr>\n",
       "  </thead>\n",
       "  <tbody>\n",
       "    <tr>\n",
       "      <th>9044</th>\n",
       "      <td>ZJ1Kl</td>\n",
       "      <td>0.702683</td>\n",
       "      <td>0.640172</td>\n",
       "      <td>-0.988516</td>\n",
       "      <td>29.253703</td>\n",
       "    </tr>\n",
       "    <tr>\n",
       "      <th>50860</th>\n",
       "      <td>7dITr</td>\n",
       "      <td>1.629738</td>\n",
       "      <td>-0.063553</td>\n",
       "      <td>5.134798</td>\n",
       "      <td>143.300000</td>\n",
       "    </tr>\n",
       "    <tr>\n",
       "      <th>34433</th>\n",
       "      <td>nVt9x</td>\n",
       "      <td>0.059494</td>\n",
       "      <td>0.119591</td>\n",
       "      <td>3.076257</td>\n",
       "      <td>99.387797</td>\n",
       "    </tr>\n",
       "    <tr>\n",
       "      <th>85172</th>\n",
       "      <td>DOMFo</td>\n",
       "      <td>0.483475</td>\n",
       "      <td>-0.252605</td>\n",
       "      <td>4.337708</td>\n",
       "      <td>110.535345</td>\n",
       "    </tr>\n",
       "    <tr>\n",
       "      <th>22763</th>\n",
       "      <td>JYpQr</td>\n",
       "      <td>-0.795128</td>\n",
       "      <td>0.584563</td>\n",
       "      <td>-4.046503</td>\n",
       "      <td>33.198016</td>\n",
       "    </tr>\n",
       "    <tr>\n",
       "      <th>81621</th>\n",
       "      <td>ETSCV</td>\n",
       "      <td>2.000000</td>\n",
       "      <td>0.252980</td>\n",
       "      <td>7.890732</td>\n",
       "      <td>134.377827</td>\n",
       "    </tr>\n",
       "    <tr>\n",
       "      <th>81041</th>\n",
       "      <td>DcvzS</td>\n",
       "      <td>0.060865</td>\n",
       "      <td>0.059526</td>\n",
       "      <td>1.222525</td>\n",
       "      <td>116.363075</td>\n",
       "    </tr>\n",
       "    <tr>\n",
       "      <th>64016</th>\n",
       "      <td>ukAG2</td>\n",
       "      <td>1.323982</td>\n",
       "      <td>-0.516842</td>\n",
       "      <td>0.345001</td>\n",
       "      <td>117.217857</td>\n",
       "    </tr>\n",
       "    <tr>\n",
       "      <th>15307</th>\n",
       "      <td>Xap0J</td>\n",
       "      <td>0.125338</td>\n",
       "      <td>1.146007</td>\n",
       "      <td>-0.623006</td>\n",
       "      <td>31.449050</td>\n",
       "    </tr>\n",
       "    <tr>\n",
       "      <th>36401</th>\n",
       "      <td>6gnxt</td>\n",
       "      <td>1.756004</td>\n",
       "      <td>-0.427646</td>\n",
       "      <td>-3.620162</td>\n",
       "      <td>85.226594</td>\n",
       "    </tr>\n",
       "  </tbody>\n",
       "</table>\n",
       "</div>"
      ],
      "text/plain": [
       "          id        f0        f1        f2     product\n",
       "9044   ZJ1Kl  0.702683  0.640172 -0.988516   29.253703\n",
       "50860  7dITr  1.629738 -0.063553  5.134798  143.300000\n",
       "34433  nVt9x  0.059494  0.119591  3.076257   99.387797\n",
       "85172  DOMFo  0.483475 -0.252605  4.337708  110.535345\n",
       "22763  JYpQr -0.795128  0.584563 -4.046503   33.198016\n",
       "81621  ETSCV  2.000000  0.252980  7.890732  134.377827\n",
       "81041  DcvzS  0.060865  0.059526  1.222525  116.363075\n",
       "64016  ukAG2  1.323982 -0.516842  0.345001  117.217857\n",
       "15307  Xap0J  0.125338  1.146007 -0.623006   31.449050\n",
       "36401  6gnxt  1.756004 -0.427646 -3.620162   85.226594"
      ]
     },
     "execution_count": 7,
     "metadata": {},
     "output_type": "execute_result"
    },
    {
     "data": {
      "image/png": "[encoded data removed]",
      "text/plain": [
       "<Figure size 432x288 with 2 Axes>"
      ]
     },
     "metadata": {},
     "output_type": "display_data"
    }
   ],
   "source": [
    "geo_data_0 = pd.read_csv('/datasets/geo_data_0.csv')\n",
    "\n",
    "sns.heatmap(geo_data_0.corr(), annot=True, fmt='.1f')\n",
    "print(\"Уникальных id:\", geo_data_0['id'].nunique())\n",
    "print(geo_data_0.info())\n",
    "geo_data_0.sample(n=10)"
   ]
  },
  {
   "cell_type": "code",
   "execution_count": 8,
   "metadata": {},
   "outputs": [
    {
     "data": {
      "image/png": "[encoded data removed]",
      "text/plain": [
       "<Figure size 1296x288 with 4 Axes>"
      ]
     },
     "metadata": {},
     "output_type": "display_data"
    }
   ],
   "source": [
    "f, axes = plt.subplots(1, 4, sharey=True, figsize=(18,4))\n",
    "cols = ['f0', 'f1', 'f2', 'product']\n",
    "for col, ax in zip(cols, axes):\n",
    "    sns.histplot(geo_data_0[col], ax=ax)\n",
    "print(end='')"
   ]
  },
  {
   "cell_type": "code",
   "execution_count": 9,
   "metadata": {},
   "outputs": [
    {
     "name": "stdout",
     "output_type": "stream",
     "text": [
      "Уникальных id: 99996\n",
      "<class 'pandas.core.frame.DataFrame'>\n",
      "RangeIndex: 100000 entries, 0 to 99999\n",
      "Data columns (total 5 columns):\n",
      " #   Column   Non-Null Count   Dtype  \n",
      "---  ------   --------------   -----  \n",
      " 0   id       100000 non-null  object \n",
      " 1   f0       100000 non-null  float64\n",
      " 2   f1       100000 non-null  float64\n",
      " 3   f2       100000 non-null  float64\n",
      " 4   product  100000 non-null  float64\n",
      "dtypes: float64(4), object(1)\n",
      "memory usage: 3.8+ MB\n",
      "None\n"
     ]
    },
    {
     "data": {
      "text/html": [
       "<div>\n",
       "<style scoped>\n",
       "    .dataframe tbody tr th:only-of-type {\n",
       "        vertical-align: middle;\n",
       "    }\n",
       "\n",
       "    .dataframe tbody tr th {\n",
       "        vertical-align: top;\n",
       "    }\n",
       "\n",
       "    .dataframe thead th {\n",
       "        text-align: right;\n",
       "    }\n",
       "</style>\n",
       "<table border=\"1\" class=\"dataframe\">\n",
       "  <thead>\n",
       "    <tr style=\"text-align: right;\">\n",
       "      <th></th>\n",
       "      <th>id</th>\n",
       "      <th>f0</th>\n",
       "      <th>f1</th>\n",
       "      <th>f2</th>\n",
       "      <th>product</th>\n",
       "    </tr>\n",
       "  </thead>\n",
       "  <tbody>\n",
       "    <tr>\n",
       "      <th>6885</th>\n",
       "      <td>eI1tq</td>\n",
       "      <td>7.693971</td>\n",
       "      <td>-5.978254</td>\n",
       "      <td>2.991309</td>\n",
       "      <td>80.859783</td>\n",
       "    </tr>\n",
       "    <tr>\n",
       "      <th>64207</th>\n",
       "      <td>jPlZZ</td>\n",
       "      <td>-4.458205</td>\n",
       "      <td>-7.900038</td>\n",
       "      <td>3.003702</td>\n",
       "      <td>84.038886</td>\n",
       "    </tr>\n",
       "    <tr>\n",
       "      <th>54568</th>\n",
       "      <td>ZyYFY</td>\n",
       "      <td>4.925791</td>\n",
       "      <td>-7.093698</td>\n",
       "      <td>-0.002578</td>\n",
       "      <td>0.000000</td>\n",
       "    </tr>\n",
       "    <tr>\n",
       "      <th>59644</th>\n",
       "      <td>ojWXA</td>\n",
       "      <td>9.275819</td>\n",
       "      <td>0.505240</td>\n",
       "      <td>3.009283</td>\n",
       "      <td>80.859783</td>\n",
       "    </tr>\n",
       "    <tr>\n",
       "      <th>56886</th>\n",
       "      <td>d9VDT</td>\n",
       "      <td>-3.070858</td>\n",
       "      <td>-8.904236</td>\n",
       "      <td>4.002526</td>\n",
       "      <td>110.992147</td>\n",
       "    </tr>\n",
       "    <tr>\n",
       "      <th>42359</th>\n",
       "      <td>hdA7M</td>\n",
       "      <td>13.913504</td>\n",
       "      <td>0.810382</td>\n",
       "      <td>1.998654</td>\n",
       "      <td>53.906522</td>\n",
       "    </tr>\n",
       "    <tr>\n",
       "      <th>77771</th>\n",
       "      <td>b52Ov</td>\n",
       "      <td>-11.005161</td>\n",
       "      <td>-7.775013</td>\n",
       "      <td>5.000906</td>\n",
       "      <td>137.945408</td>\n",
       "    </tr>\n",
       "    <tr>\n",
       "      <th>8379</th>\n",
       "      <td>H66CM</td>\n",
       "      <td>-11.413440</td>\n",
       "      <td>-7.331174</td>\n",
       "      <td>5.000960</td>\n",
       "      <td>137.945408</td>\n",
       "    </tr>\n",
       "    <tr>\n",
       "      <th>54459</th>\n",
       "      <td>yYLP5</td>\n",
       "      <td>-0.639323</td>\n",
       "      <td>-10.303140</td>\n",
       "      <td>1.993778</td>\n",
       "      <td>57.085625</td>\n",
       "    </tr>\n",
       "    <tr>\n",
       "      <th>56374</th>\n",
       "      <td>0GL5N</td>\n",
       "      <td>10.738002</td>\n",
       "      <td>-10.550286</td>\n",
       "      <td>0.003511</td>\n",
       "      <td>0.000000</td>\n",
       "    </tr>\n",
       "  </tbody>\n",
       "</table>\n",
       "</div>"
      ],
      "text/plain": [
       "          id         f0         f1        f2     product\n",
       "6885   eI1tq   7.693971  -5.978254  2.991309   80.859783\n",
       "64207  jPlZZ  -4.458205  -7.900038  3.003702   84.038886\n",
       "54568  ZyYFY   4.925791  -7.093698 -0.002578    0.000000\n",
       "59644  ojWXA   9.275819   0.505240  3.009283   80.859783\n",
       "56886  d9VDT  -3.070858  -8.904236  4.002526  110.992147\n",
       "42359  hdA7M  13.913504   0.810382  1.998654   53.906522\n",
       "77771  b52Ov -11.005161  -7.775013  5.000906  137.945408\n",
       "8379   H66CM -11.413440  -7.331174  5.000960  137.945408\n",
       "54459  yYLP5  -0.639323 -10.303140  1.993778   57.085625\n",
       "56374  0GL5N  10.738002 -10.550286  0.003511    0.000000"
      ]
     },
     "execution_count": 9,
     "metadata": {},
     "output_type": "execute_result"
    },
    {
     "data": {
      "image/png": "[encoded data removed]",
      "text/plain": [
       "<Figure size 432x288 with 2 Axes>"
      ]
     },
     "metadata": {},
     "output_type": "display_data"
    }
   ],
   "source": [
    "geo_data_1 = pd.read_csv('/datasets/geo_data_1.csv')\n",
    "\n",
    "sns.heatmap(geo_data_1.corr(), annot=True, fmt='.1f')\n",
    "print(\"Уникальных id:\", geo_data_1['id'].nunique())\n",
    "print(geo_data_1.info())\n",
    "geo_data_1.sample(n=10)"
   ]
  },
  {
   "cell_type": "code",
   "execution_count": 10,
   "metadata": {},
   "outputs": [
    {
     "data": {
      "image/png": "[encoded data removed]",
      "text/plain": [
       "<Figure size 1296x288 with 4 Axes>"
      ]
     },
     "metadata": {},
     "output_type": "display_data"
    }
   ],
   "source": [
    "f, axes = plt.subplots(1, 4, sharey=True, figsize=(18,4))\n",
    "cols = ['f0', 'f1', 'f2', 'product']\n",
    "for col, ax in zip(cols, axes):\n",
    "    sns.histplot(geo_data_1[col], ax=ax)\n",
    "print(end='')"
   ]
  },
  {
   "cell_type": "code",
   "execution_count": 11,
   "metadata": {},
   "outputs": [
    {
     "name": "stdout",
     "output_type": "stream",
     "text": [
      "Уникальных id: 99996\n",
      "<class 'pandas.core.frame.DataFrame'>\n",
      "RangeIndex: 100000 entries, 0 to 99999\n",
      "Data columns (total 5 columns):\n",
      " #   Column   Non-Null Count   Dtype  \n",
      "---  ------   --------------   -----  \n",
      " 0   id       100000 non-null  object \n",
      " 1   f0       100000 non-null  float64\n",
      " 2   f1       100000 non-null  float64\n",
      " 3   f2       100000 non-null  float64\n",
      " 4   product  100000 non-null  float64\n",
      "dtypes: float64(4), object(1)\n",
      "memory usage: 3.8+ MB\n",
      "None\n"
     ]
    },
    {
     "data": {
      "text/html": [
       "<div>\n",
       "<style scoped>\n",
       "    .dataframe tbody tr th:only-of-type {\n",
       "        vertical-align: middle;\n",
       "    }\n",
       "\n",
       "    .dataframe tbody tr th {\n",
       "        vertical-align: top;\n",
       "    }\n",
       "\n",
       "    .dataframe thead th {\n",
       "        text-align: right;\n",
       "    }\n",
       "</style>\n",
       "<table border=\"1\" class=\"dataframe\">\n",
       "  <thead>\n",
       "    <tr style=\"text-align: right;\">\n",
       "      <th></th>\n",
       "      <th>id</th>\n",
       "      <th>f0</th>\n",
       "      <th>f1</th>\n",
       "      <th>f2</th>\n",
       "      <th>product</th>\n",
       "    </tr>\n",
       "  </thead>\n",
       "  <tbody>\n",
       "    <tr>\n",
       "      <th>30435</th>\n",
       "      <td>lqASp</td>\n",
       "      <td>-2.812669</td>\n",
       "      <td>1.121833</td>\n",
       "      <td>4.620953</td>\n",
       "      <td>71.884974</td>\n",
       "    </tr>\n",
       "    <tr>\n",
       "      <th>2942</th>\n",
       "      <td>RYEuj</td>\n",
       "      <td>-1.239701</td>\n",
       "      <td>-0.856080</td>\n",
       "      <td>1.295233</td>\n",
       "      <td>37.593353</td>\n",
       "    </tr>\n",
       "    <tr>\n",
       "      <th>86260</th>\n",
       "      <td>NXNJ2</td>\n",
       "      <td>1.380545</td>\n",
       "      <td>0.000827</td>\n",
       "      <td>0.320116</td>\n",
       "      <td>129.769228</td>\n",
       "    </tr>\n",
       "    <tr>\n",
       "      <th>24271</th>\n",
       "      <td>ZOeMI</td>\n",
       "      <td>0.590358</td>\n",
       "      <td>-0.976945</td>\n",
       "      <td>3.251818</td>\n",
       "      <td>79.920389</td>\n",
       "    </tr>\n",
       "    <tr>\n",
       "      <th>6730</th>\n",
       "      <td>gG6Sc</td>\n",
       "      <td>1.719821</td>\n",
       "      <td>1.728666</td>\n",
       "      <td>3.280528</td>\n",
       "      <td>91.571684</td>\n",
       "    </tr>\n",
       "    <tr>\n",
       "      <th>96513</th>\n",
       "      <td>EP6jf</td>\n",
       "      <td>-0.098105</td>\n",
       "      <td>2.880913</td>\n",
       "      <td>5.815310</td>\n",
       "      <td>165.870402</td>\n",
       "    </tr>\n",
       "    <tr>\n",
       "      <th>72491</th>\n",
       "      <td>Jx2sL</td>\n",
       "      <td>-0.468836</td>\n",
       "      <td>-1.141810</td>\n",
       "      <td>-0.316200</td>\n",
       "      <td>69.575918</td>\n",
       "    </tr>\n",
       "    <tr>\n",
       "      <th>33847</th>\n",
       "      <td>Yha31</td>\n",
       "      <td>0.557361</td>\n",
       "      <td>-0.408217</td>\n",
       "      <td>3.498697</td>\n",
       "      <td>137.183621</td>\n",
       "    </tr>\n",
       "    <tr>\n",
       "      <th>93458</th>\n",
       "      <td>KOa3O</td>\n",
       "      <td>-4.221608</td>\n",
       "      <td>-0.597586</td>\n",
       "      <td>9.023050</td>\n",
       "      <td>161.845701</td>\n",
       "    </tr>\n",
       "    <tr>\n",
       "      <th>1013</th>\n",
       "      <td>FsIkj</td>\n",
       "      <td>-1.950782</td>\n",
       "      <td>-0.389381</td>\n",
       "      <td>3.956997</td>\n",
       "      <td>50.994745</td>\n",
       "    </tr>\n",
       "  </tbody>\n",
       "</table>\n",
       "</div>"
      ],
      "text/plain": [
       "          id        f0        f1        f2     product\n",
       "30435  lqASp -2.812669  1.121833  4.620953   71.884974\n",
       "2942   RYEuj -1.239701 -0.856080  1.295233   37.593353\n",
       "86260  NXNJ2  1.380545  0.000827  0.320116  129.769228\n",
       "24271  ZOeMI  0.590358 -0.976945  3.251818   79.920389\n",
       "6730   gG6Sc  1.719821  1.728666  3.280528   91.571684\n",
       "96513  EP6jf -0.098105  2.880913  5.815310  165.870402\n",
       "72491  Jx2sL -0.468836 -1.141810 -0.316200   69.575918\n",
       "33847  Yha31  0.557361 -0.408217  3.498697  137.183621\n",
       "93458  KOa3O -4.221608 -0.597586  9.023050  161.845701\n",
       "1013   FsIkj -1.950782 -0.389381  3.956997   50.994745"
      ]
     },
     "execution_count": 11,
     "metadata": {},
     "output_type": "execute_result"
    },
    {
     "data": {
      "image/png": "[encoded data removed]",
      "text/plain": [
       "<Figure size 432x288 with 2 Axes>"
      ]
     },
     "metadata": {},
     "output_type": "display_data"
    }
   ],
   "source": [
    "geo_data_2 = pd.read_csv('/datasets/geo_data_2.csv')\n",
    "\n",
    "sns.heatmap(geo_data_2.corr(), annot=True, fmt='.1f')\n",
    "print(\"Уникальных id:\", geo_data_2['id'].nunique())\n",
    "print(geo_data_2.info())\n",
    "geo_data_2.sample(n=10)"
   ]
  },
  {
   "cell_type": "code",
   "execution_count": 12,
   "metadata": {},
   "outputs": [
    {
     "data": {
      "image/png": "[encoded data removed]",
      "text/plain": [
       "<Figure size 1296x288 with 4 Axes>"
      ]
     },
     "metadata": {},
     "output_type": "display_data"
    }
   ],
   "source": [
    "f, axes = plt.subplots(1, 4, sharey=True, figsize=(18,4))\n",
    "cols = ['f0', 'f1', 'f2', 'product']\n",
    "for col, ax in zip(cols, axes):\n",
    "    sns.histplot(geo_data_2[col], ax=ax)\n",
    "print(end='')"
   ]
  },
  {
   "cell_type": "markdown",
   "metadata": {},
   "source": [
    "**Выводы**"
   ]
  },
  {
   "cell_type": "markdown",
   "metadata": {},
   "source": [
    "- Все данные на месте, одна строка - одно наблюдение. Все наблюдения уникальны (дуликаты id - *разные* наблюдения одной скважины).\n",
    "- Во всех выборках признаки f2 и product скоррелированы со значениями коэффициента из набора (0.5, 1, 0.4) в соответсвии с порядком загрузки данных. Это замечательно! Значит между целевым и независимым признаками может быть линейная связь. Плюсик в пользу лиейной регрессионной модели.\n",
    "- Распределения признаков во всех регионах разные, без скосов и выбросов. Что оправдывает обучение отдельной модлели на каждый регион."
   ]
  },
  {
   "cell_type": "markdown",
   "metadata": {},
   "source": [
    "## Обучение и проверка модели"
   ]
  },
  {
   "cell_type": "code",
   "execution_count": 13,
   "metadata": {},
   "outputs": [],
   "source": [
    "def rmse(y_true, y_pred, **kwargs):\n",
    "    \"\"\"Returns RMSE metric. Wraps sklearn mean_squared_error\"\"\"\n",
    "    return mean_squared_error(y_true, y_pred, squared=False, **kwargs)\n",
    "\n",
    "class RegionEstimator:\n",
    "    \"\"\"Help class for collecting, storing and calculate data by regions.\"\"\"\n",
    "    def __init__(self, df, metric, drop_cols:list=[], metric_name:str=''):\n",
    "        \"\"\"Returns RegionEstimator instance.\n",
    "        \n",
    "        Parameters\n",
    "        ----------\n",
    "        df : pandas.DataFrame\n",
    "            Region data. Assume that data consists of preprocessed \n",
    "            numeric values only and last column is target.\n",
    "        metric : callable\n",
    "            Metric to estimate model score with definition func(y_pred, y_true).\n",
    "        drop_cols : list\n",
    "            List of columns to drop from data.\n",
    "        metric_name : str\n",
    "            String name of metric to print.\n",
    "        \"\"\"\n",
    "        # Dataset\n",
    "        self.data = pd.DataFrame(df).drop(columns=drop_cols)\n",
    "        \n",
    "        # sklearn estimator\n",
    "        self.model = make_pipeline(\n",
    "            StandardScaler(), \n",
    "            # LinearRegression(positive=True)\n",
    "            # Ridge(random_state=12345)\n",
    "            RidgeCV(cv=5)\n",
    "        )\n",
    "        \n",
    "        # Smaples\n",
    "        self.X = namedtuple('Features', ['train', 'test'])._make([self.data.iloc[:, :-1], None])\n",
    "        self.y = namedtuple('Target', ['train', 'test'])._make([self.data.iloc[:, -1], None])\n",
    "        \n",
    "        # Predictions\n",
    "        self.predictions = namedtuple('Predictions', ['train', 'test'])._make([None, None])\n",
    "        \n",
    "        # Scores\n",
    "        self.metric = metric\n",
    "        self.metric_name = str(metric_name)\n",
    "        self.scores = namedtuple('Score', ['train', 'test'])._make([None, None])\n",
    "        \n",
    "        # Flags\n",
    "        self.__splitted = False\n",
    "        self.__fitted = False\n",
    "        self.__prepared = False\n",
    "        \n",
    "        # Constants\n",
    "        self.rub_for_mbarrel = 450\n",
    "        \n",
    "    def train_test_split(self,  \n",
    "                         train_size=None, \n",
    "                         test_size=.25, \n",
    "                         random_state=12345, \n",
    "                         shuffle=True, \n",
    "                         stratify=None):\n",
    "        \"\"\"Split data on train, test sets wich stored by instance\"\"\"\n",
    "        X_train, X_test, y_train, y_test = train_test_split(\n",
    "            self.data.iloc[:, :-1], self.data.iloc[:, -1],\n",
    "            train_size=train_size,\n",
    "            test_size=test_size,\n",
    "            random_state=random_state,\n",
    "            stratify=stratify,\n",
    "            shuffle=shuffle,\n",
    "        )\n",
    "        self.X = self.X._replace(train=X_train, test=X_test)\n",
    "        self.y = self.y._replace(train=y_train, test=y_test)\n",
    "        \n",
    "        self.__splitted = True\n",
    "        \n",
    "    def fit(self):\n",
    "        \"\"\"Fit the model. If test set is not defined, then model \n",
    "        being fitted on whole dataset.\"\"\"\n",
    "        self.model.fit(self.X.train, self.y.train)\n",
    "        self.__fitted = True\n",
    "        # print(\"Estimator fitted.\")\n",
    "    \n",
    "    def get_predictions(self):\n",
    "        \"\"\"Make predictions.\"\"\"\n",
    "        if not self.__fitted:\n",
    "            raise Exception(\"Estimator doesn't fitted yet.\")\n",
    "            \n",
    "        pred_train = self.model.predict(self.X.train)\n",
    "        # Predicted values have the same indices as target values\n",
    "        pred_train = pd.Series(pred_train, dtype=np.float, index=self.y.train.index)\n",
    "        \n",
    "        if self.__splitted:\n",
    "            pred_test = self.model.predict(self.X.test)\n",
    "            # Predicted values have the same indices as target values\n",
    "            pred_test = pd.Series(pred_test, dtype=np.float, index=self.y.test.index)\n",
    "        else:\n",
    "            print(\"WARNING: Test sample doesn't set. Split the data before fitting!\")\n",
    "            pred_test = None\n",
    "        \n",
    "        self.predictions = self.predictions._replace(train=pred_train, test=pred_test)\n",
    "        \n",
    "    def get_scores(self):\n",
    "        \"\"\"Gets scores.\"\"\"\n",
    "        if self.predictions.train is None:\n",
    "            raise Exception(\"Train predictions doesn't exists.\")\n",
    "        \n",
    "        score_train = self.metric(self.predictions.train, self.y.train)\n",
    "        if self.__splitted and self.predictions.test is not None:\n",
    "            score_test = self.metric(self.predictions.test, self.y.test)\n",
    "        else:\n",
    "            print(\"WARNING: Test predictions doesn't exists.\")\n",
    "            score_test = None\n",
    "        \n",
    "        self.scores = self.scores._replace(train=score_train, test=score_test)\n",
    "        \n",
    "        self.__prepared = True\n",
    "\n",
    "    @property\n",
    "    def summary(self):\n",
    "        \"\"\"Print summary info after fitting the model.\"\"\"\n",
    "        if not self.__prepared:\n",
    "            print(\"Info doesn't exists. Split, fit, predict and calculate scores before.\")\n",
    "            return\n",
    "\n",
    "        pred_means = (\n",
    "            np.mean(preds) for preds in self.predictions \n",
    "            if preds is not None\n",
    "        )\n",
    "        true_means = (\n",
    "            np.mean(y) for y in self.y \n",
    "            if y is not None\n",
    "        )\n",
    "        \n",
    "        collection = [['train', 'test'], self.scores, pred_means, true_means]\n",
    "        for name, score, p_mean, y_mean in zip(*collection):\n",
    "            print(\n",
    "                \"Выборка: {}\".format(name),\n",
    "                \"  {}: {:.2f}\".format(self.metric_name, score), \n",
    "                \"  Cредний запас предсказанного сырья: {:.2f} тыс. баррелей\".format(p_mean),\n",
    "                \"  Cредний запас сырья: {:.2f} тыс. баррелей\".format(y_mean),\n",
    "                sep='\\n'\n",
    "            )"
   ]
  },
  {
   "cell_type": "code",
   "execution_count": 14,
   "metadata": {},
   "outputs": [],
   "source": [
    "def sing_plot(ax, title, xlabel, ylabel):\n",
    "    ax.set_title(title)\n",
    "    ax.set_xlabel(xlabel)\n",
    "    ax.set_ylabel(ylabel)\n",
    "    print(end='')"
   ]
  },
  {
   "cell_type": "code",
   "execution_count": 15,
   "metadata": {},
   "outputs": [],
   "source": [
    "overview_sign = {\n",
    "    'title' : \"Гистограмма предсказанных объемов\", \n",
    "    'xlabel': \"Объем нефти (тыс. баррелей)\", \n",
    "    'ylabel': \"Количество скважин\"\n",
    "}"
   ]
  },
  {
   "cell_type": "code",
   "execution_count": 16,
   "metadata": {},
   "outputs": [
    {
     "name": "stdout",
     "output_type": "stream",
     "text": [
      "                                    Регион 0                                    \n",
      "Выборка: train\n",
      "  RMSE: 37.73\n",
      "  Cредний запас предсказанного сырья: 92.64 тыс. баррелей\n",
      "  Cредний запас сырья: 92.64 тыс. баррелей\n",
      "Выборка: test\n",
      "  RMSE: 37.58\n",
      "  Cредний запас предсказанного сырья: 92.59 тыс. баррелей\n",
      "  Cредний запас сырья: 92.08 тыс. баррелей\n"
     ]
    },
    {
     "data": {
      "image/png": "[encoded data removed]",
      "text/plain": [
       "<Figure size 432x288 with 1 Axes>"
      ]
     },
     "metadata": {},
     "output_type": "display_data"
    }
   ],
   "source": [
    "print(\"{: ^80}\".format(\"Регион 0\"))\n",
    "est_reg_0 = RegionEstimator(geo_data_0, rmse, drop_cols=['id'], metric_name='RMSE')\n",
    "est_reg_0.train_test_split()\n",
    "est_reg_0.fit()\n",
    "est_reg_0.get_predictions()\n",
    "est_reg_0.get_scores()\n",
    "est_reg_0.summary\n",
    "ax = sns.histplot(est_reg_0.predictions.test)\n",
    "sing_plot(ax, **overview_sign)"
   ]
  },
  {
   "cell_type": "code",
   "execution_count": 17,
   "metadata": {},
   "outputs": [
    {
     "name": "stdout",
     "output_type": "stream",
     "text": [
      "                                    Регион 1                                    \n",
      "Выборка: train\n",
      "  RMSE: 0.89\n",
      "  Cредний запас предсказанного сырья: 68.86 тыс. баррелей\n",
      "  Cредний запас сырья: 68.86 тыс. баррелей\n",
      "Выборка: test\n",
      "  RMSE: 0.89\n",
      "  Cредний запас предсказанного сырья: 68.73 тыс. баррелей\n",
      "  Cредний запас сырья: 68.72 тыс. баррелей\n"
     ]
    },
    {
     "data": {
      "image/png": "[encoded data removed]",
      "text/plain": [
       "<Figure size 432x288 with 1 Axes>"
      ]
     },
     "metadata": {},
     "output_type": "display_data"
    }
   ],
   "source": [
    "print(\"{: ^80}\".format(\"Регион 1\"))\n",
    "est_reg_1 = RegionEstimator(geo_data_1, rmse, drop_cols=['id'], metric_name='RMSE')\n",
    "est_reg_1.train_test_split()\n",
    "est_reg_1.fit()\n",
    "est_reg_1.get_predictions()\n",
    "est_reg_1.get_scores()\n",
    "est_reg_1.summary\n",
    "ax = sns.histplot(est_reg_1.predictions.test)\n",
    "sing_plot(ax, **overview_sign)"
   ]
  },
  {
   "cell_type": "code",
   "execution_count": 18,
   "metadata": {},
   "outputs": [
    {
     "name": "stdout",
     "output_type": "stream",
     "text": [
      "                                    Регион 2                                    \n",
      "Выборка: train\n",
      "  RMSE: 40.06\n",
      "  Cредний запас предсказанного сырья: 95.04 тыс. баррелей\n",
      "  Cредний запас сырья: 95.04 тыс. баррелей\n",
      "Выборка: test\n",
      "  RMSE: 40.03\n",
      "  Cредний запас предсказанного сырья: 94.97 тыс. баррелей\n",
      "  Cредний запас сырья: 94.88 тыс. баррелей\n"
     ]
    },
    {
     "data": {
      "image/png": "[encoded data removed]",
      "text/plain": [
       "<Figure size 432x288 with 1 Axes>"
      ]
     },
     "metadata": {},
     "output_type": "display_data"
    }
   ],
   "source": [
    "print(\"{: ^80}\".format(\"Регион 2\"))\n",
    "est_reg_2 = RegionEstimator(geo_data_2, rmse, drop_cols=['id'], metric_name='RMSE')\n",
    "est_reg_2.train_test_split()\n",
    "est_reg_2.fit()\n",
    "est_reg_2.get_predictions()\n",
    "est_reg_2.get_scores()\n",
    "est_reg_2.summary\n",
    "ax = sns.histplot(est_reg_2.predictions.test)\n",
    "sing_plot(ax, **overview_sign)"
   ]
  },
  {
   "cell_type": "markdown",
   "metadata": {},
   "source": [
    "**Выводы**"
   ]
  },
  {
   "cell_type": "markdown",
   "metadata": {},
   "source": [
    "Показатели моделей по регионам на тестовой выборке:\n",
    "\n",
    "Регион|1|2|3\n",
    "---|---|---|---\n",
    "0|37.58|92.59|92.08\n",
    "1|0.89|68.73|68.72\n",
    "2|40.03|94.97|94.88\n",
    "\n",
    "1. RMSE\n",
    "2. Cредний запас предсказанного сырья\n",
    "3. Cредний запас сырья\n",
    "\n",
    "- Значение RMSE можно понимать как некий показатель разброса ошибок модели в тысячах баррелей. Т.е. насколько примерно тысяч баррелей модель может ошибаться. В этом смысле лучшая модель определена в регионе 1.\n",
    "- Средние значения целевого признака и предсказаний практически одинаковы. Типичного представителя все наши модели умеют определять. \n",
    "- Среднее количество запасов сырья во регионе 1 меньше, чем у остальных примерно на 25 тыс. баррелей.\n",
    "\n",
    "Далее оценим возможную прибыль для каждого региона, чтобы выбрать места для инвестиций."
   ]
  },
  {
   "cell_type": "markdown",
   "metadata": {},
   "source": [
    "## Подготовка к расчёту прибыли"
   ]
  },
  {
   "cell_type": "markdown",
   "metadata": {},
   "source": [
    "Для подготовки к расчетам определим несколько костант из условия"
   ]
  },
  {
   "cell_type": "code",
   "execution_count": 19,
   "metadata": {},
   "outputs": [],
   "source": [
    "BUDGET = 10_000_000 # тыс.руб. Бюджет на разработку\n",
    "UNIT_COST = 450. # тыс.руб. Стоимость одной единицы сырья (тыс. баррелей).\n",
    "WELLS_COUNT = 500 # Количество скважин на рассматрение\n",
    "WELLS_REVIEW = 200 # Количество наболее объемных скважин\n",
    "THRESHOLD_LOWER = .025 # Ограничение вероятности убытков\n",
    "THRESHOLD_HIGHER = .975 # Сверхприбыль"
   ]
  },
  {
   "cell_type": "code",
   "execution_count": 20,
   "metadata": {},
   "outputs": [],
   "source": [
    "STATE = np.random.RandomState(12345)"
   ]
  },
  {
   "cell_type": "code",
   "execution_count": 21,
   "metadata": {},
   "outputs": [],
   "source": [
    "def repr_money(money, label=\"тыс.руб.\"):\n",
    "    money = float(money)\n",
    "    return \"{:,.2f} {}\".format(money, label).strip()"
   ]
  },
  {
   "cell_type": "markdown",
   "metadata": {},
   "source": [
    "Подсчитаем какой минимальный объем нефти должнен быть в каждой скважине чтобы покрыть расходы на их разработку по формуле:\n",
    "$\\mathbf{\\text{Объем скважины}}=\n",
    "\\frac{\\mathbf{\\text{Бюджет}}}\n",
    "{\\mathbf{\\text{Цена за единицу}}\\star\n",
    " \\mathbf{\\text{Количество сырья}}}$"
   ]
  },
  {
   "cell_type": "code",
   "execution_count": 22,
   "metadata": {},
   "outputs": [
    {
     "name": "stdout",
     "output_type": "stream",
     "text": [
      "Достаточный объём сырья для безубыточной разработки новой скважины: 111.11 тыс.баррелей\n"
     ]
    }
   ],
   "source": [
    "print(\n",
    "    \"Достаточный объём сырья для безубыточной разработки новой скважины:\",\n",
    "    repr_money(\n",
    "        BUDGET/(UNIT_COST*WELLS_REVIEW), \n",
    "        label='тыс.баррелей'\n",
    "    )\n",
    ")\n"
   ]
  },
  {
   "cell_type": "markdown",
   "metadata": {},
   "source": [
    "**Выводы**"
   ]
  },
  {
   "cell_type": "markdown",
   "metadata": {},
   "source": [
    "Достаточный объём сырья для безубыточной разработки новой скважины: 111.11 тыс.баррелей. Что превышает все средние объемы скважин по регионам. Но в жизни скважины разные, и маленького и большого объема. Попробуем оценить возможную прибыль по регионам."
   ]
  },
  {
   "cell_type": "markdown",
   "metadata": {},
   "source": [
    "## Расчёт прибыли и рисков "
   ]
  },
  {
   "cell_type": "markdown",
   "metadata": {},
   "source": [
    "<img src=\"https://invest4all.ru/wp-content/uploads/2016/08/srubit-babok.jpg\" width=\"200\"/>\n",
    "\n",
    "С помощью техники BootStrap построим выборку случайных прибылей. Действовать будем так: \n",
    "- Опишем функцию для расчета прибыли по 200 наиболее объемным скважинам на основе предсказаний моделей.\n",
    "- Опишем функцию генерации 1000 выборок в 500 скважин из прогнозов моделей на тестовых данных и реальных показателей объемов запасов тех же скважин. Таким образом, мы искусственно создадим ситуацию, как если бы у нас были незнакомые ранее данные, на которых мы бы строили прогнозы, но, при этом, у нас есть реальные данные, по которым мы можем оценить качество модели и дать рекомендации для выбора региона.\n",
    "- Для каждой выборки в 500 скважин подсчитаем прибыль с 200 лучших скважин отобранных на основе предсказаний по формуле: \n",
    "$\\mathbf{\\text{Прибыль}}=\n",
    "\\mathbf{\\text{Цена за единицу}}*\\\n",
    "{\\mathbf{\\text{Количество сырья}}-\\\n",
    " \\mathbf{\\text{Бюджет}}}$\n",
    "- Для полученных прибылей (1000 штук) оценим среднее, построим доверительный интервал для среднего и оценим минимум сырья, относительно которого прибыль может быть ниже с вероятностью 2.5% (2.5%-процентиль).\n",
    "- Среднее значение по выборке прибылей - это оценка прибыли в среднем. Это значит, что реальность еще может быть опасней или полезней.\n",
    "- Доверительный интервал укажет оценку значений между которыми с вероятностью 95% будет находится прибыль в среднем.\n",
    "- 2.5%-процентиль даст оценку нижней границы прибыли, меньше которой маловероятно упасть. Если значение будет отрицательным - значит есть шансы на убытки, а если положительным - скорее всего заработаем. "
   ]
  },
  {
   "cell_type": "code",
   "execution_count": 23,
   "metadata": {},
   "outputs": [],
   "source": [
    "def get_revenue(predictions, target, unit_cost=UNIT_COST, count=WELLS_REVIEW, budget=BUDGET):\n",
    "    global resources\n",
    "    best_wells_pred = predictions.sort_values(ascending=False)#.iloc[:count]\n",
    "    best_wells_true = target.loc[best_wells_pred.index][:count]\n",
    "    \n",
    "    revenue = unit_cost * best_wells_true.sum() - budget\n",
    "\n",
    "    return np.round(revenue, decimals=2)"
   ]
  },
  {
   "cell_type": "code",
   "execution_count": 24,
   "metadata": {},
   "outputs": [],
   "source": [
    "def bootstrap(predictions, target, state=STATE, n_samples=1000, n_count=WELLS_COUNT):\n",
    "    values = []\n",
    "    for _ in range(n_samples):\n",
    "        \n",
    "        subtarget = target.sample(n=n_count, random_state=state)\n",
    "        subpreds = predictions.loc[subtarget.index]\n",
    "        \n",
    "        values.append(\n",
    "            get_revenue(subpreds, subtarget)\n",
    "        )\n",
    "        \n",
    "    return pd.Series(values)"
   ]
  },
  {
   "cell_type": "code",
   "execution_count": 25,
   "metadata": {},
   "outputs": [],
   "source": [
    "def get_risk(revenues):\n",
    "    risks = sum(1 for money in revenues if money < 0)\n",
    "    return risks/len(revenues)"
   ]
  },
  {
   "cell_type": "code",
   "execution_count": 26,
   "metadata": {},
   "outputs": [],
   "source": [
    "def draw_lines(ax, mean, true_conf_int, pred_conf_int):\n",
    "    # Еще формат xticks поправим по дороге\n",
    "    ax.xaxis.set_major_formatter(mpl.ticker.FuncFormatter(lambda x, pos: '{:,.0f} МЛН.'.format(x//1e3)))\n",
    "\n",
    "    ax.axvline(x=mean, color='darkgreen', label='Средняя выручка', linewidth=4)\n",
    "\n",
    "    ax.axvline(x=true_conf_int[0], color='red', label='ДИ средней выручки')\n",
    "    ax.axvline(x=true_conf_int[1], color='red')\n",
    "\n",
    "    ax.axvline(x=pred_conf_int[0], color='darkorange', label='ДИ прогноза')\n",
    "    ax.axvline(x=pred_conf_int[1], color='darkorange')\n",
    "    ax.legend(bbox_to_anchor=(1.05, 1), loc='upper left')"
   ]
  },
  {
   "cell_type": "code",
   "execution_count": 27,
   "metadata": {},
   "outputs": [],
   "source": [
    "revenue_sign={\n",
    "    'title' : \"Гистограмма выручек BootStrap\",\n",
    "    'xlabel': \"Выручка\",\n",
    "    'ylabel': \"Количество испытаний\"\n",
    "}"
   ]
  },
  {
   "cell_type": "code",
   "execution_count": 28,
   "metadata": {},
   "outputs": [
    {
     "name": "stdout",
     "output_type": "stream",
     "text": [
      "                                    Регион 0                                    \n",
      "Средняя выручка: 380,758.57 тыс.руб.\n",
      "95% доверительный интервал для средней выручки: (364,674.58; 396,842.57) тыс.руб.\n",
      "95-% интервал прогноза: (-126,947.64; 879,613.97) тыс.руб.\n",
      "Процент рисков: 7.20%\n"
     ]
    },
    {
     "data": {
      "image/png": "[encoded data removed]",
      "text/plain": [
       "<Figure size 1080x576 with 1 Axes>"
      ]
     },
     "metadata": {},
     "output_type": "display_data"
    }
   ],
   "source": [
    "print(\"{: ^80}\".format(\"Регион 0\"))\n",
    "resources = []\n",
    "revenues_0 = bootstrap(est_reg_0.predictions.test, est_reg_0.y.test)\n",
    "true_confidence_interval_0 = st.t.interval(.95, len(revenues_0)-1, revenues_0.mean(), revenues_0.sem())\n",
    "pred_confidence_interval_0 = (revenues_0.quantile(THRESHOLD_LOWER), revenues_0.quantile(THRESHOLD_HIGHER))\n",
    "\n",
    "plt.figure(figsize=(15,8))\n",
    "ax = sns.histplot(data=revenues_0)\n",
    "sing_plot(ax, **revenue_sign)\n",
    "draw_lines(ax, revenues_0.mean(), true_confidence_interval_0, pred_confidence_interval_0)\n",
    "\n",
    "print(\"Средняя выручка:\", repr_money(revenues_0.mean()))\n",
    "print(\n",
    "    \"95% доверительный интервал для средней выручки:\", \n",
    "    \"({:,.2f}; {:,.2f}) тыс.руб.\".format(*true_confidence_interval_0)\n",
    ")\n",
    "print(\"95-% интервал прогноза:\", \n",
    "      \"({:,.2f}; {:,.2f}) тыс.руб.\".format(*pred_confidence_interval_0))\n",
    "print(\"Процент рисков: {:.2%}\".format(get_risk(revenues_0)))"
   ]
  },
  {
   "cell_type": "code",
   "execution_count": 29,
   "metadata": {},
   "outputs": [
    {
     "name": "stdout",
     "output_type": "stream",
     "text": [
      "                                    Регион 1                                    \n",
      "Средняя выручка: 454,785.43 тыс.руб.\n",
      "95% доверительный интервал для средней выручки: (441,979.24; 467,591.63) тыс.руб.\n",
      "95-% интервал прогноза: (46,730.08; 840,213.35) тыс.руб.\n",
      "Процент рисков: 1.30%\n"
     ]
    },
    {
     "data": {
      "image/png": "[encoded data removed]",
      "text/plain": [
       "<Figure size 1080x576 with 1 Axes>"
      ]
     },
     "metadata": {},
     "output_type": "display_data"
    }
   ],
   "source": [
    "print(\"{: ^80}\".format(\"Регион 1\"))\n",
    "revenues_1 = bootstrap(est_reg_1.predictions.test, est_reg_1.y.test)\n",
    "true_confidence_interval_1 = st.t.interval(.95, len(revenues_1)-1, revenues_1.mean(), revenues_1.sem())\n",
    "pred_confidence_interval_1 = (revenues_1.quantile(THRESHOLD_LOWER), revenues_1.quantile(THRESHOLD_HIGHER))\n",
    "\n",
    "plt.figure(figsize=(15,8))\n",
    "ax = sns.histplot(revenues_1)\n",
    "sing_plot(ax, **revenue_sign)\n",
    "draw_lines(ax, revenues_1.mean(), true_confidence_interval_1, pred_confidence_interval_1)\n",
    "\n",
    "print(\"Средняя выручка:\", repr_money(revenues_1.mean()))\n",
    "print(\n",
    "    \"95% доверительный интервал для средней выручки:\", \n",
    "    \"({:,.2f}; {:,.2f}) тыс.руб.\".format(*true_confidence_interval_1)\n",
    ")\n",
    "print(\"95-% интервал прогноза:\", \n",
    "      \"({:,.2f}; {:,.2f}) тыс.руб.\".format(*pred_confidence_interval_1))\n",
    "print(\"Процент рисков: {:.2%}\".format(get_risk(revenues_1)))"
   ]
  },
  {
   "cell_type": "code",
   "execution_count": 30,
   "metadata": {},
   "outputs": [
    {
     "name": "stdout",
     "output_type": "stream",
     "text": [
      "                                    Регион 2                                    \n",
      "Средняя выручка: 389,217.07 тыс.руб.\n",
      "95% доверительный интервал для средней выручки: (372,857.73; 405,576.42) тыс.руб.\n",
      "95-% интервал прогноза: (-115,609.57; 906,512.59) тыс.руб.\n",
      "Процент рисков: 7.30%\n"
     ]
    },
    {
     "data": {
      "image/png": "[encoded data removed]",
      "text/plain": [
       "<Figure size 1080x576 with 1 Axes>"
      ]
     },
     "metadata": {},
     "output_type": "display_data"
    }
   ],
   "source": [
    "print(\"{: ^80}\".format(\"Регион 2\"))\n",
    "revenues_2 = bootstrap(est_reg_2.predictions.test, est_reg_2.y.test)\n",
    "true_confidence_interval_2 = st.t.interval(.95, len(revenues_2)-1, revenues_2.mean(), revenues_2.sem())\n",
    "pred_confidence_interval_2 = (revenues_2.quantile(THRESHOLD_LOWER), revenues_2.quantile(THRESHOLD_HIGHER))\n",
    "\n",
    "plt.figure(figsize=(15,8))\n",
    "ax = sns.histplot(revenues_2)\n",
    "sing_plot(ax, **revenue_sign)\n",
    "draw_lines(ax, revenues_2.mean(), true_confidence_interval_2, pred_confidence_interval_2)\n",
    "\n",
    "print(\"Средняя выручка:\", repr_money(revenues_2.mean()))\n",
    "print(\n",
    "    \"95% доверительный интервал для средней выручки:\", \n",
    "    \"({:,.2f}; {:,.2f}) тыс.руб.\".format(*true_confidence_interval_2)\n",
    ")\n",
    "print(\"95-% интервал прогноза:\", \n",
    "      \"({:,.2f}; {:,.2f}) тыс.руб.\".format(*pred_confidence_interval_2))\n",
    "print(\"Процент рисков: {:.2%}\".format(get_risk(revenues_2)))"
   ]
  },
  {
   "cell_type": "markdown",
   "metadata": {},
   "source": [
    "**Выводы**"
   ]
  },
  {
   "cell_type": "markdown",
   "metadata": {},
   "source": [
    "Подведем итоги. Данные в таблице представлены в тыс.руб., запятой разделены разряды, точкой - дробная часть:\n",
    "\n",
    "Регион|Средняя прибыль|ДИ средней прибыли|ДИ прогноза прибыли|Процент рисков\n",
    "---|---|---|---|---\n",
    "0|380,710.89|(364,624.70; 396,797.08)|(-126,947.64; 879,613.97)|7.20%\n",
    "1|454,785.43|(441,979.24; 467,591.63)|(46,730.08; 840,213.35)|1.30%\n",
    "2|389,217.07|(372,857.73; 405,576.42)|(-115,609.57; 906,512.59)|7.30%\n",
    "\n",
    "Хотя регион 1 имел наименьший средний объем сырья, именно его я рекомендую для разработки скважин. У него самый высокий показатель средней прибыли, которая с вероятностью 95% будет примерно в указанном интервале, а меньше оценки нижней граници прибыль может упасть с вероятность 2.5%. Т.е. если инвестировать в этот регион минимум заработаем примерно 46.731 млн. рублей а в среднем примерно пол-ярда. И вот в этом месте важно помнить, что \"все бывает в этой жизни\". В том числе и максимальная прибыль примерно 840 млн.руб. Риски убытков в этом регионе тоже наименьшие.\n"
   ]
  }
 ],
 "metadata": {
  "ExecuteTimeLog": [
   {
    "duration": 724,
    "start_time": "2021-07-19T09:47:25.243Z"
   },
   {
    "duration": 178,
    "start_time": "2021-07-19T09:47:51.535Z"
   },
   {
    "duration": 157,
    "start_time": "2021-07-19T09:47:51.716Z"
   },
   {
    "duration": 157,
    "start_time": "2021-07-19T09:47:51.917Z"
   },
   {
    "duration": 155,
    "start_time": "2021-07-19T09:48:31.742Z"
   },
   {
    "duration": 725,
    "start_time": "2021-07-19T09:50:10.491Z"
   },
   {
    "duration": 155,
    "start_time": "2021-07-19T09:50:11.218Z"
   },
   {
    "duration": 145,
    "start_time": "2021-07-19T09:50:11.376Z"
   },
   {
    "duration": 146,
    "start_time": "2021-07-19T09:50:11.523Z"
   },
   {
    "duration": 3,
    "start_time": "2021-07-19T10:00:35.002Z"
   },
   {
    "duration": 180,
    "start_time": "2021-07-19T10:00:35.189Z"
   },
   {
    "duration": 185,
    "start_time": "2021-07-19T10:00:35.372Z"
   },
   {
    "duration": 167,
    "start_time": "2021-07-19T10:00:36.574Z"
   },
   {
    "duration": 591,
    "start_time": "2021-07-21T16:12:28.086Z"
   },
   {
    "duration": 455,
    "start_time": "2021-07-21T16:12:29.700Z"
   },
   {
    "duration": 485,
    "start_time": "2021-07-21T16:12:44.432Z"
   },
   {
    "duration": 157,
    "start_time": "2021-07-21T16:12:59.694Z"
   },
   {
    "duration": 152,
    "start_time": "2021-07-21T16:13:06.430Z"
   },
   {
    "duration": 149,
    "start_time": "2021-07-21T16:13:36.592Z"
   },
   {
    "duration": 576,
    "start_time": "2021-07-21T16:29:51.889Z"
   },
   {
    "duration": 442,
    "start_time": "2021-07-21T16:29:52.467Z"
   },
   {
    "duration": 162,
    "start_time": "2021-07-21T16:29:52.913Z"
   },
   {
    "duration": 141,
    "start_time": "2021-07-21T16:29:53.076Z"
   },
   {
    "duration": 152,
    "start_time": "2021-07-21T16:29:53.218Z"
   },
   {
    "duration": 5,
    "start_time": "2021-07-21T16:29:53.371Z"
   },
   {
    "duration": 268,
    "start_time": "2021-07-21T16:29:53.377Z"
   },
   {
    "duration": 3,
    "start_time": "2021-07-21T16:30:55.654Z"
   },
   {
    "duration": 355,
    "start_time": "2021-07-21T16:42:27.636Z"
   },
   {
    "duration": 5,
    "start_time": "2021-07-21T16:42:29.109Z"
   },
   {
    "duration": 402,
    "start_time": "2021-07-21T16:42:29.637Z"
   },
   {
    "duration": 582,
    "start_time": "2021-07-21T16:42:41.973Z"
   },
   {
    "duration": 446,
    "start_time": "2021-07-21T16:42:42.557Z"
   },
   {
    "duration": 158,
    "start_time": "2021-07-21T16:42:43.008Z"
   },
   {
    "duration": 143,
    "start_time": "2021-07-21T16:42:43.168Z"
   },
   {
    "duration": 137,
    "start_time": "2021-07-21T16:42:43.312Z"
   },
   {
    "duration": 6,
    "start_time": "2021-07-21T16:42:43.450Z"
   },
   {
    "duration": 472,
    "start_time": "2021-07-21T16:42:43.457Z"
   },
   {
    "duration": 7990,
    "start_time": "2021-07-21T16:43:27.518Z"
   },
   {
    "duration": 6,
    "start_time": "2021-07-21T16:43:43.828Z"
   },
   {
    "duration": 2384,
    "start_time": "2021-07-21T16:44:05.372Z"
   },
   {
    "duration": 635,
    "start_time": "2021-07-21T16:44:07.758Z"
   },
   {
    "duration": 707,
    "start_time": "2021-07-21T16:44:08.398Z"
   },
   {
    "duration": 170,
    "start_time": "2021-07-21T16:44:09.107Z"
   },
   {
    "duration": 149,
    "start_time": "2021-07-21T16:44:09.278Z"
   },
   {
    "duration": 163,
    "start_time": "2021-07-21T16:44:09.429Z"
   },
   {
    "duration": 9,
    "start_time": "2021-07-21T16:44:09.595Z"
   },
   {
    "duration": 464,
    "start_time": "2021-07-21T16:44:09.607Z"
   },
   {
    "duration": 6,
    "start_time": "2021-07-21T16:45:24.414Z"
   },
   {
    "duration": 362,
    "start_time": "2021-07-21T16:45:25.687Z"
   },
   {
    "duration": 8,
    "start_time": "2021-07-21T16:46:14.595Z"
   },
   {
    "duration": 390,
    "start_time": "2021-07-21T16:46:14.974Z"
   },
   {
    "duration": 6,
    "start_time": "2021-07-21T16:47:05.122Z"
   },
   {
    "duration": 3,
    "start_time": "2021-07-21T16:47:05.479Z"
   },
   {
    "duration": 63,
    "start_time": "2021-07-21T16:48:39.900Z"
   },
   {
    "duration": 362,
    "start_time": "2021-07-21T16:48:40.248Z"
   },
   {
    "duration": 7,
    "start_time": "2021-07-21T16:49:08.774Z"
   },
   {
    "duration": 412,
    "start_time": "2021-07-21T16:49:09.713Z"
   },
   {
    "duration": 6,
    "start_time": "2021-07-21T16:50:08.617Z"
   },
   {
    "duration": 357,
    "start_time": "2021-07-21T16:50:09.130Z"
   },
   {
    "duration": 10,
    "start_time": "2021-07-21T16:50:22.290Z"
   },
   {
    "duration": 4,
    "start_time": "2021-07-21T16:50:22.714Z"
   },
   {
    "duration": 6,
    "start_time": "2021-07-21T16:50:44.518Z"
   },
   {
    "duration": 4,
    "start_time": "2021-07-21T16:50:44.914Z"
   },
   {
    "duration": 1435,
    "start_time": "2021-07-21T16:51:07.342Z"
   },
   {
    "duration": 366,
    "start_time": "2021-07-21T16:51:35.057Z"
   },
   {
    "duration": 13,
    "start_time": "2021-07-21T16:52:06.279Z"
   },
   {
    "duration": 371,
    "start_time": "2021-07-21T16:52:06.764Z"
   },
   {
    "duration": 6,
    "start_time": "2021-07-21T16:53:35.460Z"
   },
   {
    "duration": 28,
    "start_time": "2021-07-21T16:53:35.848Z"
   },
   {
    "duration": 8,
    "start_time": "2021-07-21T16:53:56.042Z"
   },
   {
    "duration": 34,
    "start_time": "2021-07-21T16:53:56.694Z"
   },
   {
    "duration": 425,
    "start_time": "2021-07-21T16:53:59.491Z"
   },
   {
    "duration": 24,
    "start_time": "2021-07-21T16:54:07.607Z"
   },
   {
    "duration": 385,
    "start_time": "2021-07-21T16:54:09.390Z"
   },
   {
    "duration": 6,
    "start_time": "2021-07-21T16:56:34.067Z"
   },
   {
    "duration": 25,
    "start_time": "2021-07-21T16:56:34.506Z"
   },
   {
    "duration": 396,
    "start_time": "2021-07-21T16:56:36.283Z"
   },
   {
    "duration": 6,
    "start_time": "2021-07-21T16:57:49.572Z"
   },
   {
    "duration": 20,
    "start_time": "2021-07-21T16:57:50.478Z"
   },
   {
    "duration": 417,
    "start_time": "2021-07-21T16:57:51.290Z"
   },
   {
    "duration": 12,
    "start_time": "2021-07-21T16:58:03.792Z"
   },
   {
    "duration": 14,
    "start_time": "2021-07-21T16:58:04.610Z"
   },
   {
    "duration": 30,
    "start_time": "2021-07-21T16:58:05.054Z"
   },
   {
    "duration": 2442,
    "start_time": "2021-07-21T16:58:29.997Z"
   },
   {
    "duration": 519,
    "start_time": "2021-07-21T16:58:32.442Z"
   },
   {
    "duration": 702,
    "start_time": "2021-07-21T16:58:32.963Z"
   },
   {
    "duration": 166,
    "start_time": "2021-07-21T16:58:33.667Z"
   },
   {
    "duration": 135,
    "start_time": "2021-07-21T16:58:33.834Z"
   },
   {
    "duration": 144,
    "start_time": "2021-07-21T16:58:33.970Z"
   },
   {
    "duration": 6,
    "start_time": "2021-07-21T16:58:34.115Z"
   },
   {
    "duration": 21,
    "start_time": "2021-07-21T16:58:34.123Z"
   },
   {
    "duration": 56,
    "start_time": "2021-07-21T16:58:34.146Z"
   },
   {
    "duration": 4,
    "start_time": "2021-07-21T16:58:49.800Z"
   },
   {
    "duration": 4,
    "start_time": "2021-07-21T16:59:01.913Z"
   },
   {
    "duration": 3442,
    "start_time": "2021-07-21T19:09:56.072Z"
   },
   {
    "duration": 30653,
    "start_time": "2021-07-21T19:11:30.078Z"
   },
   {
    "duration": 13485,
    "start_time": "2021-07-21T19:12:47.639Z"
   },
   {
    "duration": 36881,
    "start_time": "2021-07-21T19:15:25.006Z"
   },
   {
    "duration": 28297,
    "start_time": "2021-07-21T19:16:17.474Z"
   },
   {
    "duration": 27630,
    "start_time": "2021-07-21T19:17:04.244Z"
   },
   {
    "duration": 6310,
    "start_time": "2021-07-21T19:17:41.255Z"
   },
   {
    "duration": 136,
    "start_time": "2021-07-21T19:18:07.621Z"
   },
   {
    "duration": 350,
    "start_time": "2021-07-21T19:18:36.782Z"
   },
   {
    "duration": 451,
    "start_time": "2021-07-21T19:19:13.752Z"
   },
   {
    "duration": 297,
    "start_time": "2021-07-21T19:20:00.216Z"
   },
   {
    "duration": 294,
    "start_time": "2021-07-21T19:20:17.217Z"
   },
   {
    "duration": 388,
    "start_time": "2021-07-21T19:21:08.803Z"
   },
   {
    "duration": 298,
    "start_time": "2021-07-21T19:21:41.302Z"
   },
   {
    "duration": 7,
    "start_time": "2021-07-21T19:21:46.012Z"
   },
   {
    "duration": 6,
    "start_time": "2021-07-21T19:29:22.369Z"
   },
   {
    "duration": 19,
    "start_time": "2021-07-21T19:29:22.906Z"
   },
   {
    "duration": 357,
    "start_time": "2021-07-21T19:29:24.829Z"
   },
   {
    "duration": 7,
    "start_time": "2021-07-21T19:29:48.508Z"
   },
   {
    "duration": 18,
    "start_time": "2021-07-21T19:29:48.635Z"
   },
   {
    "duration": 28,
    "start_time": "2021-07-21T19:29:48.764Z"
   },
   {
    "duration": 5,
    "start_time": "2021-07-21T19:29:54.508Z"
   },
   {
    "duration": 4,
    "start_time": "2021-07-21T19:30:07.195Z"
   },
   {
    "duration": 6,
    "start_time": "2021-07-21T19:32:10.333Z"
   },
   {
    "duration": 17,
    "start_time": "2021-07-21T19:32:10.490Z"
   },
   {
    "duration": 498,
    "start_time": "2021-07-21T19:32:10.633Z"
   },
   {
    "duration": 3,
    "start_time": "2021-07-21T19:32:42.437Z"
   },
   {
    "duration": 8,
    "start_time": "2021-07-21T19:44:02.173Z"
   },
   {
    "duration": 17,
    "start_time": "2021-07-21T19:44:02.533Z"
   },
   {
    "duration": 424,
    "start_time": "2021-07-21T19:44:02.701Z"
   },
   {
    "duration": 8,
    "start_time": "2021-07-21T19:44:36.679Z"
   },
   {
    "duration": 19,
    "start_time": "2021-07-21T19:44:37.605Z"
   },
   {
    "duration": 28,
    "start_time": "2021-07-21T19:44:37.756Z"
   },
   {
    "duration": 3,
    "start_time": "2021-07-21T19:44:40.413Z"
   },
   {
    "duration": 3,
    "start_time": "2021-07-21T19:44:41.804Z"
   },
   {
    "duration": 8,
    "start_time": "2021-07-21T19:45:08.172Z"
   },
   {
    "duration": 16,
    "start_time": "2021-07-21T19:45:08.599Z"
   },
   {
    "duration": 25,
    "start_time": "2021-07-21T19:45:08.778Z"
   },
   {
    "duration": 179,
    "start_time": "2021-07-21T19:45:08.985Z"
   },
   {
    "duration": -78,
    "start_time": "2021-07-21T19:45:09.244Z"
   },
   {
    "duration": 4,
    "start_time": "2021-07-21T19:45:15.115Z"
   },
   {
    "duration": 4,
    "start_time": "2021-07-21T19:45:20.596Z"
   },
   {
    "duration": 8,
    "start_time": "2021-07-21T19:45:51.141Z"
   },
   {
    "duration": 17,
    "start_time": "2021-07-21T19:45:51.432Z"
   },
   {
    "duration": 98,
    "start_time": "2021-07-21T19:45:51.488Z"
   },
   {
    "duration": 4,
    "start_time": "2021-07-21T19:45:51.686Z"
   },
   {
    "duration": 4,
    "start_time": "2021-07-21T19:45:51.843Z"
   },
   {
    "duration": 306,
    "start_time": "2021-07-21T19:50:21.759Z"
   },
   {
    "duration": 309,
    "start_time": "2021-07-21T19:50:43.342Z"
   },
   {
    "duration": 315,
    "start_time": "2021-07-21T19:50:46.696Z"
   },
   {
    "duration": 2,
    "start_time": "2021-07-21T19:51:12.953Z"
   },
   {
    "duration": 129,
    "start_time": "2021-07-21T19:51:24.257Z"
   },
   {
    "duration": 67,
    "start_time": "2021-07-21T19:51:41.919Z"
   },
   {
    "duration": 280,
    "start_time": "2021-07-21T20:01:05.596Z"
   },
   {
    "duration": 96,
    "start_time": "2021-07-21T20:01:10.120Z"
   },
   {
    "duration": 285,
    "start_time": "2021-07-21T20:01:10.565Z"
   },
   {
    "duration": 10,
    "start_time": "2021-07-21T20:01:17.643Z"
   },
   {
    "duration": 235,
    "start_time": "2021-07-21T20:01:18.616Z"
   },
   {
    "duration": 9,
    "start_time": "2021-07-21T20:01:35.487Z"
   },
   {
    "duration": 492,
    "start_time": "2021-07-21T20:01:35.843Z"
   },
   {
    "duration": 10,
    "start_time": "2021-07-21T20:02:01.909Z"
   },
   {
    "duration": 47,
    "start_time": "2021-07-21T20:02:03.639Z"
   },
   {
    "duration": 10,
    "start_time": "2021-07-21T20:02:22.477Z"
   },
   {
    "duration": 85,
    "start_time": "2021-07-21T20:02:22.905Z"
   },
   {
    "duration": 9,
    "start_time": "2021-07-21T20:02:35.517Z"
   },
   {
    "duration": 110,
    "start_time": "2021-07-21T20:02:36.081Z"
   },
   {
    "duration": 88,
    "start_time": "2021-07-21T20:20:53.302Z"
   },
   {
    "duration": 51,
    "start_time": "2021-07-21T20:20:55.035Z"
   },
   {
    "duration": 2753,
    "start_time": "2021-07-21T20:39:25.781Z"
   },
   {
    "duration": 445,
    "start_time": "2021-07-21T20:39:28.536Z"
   },
   {
    "duration": 666,
    "start_time": "2021-07-21T20:39:28.984Z"
   },
   {
    "duration": 245,
    "start_time": "2021-07-21T20:39:29.652Z"
   },
   {
    "duration": 158,
    "start_time": "2021-07-21T20:39:29.899Z"
   },
   {
    "duration": 358,
    "start_time": "2021-07-21T20:39:30.059Z"
   },
   {
    "duration": 134,
    "start_time": "2021-07-21T20:39:30.419Z"
   },
   {
    "duration": 345,
    "start_time": "2021-07-21T20:39:30.555Z"
   },
   {
    "duration": 132,
    "start_time": "2021-07-21T20:39:30.901Z"
   },
   {
    "duration": 378,
    "start_time": "2021-07-21T20:39:31.035Z"
   },
   {
    "duration": 10,
    "start_time": "2021-07-21T20:39:31.415Z"
   },
   {
    "duration": 68,
    "start_time": "2021-07-21T20:39:31.426Z"
   },
   {
    "duration": 199,
    "start_time": "2021-07-21T20:39:31.587Z"
   },
   {
    "duration": 197,
    "start_time": "2021-07-21T20:39:31.789Z"
   },
   {
    "duration": 268,
    "start_time": "2021-07-21T20:40:39.298Z"
   },
   {
    "duration": 302,
    "start_time": "2021-07-21T20:40:47.379Z"
   },
   {
    "duration": 397,
    "start_time": "2021-07-21T20:41:22.611Z"
   },
   {
    "duration": 389,
    "start_time": "2021-07-21T20:42:13.358Z"
   },
   {
    "duration": 399,
    "start_time": "2021-07-21T20:42:24.735Z"
   },
   {
    "duration": 365,
    "start_time": "2021-07-21T20:42:54.838Z"
   },
   {
    "duration": 458,
    "start_time": "2021-07-21T20:43:22.014Z"
   },
   {
    "duration": 212,
    "start_time": "2021-07-21T20:43:38.781Z"
   },
   {
    "duration": 135,
    "start_time": "2021-07-21T20:43:47.761Z"
   },
   {
    "duration": 220,
    "start_time": "2021-07-21T20:44:03.446Z"
   },
   {
    "duration": 129,
    "start_time": "2021-07-21T20:44:05.606Z"
   },
   {
    "duration": 177,
    "start_time": "2021-07-21T20:46:19.674Z"
   },
   {
    "duration": 10,
    "start_time": "2021-07-21T20:46:23.333Z"
   },
   {
    "duration": 56,
    "start_time": "2021-07-21T20:46:23.833Z"
   },
   {
    "duration": 475,
    "start_time": "2021-07-21T20:46:24.001Z"
   },
   {
    "duration": 10,
    "start_time": "2021-07-21T20:48:41.450Z"
   },
   {
    "duration": 51,
    "start_time": "2021-07-21T20:48:42.538Z"
   },
   {
    "duration": 345,
    "start_time": "2021-07-21T20:48:56.346Z"
   },
   {
    "duration": 10,
    "start_time": "2021-07-21T20:49:06.391Z"
   },
   {
    "duration": 34,
    "start_time": "2021-07-21T20:49:06.854Z"
   },
   {
    "duration": 101,
    "start_time": "2021-07-21T20:49:07.485Z"
   },
   {
    "duration": 965,
    "start_time": "2021-07-21T20:49:08.346Z"
   },
   {
    "duration": 11,
    "start_time": "2021-07-21T20:49:55.345Z"
   },
   {
    "duration": 367,
    "start_time": "2021-07-21T20:49:56.982Z"
   },
   {
    "duration": 68,
    "start_time": "2021-07-21T20:49:58.921Z"
   },
   {
    "duration": 367,
    "start_time": "2021-07-21T20:49:59.165Z"
   },
   {
    "duration": 10,
    "start_time": "2021-07-21T20:50:35.799Z"
   },
   {
    "duration": 375,
    "start_time": "2021-07-21T20:50:38.348Z"
   },
   {
    "duration": 36,
    "start_time": "2021-07-21T20:50:41.058Z"
   },
   {
    "duration": 3,
    "start_time": "2021-07-21T20:50:41.983Z"
   },
   {
    "duration": 10,
    "start_time": "2021-07-21T20:50:55.748Z"
   },
   {
    "duration": 86,
    "start_time": "2021-07-21T20:50:55.906Z"
   },
   {
    "duration": 13,
    "start_time": "2021-07-21T20:50:56.086Z"
   },
   {
    "duration": 11,
    "start_time": "2021-07-21T20:52:34.174Z"
   },
   {
    "duration": 123,
    "start_time": "2021-07-21T20:52:34.762Z"
   },
   {
    "duration": 501,
    "start_time": "2021-07-21T20:52:34.985Z"
   },
   {
    "duration": 10,
    "start_time": "2021-07-21T20:53:16.593Z"
   },
   {
    "duration": 62,
    "start_time": "2021-07-21T20:53:17.126Z"
   },
   {
    "duration": 589,
    "start_time": "2021-07-21T20:53:17.767Z"
   },
   {
    "duration": 14,
    "start_time": "2021-07-21T20:54:38.284Z"
   },
   {
    "duration": 66,
    "start_time": "2021-07-21T20:54:38.426Z"
   },
   {
    "duration": 93,
    "start_time": "2021-07-21T20:54:38.594Z"
   },
   {
    "duration": 193,
    "start_time": "2021-07-21T20:58:25.081Z"
   },
   {
    "duration": 177,
    "start_time": "2021-07-21T20:58:36.833Z"
   },
   {
    "duration": 2664,
    "start_time": "2021-07-21T20:58:48.630Z"
   },
   {
    "duration": 477,
    "start_time": "2021-07-21T20:58:51.296Z"
   },
   {
    "duration": 639,
    "start_time": "2021-07-21T20:58:51.775Z"
   },
   {
    "duration": 236,
    "start_time": "2021-07-21T20:58:52.416Z"
   },
   {
    "duration": 154,
    "start_time": "2021-07-21T20:58:52.654Z"
   },
   {
    "duration": 325,
    "start_time": "2021-07-21T20:58:52.810Z"
   },
   {
    "duration": 140,
    "start_time": "2021-07-21T20:58:53.137Z"
   },
   {
    "duration": 324,
    "start_time": "2021-07-21T20:58:53.279Z"
   },
   {
    "duration": 132,
    "start_time": "2021-07-21T20:58:53.605Z"
   },
   {
    "duration": 381,
    "start_time": "2021-07-21T20:58:53.739Z"
   },
   {
    "duration": 13,
    "start_time": "2021-07-21T20:58:54.122Z"
   },
   {
    "duration": 148,
    "start_time": "2021-07-21T20:58:54.137Z"
   },
   {
    "duration": 98,
    "start_time": "2021-07-21T20:58:54.288Z"
   },
   {
    "duration": 371,
    "start_time": "2021-07-21T20:58:54.388Z"
   },
   {
    "duration": 49,
    "start_time": "2021-07-21T20:58:54.760Z"
   },
   {
    "duration": 317,
    "start_time": "2021-07-21T20:58:54.886Z"
   },
   {
    "duration": -57,
    "start_time": "2021-07-21T20:58:55.262Z"
   },
   {
    "duration": -59,
    "start_time": "2021-07-21T20:58:55.265Z"
   },
   {
    "duration": 273,
    "start_time": "2021-07-21T20:59:05.633Z"
   },
   {
    "duration": 11,
    "start_time": "2021-07-21T20:59:37.707Z"
   },
   {
    "duration": 41,
    "start_time": "2021-07-21T21:00:11.846Z"
   },
   {
    "duration": 422,
    "start_time": "2021-07-21T21:00:12.165Z"
   },
   {
    "duration": 2677,
    "start_time": "2021-07-22T07:19:55.049Z"
   },
   {
    "duration": 446,
    "start_time": "2021-07-22T07:19:57.728Z"
   },
   {
    "duration": 2390,
    "start_time": "2021-07-22T07:19:58.176Z"
   },
   {
    "duration": 271,
    "start_time": "2021-07-22T07:20:00.568Z"
   },
   {
    "duration": 510,
    "start_time": "2021-07-22T07:20:00.841Z"
   },
   {
    "duration": 496,
    "start_time": "2021-07-22T07:20:01.353Z"
   },
   {
    "duration": 543,
    "start_time": "2021-07-22T07:20:01.851Z"
   },
   {
    "duration": 10,
    "start_time": "2021-07-22T07:20:02.396Z"
   },
   {
    "duration": 85,
    "start_time": "2021-07-22T07:20:02.408Z"
   },
   {
    "duration": 12,
    "start_time": "2021-07-22T07:20:02.585Z"
   },
   {
    "duration": 371,
    "start_time": "2021-07-22T07:20:02.599Z"
   },
   {
    "duration": 114,
    "start_time": "2021-07-22T07:20:02.972Z"
   },
   {
    "duration": 97,
    "start_time": "2021-07-22T07:20:03.089Z"
   },
   {
    "duration": 290,
    "start_time": "2021-07-22T07:20:03.188Z"
   },
   {
    "duration": 206,
    "start_time": "2021-07-22T07:20:03.480Z"
   },
   {
    "duration": 503,
    "start_time": "2021-07-22T07:20:03.690Z"
   },
   {
    "duration": 419,
    "start_time": "2021-07-22T07:21:36.397Z"
   },
   {
    "duration": 2789,
    "start_time": "2021-07-22T07:27:52.615Z"
   },
   {
    "duration": 489,
    "start_time": "2021-07-22T07:27:55.406Z"
   },
   {
    "duration": 695,
    "start_time": "2021-07-22T07:27:55.900Z"
   },
   {
    "duration": 238,
    "start_time": "2021-07-22T07:27:56.596Z"
   },
   {
    "duration": 503,
    "start_time": "2021-07-22T07:27:56.836Z"
   },
   {
    "duration": 495,
    "start_time": "2021-07-22T07:27:57.341Z"
   },
   {
    "duration": 504,
    "start_time": "2021-07-22T07:27:57.838Z"
   },
   {
    "duration": 69,
    "start_time": "2021-07-22T07:27:58.344Z"
   },
   {
    "duration": 21822,
    "start_time": "2021-07-22T07:27:36.593Z"
   },
   {
    "duration": 21822,
    "start_time": "2021-07-22T07:27:36.594Z"
   },
   {
    "duration": 21822,
    "start_time": "2021-07-22T07:27:36.595Z"
   },
   {
    "duration": 21822,
    "start_time": "2021-07-22T07:27:36.596Z"
   },
   {
    "duration": 21822,
    "start_time": "2021-07-22T07:27:36.597Z"
   },
   {
    "duration": 21821,
    "start_time": "2021-07-22T07:27:36.599Z"
   },
   {
    "duration": 21821,
    "start_time": "2021-07-22T07:27:36.600Z"
   },
   {
    "duration": 21821,
    "start_time": "2021-07-22T07:27:36.601Z"
   },
   {
    "duration": 10,
    "start_time": "2021-07-22T07:28:08.172Z"
   },
   {
    "duration": 91,
    "start_time": "2021-07-22T07:28:09.097Z"
   },
   {
    "duration": 12,
    "start_time": "2021-07-22T07:28:09.294Z"
   },
   {
    "duration": 357,
    "start_time": "2021-07-22T07:28:09.495Z"
   },
   {
    "duration": 37,
    "start_time": "2021-07-22T07:28:10.149Z"
   },
   {
    "duration": 11,
    "start_time": "2021-07-22T07:28:10.702Z"
   },
   {
    "duration": 432,
    "start_time": "2021-07-22T07:28:11.280Z"
   },
   {
    "duration": 55,
    "start_time": "2021-07-22T07:28:12.231Z"
   },
   {
    "duration": 399,
    "start_time": "2021-07-22T07:28:12.654Z"
   },
   {
    "duration": 4,
    "start_time": "2021-07-22T07:28:31.104Z"
   },
   {
    "duration": 4,
    "start_time": "2021-07-22T07:28:37.400Z"
   },
   {
    "duration": 525,
    "start_time": "2021-07-22T07:29:16.015Z"
   },
   {
    "duration": 623,
    "start_time": "2021-07-22T07:29:29.715Z"
   },
   {
    "duration": 516,
    "start_time": "2021-07-22T07:29:38.778Z"
   },
   {
    "duration": 528,
    "start_time": "2021-07-22T07:29:49.344Z"
   },
   {
    "duration": 431,
    "start_time": "2021-07-22T07:30:00.796Z"
   },
   {
    "duration": 6,
    "start_time": "2021-07-22T07:30:19.396Z"
   },
   {
    "duration": 5,
    "start_time": "2021-07-22T07:30:25.667Z"
   },
   {
    "duration": 30,
    "start_time": "2021-07-22T07:31:45.230Z"
   },
   {
    "duration": 4,
    "start_time": "2021-07-22T07:31:48.842Z"
   },
   {
    "duration": 458,
    "start_time": "2021-07-22T07:31:49.771Z"
   },
   {
    "duration": 28,
    "start_time": "2021-07-22T07:32:08.766Z"
   },
   {
    "duration": 78,
    "start_time": "2021-07-22T07:32:48.610Z"
   },
   {
    "duration": 104,
    "start_time": "2021-07-22T07:32:56.686Z"
   },
   {
    "duration": 51,
    "start_time": "2021-07-22T07:32:59.135Z"
   },
   {
    "duration": 40,
    "start_time": "2021-07-22T07:33:21.446Z"
   },
   {
    "duration": 29,
    "start_time": "2021-07-22T07:33:25.595Z"
   },
   {
    "duration": 73,
    "start_time": "2021-07-22T07:33:30.614Z"
   },
   {
    "duration": 27,
    "start_time": "2021-07-22T07:33:35.346Z"
   },
   {
    "duration": 92,
    "start_time": "2021-07-22T07:33:47.894Z"
   },
   {
    "duration": 100,
    "start_time": "2021-07-22T07:33:50.990Z"
   },
   {
    "duration": 57,
    "start_time": "2021-07-22T07:34:09.830Z"
   },
   {
    "duration": 34,
    "start_time": "2021-07-22T07:34:15.959Z"
   },
   {
    "duration": 48,
    "start_time": "2021-07-22T07:34:17.839Z"
   },
   {
    "duration": 111,
    "start_time": "2021-07-22T07:34:20.479Z"
   },
   {
    "duration": 90,
    "start_time": "2021-07-22T07:34:25.001Z"
   },
   {
    "duration": 113,
    "start_time": "2021-07-22T07:34:33.272Z"
   },
   {
    "duration": 108,
    "start_time": "2021-07-22T07:34:38.977Z"
   },
   {
    "duration": 96,
    "start_time": "2021-07-22T07:34:41.593Z"
   },
   {
    "duration": 41,
    "start_time": "2021-07-22T07:34:46.055Z"
   },
   {
    "duration": 94,
    "start_time": "2021-07-22T07:34:54.592Z"
   },
   {
    "duration": 344,
    "start_time": "2021-07-22T07:35:14.641Z"
   },
   {
    "duration": 466,
    "start_time": "2021-07-22T07:36:20.820Z"
   },
   {
    "duration": 329,
    "start_time": "2021-07-22T07:37:08.827Z"
   },
   {
    "duration": 332,
    "start_time": "2021-07-22T07:38:05.640Z"
   },
   {
    "duration": 324,
    "start_time": "2021-07-22T07:38:12.109Z"
   },
   {
    "duration": 423,
    "start_time": "2021-07-22T07:38:55.511Z"
   },
   {
    "duration": 419,
    "start_time": "2021-07-22T07:40:03.940Z"
   },
   {
    "duration": 349,
    "start_time": "2021-07-22T07:40:07.317Z"
   },
   {
    "duration": 2858,
    "start_time": "2021-07-22T08:49:28.009Z"
   },
   {
    "duration": 511,
    "start_time": "2021-07-22T08:49:30.869Z"
   },
   {
    "duration": 745,
    "start_time": "2021-07-22T08:49:31.382Z"
   },
   {
    "duration": 244,
    "start_time": "2021-07-22T08:49:32.129Z"
   },
   {
    "duration": 498,
    "start_time": "2021-07-22T08:49:32.375Z"
   },
   {
    "duration": 476,
    "start_time": "2021-07-22T08:49:32.875Z"
   },
   {
    "duration": 565,
    "start_time": "2021-07-22T08:49:33.352Z"
   },
   {
    "duration": 12,
    "start_time": "2021-07-22T08:49:33.919Z"
   },
   {
    "duration": 37,
    "start_time": "2021-07-22T08:49:33.933Z"
   },
   {
    "duration": 4,
    "start_time": "2021-07-22T08:50:57.061Z"
   },
   {
    "duration": 3,
    "start_time": "2021-07-22T08:54:25.312Z"
   },
   {
    "duration": 3,
    "start_time": "2021-07-22T08:56:22.261Z"
   },
   {
    "duration": 3,
    "start_time": "2021-07-22T09:15:13.431Z"
   },
   {
    "duration": 3,
    "start_time": "2021-07-22T09:15:34.470Z"
   },
   {
    "duration": 4,
    "start_time": "2021-07-22T09:15:47.326Z"
   },
   {
    "duration": 3,
    "start_time": "2021-07-22T09:15:54.213Z"
   },
   {
    "duration": 4,
    "start_time": "2021-07-22T09:16:01.946Z"
   },
   {
    "duration": 4,
    "start_time": "2021-07-22T09:19:34.947Z"
   },
   {
    "duration": 4,
    "start_time": "2021-07-22T09:19:53.569Z"
   },
   {
    "duration": 4,
    "start_time": "2021-07-22T09:20:00.937Z"
   },
   {
    "duration": 4,
    "start_time": "2021-07-22T09:20:18.789Z"
   },
   {
    "duration": 19,
    "start_time": "2021-07-22T10:06:34.483Z"
   },
   {
    "duration": 6,
    "start_time": "2021-07-22T10:06:48.088Z"
   },
   {
    "duration": 585,
    "start_time": "2021-07-22T10:07:16.197Z"
   },
   {
    "duration": 7,
    "start_time": "2021-07-22T10:07:41.070Z"
   },
   {
    "duration": 13,
    "start_time": "2021-07-22T10:07:50.810Z"
   },
   {
    "duration": 2,
    "start_time": "2021-07-22T10:07:55.720Z"
   },
   {
    "duration": 5,
    "start_time": "2021-07-22T10:08:06.798Z"
   },
   {
    "duration": 3,
    "start_time": "2021-07-22T10:08:19.270Z"
   },
   {
    "duration": 178,
    "start_time": "2021-07-22T10:08:22.790Z"
   },
   {
    "duration": 14,
    "start_time": "2021-07-22T10:49:45.783Z"
   },
   {
    "duration": 7,
    "start_time": "2021-07-22T10:49:46.546Z"
   },
   {
    "duration": 6,
    "start_time": "2021-07-22T10:50:14.598Z"
   },
   {
    "duration": 7,
    "start_time": "2021-07-22T10:50:23.060Z"
   },
   {
    "duration": 10,
    "start_time": "2021-07-22T10:50:49.138Z"
   },
   {
    "duration": 3,
    "start_time": "2021-07-22T10:50:53.322Z"
   },
   {
    "duration": 755,
    "start_time": "2021-07-22T10:50:57.390Z"
   },
   {
    "duration": 11,
    "start_time": "2021-07-22T10:51:03.054Z"
   },
   {
    "duration": 6,
    "start_time": "2021-07-22T10:51:09.446Z"
   },
   {
    "duration": 4,
    "start_time": "2021-07-22T10:51:21.509Z"
   },
   {
    "duration": 19,
    "start_time": "2021-07-22T10:51:33.159Z"
   },
   {
    "duration": 4,
    "start_time": "2021-07-22T10:51:52.824Z"
   },
   {
    "duration": 4,
    "start_time": "2021-07-22T10:51:57.240Z"
   },
   {
    "duration": 10,
    "start_time": "2021-07-22T10:52:02.122Z"
   },
   {
    "duration": 5,
    "start_time": "2021-07-22T10:52:29.652Z"
   },
   {
    "duration": 4,
    "start_time": "2021-07-22T10:52:45.962Z"
   },
   {
    "duration": 4,
    "start_time": "2021-07-22T10:52:48.698Z"
   },
   {
    "duration": 4,
    "start_time": "2021-07-22T10:52:57.234Z"
   },
   {
    "duration": 192,
    "start_time": "2021-07-22T11:05:34.160Z"
   },
   {
    "duration": 74,
    "start_time": "2021-07-22T11:05:38.601Z"
   },
   {
    "duration": 6,
    "start_time": "2021-07-22T11:05:38.853Z"
   },
   {
    "duration": 69,
    "start_time": "2021-07-22T11:06:23.316Z"
   },
   {
    "duration": 33,
    "start_time": "2021-07-22T11:06:37.471Z"
   },
   {
    "duration": 190,
    "start_time": "2021-07-22T11:06:38.313Z"
   },
   {
    "duration": 371,
    "start_time": "2021-07-22T11:06:56.366Z"
   },
   {
    "duration": 14,
    "start_time": "2021-07-22T11:07:26.111Z"
   },
   {
    "duration": 8,
    "start_time": "2021-07-22T11:07:26.859Z"
   },
   {
    "duration": 4,
    "start_time": "2021-07-22T11:07:28.355Z"
   },
   {
    "duration": 20,
    "start_time": "2021-07-22T11:07:34.305Z"
   },
   {
    "duration": 3,
    "start_time": "2021-07-22T11:07:47.262Z"
   },
   {
    "duration": 4,
    "start_time": "2021-07-22T11:07:54.422Z"
   },
   {
    "duration": 4,
    "start_time": "2021-07-22T11:07:58.310Z"
   },
   {
    "duration": 5,
    "start_time": "2021-07-22T11:08:27.050Z"
   },
   {
    "duration": 494,
    "start_time": "2021-07-22T11:08:29.432Z"
   },
   {
    "duration": 15,
    "start_time": "2021-07-22T11:08:55.200Z"
   },
   {
    "duration": 5,
    "start_time": "2021-07-22T11:08:55.681Z"
   },
   {
    "duration": 486,
    "start_time": "2021-07-22T11:08:58.363Z"
   },
   {
    "duration": 4,
    "start_time": "2021-07-22T11:09:13.185Z"
   },
   {
    "duration": 3,
    "start_time": "2021-07-22T11:09:17.202Z"
   },
   {
    "duration": 4,
    "start_time": "2021-07-22T11:09:22.087Z"
   },
   {
    "duration": 16,
    "start_time": "2021-07-22T11:09:45.299Z"
   },
   {
    "duration": 5,
    "start_time": "2021-07-22T11:09:47.045Z"
   },
   {
    "duration": 4,
    "start_time": "2021-07-22T11:09:48.588Z"
   },
   {
    "duration": 4,
    "start_time": "2021-07-22T11:09:57.858Z"
   },
   {
    "duration": 416,
    "start_time": "2021-07-22T11:09:59.988Z"
   },
   {
    "duration": 15,
    "start_time": "2021-07-22T11:10:44.738Z"
   },
   {
    "duration": 6,
    "start_time": "2021-07-22T11:10:45.010Z"
   },
   {
    "duration": 367,
    "start_time": "2021-07-22T11:10:53.410Z"
   },
   {
    "duration": 69,
    "start_time": "2021-07-22T11:11:02.338Z"
   },
   {
    "duration": 385,
    "start_time": "2021-07-22T11:11:05.033Z"
   },
   {
    "duration": 16,
    "start_time": "2021-07-22T11:11:15.251Z"
   },
   {
    "duration": 4,
    "start_time": "2021-07-22T11:11:47.858Z"
   },
   {
    "duration": 372,
    "start_time": "2021-07-22T11:11:54.714Z"
   },
   {
    "duration": 61,
    "start_time": "2021-07-22T11:12:00.842Z"
   },
   {
    "duration": 56,
    "start_time": "2021-07-22T11:12:02.673Z"
   },
   {
    "duration": 398,
    "start_time": "2021-07-22T11:12:10.644Z"
   },
   {
    "duration": 3,
    "start_time": "2021-07-22T11:12:17.370Z"
   },
   {
    "duration": 15,
    "start_time": "2021-07-22T11:12:31.556Z"
   },
   {
    "duration": 14,
    "start_time": "2021-07-22T11:13:13.477Z"
   },
   {
    "duration": 16,
    "start_time": "2021-07-22T11:14:06.706Z"
   },
   {
    "duration": 42,
    "start_time": "2021-07-22T11:14:07.569Z"
   },
   {
    "duration": 468,
    "start_time": "2021-07-22T11:14:10.145Z"
   },
   {
    "duration": 14,
    "start_time": "2021-07-22T11:14:48.757Z"
   },
   {
    "duration": 97,
    "start_time": "2021-07-22T11:14:49.687Z"
   },
   {
    "duration": 368,
    "start_time": "2021-07-22T11:14:50.649Z"
   },
   {
    "duration": 15,
    "start_time": "2021-07-22T11:15:47.207Z"
   },
   {
    "duration": 40,
    "start_time": "2021-07-22T11:15:48.147Z"
   },
   {
    "duration": 348,
    "start_time": "2021-07-22T11:15:49.122Z"
   },
   {
    "duration": 15,
    "start_time": "2021-07-22T11:15:55.006Z"
   },
   {
    "duration": 36,
    "start_time": "2021-07-22T11:15:55.166Z"
   },
   {
    "duration": 350,
    "start_time": "2021-07-22T11:15:55.385Z"
   },
   {
    "duration": 16,
    "start_time": "2021-07-22T11:16:24.483Z"
   },
   {
    "duration": 32,
    "start_time": "2021-07-22T11:16:24.646Z"
   },
   {
    "duration": 4,
    "start_time": "2021-07-22T11:16:25.410Z"
   },
   {
    "duration": 16,
    "start_time": "2021-07-22T11:16:49.727Z"
   },
   {
    "duration": 73,
    "start_time": "2021-07-22T11:16:50.011Z"
   },
   {
    "duration": 4,
    "start_time": "2021-07-22T11:16:50.982Z"
   },
   {
    "duration": 26,
    "start_time": "2021-07-22T11:16:57.655Z"
   },
   {
    "duration": 3,
    "start_time": "2021-07-22T11:17:07.475Z"
   },
   {
    "duration": 14,
    "start_time": "2021-07-22T11:18:41.328Z"
   },
   {
    "duration": 24,
    "start_time": "2021-07-22T11:18:41.813Z"
   },
   {
    "duration": 3,
    "start_time": "2021-07-22T11:18:42.765Z"
   },
   {
    "duration": 2743,
    "start_time": "2021-07-22T11:21:42.600Z"
   },
   {
    "duration": 1080,
    "start_time": "2021-07-22T11:21:45.346Z"
   },
   {
    "duration": 318,
    "start_time": "2021-07-22T11:21:46.431Z"
   },
   {
    "duration": 2,
    "start_time": "2021-07-22T11:21:46.751Z"
   },
   {
    "duration": 499,
    "start_time": "2021-07-22T11:21:46.755Z"
   },
   {
    "duration": 493,
    "start_time": "2021-07-22T11:21:47.256Z"
   },
   {
    "duration": 537,
    "start_time": "2021-07-22T11:21:47.751Z"
   },
   {
    "duration": 12,
    "start_time": "2021-07-22T11:21:48.290Z"
   },
   {
    "duration": 85,
    "start_time": "2021-07-22T11:21:48.304Z"
   },
   {
    "duration": 200,
    "start_time": "2021-07-22T11:21:48.391Z"
   },
   {
    "duration": 195,
    "start_time": "2021-07-22T11:21:48.593Z"
   },
   {
    "duration": 4,
    "start_time": "2021-07-22T11:27:09.241Z"
   },
   {
    "duration": 514,
    "start_time": "2021-07-22T11:27:50.581Z"
   },
   {
    "duration": 781,
    "start_time": "2021-07-22T11:28:05.842Z"
   },
   {
    "duration": 629,
    "start_time": "2021-07-22T11:31:03.533Z"
   },
   {
    "duration": 2674,
    "start_time": "2021-07-22T11:33:08.739Z"
   },
   {
    "duration": 1106,
    "start_time": "2021-07-22T11:33:11.415Z"
   },
   {
    "duration": 309,
    "start_time": "2021-07-22T11:33:12.523Z"
   },
   {
    "duration": 2,
    "start_time": "2021-07-22T11:33:12.835Z"
   },
   {
    "duration": 512,
    "start_time": "2021-07-22T11:33:12.839Z"
   },
   {
    "duration": 483,
    "start_time": "2021-07-22T11:33:13.352Z"
   },
   {
    "duration": 550,
    "start_time": "2021-07-22T11:33:13.837Z"
   },
   {
    "duration": 13,
    "start_time": "2021-07-22T11:33:14.389Z"
   },
   {
    "duration": 431,
    "start_time": "2021-07-22T11:33:14.404Z"
   },
   {
    "duration": 21874,
    "start_time": "2021-07-22T11:32:52.963Z"
   },
   {
    "duration": 21869,
    "start_time": "2021-07-22T11:32:52.969Z"
   },
   {
    "duration": 21866,
    "start_time": "2021-07-22T11:32:52.973Z"
   },
   {
    "duration": 2733,
    "start_time": "2021-07-22T11:33:24.709Z"
   },
   {
    "duration": 1171,
    "start_time": "2021-07-22T11:33:27.444Z"
   },
   {
    "duration": 297,
    "start_time": "2021-07-22T11:33:28.617Z"
   },
   {
    "duration": 3,
    "start_time": "2021-07-22T11:33:28.916Z"
   },
   {
    "duration": 549,
    "start_time": "2021-07-22T11:33:28.920Z"
   },
   {
    "duration": 476,
    "start_time": "2021-07-22T11:33:29.471Z"
   },
   {
    "duration": 584,
    "start_time": "2021-07-22T11:33:29.949Z"
   },
   {
    "duration": 12,
    "start_time": "2021-07-22T11:33:30.535Z"
   },
   {
    "duration": 57,
    "start_time": "2021-07-22T11:33:30.550Z"
   },
   {
    "duration": 201,
    "start_time": "2021-07-22T11:33:30.686Z"
   },
   {
    "duration": 192,
    "start_time": "2021-07-22T11:33:30.893Z"
   },
   {
    "duration": 95,
    "start_time": "2021-07-22T11:33:31.092Z"
   },
   {
    "duration": 2779,
    "start_time": "2021-07-22T11:34:40.342Z"
   },
   {
    "duration": 1100,
    "start_time": "2021-07-22T11:34:43.123Z"
   },
   {
    "duration": 298,
    "start_time": "2021-07-22T11:34:44.225Z"
   },
   {
    "duration": 2,
    "start_time": "2021-07-22T11:34:44.525Z"
   },
   {
    "duration": 533,
    "start_time": "2021-07-22T11:34:44.529Z"
   },
   {
    "duration": 487,
    "start_time": "2021-07-22T11:34:45.064Z"
   },
   {
    "duration": 552,
    "start_time": "2021-07-22T11:34:45.553Z"
   },
   {
    "duration": 13,
    "start_time": "2021-07-22T11:34:46.107Z"
   },
   {
    "duration": 68,
    "start_time": "2021-07-22T11:34:46.122Z"
   },
   {
    "duration": 292,
    "start_time": "2021-07-22T11:34:46.193Z"
   },
   {
    "duration": 192,
    "start_time": "2021-07-22T11:34:46.493Z"
   },
   {
    "duration": 94,
    "start_time": "2021-07-22T11:34:46.691Z"
   },
   {
    "duration": 408,
    "start_time": "2021-07-22T12:09:46.963Z"
   },
   {
    "duration": 367,
    "start_time": "2021-07-22T12:10:23.190Z"
   },
   {
    "duration": 4,
    "start_time": "2021-07-22T12:10:28.408Z"
   },
   {
    "duration": 4,
    "start_time": "2021-07-22T12:10:49.031Z"
   },
   {
    "duration": 4,
    "start_time": "2021-07-22T12:13:51.327Z"
   },
   {
    "duration": 360,
    "start_time": "2021-07-22T12:14:26.998Z"
   },
   {
    "duration": 4,
    "start_time": "2021-07-22T12:14:52.791Z"
   },
   {
    "duration": 361,
    "start_time": "2021-07-22T12:14:53.141Z"
   },
   {
    "duration": 4,
    "start_time": "2021-07-22T12:15:21.707Z"
   },
   {
    "duration": 385,
    "start_time": "2021-07-22T12:15:23.584Z"
   },
   {
    "duration": 4,
    "start_time": "2021-07-22T12:15:33.463Z"
   },
   {
    "duration": 417,
    "start_time": "2021-07-22T12:15:34.833Z"
   },
   {
    "duration": 4,
    "start_time": "2021-07-22T12:15:46.312Z"
   },
   {
    "duration": 3462,
    "start_time": "2021-07-22T12:15:47.060Z"
   },
   {
    "duration": 4,
    "start_time": "2021-07-22T12:16:07.617Z"
   },
   {
    "duration": 440,
    "start_time": "2021-07-22T12:16:09.340Z"
   },
   {
    "duration": 4,
    "start_time": "2021-07-22T12:17:41.545Z"
   },
   {
    "duration": 14,
    "start_time": "2021-07-22T12:17:43.265Z"
   },
   {
    "duration": 4,
    "start_time": "2021-07-22T12:18:10.234Z"
   },
   {
    "duration": 10,
    "start_time": "2021-07-22T12:18:10.675Z"
   },
   {
    "duration": 4,
    "start_time": "2021-07-22T12:18:21.499Z"
   },
   {
    "duration": 11,
    "start_time": "2021-07-22T12:18:22.791Z"
   },
   {
    "duration": 4,
    "start_time": "2021-07-22T12:19:58.285Z"
   },
   {
    "duration": 12,
    "start_time": "2021-07-22T12:19:58.771Z"
   },
   {
    "duration": 9,
    "start_time": "2021-07-22T12:20:02.709Z"
   },
   {
    "duration": 8,
    "start_time": "2021-07-22T12:21:01.880Z"
   },
   {
    "duration": 8,
    "start_time": "2021-07-22T12:21:58.599Z"
   },
   {
    "duration": 9,
    "start_time": "2021-07-22T12:22:09.671Z"
   },
   {
    "duration": 9,
    "start_time": "2021-07-22T12:22:52.005Z"
   },
   {
    "duration": 3,
    "start_time": "2021-07-22T12:33:22.830Z"
   },
   {
    "duration": 2734,
    "start_time": "2021-07-22T12:33:55.747Z"
   },
   {
    "duration": 1148,
    "start_time": "2021-07-22T12:33:58.486Z"
   },
   {
    "duration": 292,
    "start_time": "2021-07-22T12:33:59.636Z"
   },
   {
    "duration": 2,
    "start_time": "2021-07-22T12:33:59.930Z"
   },
   {
    "duration": 541,
    "start_time": "2021-07-22T12:33:59.934Z"
   },
   {
    "duration": 474,
    "start_time": "2021-07-22T12:34:00.477Z"
   },
   {
    "duration": 586,
    "start_time": "2021-07-22T12:34:00.954Z"
   },
   {
    "duration": 12,
    "start_time": "2021-07-22T12:34:01.542Z"
   },
   {
    "duration": 17,
    "start_time": "2021-07-22T12:34:01.555Z"
   },
   {
    "duration": 572,
    "start_time": "2021-07-22T12:34:01.573Z"
   },
   {
    "duration": 488,
    "start_time": "2021-07-22T12:34:02.147Z"
   },
   {
    "duration": 577,
    "start_time": "2021-07-22T12:34:02.638Z"
   },
   {
    "duration": 3,
    "start_time": "2021-07-22T12:34:03.218Z"
   },
   {
    "duration": 6,
    "start_time": "2021-07-22T12:34:03.223Z"
   },
   {
    "duration": 643,
    "start_time": "2021-07-22T12:35:06.907Z"
   },
   {
    "duration": 544,
    "start_time": "2021-07-22T12:35:18.684Z"
   },
   {
    "duration": 637,
    "start_time": "2021-07-22T12:35:32.987Z"
   },
   {
    "duration": 550,
    "start_time": "2021-07-22T12:35:39.306Z"
   },
   {
    "duration": 2724,
    "start_time": "2021-07-22T12:37:41.818Z"
   },
   {
    "duration": 3,
    "start_time": "2021-07-22T12:37:44.545Z"
   },
   {
    "duration": 5,
    "start_time": "2021-07-22T12:37:44.550Z"
   },
   {
    "duration": 7,
    "start_time": "2021-07-22T12:37:44.557Z"
   },
   {
    "duration": 9,
    "start_time": "2021-07-22T12:37:44.565Z"
   },
   {
    "duration": 550,
    "start_time": "2021-07-22T12:37:44.576Z"
   },
   {
    "duration": 535,
    "start_time": "2021-07-22T12:37:45.128Z"
   },
   {
    "duration": 507,
    "start_time": "2021-07-22T12:37:45.667Z"
   },
   {
    "duration": 16,
    "start_time": "2021-07-22T12:37:46.176Z"
   },
   {
    "duration": 8,
    "start_time": "2021-07-22T12:37:46.193Z"
   },
   {
    "duration": 630,
    "start_time": "2021-07-22T12:37:46.202Z"
   },
   {
    "duration": 680,
    "start_time": "2021-07-22T12:37:46.834Z"
   },
   {
    "duration": 626,
    "start_time": "2021-07-22T12:37:47.515Z"
   },
   {
    "duration": 2,
    "start_time": "2021-07-22T12:37:48.143Z"
   },
   {
    "duration": 11,
    "start_time": "2021-07-22T12:37:48.147Z"
   },
   {
    "duration": 2807,
    "start_time": "2021-07-22T12:45:37.076Z"
   },
   {
    "duration": 1126,
    "start_time": "2021-07-22T12:45:39.885Z"
   },
   {
    "duration": 300,
    "start_time": "2021-07-22T12:45:41.013Z"
   },
   {
    "duration": 2,
    "start_time": "2021-07-22T12:45:41.315Z"
   },
   {
    "duration": 6,
    "start_time": "2021-07-22T12:45:41.319Z"
   },
   {
    "duration": 514,
    "start_time": "2021-07-22T12:45:41.326Z"
   },
   {
    "duration": 514,
    "start_time": "2021-07-22T12:45:41.842Z"
   },
   {
    "duration": 565,
    "start_time": "2021-07-22T12:45:42.357Z"
   },
   {
    "duration": 13,
    "start_time": "2021-07-22T12:45:42.924Z"
   },
   {
    "duration": 7,
    "start_time": "2021-07-22T12:45:42.939Z"
   },
   {
    "duration": 5,
    "start_time": "2021-07-22T12:45:42.948Z"
   },
   {
    "duration": 656,
    "start_time": "2021-07-22T12:45:42.954Z"
   },
   {
    "duration": 573,
    "start_time": "2021-07-22T12:45:43.612Z"
   },
   {
    "duration": 616,
    "start_time": "2021-07-22T12:45:44.186Z"
   },
   {
    "duration": 2,
    "start_time": "2021-07-22T12:45:44.804Z"
   },
   {
    "duration": 5,
    "start_time": "2021-07-22T12:45:44.808Z"
   },
   {
    "duration": 4,
    "start_time": "2021-07-22T12:51:08.333Z"
   },
   {
    "duration": 5,
    "start_time": "2021-07-22T12:51:59.872Z"
   },
   {
    "duration": 4,
    "start_time": "2021-07-22T12:53:39.559Z"
   },
   {
    "duration": 5,
    "start_time": "2021-07-22T12:53:49.095Z"
   },
   {
    "duration": 6,
    "start_time": "2021-07-22T12:55:24.650Z"
   },
   {
    "duration": 5,
    "start_time": "2021-07-22T12:55:55.299Z"
   },
   {
    "duration": 2772,
    "start_time": "2021-07-22T12:57:28.122Z"
   },
   {
    "duration": 1148,
    "start_time": "2021-07-22T12:57:30.896Z"
   },
   {
    "duration": 319,
    "start_time": "2021-07-22T12:57:32.046Z"
   },
   {
    "duration": 2,
    "start_time": "2021-07-22T12:57:32.367Z"
   },
   {
    "duration": 6,
    "start_time": "2021-07-22T12:57:32.371Z"
   },
   {
    "duration": 558,
    "start_time": "2021-07-22T12:57:32.379Z"
   },
   {
    "duration": 562,
    "start_time": "2021-07-22T12:57:32.939Z"
   },
   {
    "duration": 600,
    "start_time": "2021-07-22T12:57:33.503Z"
   },
   {
    "duration": 13,
    "start_time": "2021-07-22T12:57:34.105Z"
   },
   {
    "duration": 21,
    "start_time": "2021-07-22T12:57:34.120Z"
   },
   {
    "duration": 20,
    "start_time": "2021-07-22T12:57:34.144Z"
   },
   {
    "duration": 790,
    "start_time": "2021-07-22T12:57:34.169Z"
   },
   {
    "duration": 562,
    "start_time": "2021-07-22T12:57:34.962Z"
   },
   {
    "duration": 703,
    "start_time": "2021-07-22T12:57:35.526Z"
   },
   {
    "duration": 3,
    "start_time": "2021-07-22T12:57:36.231Z"
   },
   {
    "duration": 7,
    "start_time": "2021-07-22T12:57:36.236Z"
   },
   {
    "duration": 206,
    "start_time": "2021-07-22T12:57:36.244Z"
   },
   {
    "duration": 21907,
    "start_time": "2021-07-22T12:57:14.545Z"
   },
   {
    "duration": 21906,
    "start_time": "2021-07-22T12:57:14.547Z"
   },
   {
    "duration": 21905,
    "start_time": "2021-07-22T12:57:14.549Z"
   },
   {
    "duration": 7,
    "start_time": "2021-07-22T13:13:05.581Z"
   },
   {
    "duration": 4,
    "start_time": "2021-07-22T13:13:12.581Z"
   },
   {
    "duration": 4,
    "start_time": "2021-07-22T13:13:18.750Z"
   },
   {
    "duration": 5,
    "start_time": "2021-07-22T13:13:24.341Z"
   },
   {
    "duration": 4,
    "start_time": "2021-07-22T13:14:28.743Z"
   },
   {
    "duration": 284,
    "start_time": "2021-07-22T13:15:16.232Z"
   },
   {
    "duration": 189,
    "start_time": "2021-07-22T13:15:23.793Z"
   },
   {
    "duration": 3,
    "start_time": "2021-07-22T13:15:28.508Z"
   },
   {
    "duration": 723,
    "start_time": "2021-07-22T13:15:30.735Z"
   },
   {
    "duration": 5,
    "start_time": "2021-07-22T13:16:27.705Z"
   },
   {
    "duration": 148592,
    "start_time": "2021-07-22T13:16:28.155Z"
   },
   {
    "duration": 21845,
    "start_time": "2021-07-22T13:18:34.904Z"
   },
   {
    "duration": 4,
    "start_time": "2021-07-22T13:19:04.036Z"
   },
   {
    "duration": 52052,
    "start_time": "2021-07-22T13:19:04.468Z"
   },
   {
    "duration": 3,
    "start_time": "2021-07-22T13:31:37.383Z"
   },
   {
    "duration": 5,
    "start_time": "2021-07-22T13:32:35.777Z"
   },
   {
    "duration": 4,
    "start_time": "2021-07-22T13:32:43.396Z"
   },
   {
    "duration": 2820,
    "start_time": "2021-07-22T13:38:33.190Z"
   },
   {
    "duration": 1123,
    "start_time": "2021-07-22T13:38:36.012Z"
   },
   {
    "duration": 306,
    "start_time": "2021-07-22T13:38:37.137Z"
   },
   {
    "duration": 3,
    "start_time": "2021-07-22T13:38:37.444Z"
   },
   {
    "duration": 9,
    "start_time": "2021-07-22T13:38:37.448Z"
   },
   {
    "duration": 561,
    "start_time": "2021-07-22T13:38:37.459Z"
   },
   {
    "duration": 554,
    "start_time": "2021-07-22T13:38:38.022Z"
   },
   {
    "duration": 602,
    "start_time": "2021-07-22T13:38:38.577Z"
   },
   {
    "duration": 20,
    "start_time": "2021-07-22T13:38:39.185Z"
   },
   {
    "duration": 8,
    "start_time": "2021-07-22T13:38:39.207Z"
   },
   {
    "duration": 5,
    "start_time": "2021-07-22T13:38:39.216Z"
   },
   {
    "duration": 727,
    "start_time": "2021-07-22T13:38:39.223Z"
   },
   {
    "duration": 576,
    "start_time": "2021-07-22T13:38:39.952Z"
   },
   {
    "duration": 683,
    "start_time": "2021-07-22T13:38:40.530Z"
   },
   {
    "duration": 4,
    "start_time": "2021-07-22T13:38:41.215Z"
   },
   {
    "duration": 5,
    "start_time": "2021-07-22T13:38:41.221Z"
   },
   {
    "duration": 4,
    "start_time": "2021-07-22T13:38:41.227Z"
   },
   {
    "duration": 4,
    "start_time": "2021-07-22T13:38:41.233Z"
   },
   {
    "duration": 5,
    "start_time": "2021-07-22T13:38:41.239Z"
   },
   {
    "duration": 1599,
    "start_time": "2021-07-22T13:38:41.245Z"
   },
   {
    "duration": 21878,
    "start_time": "2021-07-22T13:38:20.969Z"
   },
   {
    "duration": 4,
    "start_time": "2021-07-22T13:40:00.248Z"
   },
   {
    "duration": 438,
    "start_time": "2021-07-22T13:40:52.287Z"
   },
   {
    "duration": 441,
    "start_time": "2021-07-22T13:40:54.898Z"
   },
   {
    "duration": 16,
    "start_time": "2021-07-22T13:41:39.270Z"
   },
   {
    "duration": 6,
    "start_time": "2021-07-22T13:41:47.599Z"
   },
   {
    "duration": 20,
    "start_time": "2021-07-22T13:44:22.827Z"
   },
   {
    "duration": 14,
    "start_time": "2021-07-22T13:44:37.013Z"
   },
   {
    "duration": 200,
    "start_time": "2021-07-22T13:44:41.406Z"
   },
   {
    "duration": 15,
    "start_time": "2021-07-22T13:44:46.002Z"
   },
   {
    "duration": 17,
    "start_time": "2021-07-22T13:44:55.431Z"
   },
   {
    "duration": 219,
    "start_time": "2021-07-22T13:45:39.029Z"
   },
   {
    "duration": 19,
    "start_time": "2021-07-22T13:45:53.995Z"
   },
   {
    "duration": 2908,
    "start_time": "2021-07-22T13:46:04.033Z"
   },
   {
    "duration": 1092,
    "start_time": "2021-07-22T13:46:06.944Z"
   },
   {
    "duration": 328,
    "start_time": "2021-07-22T13:46:08.038Z"
   },
   {
    "duration": 3,
    "start_time": "2021-07-22T13:46:08.368Z"
   },
   {
    "duration": 8,
    "start_time": "2021-07-22T13:46:08.373Z"
   },
   {
    "duration": 596,
    "start_time": "2021-07-22T13:46:08.383Z"
   },
   {
    "duration": 533,
    "start_time": "2021-07-22T13:46:08.980Z"
   },
   {
    "duration": 580,
    "start_time": "2021-07-22T13:46:09.515Z"
   },
   {
    "duration": 14,
    "start_time": "2021-07-22T13:46:10.099Z"
   },
   {
    "duration": 20,
    "start_time": "2021-07-22T13:46:10.115Z"
   },
   {
    "duration": 5,
    "start_time": "2021-07-22T13:46:10.137Z"
   },
   {
    "duration": 685,
    "start_time": "2021-07-22T13:46:10.144Z"
   },
   {
    "duration": 594,
    "start_time": "2021-07-22T13:46:10.830Z"
   },
   {
    "duration": 692,
    "start_time": "2021-07-22T13:46:11.425Z"
   },
   {
    "duration": 2,
    "start_time": "2021-07-22T13:46:12.119Z"
   },
   {
    "duration": 6,
    "start_time": "2021-07-22T13:46:12.123Z"
   },
   {
    "duration": 5,
    "start_time": "2021-07-22T13:46:12.130Z"
   },
   {
    "duration": 5,
    "start_time": "2021-07-22T13:46:12.136Z"
   },
   {
    "duration": 6,
    "start_time": "2021-07-22T13:46:12.142Z"
   },
   {
    "duration": 34,
    "start_time": "2021-07-22T13:46:12.150Z"
   },
   {
    "duration": 19,
    "start_time": "2021-07-22T13:46:23.272Z"
   },
   {
    "duration": 2885,
    "start_time": "2021-07-22T13:51:49.293Z"
   },
   {
    "duration": 1174,
    "start_time": "2021-07-22T13:51:52.180Z"
   },
   {
    "duration": 340,
    "start_time": "2021-07-22T13:51:53.356Z"
   },
   {
    "duration": 3,
    "start_time": "2021-07-22T13:51:53.698Z"
   },
   {
    "duration": 9,
    "start_time": "2021-07-22T13:51:53.703Z"
   },
   {
    "duration": 561,
    "start_time": "2021-07-22T13:51:53.713Z"
   },
   {
    "duration": 498,
    "start_time": "2021-07-22T13:51:54.275Z"
   },
   {
    "duration": 597,
    "start_time": "2021-07-22T13:51:54.775Z"
   },
   {
    "duration": 17,
    "start_time": "2021-07-22T13:51:55.374Z"
   },
   {
    "duration": 10,
    "start_time": "2021-07-22T13:51:55.393Z"
   },
   {
    "duration": 6,
    "start_time": "2021-07-22T13:51:55.404Z"
   },
   {
    "duration": 712,
    "start_time": "2021-07-22T13:51:55.411Z"
   },
   {
    "duration": 578,
    "start_time": "2021-07-22T13:51:56.125Z"
   },
   {
    "duration": 617,
    "start_time": "2021-07-22T13:51:56.705Z"
   },
   {
    "duration": 3,
    "start_time": "2021-07-22T13:51:57.323Z"
   },
   {
    "duration": 5,
    "start_time": "2021-07-22T13:51:57.328Z"
   },
   {
    "duration": 4,
    "start_time": "2021-07-22T13:51:57.335Z"
   },
   {
    "duration": 6,
    "start_time": "2021-07-22T13:51:57.341Z"
   },
   {
    "duration": 5,
    "start_time": "2021-07-22T13:51:57.349Z"
   },
   {
    "duration": 455,
    "start_time": "2021-07-22T13:51:57.355Z"
   },
   {
    "duration": 5,
    "start_time": "2021-07-22T13:52:24.099Z"
   },
   {
    "duration": 1756,
    "start_time": "2021-07-22T13:52:24.675Z"
   },
   {
    "duration": 7,
    "start_time": "2021-07-22T13:53:57.960Z"
   },
   {
    "duration": 6,
    "start_time": "2021-07-22T13:54:17.900Z"
   },
   {
    "duration": 191,
    "start_time": "2021-07-22T14:17:46.663Z"
   },
   {
    "duration": 3170,
    "start_time": "2021-07-22T14:18:09.933Z"
   },
   {
    "duration": 1128,
    "start_time": "2021-07-22T14:18:13.105Z"
   },
   {
    "duration": 308,
    "start_time": "2021-07-22T14:18:14.236Z"
   },
   {
    "duration": 3,
    "start_time": "2021-07-22T14:18:14.546Z"
   },
   {
    "duration": 7,
    "start_time": "2021-07-22T14:18:14.550Z"
   },
   {
    "duration": 527,
    "start_time": "2021-07-22T14:18:14.559Z"
   },
   {
    "duration": 489,
    "start_time": "2021-07-22T14:18:15.088Z"
   },
   {
    "duration": 586,
    "start_time": "2021-07-22T14:18:15.584Z"
   },
   {
    "duration": 18,
    "start_time": "2021-07-22T14:18:16.171Z"
   },
   {
    "duration": 7,
    "start_time": "2021-07-22T14:18:16.190Z"
   },
   {
    "duration": 4,
    "start_time": "2021-07-22T14:18:16.199Z"
   },
   {
    "duration": 662,
    "start_time": "2021-07-22T14:18:16.205Z"
   },
   {
    "duration": 550,
    "start_time": "2021-07-22T14:18:16.869Z"
   },
   {
    "duration": 714,
    "start_time": "2021-07-22T14:18:17.421Z"
   },
   {
    "duration": 3,
    "start_time": "2021-07-22T14:18:18.136Z"
   },
   {
    "duration": 5,
    "start_time": "2021-07-22T14:18:18.141Z"
   },
   {
    "duration": 5,
    "start_time": "2021-07-22T14:18:18.147Z"
   },
   {
    "duration": 5,
    "start_time": "2021-07-22T14:18:18.154Z"
   },
   {
    "duration": 5,
    "start_time": "2021-07-22T14:18:18.160Z"
   },
   {
    "duration": 2184,
    "start_time": "2021-07-22T14:18:18.167Z"
   },
   {
    "duration": 4,
    "start_time": "2021-07-22T14:18:37.234Z"
   },
   {
    "duration": 1711,
    "start_time": "2021-07-22T14:18:39.626Z"
   },
   {
    "duration": 1717,
    "start_time": "2021-07-22T14:19:47.695Z"
   },
   {
    "duration": 1753,
    "start_time": "2021-07-22T14:20:03.058Z"
   },
   {
    "duration": 1760,
    "start_time": "2021-07-22T14:20:41.178Z"
   },
   {
    "duration": 1746,
    "start_time": "2021-07-22T14:20:44.691Z"
   },
   {
    "duration": 4,
    "start_time": "2021-07-22T14:21:54.446Z"
   },
   {
    "duration": 1715,
    "start_time": "2021-07-22T14:21:55.401Z"
   },
   {
    "duration": 1706,
    "start_time": "2021-07-22T14:21:57.118Z"
   },
   {
    "duration": 1697,
    "start_time": "2021-07-22T14:21:58.826Z"
   },
   {
    "duration": 2821,
    "start_time": "2021-07-22T14:30:10.441Z"
   },
   {
    "duration": 1091,
    "start_time": "2021-07-22T14:30:13.264Z"
   },
   {
    "duration": 307,
    "start_time": "2021-07-22T14:30:14.357Z"
   },
   {
    "duration": 2,
    "start_time": "2021-07-22T14:30:14.667Z"
   },
   {
    "duration": 5,
    "start_time": "2021-07-22T14:30:14.671Z"
   },
   {
    "duration": 551,
    "start_time": "2021-07-22T14:30:14.678Z"
   },
   {
    "duration": 544,
    "start_time": "2021-07-22T14:30:15.231Z"
   },
   {
    "duration": 603,
    "start_time": "2021-07-22T14:30:15.777Z"
   },
   {
    "duration": 16,
    "start_time": "2021-07-22T14:30:16.388Z"
   },
   {
    "duration": 12,
    "start_time": "2021-07-22T14:30:16.406Z"
   },
   {
    "duration": 12,
    "start_time": "2021-07-22T14:30:16.420Z"
   },
   {
    "duration": 694,
    "start_time": "2021-07-22T14:30:16.433Z"
   },
   {
    "duration": 584,
    "start_time": "2021-07-22T14:30:17.128Z"
   },
   {
    "duration": 677,
    "start_time": "2021-07-22T14:30:17.714Z"
   },
   {
    "duration": 4,
    "start_time": "2021-07-22T14:30:18.393Z"
   },
   {
    "duration": 10,
    "start_time": "2021-07-22T14:30:18.398Z"
   },
   {
    "duration": 21,
    "start_time": "2021-07-22T14:30:18.409Z"
   },
   {
    "duration": 13,
    "start_time": "2021-07-22T14:30:18.431Z"
   },
   {
    "duration": 16,
    "start_time": "2021-07-22T14:30:18.445Z"
   },
   {
    "duration": 1754,
    "start_time": "2021-07-22T14:30:18.463Z"
   },
   {
    "duration": 1755,
    "start_time": "2021-07-22T14:30:20.219Z"
   },
   {
    "duration": 1821,
    "start_time": "2021-07-22T14:30:21.975Z"
   },
   {
    "duration": 3,
    "start_time": "2021-07-22T14:33:47.566Z"
   },
   {
    "duration": 2950,
    "start_time": "2021-07-22T14:34:11.938Z"
   },
   {
    "duration": 1148,
    "start_time": "2021-07-22T14:34:14.890Z"
   },
   {
    "duration": 317,
    "start_time": "2021-07-22T14:34:16.040Z"
   },
   {
    "duration": 2,
    "start_time": "2021-07-22T14:34:16.359Z"
   },
   {
    "duration": 5,
    "start_time": "2021-07-22T14:34:16.363Z"
   },
   {
    "duration": 530,
    "start_time": "2021-07-22T14:34:16.370Z"
   },
   {
    "duration": 501,
    "start_time": "2021-07-22T14:34:16.902Z"
   },
   {
    "duration": 577,
    "start_time": "2021-07-22T14:34:17.405Z"
   },
   {
    "duration": 18,
    "start_time": "2021-07-22T14:34:17.990Z"
   },
   {
    "duration": 15,
    "start_time": "2021-07-22T14:34:18.009Z"
   },
   {
    "duration": 12,
    "start_time": "2021-07-22T14:34:18.026Z"
   },
   {
    "duration": 710,
    "start_time": "2021-07-22T14:34:18.040Z"
   },
   {
    "duration": 585,
    "start_time": "2021-07-22T14:34:18.752Z"
   },
   {
    "duration": 685,
    "start_time": "2021-07-22T14:34:19.338Z"
   },
   {
    "duration": 3,
    "start_time": "2021-07-22T14:34:20.025Z"
   },
   {
    "duration": 5,
    "start_time": "2021-07-22T14:34:20.030Z"
   },
   {
    "duration": 5,
    "start_time": "2021-07-22T14:34:20.036Z"
   },
   {
    "duration": 5,
    "start_time": "2021-07-22T14:34:20.042Z"
   },
   {
    "duration": 6,
    "start_time": "2021-07-22T14:34:20.049Z"
   },
   {
    "duration": 8,
    "start_time": "2021-07-22T14:34:20.056Z"
   },
   {
    "duration": 1807,
    "start_time": "2021-07-22T14:34:20.089Z"
   },
   {
    "duration": 1811,
    "start_time": "2021-07-22T14:34:21.898Z"
   },
   {
    "duration": 1841,
    "start_time": "2021-07-22T14:34:23.713Z"
   },
   {
    "duration": 3,
    "start_time": "2021-07-22T14:41:50.532Z"
   },
   {
    "duration": 3119,
    "start_time": "2021-07-22T14:42:45.665Z"
   },
   {
    "duration": 1142,
    "start_time": "2021-07-22T14:42:48.786Z"
   },
   {
    "duration": 287,
    "start_time": "2021-07-22T14:42:49.930Z"
   },
   {
    "duration": 2,
    "start_time": "2021-07-22T14:42:50.219Z"
   },
   {
    "duration": 7,
    "start_time": "2021-07-22T14:42:50.222Z"
   },
   {
    "duration": 542,
    "start_time": "2021-07-22T14:42:50.230Z"
   },
   {
    "duration": 489,
    "start_time": "2021-07-22T14:42:50.774Z"
   },
   {
    "duration": 580,
    "start_time": "2021-07-22T14:42:51.266Z"
   },
   {
    "duration": 12,
    "start_time": "2021-07-22T14:42:51.848Z"
   },
   {
    "duration": 12,
    "start_time": "2021-07-22T14:42:51.862Z"
   },
   {
    "duration": 14,
    "start_time": "2021-07-22T14:42:51.876Z"
   },
   {
    "duration": 725,
    "start_time": "2021-07-22T14:42:51.892Z"
   },
   {
    "duration": 601,
    "start_time": "2021-07-22T14:42:52.619Z"
   },
   {
    "duration": 685,
    "start_time": "2021-07-22T14:42:53.222Z"
   },
   {
    "duration": 3,
    "start_time": "2021-07-22T14:42:53.908Z"
   },
   {
    "duration": 6,
    "start_time": "2021-07-22T14:42:53.912Z"
   },
   {
    "duration": 5,
    "start_time": "2021-07-22T14:42:53.919Z"
   },
   {
    "duration": 5,
    "start_time": "2021-07-22T14:42:53.925Z"
   },
   {
    "duration": 5,
    "start_time": "2021-07-22T14:42:53.931Z"
   },
   {
    "duration": 6,
    "start_time": "2021-07-22T14:42:53.937Z"
   },
   {
    "duration": 1615,
    "start_time": "2021-07-22T14:42:53.945Z"
   },
   {
    "duration": 1605,
    "start_time": "2021-07-22T14:42:55.562Z"
   },
   {
    "duration": 1617,
    "start_time": "2021-07-22T14:42:57.170Z"
   },
   {
    "duration": 3,
    "start_time": "2021-07-22T14:46:26.744Z"
   },
   {
    "duration": 4,
    "start_time": "2021-07-22T14:48:19.625Z"
   },
   {
    "duration": 4,
    "start_time": "2021-07-22T14:48:23.837Z"
   },
   {
    "duration": 62,
    "start_time": "2021-07-22T14:50:04.510Z"
   },
   {
    "duration": 4,
    "start_time": "2021-07-22T14:50:14.519Z"
   },
   {
    "duration": 4,
    "start_time": "2021-07-22T14:53:19.829Z"
   },
   {
    "duration": 3374,
    "start_time": "2021-07-22T14:58:02.877Z"
   },
   {
    "duration": 1197,
    "start_time": "2021-07-22T14:58:06.253Z"
   },
   {
    "duration": 615,
    "start_time": "2021-07-22T14:58:07.452Z"
   },
   {
    "duration": 2,
    "start_time": "2021-07-22T14:58:08.070Z"
   },
   {
    "duration": 32,
    "start_time": "2021-07-22T14:58:08.074Z"
   },
   {
    "duration": 649,
    "start_time": "2021-07-22T14:58:08.108Z"
   },
   {
    "duration": 606,
    "start_time": "2021-07-22T14:58:08.759Z"
   },
   {
    "duration": 628,
    "start_time": "2021-07-22T14:58:09.368Z"
   },
   {
    "duration": 90,
    "start_time": "2021-07-22T14:58:09.999Z"
   },
   {
    "duration": 21891,
    "start_time": "2021-07-22T14:57:48.200Z"
   },
   {
    "duration": 21890,
    "start_time": "2021-07-22T14:57:48.204Z"
   },
   {
    "duration": 21891,
    "start_time": "2021-07-22T14:57:48.206Z"
   },
   {
    "duration": 21891,
    "start_time": "2021-07-22T14:57:48.208Z"
   },
   {
    "duration": 21885,
    "start_time": "2021-07-22T14:57:48.215Z"
   },
   {
    "duration": 21884,
    "start_time": "2021-07-22T14:57:48.217Z"
   },
   {
    "duration": 21883,
    "start_time": "2021-07-22T14:57:48.219Z"
   },
   {
    "duration": 21884,
    "start_time": "2021-07-22T14:57:48.220Z"
   },
   {
    "duration": 21882,
    "start_time": "2021-07-22T14:57:48.223Z"
   },
   {
    "duration": 21882,
    "start_time": "2021-07-22T14:57:48.224Z"
   },
   {
    "duration": 21881,
    "start_time": "2021-07-22T14:57:48.226Z"
   },
   {
    "duration": 21877,
    "start_time": "2021-07-22T14:57:48.231Z"
   },
   {
    "duration": 21878,
    "start_time": "2021-07-22T14:57:48.232Z"
   },
   {
    "duration": 21847,
    "start_time": "2021-07-22T14:57:48.264Z"
   },
   {
    "duration": 21846,
    "start_time": "2021-07-22T14:57:48.266Z"
   },
   {
    "duration": 86,
    "start_time": "2021-07-22T14:58:30.782Z"
   },
   {
    "duration": 75,
    "start_time": "2021-07-22T14:58:41.255Z"
   },
   {
    "duration": 13,
    "start_time": "2021-07-22T14:58:50.629Z"
   },
   {
    "duration": 33,
    "start_time": "2021-07-22T14:59:02.183Z"
   },
   {
    "duration": 10,
    "start_time": "2021-07-22T14:59:02.218Z"
   },
   {
    "duration": 13,
    "start_time": "2021-07-22T14:59:02.230Z"
   },
   {
    "duration": 767,
    "start_time": "2021-07-22T14:59:02.244Z"
   },
   {
    "duration": 622,
    "start_time": "2021-07-22T14:59:03.013Z"
   },
   {
    "duration": 717,
    "start_time": "2021-07-22T14:59:03.636Z"
   },
   {
    "duration": 2,
    "start_time": "2021-07-22T14:59:04.355Z"
   },
   {
    "duration": 6,
    "start_time": "2021-07-22T14:59:04.359Z"
   },
   {
    "duration": 4,
    "start_time": "2021-07-22T14:59:04.367Z"
   },
   {
    "duration": 5,
    "start_time": "2021-07-22T14:59:04.387Z"
   },
   {
    "duration": 18,
    "start_time": "2021-07-22T14:59:04.397Z"
   },
   {
    "duration": 6,
    "start_time": "2021-07-22T14:59:04.418Z"
   },
   {
    "duration": 4,
    "start_time": "2021-07-22T14:59:04.428Z"
   },
   {
    "duration": 1876,
    "start_time": "2021-07-22T14:59:04.433Z"
   },
   {
    "duration": 1885,
    "start_time": "2021-07-22T14:59:06.314Z"
   },
   {
    "duration": 1873,
    "start_time": "2021-07-22T14:59:08.201Z"
   },
   {
    "duration": 3518,
    "start_time": "2021-07-22T15:00:11.371Z"
   },
   {
    "duration": 1200,
    "start_time": "2021-07-22T15:00:14.892Z"
   },
   {
    "duration": 336,
    "start_time": "2021-07-22T15:00:16.097Z"
   },
   {
    "duration": 2,
    "start_time": "2021-07-22T15:00:16.435Z"
   },
   {
    "duration": 10,
    "start_time": "2021-07-22T15:00:16.439Z"
   },
   {
    "duration": 584,
    "start_time": "2021-07-22T15:00:16.450Z"
   },
   {
    "duration": 553,
    "start_time": "2021-07-22T15:00:17.037Z"
   },
   {
    "duration": 633,
    "start_time": "2021-07-22T15:00:17.594Z"
   },
   {
    "duration": 13,
    "start_time": "2021-07-22T15:00:18.229Z"
   },
   {
    "duration": 13,
    "start_time": "2021-07-22T15:00:18.243Z"
   },
   {
    "duration": 9,
    "start_time": "2021-07-22T15:00:18.258Z"
   },
   {
    "duration": 698,
    "start_time": "2021-07-22T15:00:18.269Z"
   },
   {
    "duration": 634,
    "start_time": "2021-07-22T15:00:18.969Z"
   },
   {
    "duration": 745,
    "start_time": "2021-07-22T15:00:19.606Z"
   },
   {
    "duration": 3,
    "start_time": "2021-07-22T15:00:20.353Z"
   },
   {
    "duration": 9,
    "start_time": "2021-07-22T15:00:20.357Z"
   },
   {
    "duration": 8,
    "start_time": "2021-07-22T15:00:20.367Z"
   },
   {
    "duration": 24,
    "start_time": "2021-07-22T15:00:20.376Z"
   },
   {
    "duration": 4,
    "start_time": "2021-07-22T15:00:20.404Z"
   },
   {
    "duration": 6,
    "start_time": "2021-07-22T15:00:20.412Z"
   },
   {
    "duration": 5,
    "start_time": "2021-07-22T15:00:20.420Z"
   },
   {
    "duration": 1791,
    "start_time": "2021-07-22T15:00:20.428Z"
   },
   {
    "duration": 1849,
    "start_time": "2021-07-22T15:00:22.221Z"
   },
   {
    "duration": 1849,
    "start_time": "2021-07-22T15:00:24.072Z"
   },
   {
    "duration": 1634,
    "start_time": "2021-07-22T15:21:15.578Z"
   },
   {
    "duration": 1695,
    "start_time": "2021-07-22T15:21:26.530Z"
   },
   {
    "duration": 1673,
    "start_time": "2021-07-22T15:23:42.754Z"
   },
   {
    "duration": 1649,
    "start_time": "2021-07-22T15:23:46.718Z"
   },
   {
    "duration": 1699,
    "start_time": "2021-07-22T15:23:53.016Z"
   },
   {
    "duration": 1694,
    "start_time": "2021-07-22T15:24:23.202Z"
   },
   {
    "duration": 1705,
    "start_time": "2021-07-22T15:24:24.898Z"
   },
   {
    "duration": 1623,
    "start_time": "2021-07-22T15:24:26.606Z"
   },
   {
    "duration": 1592,
    "start_time": "2021-07-22T15:24:36.239Z"
   },
   {
    "duration": 2844,
    "start_time": "2021-07-22T15:24:49.025Z"
   },
   {
    "duration": 1158,
    "start_time": "2021-07-22T15:24:51.871Z"
   },
   {
    "duration": 312,
    "start_time": "2021-07-22T15:24:53.031Z"
   },
   {
    "duration": 3,
    "start_time": "2021-07-22T15:24:53.345Z"
   },
   {
    "duration": 7,
    "start_time": "2021-07-22T15:24:53.350Z"
   },
   {
    "duration": 546,
    "start_time": "2021-07-22T15:24:53.358Z"
   },
   {
    "duration": 518,
    "start_time": "2021-07-22T15:24:53.906Z"
   },
   {
    "duration": 575,
    "start_time": "2021-07-22T15:24:54.428Z"
   },
   {
    "duration": 13,
    "start_time": "2021-07-22T15:24:55.005Z"
   },
   {
    "duration": 8,
    "start_time": "2021-07-22T15:24:55.019Z"
   },
   {
    "duration": 4,
    "start_time": "2021-07-22T15:24:55.029Z"
   },
   {
    "duration": 708,
    "start_time": "2021-07-22T15:24:55.035Z"
   },
   {
    "duration": 606,
    "start_time": "2021-07-22T15:24:55.744Z"
   },
   {
    "duration": 680,
    "start_time": "2021-07-22T15:24:56.352Z"
   },
   {
    "duration": 4,
    "start_time": "2021-07-22T15:24:57.034Z"
   },
   {
    "duration": 6,
    "start_time": "2021-07-22T15:24:57.040Z"
   },
   {
    "duration": 5,
    "start_time": "2021-07-22T15:24:57.048Z"
   },
   {
    "duration": 7,
    "start_time": "2021-07-22T15:24:57.055Z"
   },
   {
    "duration": 4,
    "start_time": "2021-07-22T15:24:57.085Z"
   },
   {
    "duration": 5,
    "start_time": "2021-07-22T15:24:57.091Z"
   },
   {
    "duration": 7,
    "start_time": "2021-07-22T15:24:57.097Z"
   },
   {
    "duration": 1638,
    "start_time": "2021-07-22T15:24:57.105Z"
   },
   {
    "duration": 1703,
    "start_time": "2021-07-22T15:24:58.746Z"
   },
   {
    "duration": 1630,
    "start_time": "2021-07-22T15:25:00.451Z"
   },
   {
    "duration": 4,
    "start_time": "2021-07-22T15:26:42.084Z"
   },
   {
    "duration": 1422,
    "start_time": "2021-07-22T15:28:03.271Z"
   },
   {
    "duration": 1496,
    "start_time": "2021-07-22T15:28:23.389Z"
   },
   {
    "duration": 271,
    "start_time": "2021-07-22T15:28:55.499Z"
   },
   {
    "duration": 1288,
    "start_time": "2021-07-22T15:29:05.369Z"
   },
   {
    "duration": 1394,
    "start_time": "2021-07-22T15:29:35.479Z"
   },
   {
    "duration": 1254,
    "start_time": "2021-07-22T15:29:44.710Z"
   },
   {
    "duration": 1494,
    "start_time": "2021-07-22T15:29:51.023Z"
   },
   {
    "duration": 1375,
    "start_time": "2021-07-22T15:32:05.962Z"
   },
   {
    "duration": 1532,
    "start_time": "2021-07-22T15:32:28.154Z"
   },
   {
    "duration": 1368,
    "start_time": "2021-07-22T15:32:39.331Z"
   },
   {
    "duration": 1855,
    "start_time": "2021-07-22T15:33:07.366Z"
   },
   {
    "duration": 1361,
    "start_time": "2021-07-22T15:35:09.438Z"
   },
   {
    "duration": 1855,
    "start_time": "2021-07-22T15:35:16.101Z"
   },
   {
    "duration": 1694,
    "start_time": "2021-07-22T15:35:32.184Z"
   },
   {
    "duration": 2899,
    "start_time": "2021-07-22T15:36:19.559Z"
   },
   {
    "duration": 1205,
    "start_time": "2021-07-22T15:36:22.460Z"
   },
   {
    "duration": 307,
    "start_time": "2021-07-22T15:36:23.667Z"
   },
   {
    "duration": 3,
    "start_time": "2021-07-22T15:36:23.976Z"
   },
   {
    "duration": 6,
    "start_time": "2021-07-22T15:36:23.981Z"
   },
   {
    "duration": 547,
    "start_time": "2021-07-22T15:36:23.988Z"
   },
   {
    "duration": 1798,
    "start_time": "2021-07-22T15:36:24.537Z"
   },
   {
    "duration": 521,
    "start_time": "2021-07-22T15:36:26.338Z"
   },
   {
    "duration": 1703,
    "start_time": "2021-07-22T15:36:26.861Z"
   },
   {
    "duration": 492,
    "start_time": "2021-07-22T15:36:28.566Z"
   },
   {
    "duration": 1938,
    "start_time": "2021-07-22T15:36:29.060Z"
   },
   {
    "duration": 15,
    "start_time": "2021-07-22T15:36:30.999Z"
   },
   {
    "duration": 16,
    "start_time": "2021-07-22T15:36:31.015Z"
   },
   {
    "duration": 6,
    "start_time": "2021-07-22T15:36:31.033Z"
   },
   {
    "duration": 664,
    "start_time": "2021-07-22T15:36:31.041Z"
   },
   {
    "duration": 625,
    "start_time": "2021-07-22T15:36:31.706Z"
   },
   {
    "duration": 639,
    "start_time": "2021-07-22T15:36:32.333Z"
   },
   {
    "duration": 2,
    "start_time": "2021-07-22T15:36:32.974Z"
   },
   {
    "duration": 7,
    "start_time": "2021-07-22T15:36:32.978Z"
   },
   {
    "duration": 4,
    "start_time": "2021-07-22T15:36:32.987Z"
   },
   {
    "duration": 5,
    "start_time": "2021-07-22T15:36:32.993Z"
   },
   {
    "duration": 7,
    "start_time": "2021-07-22T15:36:32.999Z"
   },
   {
    "duration": 4,
    "start_time": "2021-07-22T15:36:33.008Z"
   },
   {
    "duration": 4,
    "start_time": "2021-07-22T15:36:33.013Z"
   },
   {
    "duration": 1569,
    "start_time": "2021-07-22T15:36:33.019Z"
   },
   {
    "duration": 1545,
    "start_time": "2021-07-22T15:36:34.590Z"
   },
   {
    "duration": 1528,
    "start_time": "2021-07-22T15:36:36.137Z"
   },
   {
    "duration": 3810,
    "start_time": "2021-07-22T15:39:07.803Z"
   },
   {
    "duration": 1104,
    "start_time": "2021-07-22T15:39:11.615Z"
   },
   {
    "duration": 311,
    "start_time": "2021-07-22T15:39:12.724Z"
   },
   {
    "duration": 3,
    "start_time": "2021-07-22T15:39:13.036Z"
   },
   {
    "duration": 7,
    "start_time": "2021-07-22T15:39:13.041Z"
   },
   {
    "duration": 542,
    "start_time": "2021-07-22T15:39:13.049Z"
   },
   {
    "duration": 1801,
    "start_time": "2021-07-22T15:39:13.592Z"
   },
   {
    "duration": 495,
    "start_time": "2021-07-22T15:39:15.396Z"
   },
   {
    "duration": 1763,
    "start_time": "2021-07-22T15:39:15.893Z"
   },
   {
    "duration": 511,
    "start_time": "2021-07-22T15:39:17.658Z"
   },
   {
    "duration": 1904,
    "start_time": "2021-07-22T15:39:18.170Z"
   },
   {
    "duration": 17,
    "start_time": "2021-07-22T15:39:20.075Z"
   },
   {
    "duration": 22,
    "start_time": "2021-07-22T15:39:20.094Z"
   },
   {
    "duration": 23,
    "start_time": "2021-07-22T15:39:20.118Z"
   },
   {
    "duration": 690,
    "start_time": "2021-07-22T15:39:20.143Z"
   },
   {
    "duration": 711,
    "start_time": "2021-07-22T15:39:20.835Z"
   },
   {
    "duration": 672,
    "start_time": "2021-07-22T15:39:21.547Z"
   },
   {
    "duration": 3,
    "start_time": "2021-07-22T15:39:22.220Z"
   },
   {
    "duration": 6,
    "start_time": "2021-07-22T15:39:22.224Z"
   },
   {
    "duration": 5,
    "start_time": "2021-07-22T15:39:22.232Z"
   },
   {
    "duration": 7,
    "start_time": "2021-07-22T15:39:22.238Z"
   },
   {
    "duration": 4,
    "start_time": "2021-07-22T15:39:22.247Z"
   },
   {
    "duration": 5,
    "start_time": "2021-07-22T15:39:22.253Z"
   },
   {
    "duration": 5,
    "start_time": "2021-07-22T15:39:22.259Z"
   },
   {
    "duration": 1620,
    "start_time": "2021-07-22T15:39:22.265Z"
   },
   {
    "duration": 1565,
    "start_time": "2021-07-22T15:40:27.567Z"
   },
   {
    "duration": 2976,
    "start_time": "2021-07-22T15:41:20.996Z"
   },
   {
    "duration": 1161,
    "start_time": "2021-07-22T15:41:23.974Z"
   },
   {
    "duration": 341,
    "start_time": "2021-07-22T15:41:25.137Z"
   },
   {
    "duration": 3,
    "start_time": "2021-07-22T15:41:25.479Z"
   },
   {
    "duration": 7,
    "start_time": "2021-07-22T15:41:25.484Z"
   },
   {
    "duration": 6288,
    "start_time": "2021-07-22T19:28:09.062Z"
   },
   {
    "duration": 1224,
    "start_time": "2021-07-22T19:28:15.352Z"
   },
   {
    "duration": 303,
    "start_time": "2021-07-22T19:28:16.578Z"
   },
   {
    "duration": 2,
    "start_time": "2021-07-22T19:28:16.883Z"
   },
   {
    "duration": 8,
    "start_time": "2021-07-22T19:28:16.887Z"
   },
   {
    "duration": 495,
    "start_time": "2021-07-22T19:28:16.897Z"
   },
   {
    "duration": 1701,
    "start_time": "2021-07-22T19:28:17.394Z"
   },
   {
    "duration": 493,
    "start_time": "2021-07-22T19:28:19.097Z"
   },
   {
    "duration": 1746,
    "start_time": "2021-07-22T19:28:19.593Z"
   },
   {
    "duration": 514,
    "start_time": "2021-07-22T19:28:21.342Z"
   },
   {
    "duration": 1967,
    "start_time": "2021-07-22T19:28:21.858Z"
   },
   {
    "duration": 17,
    "start_time": "2021-07-22T19:28:23.827Z"
   },
   {
    "duration": 9,
    "start_time": "2021-07-22T19:28:23.846Z"
   },
   {
    "duration": 14,
    "start_time": "2021-07-22T19:28:23.856Z"
   },
   {
    "duration": 604,
    "start_time": "2021-07-22T19:28:23.884Z"
   },
   {
    "duration": -160,
    "start_time": "2021-07-22T19:28:24.650Z"
   },
   {
    "duration": -160,
    "start_time": "2021-07-22T19:28:24.652Z"
   },
   {
    "duration": -161,
    "start_time": "2021-07-22T19:28:24.654Z"
   },
   {
    "duration": -161,
    "start_time": "2021-07-22T19:28:24.656Z"
   },
   {
    "duration": -161,
    "start_time": "2021-07-22T19:28:24.658Z"
   },
   {
    "duration": -161,
    "start_time": "2021-07-22T19:28:24.659Z"
   },
   {
    "duration": -161,
    "start_time": "2021-07-22T19:28:24.661Z"
   },
   {
    "duration": -162,
    "start_time": "2021-07-22T19:28:24.663Z"
   },
   {
    "duration": -173,
    "start_time": "2021-07-22T19:28:24.676Z"
   },
   {
    "duration": -174,
    "start_time": "2021-07-22T19:28:24.678Z"
   },
   {
    "duration": -174,
    "start_time": "2021-07-22T19:28:24.680Z"
   },
   {
    "duration": -173,
    "start_time": "2021-07-22T19:28:24.681Z"
   },
   {
    "duration": -174,
    "start_time": "2021-07-22T19:28:24.683Z"
   },
   {
    "duration": 17,
    "start_time": "2021-07-22T19:29:28.714Z"
   },
   {
    "duration": 3,
    "start_time": "2021-07-22T19:29:29.068Z"
   },
   {
    "duration": 3,
    "start_time": "2021-07-22T19:29:29.572Z"
   },
   {
    "duration": 772,
    "start_time": "2021-07-22T19:29:31.172Z"
   },
   {
    "duration": 538,
    "start_time": "2021-07-22T19:29:34.892Z"
   },
   {
    "duration": 658,
    "start_time": "2021-07-22T19:29:35.431Z"
   },
   {
    "duration": 4,
    "start_time": "2021-07-22T19:29:36.091Z"
   },
   {
    "duration": 3,
    "start_time": "2021-07-22T19:36:10.754Z"
   },
   {
    "duration": 3,
    "start_time": "2021-07-22T19:36:13.699Z"
   },
   {
    "duration": 3,
    "start_time": "2021-07-22T19:36:16.491Z"
   },
   {
    "duration": 3,
    "start_time": "2021-07-22T19:36:27.456Z"
   },
   {
    "duration": 3,
    "start_time": "2021-07-22T19:40:43.022Z"
   },
   {
    "duration": 3,
    "start_time": "2021-07-22T19:40:43.724Z"
   },
   {
    "duration": 3,
    "start_time": "2021-07-22T19:40:44.371Z"
   },
   {
    "duration": 1547,
    "start_time": "2021-07-22T19:40:45.044Z"
   },
   {
    "duration": 1545,
    "start_time": "2021-07-22T19:45:13.982Z"
   },
   {
    "duration": 1566,
    "start_time": "2021-07-22T19:45:15.528Z"
   },
   {
    "duration": 1569,
    "start_time": "2021-07-22T20:54:14.443Z"
   },
   {
    "duration": 1547,
    "start_time": "2021-07-22T20:54:16.014Z"
   },
   {
    "duration": 1541,
    "start_time": "2021-07-22T20:54:25.706Z"
   },
   {
    "duration": 3190,
    "start_time": "2021-07-22T20:54:55.806Z"
   },
   {
    "duration": 1159,
    "start_time": "2021-07-22T20:54:58.998Z"
   },
   {
    "duration": 302,
    "start_time": "2021-07-22T20:55:00.159Z"
   },
   {
    "duration": 2,
    "start_time": "2021-07-22T20:55:00.463Z"
   },
   {
    "duration": 13,
    "start_time": "2021-07-22T20:55:00.467Z"
   },
   {
    "duration": 508,
    "start_time": "2021-07-22T20:55:00.481Z"
   },
   {
    "duration": 1999,
    "start_time": "2021-07-22T20:55:00.991Z"
   },
   {
    "duration": 482,
    "start_time": "2021-07-22T20:55:02.992Z"
   },
   {
    "duration": 1730,
    "start_time": "2021-07-22T20:55:03.476Z"
   },
   {
    "duration": 486,
    "start_time": "2021-07-22T20:55:05.208Z"
   },
   {
    "duration": 2155,
    "start_time": "2021-07-22T20:55:05.696Z"
   },
   {
    "duration": 14,
    "start_time": "2021-07-22T20:55:07.853Z"
   },
   {
    "duration": 16,
    "start_time": "2021-07-22T20:55:07.869Z"
   },
   {
    "duration": 5,
    "start_time": "2021-07-22T20:55:07.886Z"
   },
   {
    "duration": 751,
    "start_time": "2021-07-22T20:55:07.892Z"
   },
   {
    "duration": 589,
    "start_time": "2021-07-22T20:55:08.644Z"
   },
   {
    "duration": 661,
    "start_time": "2021-07-22T20:55:09.234Z"
   },
   {
    "duration": 3,
    "start_time": "2021-07-22T20:55:09.897Z"
   },
   {
    "duration": 6,
    "start_time": "2021-07-22T20:55:09.901Z"
   },
   {
    "duration": 6,
    "start_time": "2021-07-22T20:55:09.908Z"
   },
   {
    "duration": 6,
    "start_time": "2021-07-22T20:55:09.915Z"
   },
   {
    "duration": 5,
    "start_time": "2021-07-22T20:55:09.922Z"
   },
   {
    "duration": 4,
    "start_time": "2021-07-22T20:55:09.930Z"
   },
   {
    "duration": 5,
    "start_time": "2021-07-22T20:55:09.936Z"
   },
   {
    "duration": 1563,
    "start_time": "2021-07-22T20:55:09.943Z"
   },
   {
    "duration": 1521,
    "start_time": "2021-07-22T20:55:11.507Z"
   },
   {
    "duration": 1573,
    "start_time": "2021-07-22T20:55:13.030Z"
   },
   {
    "duration": 3059,
    "start_time": "2021-07-22T21:27:16.246Z"
   },
   {
    "duration": 1140,
    "start_time": "2021-07-22T21:27:19.307Z"
   },
   {
    "duration": 294,
    "start_time": "2021-07-22T21:27:20.449Z"
   },
   {
    "duration": 2,
    "start_time": "2021-07-22T21:27:20.745Z"
   },
   {
    "duration": 13,
    "start_time": "2021-07-22T21:27:20.749Z"
   },
   {
    "duration": 528,
    "start_time": "2021-07-22T21:27:20.764Z"
   },
   {
    "duration": 1729,
    "start_time": "2021-07-22T21:27:21.294Z"
   },
   {
    "duration": 545,
    "start_time": "2021-07-22T21:27:23.024Z"
   },
   {
    "duration": 1800,
    "start_time": "2021-07-22T21:27:23.571Z"
   },
   {
    "duration": 494,
    "start_time": "2021-07-22T21:27:25.374Z"
   },
   {
    "duration": 1972,
    "start_time": "2021-07-22T21:27:25.869Z"
   },
   {
    "duration": 16,
    "start_time": "2021-07-22T21:27:27.842Z"
   },
   {
    "duration": 8,
    "start_time": "2021-07-22T21:27:27.860Z"
   },
   {
    "duration": 16,
    "start_time": "2021-07-22T21:27:27.869Z"
   },
   {
    "duration": 736,
    "start_time": "2021-07-22T21:27:27.887Z"
   },
   {
    "duration": 574,
    "start_time": "2021-07-22T21:27:28.625Z"
   },
   {
    "duration": 610,
    "start_time": "2021-07-22T21:27:29.200Z"
   },
   {
    "duration": 4,
    "start_time": "2021-07-22T21:27:29.812Z"
   },
   {
    "duration": 5,
    "start_time": "2021-07-22T21:27:29.818Z"
   },
   {
    "duration": 4,
    "start_time": "2021-07-22T21:27:29.825Z"
   },
   {
    "duration": 5,
    "start_time": "2021-07-22T21:27:29.831Z"
   },
   {
    "duration": 5,
    "start_time": "2021-07-22T21:27:29.838Z"
   },
   {
    "duration": 40,
    "start_time": "2021-07-22T21:27:29.845Z"
   },
   {
    "duration": 7,
    "start_time": "2021-07-22T21:27:29.887Z"
   },
   {
    "duration": 1645,
    "start_time": "2021-07-22T21:27:29.896Z"
   },
   {
    "duration": 1653,
    "start_time": "2021-07-22T21:27:31.544Z"
   },
   {
    "duration": 1795,
    "start_time": "2021-07-22T21:27:33.200Z"
   },
   {
    "duration": 263634,
    "start_time": "2021-07-23T04:44:11.612Z"
   },
   {
    "duration": 1079,
    "start_time": "2021-07-23T06:03:18.417Z"
   },
   {
    "duration": 47,
    "start_time": "2021-07-23T06:03:34.480Z"
   },
   {
    "duration": 3,
    "start_time": "2021-07-23T06:03:35.964Z"
   },
   {
    "duration": 265,
    "start_time": "2021-07-23T06:03:36.509Z"
   },
   {
    "duration": 456,
    "start_time": "2021-07-23T06:03:37.177Z"
   },
   {
    "duration": 1259,
    "start_time": "2021-07-23T06:03:45.110Z"
   },
   {
    "duration": 461,
    "start_time": "2021-07-23T06:03:46.842Z"
   },
   {
    "duration": 684,
    "start_time": "2021-07-23T06:03:47.436Z"
   },
   {
    "duration": 525,
    "start_time": "2021-07-23T06:03:47.596Z"
   },
   {
    "duration": 522,
    "start_time": "2021-07-23T06:03:47.600Z"
   },
   {
    "duration": 13,
    "start_time": "2021-07-23T06:03:50.083Z"
   },
   {
    "duration": 3,
    "start_time": "2021-07-23T06:03:51.594Z"
   },
   {
    "duration": 2,
    "start_time": "2021-07-23T06:03:53.578Z"
   },
   {
    "duration": 620,
    "start_time": "2021-07-23T06:03:54.916Z"
   },
   {
    "duration": 588,
    "start_time": "2021-07-23T06:03:55.876Z"
   },
   {
    "duration": 3,
    "start_time": "2021-07-23T06:04:21.255Z"
   },
   {
    "duration": 4,
    "start_time": "2021-07-23T06:04:22.285Z"
   },
   {
    "duration": 3,
    "start_time": "2021-07-23T06:04:22.937Z"
   },
   {
    "duration": 4,
    "start_time": "2021-07-23T06:04:26.415Z"
   },
   {
    "duration": 3,
    "start_time": "2021-07-23T06:04:34.966Z"
   },
   {
    "duration": 3,
    "start_time": "2021-07-23T06:04:36.338Z"
   },
   {
    "duration": 3,
    "start_time": "2021-07-23T06:04:40.277Z"
   },
   {
    "duration": 1821,
    "start_time": "2021-07-23T06:04:42.273Z"
   },
   {
    "duration": 1626,
    "start_time": "2021-07-23T06:05:02.569Z"
   },
   {
    "duration": 1669,
    "start_time": "2021-07-23T06:05:27.461Z"
   },
   {
    "duration": 3158,
    "start_time": "2021-07-23T07:54:09.094Z"
   },
   {
    "duration": 60,
    "start_time": "2021-07-23T07:54:12.254Z"
   },
   {
    "duration": 22001,
    "start_time": "2021-07-23T07:53:50.316Z"
   },
   {
    "duration": 22000,
    "start_time": "2021-07-23T07:53:50.318Z"
   },
   {
    "duration": 21972,
    "start_time": "2021-07-23T07:53:50.347Z"
   },
   {
    "duration": 21969,
    "start_time": "2021-07-23T07:53:50.352Z"
   },
   {
    "duration": 21966,
    "start_time": "2021-07-23T07:53:50.356Z"
   },
   {
    "duration": 21955,
    "start_time": "2021-07-23T07:53:50.368Z"
   },
   {
    "duration": 21954,
    "start_time": "2021-07-23T07:53:50.370Z"
   },
   {
    "duration": 21953,
    "start_time": "2021-07-23T07:53:50.372Z"
   },
   {
    "duration": 21952,
    "start_time": "2021-07-23T07:53:50.374Z"
   },
   {
    "duration": 21952,
    "start_time": "2021-07-23T07:53:50.375Z"
   },
   {
    "duration": 21946,
    "start_time": "2021-07-23T07:53:50.382Z"
   },
   {
    "duration": 21920,
    "start_time": "2021-07-23T07:53:50.409Z"
   },
   {
    "duration": 21917,
    "start_time": "2021-07-23T07:53:50.413Z"
   },
   {
    "duration": 21910,
    "start_time": "2021-07-23T07:53:50.421Z"
   },
   {
    "duration": 21906,
    "start_time": "2021-07-23T07:53:50.426Z"
   },
   {
    "duration": 21902,
    "start_time": "2021-07-23T07:53:50.431Z"
   },
   {
    "duration": 21902,
    "start_time": "2021-07-23T07:53:50.432Z"
   },
   {
    "duration": 21900,
    "start_time": "2021-07-23T07:53:50.435Z"
   },
   {
    "duration": 21899,
    "start_time": "2021-07-23T07:53:50.436Z"
   },
   {
    "duration": 21900,
    "start_time": "2021-07-23T07:53:50.437Z"
   },
   {
    "duration": 21898,
    "start_time": "2021-07-23T07:53:50.440Z"
   },
   {
    "duration": 21897,
    "start_time": "2021-07-23T07:53:50.441Z"
   },
   {
    "duration": 21896,
    "start_time": "2021-07-23T07:53:50.443Z"
   },
   {
    "duration": 21893,
    "start_time": "2021-07-23T07:53:50.447Z"
   },
   {
    "duration": 21892,
    "start_time": "2021-07-23T07:53:50.449Z"
   },
   {
    "duration": 21892,
    "start_time": "2021-07-23T07:53:50.450Z"
   },
   {
    "duration": 21891,
    "start_time": "2021-07-23T07:53:50.452Z"
   },
   {
    "duration": 21890,
    "start_time": "2021-07-23T07:53:50.454Z"
   },
   {
    "duration": 3326,
    "start_time": "2021-07-23T07:54:42.303Z"
   },
   {
    "duration": 11789,
    "start_time": "2021-07-23T07:54:45.631Z"
   },
   {
    "duration": 1128,
    "start_time": "2021-07-23T07:54:57.423Z"
   },
   {
    "duration": 288,
    "start_time": "2021-07-23T07:54:58.553Z"
   },
   {
    "duration": 2,
    "start_time": "2021-07-23T07:54:58.843Z"
   },
   {
    "duration": 6,
    "start_time": "2021-07-23T07:54:58.846Z"
   },
   {
    "duration": 523,
    "start_time": "2021-07-23T07:54:58.854Z"
   },
   {
    "duration": 1779,
    "start_time": "2021-07-23T07:54:59.380Z"
   },
   {
    "duration": 516,
    "start_time": "2021-07-23T07:55:01.161Z"
   },
   {
    "duration": 1831,
    "start_time": "2021-07-23T07:55:01.679Z"
   },
   {
    "duration": 474,
    "start_time": "2021-07-23T07:55:03.512Z"
   },
   {
    "duration": 1920,
    "start_time": "2021-07-23T07:55:03.988Z"
   },
   {
    "duration": 14,
    "start_time": "2021-07-23T07:55:05.910Z"
   },
   {
    "duration": 8,
    "start_time": "2021-07-23T07:55:05.926Z"
   },
   {
    "duration": 8,
    "start_time": "2021-07-23T07:55:05.936Z"
   },
   {
    "duration": 797,
    "start_time": "2021-07-23T07:55:05.946Z"
   },
   {
    "duration": 590,
    "start_time": "2021-07-23T07:55:06.745Z"
   },
   {
    "duration": 643,
    "start_time": "2021-07-23T07:55:07.336Z"
   },
   {
    "duration": 5,
    "start_time": "2021-07-23T07:55:07.980Z"
   },
   {
    "duration": 6,
    "start_time": "2021-07-23T07:55:07.986Z"
   },
   {
    "duration": 5,
    "start_time": "2021-07-23T07:55:07.994Z"
   },
   {
    "duration": 6,
    "start_time": "2021-07-23T07:55:08.000Z"
   },
   {
    "duration": 3,
    "start_time": "2021-07-23T07:55:08.009Z"
   },
   {
    "duration": 4,
    "start_time": "2021-07-23T07:55:08.014Z"
   },
   {
    "duration": 6,
    "start_time": "2021-07-23T07:55:08.020Z"
   },
   {
    "duration": 1611,
    "start_time": "2021-07-23T07:55:08.028Z"
   },
   {
    "duration": 1559,
    "start_time": "2021-07-23T07:55:09.641Z"
   },
   {
    "duration": 1566,
    "start_time": "2021-07-23T07:55:11.202Z"
   },
   {
    "duration": 1593,
    "start_time": "2021-07-23T09:27:06.022Z"
   },
   {
    "duration": 3,
    "start_time": "2021-07-23T09:28:55.417Z"
   },
   {
    "duration": 1921,
    "start_time": "2021-07-23T09:32:09.248Z"
   },
   {
    "duration": 3,
    "start_time": "2021-07-23T09:32:33.128Z"
   },
   {
    "duration": 1658,
    "start_time": "2021-07-23T09:32:37.155Z"
   },
   {
    "duration": 1947,
    "start_time": "2021-07-23T09:37:15.097Z"
   },
   {
    "duration": 1811,
    "start_time": "2021-07-23T09:37:31.006Z"
   },
   {
    "duration": 2049,
    "start_time": "2021-07-23T09:38:14.997Z"
   },
   {
    "duration": 3,
    "start_time": "2021-07-23T09:42:20.568Z"
   },
   {
    "duration": 3,
    "start_time": "2021-07-23T09:42:52.598Z"
   },
   {
    "duration": 2061,
    "start_time": "2021-07-23T09:43:04.616Z"
   },
   {
    "duration": 2091,
    "start_time": "2021-07-23T09:47:17.227Z"
   },
   {
    "duration": 4,
    "start_time": "2021-07-23T09:48:01.744Z"
   },
   {
    "duration": 4,
    "start_time": "2021-07-23T09:48:08.564Z"
   },
   {
    "duration": 3,
    "start_time": "2021-07-23T09:48:20.894Z"
   },
   {
    "duration": 2099,
    "start_time": "2021-07-23T09:48:36.322Z"
   },
   {
    "duration": 2089,
    "start_time": "2021-07-23T09:51:19.805Z"
   },
   {
    "duration": 2057,
    "start_time": "2021-07-23T09:51:47.369Z"
   },
   {
    "duration": 2221,
    "start_time": "2021-07-23T09:52:59.660Z"
   },
   {
    "duration": 2287,
    "start_time": "2021-07-23T09:54:43.295Z"
   },
   {
    "duration": 2273,
    "start_time": "2021-07-23T09:55:09.726Z"
   },
   {
    "duration": 2545,
    "start_time": "2021-07-23T09:55:37.399Z"
   },
   {
    "duration": 45203,
    "start_time": "2021-07-23T09:56:41.030Z"
   },
   {
    "duration": 2475,
    "start_time": "2021-07-23T10:49:05.482Z"
   },
   {
    "duration": 2334,
    "start_time": "2021-07-23T10:52:05.537Z"
   },
   {
    "duration": 2272,
    "start_time": "2021-07-23T10:52:43.965Z"
   },
   {
    "duration": 2253,
    "start_time": "2021-07-23T10:53:05.605Z"
   },
   {
    "duration": 2262,
    "start_time": "2021-07-23T10:53:28.022Z"
   },
   {
    "duration": 68,
    "start_time": "2021-07-23T10:54:03.062Z"
   },
   {
    "duration": 2196,
    "start_time": "2021-07-23T10:54:05.457Z"
   },
   {
    "duration": 2586,
    "start_time": "2021-07-23T10:54:37.343Z"
   },
   {
    "duration": 2248,
    "start_time": "2021-07-23T10:54:48.224Z"
   },
   {
    "duration": 2259,
    "start_time": "2021-07-23T10:54:57.728Z"
   },
   {
    "duration": 488,
    "start_time": "2021-07-23T10:55:25.393Z"
   },
   {
    "duration": 2262,
    "start_time": "2021-07-23T10:55:34.519Z"
   },
   {
    "duration": 2219,
    "start_time": "2021-07-23T10:55:41.337Z"
   },
   {
    "duration": 2526,
    "start_time": "2021-07-23T10:57:34.750Z"
   },
   {
    "duration": 2350,
    "start_time": "2021-07-23T10:57:54.248Z"
   },
   {
    "duration": 1470,
    "start_time": "2021-07-23T11:00:23.426Z"
   },
   {
    "duration": 1757,
    "start_time": "2021-07-23T11:00:43.469Z"
   },
   {
    "duration": 1752,
    "start_time": "2021-07-23T11:02:08.790Z"
   },
   {
    "duration": 1789,
    "start_time": "2021-07-23T11:02:30.611Z"
   },
   {
    "duration": 1773,
    "start_time": "2021-07-23T11:02:45.589Z"
   },
   {
    "duration": 1796,
    "start_time": "2021-07-23T11:04:11.334Z"
   },
   {
    "duration": 1827,
    "start_time": "2021-07-23T11:04:21.284Z"
   },
   {
    "duration": 1816,
    "start_time": "2021-07-23T11:04:26.623Z"
   },
   {
    "duration": 1767,
    "start_time": "2021-07-23T11:06:04.367Z"
   },
   {
    "duration": 1725,
    "start_time": "2021-07-23T11:06:26.180Z"
   },
   {
    "duration": 1747,
    "start_time": "2021-07-23T11:06:56.161Z"
   },
   {
    "duration": 1816,
    "start_time": "2021-07-23T11:07:22.703Z"
   },
   {
    "duration": 1822,
    "start_time": "2021-07-23T11:08:14.102Z"
   },
   {
    "duration": 1750,
    "start_time": "2021-07-23T11:08:29.981Z"
   },
   {
    "duration": 1862,
    "start_time": "2021-07-23T11:09:15.882Z"
   },
   {
    "duration": 1844,
    "start_time": "2021-07-23T11:10:39.828Z"
   },
   {
    "duration": 1839,
    "start_time": "2021-07-23T11:12:07.781Z"
   },
   {
    "duration": 1868,
    "start_time": "2021-07-23T11:12:38.093Z"
   },
   {
    "duration": 1791,
    "start_time": "2021-07-23T11:15:24.764Z"
   },
   {
    "duration": 1908,
    "start_time": "2021-07-23T11:17:01.111Z"
   },
   {
    "duration": 1881,
    "start_time": "2021-07-23T11:19:01.513Z"
   },
   {
    "duration": 1577,
    "start_time": "2021-07-23T11:19:19.830Z"
   },
   {
    "duration": 1938,
    "start_time": "2021-07-23T11:19:26.207Z"
   },
   {
    "duration": 1950,
    "start_time": "2021-07-23T11:19:51.918Z"
   },
   {
    "duration": 1867,
    "start_time": "2021-07-23T11:19:57.883Z"
   },
   {
    "duration": 1924,
    "start_time": "2021-07-23T11:20:04.457Z"
   },
   {
    "duration": 1909,
    "start_time": "2021-07-23T11:20:58.033Z"
   },
   {
    "duration": 1945,
    "start_time": "2021-07-23T11:21:14.798Z"
   },
   {
    "duration": 1916,
    "start_time": "2021-07-23T11:21:26.340Z"
   },
   {
    "duration": 1959,
    "start_time": "2021-07-23T11:22:43.813Z"
   },
   {
    "duration": 5,
    "start_time": "2021-07-23T11:25:50.866Z"
   },
   {
    "duration": 1916,
    "start_time": "2021-07-23T11:26:19.438Z"
   },
   {
    "duration": 1806,
    "start_time": "2021-07-23T11:27:27.462Z"
   },
   {
    "duration": 5,
    "start_time": "2021-07-23T11:27:48.813Z"
   },
   {
    "duration": 1874,
    "start_time": "2021-07-23T11:27:53.189Z"
   },
   {
    "duration": 7,
    "start_time": "2021-07-23T11:28:13.029Z"
   },
   {
    "duration": 1903,
    "start_time": "2021-07-23T11:28:16.622Z"
   },
   {
    "duration": 3206,
    "start_time": "2021-07-23T11:34:59.858Z"
   },
   {
    "duration": 10792,
    "start_time": "2021-07-23T11:35:03.066Z"
   },
   {
    "duration": 1205,
    "start_time": "2021-07-23T11:35:13.860Z"
   },
   {
    "duration": 312,
    "start_time": "2021-07-23T11:35:15.067Z"
   },
   {
    "duration": 2,
    "start_time": "2021-07-23T11:35:15.381Z"
   },
   {
    "duration": 22,
    "start_time": "2021-07-23T11:35:15.385Z"
   },
   {
    "duration": 552,
    "start_time": "2021-07-23T11:35:15.409Z"
   },
   {
    "duration": 1747,
    "start_time": "2021-07-23T11:35:15.964Z"
   },
   {
    "duration": 522,
    "start_time": "2021-07-23T11:35:17.714Z"
   },
   {
    "duration": 1801,
    "start_time": "2021-07-23T11:35:18.238Z"
   },
   {
    "duration": 525,
    "start_time": "2021-07-23T11:35:20.042Z"
   },
   {
    "duration": 2269,
    "start_time": "2021-07-23T11:35:20.569Z"
   },
   {
    "duration": 15,
    "start_time": "2021-07-23T11:35:22.840Z"
   },
   {
    "duration": 9,
    "start_time": "2021-07-23T11:35:22.857Z"
   },
   {
    "duration": 5,
    "start_time": "2021-07-23T11:35:22.867Z"
   },
   {
    "duration": 2377,
    "start_time": "2021-07-23T11:35:22.874Z"
   },
   {
    "duration": 2180,
    "start_time": "2021-07-23T11:35:25.253Z"
   },
   {
    "duration": 2174,
    "start_time": "2021-07-23T11:35:27.435Z"
   },
   {
    "duration": 3,
    "start_time": "2021-07-23T11:35:29.610Z"
   },
   {
    "duration": 6,
    "start_time": "2021-07-23T11:35:29.615Z"
   },
   {
    "duration": 15,
    "start_time": "2021-07-23T11:35:29.623Z"
   },
   {
    "duration": 16,
    "start_time": "2021-07-23T11:35:29.640Z"
   },
   {
    "duration": 7,
    "start_time": "2021-07-23T11:35:29.659Z"
   },
   {
    "duration": 11,
    "start_time": "2021-07-23T11:35:29.667Z"
   },
   {
    "duration": 15,
    "start_time": "2021-07-23T11:35:29.680Z"
   },
   {
    "duration": 17,
    "start_time": "2021-07-23T11:35:29.696Z"
   },
   {
    "duration": 2205,
    "start_time": "2021-07-23T11:35:29.715Z"
   },
   {
    "duration": 21948,
    "start_time": "2021-07-23T11:35:09.974Z"
   },
   {
    "duration": 21937,
    "start_time": "2021-07-23T11:35:09.986Z"
   },
   {
    "duration": 3232,
    "start_time": "2021-07-23T11:37:27.975Z"
   },
   {
    "duration": 2,
    "start_time": "2021-07-23T11:37:31.209Z"
   },
   {
    "duration": 1156,
    "start_time": "2021-07-23T11:37:31.214Z"
   },
   {
    "duration": 307,
    "start_time": "2021-07-23T11:37:32.372Z"
   },
   {
    "duration": 2,
    "start_time": "2021-07-23T11:37:32.681Z"
   },
   {
    "duration": 18,
    "start_time": "2021-07-23T11:37:32.684Z"
   },
   {
    "duration": 559,
    "start_time": "2021-07-23T11:37:32.704Z"
   },
   {
    "duration": 1779,
    "start_time": "2021-07-23T11:37:33.267Z"
   },
   {
    "duration": 532,
    "start_time": "2021-07-23T11:37:35.048Z"
   },
   {
    "duration": 1828,
    "start_time": "2021-07-23T11:37:35.584Z"
   },
   {
    "duration": 519,
    "start_time": "2021-07-23T11:37:37.414Z"
   },
   {
    "duration": 1972,
    "start_time": "2021-07-23T11:37:37.935Z"
   },
   {
    "duration": 15,
    "start_time": "2021-07-23T11:37:39.909Z"
   },
   {
    "duration": 6,
    "start_time": "2021-07-23T11:37:39.926Z"
   },
   {
    "duration": 4,
    "start_time": "2021-07-23T11:37:39.934Z"
   },
   {
    "duration": 2293,
    "start_time": "2021-07-23T11:37:39.940Z"
   },
   {
    "duration": 2102,
    "start_time": "2021-07-23T11:37:42.235Z"
   },
   {
    "duration": 2161,
    "start_time": "2021-07-23T11:37:44.338Z"
   },
   {
    "duration": 3,
    "start_time": "2021-07-23T11:37:46.501Z"
   },
   {
    "duration": 6,
    "start_time": "2021-07-23T11:37:46.505Z"
   },
   {
    "duration": 5,
    "start_time": "2021-07-23T11:37:46.512Z"
   },
   {
    "duration": 5,
    "start_time": "2021-07-23T11:37:46.518Z"
   },
   {
    "duration": 4,
    "start_time": "2021-07-23T11:37:46.526Z"
   },
   {
    "duration": 4,
    "start_time": "2021-07-23T11:37:46.532Z"
   },
   {
    "duration": 8,
    "start_time": "2021-07-23T11:37:46.537Z"
   },
   {
    "duration": 4,
    "start_time": "2021-07-23T11:37:46.546Z"
   },
   {
    "duration": 1803,
    "start_time": "2021-07-23T11:37:46.552Z"
   },
   {
    "duration": 2129,
    "start_time": "2021-07-23T11:37:48.356Z"
   },
   {
    "duration": 21953,
    "start_time": "2021-07-23T11:37:28.534Z"
   },
   {
    "duration": 1868,
    "start_time": "2021-07-23T11:38:28.620Z"
   },
   {
    "duration": 1749,
    "start_time": "2021-07-23T11:38:30.490Z"
   },
   {
    "duration": 1819,
    "start_time": "2021-07-23T11:39:17.730Z"
   },
   {
    "duration": 3,
    "start_time": "2021-07-23T11:45:43.946Z"
   },
   {
    "duration": 4,
    "start_time": "2021-07-23T11:46:43.685Z"
   },
   {
    "duration": 1817,
    "start_time": "2021-07-23T11:46:56.707Z"
   },
   {
    "duration": 3223,
    "start_time": "2021-07-23T11:48:00.209Z"
   },
   {
    "duration": 3,
    "start_time": "2021-07-23T11:48:03.434Z"
   },
   {
    "duration": 1142,
    "start_time": "2021-07-23T11:48:03.438Z"
   },
   {
    "duration": 328,
    "start_time": "2021-07-23T11:48:04.581Z"
   },
   {
    "duration": 3,
    "start_time": "2021-07-23T11:48:04.911Z"
   },
   {
    "duration": 7,
    "start_time": "2021-07-23T11:48:04.916Z"
   },
   {
    "duration": 569,
    "start_time": "2021-07-23T11:48:04.924Z"
   },
   {
    "duration": 1745,
    "start_time": "2021-07-23T11:48:05.496Z"
   },
   {
    "duration": 526,
    "start_time": "2021-07-23T11:48:07.244Z"
   },
   {
    "duration": 1778,
    "start_time": "2021-07-23T11:48:07.772Z"
   },
   {
    "duration": 516,
    "start_time": "2021-07-23T11:48:09.552Z"
   },
   {
    "duration": 1903,
    "start_time": "2021-07-23T11:48:10.071Z"
   },
   {
    "duration": 20,
    "start_time": "2021-07-23T11:48:11.976Z"
   },
   {
    "duration": 9,
    "start_time": "2021-07-23T11:48:11.998Z"
   },
   {
    "duration": 7,
    "start_time": "2021-07-23T11:48:12.009Z"
   },
   {
    "duration": 2312,
    "start_time": "2021-07-23T11:48:12.018Z"
   },
   {
    "duration": 2202,
    "start_time": "2021-07-23T11:48:14.332Z"
   },
   {
    "duration": 2186,
    "start_time": "2021-07-23T11:48:16.535Z"
   },
   {
    "duration": 3,
    "start_time": "2021-07-23T11:48:18.723Z"
   },
   {
    "duration": 7,
    "start_time": "2021-07-23T11:48:18.727Z"
   },
   {
    "duration": 5,
    "start_time": "2021-07-23T11:48:18.735Z"
   },
   {
    "duration": 7,
    "start_time": "2021-07-23T11:48:18.742Z"
   },
   {
    "duration": 3,
    "start_time": "2021-07-23T11:48:18.752Z"
   },
   {
    "duration": 11,
    "start_time": "2021-07-23T11:48:18.757Z"
   },
   {
    "duration": 15,
    "start_time": "2021-07-23T11:48:18.769Z"
   },
   {
    "duration": 8,
    "start_time": "2021-07-23T11:48:18.786Z"
   },
   {
    "duration": 5,
    "start_time": "2021-07-23T11:48:18.796Z"
   },
   {
    "duration": 1865,
    "start_time": "2021-07-23T11:48:18.803Z"
   },
   {
    "duration": 1859,
    "start_time": "2021-07-23T11:48:20.669Z"
   },
   {
    "duration": 1938,
    "start_time": "2021-07-23T11:48:22.529Z"
   },
   {
    "duration": 3295,
    "start_time": "2021-07-23T12:46:14.520Z"
   },
   {
    "duration": 3,
    "start_time": "2021-07-23T12:46:17.817Z"
   },
   {
    "duration": 1156,
    "start_time": "2021-07-23T12:46:17.822Z"
   },
   {
    "duration": 305,
    "start_time": "2021-07-23T12:46:18.980Z"
   },
   {
    "duration": 4,
    "start_time": "2021-07-23T12:46:19.286Z"
   },
   {
    "duration": 18,
    "start_time": "2021-07-23T12:46:19.292Z"
   },
   {
    "duration": 590,
    "start_time": "2021-07-23T12:46:19.311Z"
   },
   {
    "duration": 1783,
    "start_time": "2021-07-23T12:46:19.905Z"
   },
   {
    "duration": 493,
    "start_time": "2021-07-23T12:46:21.691Z"
   },
   {
    "duration": 1847,
    "start_time": "2021-07-23T12:46:22.186Z"
   },
   {
    "duration": 553,
    "start_time": "2021-07-23T12:46:24.035Z"
   },
   {
    "duration": 2072,
    "start_time": "2021-07-23T12:46:24.590Z"
   },
   {
    "duration": 23,
    "start_time": "2021-07-23T12:46:26.664Z"
   },
   {
    "duration": 10,
    "start_time": "2021-07-23T12:46:26.689Z"
   },
   {
    "duration": 12,
    "start_time": "2021-07-23T12:46:26.700Z"
   },
   {
    "duration": 2194,
    "start_time": "2021-07-23T12:46:26.714Z"
   },
   {
    "duration": 2043,
    "start_time": "2021-07-23T12:46:28.910Z"
   },
   {
    "duration": 1946,
    "start_time": "2021-07-23T12:46:30.955Z"
   },
   {
    "duration": 3,
    "start_time": "2021-07-23T12:46:32.902Z"
   },
   {
    "duration": 9,
    "start_time": "2021-07-23T12:46:32.907Z"
   },
   {
    "duration": 9,
    "start_time": "2021-07-23T12:46:32.918Z"
   },
   {
    "duration": 8,
    "start_time": "2021-07-23T12:46:32.928Z"
   },
   {
    "duration": 6,
    "start_time": "2021-07-23T12:46:32.940Z"
   },
   {
    "duration": 7,
    "start_time": "2021-07-23T12:46:32.947Z"
   },
   {
    "duration": 8,
    "start_time": "2021-07-23T12:46:32.955Z"
   },
   {
    "duration": 20,
    "start_time": "2021-07-23T12:46:32.965Z"
   },
   {
    "duration": 5,
    "start_time": "2021-07-23T12:46:32.986Z"
   },
   {
    "duration": 1849,
    "start_time": "2021-07-23T12:46:32.993Z"
   },
   {
    "duration": 1818,
    "start_time": "2021-07-23T12:46:34.844Z"
   },
   {
    "duration": 1884,
    "start_time": "2021-07-23T12:46:36.664Z"
   }
  ],
  "kernelspec": {
   "display_name": "Python 3",
   "language": "python",
   "name": "python3"
  },
  "language_info": {
   "codemirror_mode": {
    "name": "ipython",
    "version": 3
   },
   "file_extension": ".py",
   "mimetype": "text/x-python",
   "name": "python",
   "nbconvert_exporter": "python",
   "pygments_lexer": "ipython3",
   "version": "3.9.1"
  },
  "toc": {
   "base_numbering": 1,
   "nav_menu": {},
   "number_sections": true,
   "sideBar": true,
   "skip_h1_title": true,
   "title_cell": "Table of Contents",
   "title_sidebar": "Contents",
   "toc_cell": false,
   "toc_position": {},
   "toc_section_display": true,
   "toc_window_display": false
  }
 },
 "nbformat": 4,
 "nbformat_minor": 2
}
